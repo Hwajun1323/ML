{
  "nbformat": 4,
  "nbformat_minor": 0,
  "metadata": {
    "colab": {
      "name": "train.ipynb",
      "provenance": [],
      "collapsed_sections": [],
      "machine_shape": "hm",
      "mount_file_id": "1STABCCX2jxLSPDYAaoHvYy9Z5fG6sYP4",
      "authorship_tag": "ABX9TyMSKiay2kn8DiAmc8Q1lE3L",
      "include_colab_link": true
    },
    "kernelspec": {
      "name": "python3",
      "display_name": "Python 3"
    },
    "language_info": {
      "name": "python"
    },
    "accelerator": "GPU"
  },
  "cells": [
    {
      "cell_type": "markdown",
      "metadata": {
        "id": "view-in-github",
        "colab_type": "text"
      },
      "source": [
        "<a href=\"https://colab.research.google.com/github/Hwajun1323/ML/blob/master/train.ipynb\" target=\"_parent\"><img src=\"https://colab.research.google.com/assets/colab-badge.svg\" alt=\"Open In Colab\"/></a>"
      ]
    },
    {
      "cell_type": "code",
      "metadata": {
        "id": "-lJjS99is-Fw",
        "colab": {
          "base_uri": "https://localhost:8080/"
        },
        "outputId": "e6b69588-93fc-4a97-a7f2-2627fa63efca"
      },
      "source": [
        "pip install keras-metrics"
      ],
      "execution_count": 1,
      "outputs": [
        {
          "output_type": "stream",
          "text": [
            "Collecting keras-metrics\n",
            "  Downloading https://files.pythonhosted.org/packages/32/c9/a87420da8e73de944e63a8e9cdcfb1f03ca31a7c4cdcdbd45d2cdf13275a/keras_metrics-1.1.0-py2.py3-none-any.whl\n",
            "Requirement already satisfied: Keras>=2.1.5 in /usr/local/lib/python3.7/dist-packages (from keras-metrics) (2.4.3)\n",
            "Requirement already satisfied: h5py in /usr/local/lib/python3.7/dist-packages (from Keras>=2.1.5->keras-metrics) (2.10.0)\n",
            "Requirement already satisfied: scipy>=0.14 in /usr/local/lib/python3.7/dist-packages (from Keras>=2.1.5->keras-metrics) (1.4.1)\n",
            "Requirement already satisfied: pyyaml in /usr/local/lib/python3.7/dist-packages (from Keras>=2.1.5->keras-metrics) (3.13)\n",
            "Requirement already satisfied: numpy>=1.9.1 in /usr/local/lib/python3.7/dist-packages (from Keras>=2.1.5->keras-metrics) (1.19.5)\n",
            "Requirement already satisfied: six in /usr/local/lib/python3.7/dist-packages (from h5py->Keras>=2.1.5->keras-metrics) (1.15.0)\n",
            "Installing collected packages: keras-metrics\n",
            "Successfully installed keras-metrics-1.1.0\n"
          ],
          "name": "stdout"
        }
      ]
    },
    {
      "cell_type": "code",
      "metadata": {
        "id": "GQ0gCXmlfZX8"
      },
      "source": [
        "import keras\n",
        "from keras import applications\n",
        "from keras.preprocessing.image import ImageDataGenerator\n",
        "from keras import optimizers\n",
        "from keras.models import Sequential, Model\n",
        "from keras.layers import *\n",
        "from keras.callbacks import ModelCheckpoint, LearningRateScheduler, TensorBoard, EarlyStopping\n",
        "\n",
        "import os\n",
        "import cv2\n",
        "import numpy as np\n",
        "from sklearn.model_selection import train_test_split\n",
        "import keras_metrics as km\n",
        "\n",
        "from sklearn.metrics import accuracy_score\n",
        "from sklearn.metrics import precision_score\n",
        "from sklearn.metrics import recall_score\n",
        "from sklearn.metrics import f1_score\n",
        "from sklearn.metrics import cohen_kappa_score\n",
        "from sklearn.metrics import roc_auc_score\n",
        "from sklearn.metrics import multilabel_confusion_matrix\n",
        "from sklearn.metrics import classification_report\n",
        "from sklearn.metrics import confusion_matrix\n",
        "\n",
        "import matplotlib.pyplot as plt"
      ],
      "execution_count": 2,
      "outputs": []
    },
    {
      "cell_type": "code",
      "metadata": {
        "id": "CiVFsiIWffUd",
        "colab": {
          "base_uri": "https://localhost:8080/"
        },
        "outputId": "2ce73c6e-a754-4796-8746-427cb6272cb1"
      },
      "source": [
        "data_dir = \"/content/drive/My Drive/dataset/video_data\"\n",
        "#data_dir = \"video_data/\"\n",
        "img_height, img_width = 64, 64\n",
        "seq_len = 70\n",
        "\n",
        "classes = [\"Child's room\",  \"Museum\", \"Restaurant\"]\n",
        "num_classes = len(classes)\n",
        "print(\"Number of Class: \", num_classes)\n",
        "\n",
        "#  Creating frames from videos\n",
        "\n",
        "def frames_extraction(video_path):\n",
        "    frames_list = []\n",
        "\n",
        "    vidObj = cv2.VideoCapture(video_path)\n",
        "    # Used as counter variable\n",
        "    count = 1\n",
        "\n",
        "    while count <= seq_len:\n",
        "        success, image = vidObj.read()\n",
        "        if success:\n",
        "            image = cv2.resize(image, (img_height, img_width))\n",
        "            frames_list.append(image)\n",
        "            count += 1\n",
        "        else:\n",
        "            print(\"Defected frame\")\n",
        "            break\n",
        "\n",
        "    return frames_list\n",
        "\n",
        "# Create the actual data from the sequence of images\n",
        "\n",
        "def create_data(input_dir):\n",
        "    X = []\n",
        "    Y = []\n",
        "\n",
        "    classes_list = os.listdir(input_dir)\n",
        "\n",
        "    for c in classes_list:\n",
        "        print(c)\n",
        "        files_list = os.listdir(os.path.join(input_dir, c))\n",
        "        for f in files_list:\n",
        "            frames = frames_extraction(os.path.join(os.path.join(input_dir, c), f))\n",
        "            if len(frames) == seq_len:\n",
        "                X.append(frames)\n",
        "\n",
        "                y = [0] * len(classes)\n",
        "                y[classes.index(c)] = 1\n",
        "                Y.append(y)\n",
        "\n",
        "    X = np.asarray(X)\n",
        "    Y = np.asarray(Y)\n",
        "    \n",
        "    return X, Y"
      ],
      "execution_count": 3,
      "outputs": [
        {
          "output_type": "stream",
          "text": [
            "Number of Class:  3\n"
          ],
          "name": "stdout"
        }
      ]
    },
    {
      "cell_type": "code",
      "metadata": {
        "id": "G6nClQdnRTwb",
        "colab": {
          "base_uri": "https://localhost:8080/"
        },
        "outputId": "d1ad7d2b-c68d-481c-a408-3a4223c95f6b"
      },
      "source": [
        "X, Y = create_data(data_dir)\n",
        "\n",
        "X_train, X_test, y_train, y_test = train_test_split(X, Y, test_size=0.20, shuffle=True, random_state=0)\n",
        "\n",
        "print(X_train.shape)\n",
        "print(X_test.shape)\n",
        "print(y_train.shape)\n",
        "print(y_test.shape)"
      ],
      "execution_count": 4,
      "outputs": [
        {
          "output_type": "stream",
          "text": [
            "Restaurant\n",
            "(530, 70, 64, 64, 3)\n",
            "(133, 70, 64, 64, 3)\n",
            "(530, 3)\n",
            "(133, 3)\n"
          ],
          "name": "stdout"
        }
      ]
    },
    {
      "cell_type": "code",
      "metadata": {
        "colab": {
          "base_uri": "https://localhost:8080/"
        },
        "id": "h_v-9iPAIv_E",
        "outputId": "4b5b03c9-483f-4c32-b03c-3daf8ad7a26d"
      },
      "source": [
        "model = Sequential()\n",
        "\n",
        "model.add(ConvLSTM2D(filters=64, kernel_size=(3, 3), return_sequences=True, data_format=\"channels_last\", input_shape=(seq_len, img_height, img_width, 3)))\n",
        "model.add(Dropout(0.2))\n",
        "\n",
        "model.add(ConvLSTM2D(filters=32, kernel_size=(3, 3), return_sequences=False, data_format=\"channels_last\"))\n",
        "model.add(Dropout(0.2))\n",
        "\n",
        "#model.add(BatchNormalization())\n",
        "#model.add(MaxPooling2D(pool_size = (2, 2)))\n",
        "\n",
        "\n",
        "model.add(Flatten())\n",
        "model.add(Dense(256, activation=\"relu\"))\n",
        "model.add(Dropout(0.3))\n",
        "model.add(Dense(256, activation=\"relu\"))\n",
        "model.add(Dropout(0.3))\n",
        "model.add(Dense(128, activation=\"relu\"))\n",
        "model.add(Dropout(0.3))\n",
        "#model.add(BatchNormalization())\n",
        "\n",
        "model.add(Dense(num_classes, activation=\"softmax\"))\n",
        "\n",
        "model.summary()\n",
        "\n",
        "opt = keras.optimizers.SGD(lr=0.001)\n",
        "model.compile(loss='categorical_crossentropy', optimizer=opt, metrics=[\"accuracy\"])\n",
        "\n",
        "earlystop = EarlyStopping(patience=7)\n",
        "callbacks = [earlystop]\n",
        "\n",
        "#history = model.fit(x=X_train, y=y_train, epochs=40, batch_size=8, shuffle=True, validation_split=0.2, callbacks=callbacks)\n",
        "history = model.fit(x=X_train, y=y_train, epochs=80, batch_size=20, shuffle=True, validation_split=0.2)\n",
        "print(\"Accuracy : %.4f\" % (model.evaluate(X_test, y_test)[1]))\n",
        "\n",
        "# Result\n",
        "loss, acc = model.evaluate(X_test, y_test)\n",
        "print(\"\\nLoss: {}, Acc: {}\".format(loss,acc))\n"
      ],
      "execution_count": 6,
      "outputs": [
        {
          "output_type": "stream",
          "text": [
            "Model: \"sequential_1\"\n",
            "_________________________________________________________________\n",
            "Layer (type)                 Output Shape              Param #   \n",
            "=================================================================\n",
            "conv_lst_m2d_1 (ConvLSTM2D)  (None, 62, 62, 64)        154624    \n",
            "_________________________________________________________________\n",
            "dropout_1 (Dropout)          (None, 62, 62, 64)        0         \n",
            "_________________________________________________________________\n",
            "flatten_1 (Flatten)          (None, 246016)            0         \n",
            "_________________________________________________________________\n",
            "dense_1 (Dense)              (None, 256)               62980352  \n",
            "_________________________________________________________________\n",
            "dropout_2 (Dropout)          (None, 256)               0         \n",
            "_________________________________________________________________\n",
            "dense_2 (Dense)              (None, 256)               65792     \n",
            "_________________________________________________________________\n",
            "dropout_3 (Dropout)          (None, 256)               0         \n",
            "_________________________________________________________________\n",
            "dense_3 (Dense)              (None, 128)               32896     \n",
            "_________________________________________________________________\n",
            "dropout_4 (Dropout)          (None, 128)               0         \n",
            "_________________________________________________________________\n",
            "dense_4 (Dense)              (None, 3)                 387       \n",
            "=================================================================\n",
            "Total params: 63,234,051\n",
            "Trainable params: 63,234,051\n",
            "Non-trainable params: 0\n",
            "_________________________________________________________________\n",
            "Epoch 1/40\n",
            "53/53 [==============================] - 49s 600ms/step - loss: 1.4275 - accuracy: 0.3256 - val_loss: 1.0987 - val_accuracy: 0.3019\n",
            "Epoch 2/40\n",
            "53/53 [==============================] - 31s 590ms/step - loss: 1.1466 - accuracy: 0.3714 - val_loss: 1.1360 - val_accuracy: 0.2830\n",
            "Epoch 3/40\n",
            "53/53 [==============================] - 31s 590ms/step - loss: 1.1159 - accuracy: 0.3437 - val_loss: 1.0891 - val_accuracy: 0.2642\n",
            "Epoch 4/40\n",
            "53/53 [==============================] - 31s 591ms/step - loss: 1.1003 - accuracy: 0.3490 - val_loss: 1.0964 - val_accuracy: 0.3019\n",
            "Epoch 5/40\n",
            "53/53 [==============================] - 31s 590ms/step - loss: 1.1044 - accuracy: 0.2846 - val_loss: 1.1105 - val_accuracy: 0.2830\n",
            "Epoch 6/40\n",
            "53/53 [==============================] - 31s 590ms/step - loss: 1.0776 - accuracy: 0.3913 - val_loss: 1.1145 - val_accuracy: 0.2736\n",
            "Epoch 7/40\n",
            "53/53 [==============================] - 31s 590ms/step - loss: 1.0682 - accuracy: 0.3867 - val_loss: 1.0806 - val_accuracy: 0.3491\n",
            "Epoch 8/40\n",
            "53/53 [==============================] - 31s 590ms/step - loss: 1.0747 - accuracy: 0.4234 - val_loss: 1.1427 - val_accuracy: 0.2642\n",
            "Epoch 9/40\n",
            "53/53 [==============================] - 31s 590ms/step - loss: 1.1020 - accuracy: 0.3172 - val_loss: 1.1304 - val_accuracy: 0.2736\n",
            "Epoch 10/40\n",
            "53/53 [==============================] - 31s 590ms/step - loss: 1.0940 - accuracy: 0.3629 - val_loss: 1.0908 - val_accuracy: 0.2830\n",
            "Epoch 11/40\n",
            "53/53 [==============================] - 31s 590ms/step - loss: 1.0694 - accuracy: 0.3293 - val_loss: 1.0914 - val_accuracy: 0.2736\n",
            "Epoch 12/40\n",
            "53/53 [==============================] - 31s 590ms/step - loss: 1.0712 - accuracy: 0.3949 - val_loss: 1.0854 - val_accuracy: 0.2642\n",
            "Epoch 13/40\n",
            "53/53 [==============================] - 31s 590ms/step - loss: 1.0522 - accuracy: 0.3898 - val_loss: 1.0803 - val_accuracy: 0.2736\n",
            "Epoch 14/40\n",
            "53/53 [==============================] - 31s 590ms/step - loss: 1.0454 - accuracy: 0.3744 - val_loss: 1.0756 - val_accuracy: 0.2736\n",
            "Epoch 15/40\n",
            "53/53 [==============================] - 31s 590ms/step - loss: 1.0603 - accuracy: 0.3682 - val_loss: 1.0799 - val_accuracy: 0.2642\n",
            "Epoch 16/40\n",
            "53/53 [==============================] - 31s 590ms/step - loss: 1.0574 - accuracy: 0.3946 - val_loss: 1.0838 - val_accuracy: 0.2925\n",
            "Epoch 17/40\n",
            "53/53 [==============================] - 31s 590ms/step - loss: 1.0755 - accuracy: 0.3644 - val_loss: 1.0494 - val_accuracy: 0.4906\n",
            "Epoch 18/40\n",
            "53/53 [==============================] - 31s 589ms/step - loss: 1.0592 - accuracy: 0.3711 - val_loss: 1.0701 - val_accuracy: 0.3585\n",
            "Epoch 19/40\n",
            "53/53 [==============================] - 31s 589ms/step - loss: 1.0211 - accuracy: 0.4269 - val_loss: 1.1109 - val_accuracy: 0.2736\n",
            "Epoch 20/40\n",
            "53/53 [==============================] - 31s 590ms/step - loss: 1.0165 - accuracy: 0.4444 - val_loss: 1.0823 - val_accuracy: 0.3208\n",
            "Epoch 21/40\n",
            "53/53 [==============================] - 31s 590ms/step - loss: 1.0285 - accuracy: 0.4229 - val_loss: 1.1441 - val_accuracy: 0.2925\n",
            "Epoch 22/40\n",
            "53/53 [==============================] - 31s 590ms/step - loss: 1.0090 - accuracy: 0.4026 - val_loss: 1.0787 - val_accuracy: 0.4528\n",
            "Epoch 23/40\n",
            "53/53 [==============================] - 31s 590ms/step - loss: 1.0083 - accuracy: 0.4872 - val_loss: 1.0460 - val_accuracy: 0.4340\n",
            "Epoch 24/40\n",
            "53/53 [==============================] - 31s 590ms/step - loss: 1.0442 - accuracy: 0.3925 - val_loss: 1.0859 - val_accuracy: 0.2642\n",
            "Epoch 25/40\n",
            "53/53 [==============================] - 31s 590ms/step - loss: 1.0270 - accuracy: 0.4148 - val_loss: 1.0285 - val_accuracy: 0.4811\n",
            "Epoch 26/40\n",
            "53/53 [==============================] - 31s 590ms/step - loss: 1.0468 - accuracy: 0.4446 - val_loss: 1.0658 - val_accuracy: 0.2736\n",
            "Epoch 27/40\n",
            "53/53 [==============================] - 31s 590ms/step - loss: 0.9998 - accuracy: 0.4119 - val_loss: 1.0399 - val_accuracy: 0.4528\n",
            "Epoch 28/40\n",
            "53/53 [==============================] - 31s 590ms/step - loss: 0.9833 - accuracy: 0.4364 - val_loss: 1.0200 - val_accuracy: 0.4528\n",
            "Epoch 29/40\n",
            "53/53 [==============================] - 31s 590ms/step - loss: 0.9547 - accuracy: 0.5341 - val_loss: 1.0385 - val_accuracy: 0.4340\n",
            "Epoch 30/40\n",
            "53/53 [==============================] - 31s 590ms/step - loss: 0.9512 - accuracy: 0.4713 - val_loss: 1.1120 - val_accuracy: 0.3491\n",
            "Epoch 31/40\n",
            "53/53 [==============================] - 31s 590ms/step - loss: 0.9625 - accuracy: 0.4845 - val_loss: 0.9923 - val_accuracy: 0.3962\n",
            "Epoch 32/40\n",
            "53/53 [==============================] - 31s 590ms/step - loss: 0.9689 - accuracy: 0.5092 - val_loss: 1.1155 - val_accuracy: 0.2830\n",
            "Epoch 33/40\n",
            "53/53 [==============================] - 31s 590ms/step - loss: 0.9453 - accuracy: 0.4862 - val_loss: 1.0150 - val_accuracy: 0.3774\n",
            "Epoch 34/40\n",
            "53/53 [==============================] - 31s 590ms/step - loss: 0.9500 - accuracy: 0.4677 - val_loss: 0.9977 - val_accuracy: 0.4528\n",
            "Epoch 35/40\n",
            "53/53 [==============================] - 31s 590ms/step - loss: 0.9160 - accuracy: 0.5076 - val_loss: 1.0094 - val_accuracy: 0.4151\n",
            "Epoch 36/40\n",
            "53/53 [==============================] - 31s 590ms/step - loss: 0.8823 - accuracy: 0.5298 - val_loss: 0.9773 - val_accuracy: 0.3962\n",
            "Epoch 37/40\n",
            "53/53 [==============================] - 31s 590ms/step - loss: 0.8243 - accuracy: 0.6001 - val_loss: 1.1087 - val_accuracy: 0.3208\n",
            "Epoch 38/40\n",
            "53/53 [==============================] - 31s 590ms/step - loss: 0.8381 - accuracy: 0.5832 - val_loss: 1.1801 - val_accuracy: 0.3208\n",
            "Epoch 39/40\n",
            "53/53 [==============================] - 31s 590ms/step - loss: 0.8229 - accuracy: 0.6077 - val_loss: 0.9681 - val_accuracy: 0.4151\n",
            "Epoch 40/40\n",
            "53/53 [==============================] - 31s 590ms/step - loss: 0.8237 - accuracy: 0.5957 - val_loss: 1.0904 - val_accuracy: 0.3208\n",
            "5/5 [==============================] - 2s 430ms/step - loss: 1.1756 - accuracy: 0.3308\n",
            "Accuracy : 0.3308\n",
            "5/5 [==============================] - 2s 425ms/step - loss: 1.1756 - accuracy: 0.3308\n",
            "\n",
            "Loss: 1.175562858581543, Acc: 0.3308270573616028\n"
          ],
          "name": "stdout"
        }
      ]
    },
    {
      "cell_type": "code",
      "metadata": {
        "colab": {
          "base_uri": "https://localhost:8080/",
          "height": 981
        },
        "id": "03EgVD9bI03A",
        "outputId": "79706ac0-2fb0-42f9-be18-fcc382c6eebd"
      },
      "source": [
        "## summarize history for accuracy\n",
        "plt.plot(history.history['accuracy'])\n",
        "plt.plot(history.history['val_accuracy'])\n",
        "plt.title('model accuracy')\n",
        "plt.ylabel('accuracy')\n",
        "plt.xlabel('epoch')\n",
        "plt.legend(['train', 'test'], loc='upper left')\n",
        "plt.show()\n",
        "## summarize history for loss\n",
        "plt.plot(history.history['loss'])\n",
        "plt.plot(history.history['val_loss'])\n",
        "plt.title('model loss')\n",
        "plt.ylabel('loss')\n",
        "plt.xlabel('epoch')\n",
        "plt.legend(['train', 'test'], loc='upper left')\n",
        "plt.show()\n",
        "\n",
        "predictions = model.predict(X_test)\n",
        "print('result: ',np.argmax(predictions[0]))\n",
        "print('actual result: ', y_test[0])\n",
        "\n",
        "# Evaluation of model\n",
        "y_pred = model.predict(X_test)\n",
        "y_pred = np.argmax(y_pred, axis=1)\n",
        "y_test = np.argmax(y_test, axis=1)\n",
        "#print('y_test: ', y_test)\n",
        "print('report\\n')\n",
        "print(classification_report(y_test, y_pred))"
      ],
      "execution_count": null,
      "outputs": [
        {
          "output_type": "display_data",
          "data": {
            "image/png": "[encoded data removed]",
            "text/plain": [
              "<Figure size 432x288 with 1 Axes>"
            ]
          },
          "metadata": {
            "tags": [],
            "needs_background": "light"
          }
        },
        {
          "output_type": "display_data",
          "data": {
            "image/png": "[encoded data removed]",
            "text/plain": [
              "<Figure size 432x288 with 1 Axes>"
            ]
          },
          "metadata": {
            "tags": [],
            "needs_background": "light"
          }
        },
        {
          "output_type": "stream",
          "text": [
            "result:  0\n",
            "actual result:  0\n",
            "report\n",
            "\n"
          ],
          "name": "stdout"
        },
        {
          "output_type": "error",
          "ename": "ValueError",
          "evalue": "ignored",
          "traceback": [
            "\u001b[0;31m---------------------------------------------------------------------------\u001b[0m",
            "\u001b[0;31mValueError\u001b[0m                                Traceback (most recent call last)",
            "\u001b[0;32m<ipython-input-51-44605b6599e1>\u001b[0m in \u001b[0;36m<module>\u001b[0;34m()\u001b[0m\n\u001b[1;32m     26\u001b[0m \u001b[0;31m#print('y_test: ', y_test)\u001b[0m\u001b[0;34m\u001b[0m\u001b[0;34m\u001b[0m\u001b[0;34m\u001b[0m\u001b[0m\n\u001b[1;32m     27\u001b[0m \u001b[0mprint\u001b[0m\u001b[0;34m(\u001b[0m\u001b[0;34m'report\\n'\u001b[0m\u001b[0;34m)\u001b[0m\u001b[0;34m\u001b[0m\u001b[0;34m\u001b[0m\u001b[0m\n\u001b[0;32m---> 28\u001b[0;31m \u001b[0mprint\u001b[0m\u001b[0;34m(\u001b[0m\u001b[0mclassification_report\u001b[0m\u001b[0;34m(\u001b[0m\u001b[0my_test\u001b[0m\u001b[0;34m,\u001b[0m \u001b[0my_pred\u001b[0m\u001b[0;34m)\u001b[0m\u001b[0;34m)\u001b[0m\u001b[0;34m\u001b[0m\u001b[0;34m\u001b[0m\u001b[0m\n\u001b[0m",
            "\u001b[0;32m/usr/local/lib/python3.7/dist-packages/sklearn/metrics/_classification.py\u001b[0m in \u001b[0;36mclassification_report\u001b[0;34m(y_true, y_pred, labels, target_names, sample_weight, digits, output_dict, zero_division)\u001b[0m\n\u001b[1;32m   1969\u001b[0m     \"\"\"\n\u001b[1;32m   1970\u001b[0m \u001b[0;34m\u001b[0m\u001b[0m\n\u001b[0;32m-> 1971\u001b[0;31m     \u001b[0my_type\u001b[0m\u001b[0;34m,\u001b[0m \u001b[0my_true\u001b[0m\u001b[0;34m,\u001b[0m \u001b[0my_pred\u001b[0m \u001b[0;34m=\u001b[0m \u001b[0m_check_targets\u001b[0m\u001b[0;34m(\u001b[0m\u001b[0my_true\u001b[0m\u001b[0;34m,\u001b[0m \u001b[0my_pred\u001b[0m\u001b[0;34m)\u001b[0m\u001b[0;34m\u001b[0m\u001b[0;34m\u001b[0m\u001b[0m\n\u001b[0m\u001b[1;32m   1972\u001b[0m \u001b[0;34m\u001b[0m\u001b[0m\n\u001b[1;32m   1973\u001b[0m     \u001b[0mlabels_given\u001b[0m \u001b[0;34m=\u001b[0m \u001b[0;32mTrue\u001b[0m\u001b[0;34m\u001b[0m\u001b[0;34m\u001b[0m\u001b[0m\n",
            "\u001b[0;32m/usr/local/lib/python3.7/dist-packages/sklearn/metrics/_classification.py\u001b[0m in \u001b[0;36m_check_targets\u001b[0;34m(y_true, y_pred)\u001b[0m\n\u001b[1;32m     88\u001b[0m     \u001b[0;32mif\u001b[0m \u001b[0mlen\u001b[0m\u001b[0;34m(\u001b[0m\u001b[0my_type\u001b[0m\u001b[0;34m)\u001b[0m \u001b[0;34m>\u001b[0m \u001b[0;36m1\u001b[0m\u001b[0;34m:\u001b[0m\u001b[0;34m\u001b[0m\u001b[0;34m\u001b[0m\u001b[0m\n\u001b[1;32m     89\u001b[0m         raise ValueError(\"Classification metrics can't handle a mix of {0} \"\n\u001b[0;32m---> 90\u001b[0;31m                          \"and {1} targets\".format(type_true, type_pred))\n\u001b[0m\u001b[1;32m     91\u001b[0m \u001b[0;34m\u001b[0m\u001b[0m\n\u001b[1;32m     92\u001b[0m     \u001b[0;31m# We can't have more than one value on y_type => The set is no more needed\u001b[0m\u001b[0;34m\u001b[0m\u001b[0;34m\u001b[0m\u001b[0;34m\u001b[0m\u001b[0m\n",
            "\u001b[0;31mValueError\u001b[0m: Classification metrics can't handle a mix of multiclass and continuous-multioutput targets"
          ]
        }
      ]
    },
    {
      "cell_type": "code",
      "metadata": {
        "colab": {
          "base_uri": "https://localhost:8080/"
        },
        "id": "SgizBH-H74Rl",
        "outputId": "2431a9f7-cb11-4132-89e1-c414b2fdabf5"
      },
      "source": [
        "# Confusion Matrix\n",
        "#y_true = [1,0,0,0]\n",
        "cm = confusion_matrix(y_test, y_pred) \n",
        "print('confusion matrix: ', cm)"
      ],
      "execution_count": null,
      "outputs": [
        {
          "output_type": "stream",
          "text": [
            "confusion matrix:  [[23  0 13  0]\n",
            " [ 4  0 13  0]\n",
            " [13  0 31  5]\n",
            " [ 8  0 37  1]]\n"
          ],
          "name": "stdout"
        }
      ]
    }
  ]
}