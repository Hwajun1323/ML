{
  "nbformat": 4,
  "nbformat_minor": 0,
  "metadata": {
    "colab": {
      "name": "train.ipynb",
      "provenance": [],
      "collapsed_sections": [],
      "mount_file_id": "1STABCCX2jxLSPDYAaoHvYy9Z5fG6sYP4",
      "authorship_tag": "ABX9TyO9nkXWyu5izxPxcHaJgarR",
      "include_colab_link": true
    },
    "kernelspec": {
      "name": "python3",
      "display_name": "Python 3"
    },
    "language_info": {
      "name": "python"
    },
    "accelerator": "GPU"
  },
  "cells": [
    {
      "cell_type": "markdown",
      "metadata": {
        "id": "view-in-github",
        "colab_type": "text"
      },
      "source": [
        "<a href=\"https://colab.research.google.com/github/Hwajun1323/ML/blob/master/train.ipynb\" target=\"_parent\"><img src=\"https://colab.research.google.com/assets/colab-badge.svg\" alt=\"Open In Colab\"/></a>"
      ]
    },
    {
      "cell_type": "code",
      "metadata": {
        "id": "-lJjS99is-Fw",
        "colab": {
          "base_uri": "https://localhost:8080/"
        },
        "outputId": "854218e5-45fd-4196-e28b-8825bcf32ade"
      },
      "source": [
        "pip install keras-metrics"
      ],
      "execution_count": 35,
      "outputs": [
        {
          "output_type": "stream",
          "text": [
            "Requirement already satisfied: keras-metrics in /usr/local/lib/python3.7/dist-packages (1.1.0)\n",
            "Requirement already satisfied: Keras>=2.1.5 in /usr/local/lib/python3.7/dist-packages (from keras-metrics) (2.4.3)\n",
            "Requirement already satisfied: scipy>=0.14 in /usr/local/lib/python3.7/dist-packages (from Keras>=2.1.5->keras-metrics) (1.4.1)\n",
            "Requirement already satisfied: pyyaml in /usr/local/lib/python3.7/dist-packages (from Keras>=2.1.5->keras-metrics) (3.13)\n",
            "Requirement already satisfied: h5py in /usr/local/lib/python3.7/dist-packages (from Keras>=2.1.5->keras-metrics) (2.10.0)\n",
            "Requirement already satisfied: numpy>=1.9.1 in /usr/local/lib/python3.7/dist-packages (from Keras>=2.1.5->keras-metrics) (1.19.5)\n",
            "Requirement already satisfied: six in /usr/local/lib/python3.7/dist-packages (from h5py->Keras>=2.1.5->keras-metrics) (1.15.0)\n"
          ],
          "name": "stdout"
        }
      ]
    },
    {
      "cell_type": "code",
      "metadata": {
        "id": "GQ0gCXmlfZX8"
      },
      "source": [
        "import keras\n",
        "from keras import applications\n",
        "from keras.preprocessing.image import ImageDataGenerator\n",
        "from keras import optimizers\n",
        "from keras.models import Sequential, Model\n",
        "from keras.layers import *\n",
        "from keras.callbacks import ModelCheckpoint, LearningRateScheduler, TensorBoard, EarlyStopping\n",
        "\n",
        "import os\n",
        "import cv2\n",
        "import numpy as np\n",
        "from sklearn.model_selection import train_test_split\n",
        "import keras_metrics as km\n",
        "\n",
        "from sklearn.metrics import accuracy_score\n",
        "from sklearn.metrics import precision_score\n",
        "from sklearn.metrics import recall_score\n",
        "from sklearn.metrics import f1_score\n",
        "from sklearn.metrics import cohen_kappa_score\n",
        "from sklearn.metrics import roc_auc_score\n",
        "from sklearn.metrics import multilabel_confusion_matrix\n",
        "from sklearn.metrics import classification_report\n",
        "from sklearn.metrics import confusion_matrix\n",
        "\n",
        "import matplotlib.pyplot as plt"
      ],
      "execution_count": 38,
      "outputs": []
    },
    {
      "cell_type": "code",
      "metadata": {
        "id": "CiVFsiIWffUd",
        "colab": {
          "base_uri": "https://localhost:8080/"
        },
        "outputId": "04494fc9-0278-44ee-ec75-0f73268d87e1"
      },
      "source": [
        "data_dir = \"/content/drive/My Drive/dataset/video_data\"\n",
        "#data_dir = \"video_data/\"\n",
        "img_height, img_width = 64, 64\n",
        "seq_len = 60\n",
        "\n",
        "classes = [\"Child's room\", \"Office\", \"Museum\", \"Restaurant\"]\n",
        "num_classes = len(classes)\n",
        "print(\"Number of Class: \", num_classes)\n",
        "\n",
        "#  Creating frames from videos\n",
        "\n",
        "def frames_extraction(video_path):\n",
        "    frames_list = []\n",
        "\n",
        "    vidObj = cv2.VideoCapture(video_path)\n",
        "    # Used as counter variable\n",
        "    count = 1\n",
        "\n",
        "    while count <= seq_len:\n",
        "        success, image = vidObj.read()\n",
        "        if success:\n",
        "            image = cv2.resize(image, (img_height, img_width))\n",
        "            frames_list.append(image)\n",
        "            count += 1\n",
        "        else:\n",
        "            print(\"Defected frame\")\n",
        "            break\n",
        "\n",
        "    return frames_list\n",
        "\n",
        "# Create the actual data from the sequence of images\n",
        "\n",
        "def create_data(input_dir):\n",
        "    X = []\n",
        "    Y = []\n",
        "\n",
        "    classes_list = os.listdir(input_dir)\n",
        "\n",
        "    for c in classes_list:\n",
        "        print(c)\n",
        "        files_list = os.listdir(os.path.join(input_dir, c))\n",
        "        for f in files_list:\n",
        "            frames = frames_extraction(os.path.join(os.path.join(input_dir, c), f))\n",
        "            if len(frames) == seq_len:\n",
        "                X.append(frames)\n",
        "\n",
        "                y = [0] * len(classes)\n",
        "                y[classes.index(c)] = 1\n",
        "                Y.append(y)\n",
        "\n",
        "    X = np.asarray(X)\n",
        "    Y = np.asarray(Y)\n",
        "    \n",
        "    return X, Y"
      ],
      "execution_count": 43,
      "outputs": [
        {
          "output_type": "stream",
          "text": [
            "Number of Class:  4\n"
          ],
          "name": "stdout"
        }
      ]
    },
    {
      "cell_type": "code",
      "metadata": {
        "id": "G6nClQdnRTwb",
        "colab": {
          "base_uri": "https://localhost:8080/"
        },
        "outputId": "35f18844-5f83-4fa1-eb1d-9496e9d5512b"
      },
      "source": [
        "X, Y = create_data(data_dir)\n",
        "\n",
        "X_train, X_test, y_train, y_test = train_test_split(X, Y, test_size=0.20, shuffle=True, random_state=0)\n",
        "\n",
        "print(X_train.shape)\n",
        "print(X_test.shape)\n",
        "print(y_train.shape)\n",
        "print(y_test.shape)"
      ],
      "execution_count": 44,
      "outputs": [
        {
          "output_type": "stream",
          "text": [
            "Child's room\n",
            "Office\n",
            "Defected frame\n",
            "Museum\n",
            "Restaurant\n",
            "(591, 60, 64, 64, 3)\n",
            "(148, 60, 64, 64, 3)\n",
            "(591, 4)\n",
            "(148, 4)\n"
          ],
          "name": "stdout"
        }
      ]
    },
    {
      "cell_type": "code",
      "metadata": {
        "colab": {
          "base_uri": "https://localhost:8080/",
          "height": 1000
        },
        "id": "h_v-9iPAIv_E",
        "outputId": "a17931be-df53-427a-d423-a103ae61e916"
      },
      "source": [
        "model = Sequential()\n",
        "\n",
        "model.add(ConvLSTM2D(filters=64, kernel_size=(3, 3), return_sequences=True, data_format=\"channels_last\", input_shape=(seq_len, img_height, img_width, 3)))\n",
        "#model.add(BatchNormalization())\n",
        "#model.add(MaxPooling3D(pool_size = (1, 2, 2)))\n",
        "model.add(Dropout(0.2))\n",
        "\n",
        "model.add(ConvLSTM2D(filters=32, kernel_size=(3, 3), return_sequences=False, data_format=\"channels_last\"))\n",
        "model.add(Dropout(0.2))\n",
        "\n",
        "model.add(Flatten())\n",
        "model.add(Dense(256, activation=\"relu\"))\n",
        "model.add(Dropout(0.3))\n",
        "model.add(Dense(256, activation=\"relu\"))\n",
        "model.add(Dropout(0.3))\n",
        "model.add(Dense(num_classes, activation=\"softmax\"))\n",
        "\n",
        "model.summary()\n",
        "\n",
        "opt = keras.optimizers.SGD(lr=0.001)\n",
        "model.compile(loss='categorical_crossentropy', optimizer=opt, metrics=[\"accuracy\"])\n",
        "\n",
        "earlystop = EarlyStopping(patience=7)\n",
        "callbacks = [earlystop]\n",
        "\n",
        "#history = model.fit(x=X_train, y=y_train, epochs=40, batch_size=8, shuffle=True, validation_split=0.2, callbacks=callbacks)\n",
        "history = model.fit(x=X_train, y=y_train, epochs=70, batch_size=8, shuffle=True, validation_split=0.2)\n",
        "print(\"Accuracy : %.4f\" % (model.evaluate(X_test, y_test)[1]))\n",
        "\n",
        "# Result\n",
        "loss, acc = model.evaluate(X_test, y_test)\n",
        "print(\"\\nLoss: {}, Acc: {}\".format(loss,acc))\n"
      ],
      "execution_count": 48,
      "outputs": [
        {
          "output_type": "stream",
          "text": [
            "Model: \"sequential_21\"\n",
            "_________________________________________________________________\n",
            "Layer (type)                 Output Shape              Param #   \n",
            "=================================================================\n",
            "conv_lst_m2d_40 (ConvLSTM2D) (None, 60, 62, 62, 64)    154624    \n",
            "_________________________________________________________________\n",
            "dropout_61 (Dropout)         (None, 60, 62, 62, 64)    0         \n",
            "_________________________________________________________________\n",
            "conv_lst_m2d_41 (ConvLSTM2D) (None, 60, 60, 32)        110720    \n",
            "_________________________________________________________________\n",
            "dropout_62 (Dropout)         (None, 60, 60, 32)        0         \n",
            "_________________________________________________________________\n",
            "flatten_14 (Flatten)         (None, 115200)            0         \n",
            "_________________________________________________________________\n",
            "dense_42 (Dense)             (None, 256)               29491456  \n",
            "_________________________________________________________________\n",
            "dropout_63 (Dropout)         (None, 256)               0         \n",
            "_________________________________________________________________\n",
            "dense_43 (Dense)             (None, 256)               65792     \n",
            "_________________________________________________________________\n",
            "dropout_64 (Dropout)         (None, 256)               0         \n",
            "_________________________________________________________________\n",
            "dense_44 (Dense)             (None, 4)                 1028      \n",
            "=================================================================\n",
            "Total params: 29,823,620\n",
            "Trainable params: 29,823,620\n",
            "Non-trainable params: 0\n",
            "_________________________________________________________________\n",
            "Epoch 1/70\n",
            "59/59 [==============================] - 102s 2s/step - loss: 1.3734 - accuracy: 0.3251 - val_loss: 1.2844 - val_accuracy: 0.3193\n",
            "Epoch 2/70\n",
            "59/59 [==============================] - 101s 2s/step - loss: 1.3749 - accuracy: 0.3269 - val_loss: 1.3054 - val_accuracy: 0.3277\n",
            "Epoch 3/70\n",
            "59/59 [==============================] - 103s 2s/step - loss: 1.3373 - accuracy: 0.3330 - val_loss: 1.2528 - val_accuracy: 0.3529\n",
            "Epoch 4/70\n",
            "59/59 [==============================] - 103s 2s/step - loss: 1.2935 - accuracy: 0.3521 - val_loss: 1.3299 - val_accuracy: 0.2521\n",
            "Epoch 5/70\n",
            "59/59 [==============================] - 103s 2s/step - loss: 1.3401 - accuracy: 0.3293 - val_loss: 1.2779 - val_accuracy: 0.3782\n",
            "Epoch 6/70\n",
            "59/59 [==============================] - 103s 2s/step - loss: 1.2891 - accuracy: 0.3771 - val_loss: 1.2404 - val_accuracy: 0.3529\n",
            "Epoch 7/70\n",
            "59/59 [==============================] - 103s 2s/step - loss: 1.2810 - accuracy: 0.3774 - val_loss: 1.2395 - val_accuracy: 0.4286\n",
            "Epoch 8/70\n",
            "59/59 [==============================] - 103s 2s/step - loss: 1.2871 - accuracy: 0.3741 - val_loss: 1.2343 - val_accuracy: 0.3782\n",
            "Epoch 9/70\n",
            "59/59 [==============================] - 103s 2s/step - loss: 1.2754 - accuracy: 0.3881 - val_loss: 1.2133 - val_accuracy: 0.4118\n",
            "Epoch 10/70\n",
            "59/59 [==============================] - 103s 2s/step - loss: 1.2169 - accuracy: 0.4004 - val_loss: 1.2425 - val_accuracy: 0.3697\n",
            "Epoch 11/70\n",
            "59/59 [==============================] - 103s 2s/step - loss: 1.2485 - accuracy: 0.3907 - val_loss: 1.3025 - val_accuracy: 0.2689\n",
            "Epoch 12/70\n",
            "59/59 [==============================] - 103s 2s/step - loss: 1.2792 - accuracy: 0.3753 - val_loss: 1.3820 - val_accuracy: 0.2437\n",
            "Epoch 13/70\n",
            "59/59 [==============================] - 103s 2s/step - loss: 1.2614 - accuracy: 0.4172 - val_loss: 1.2152 - val_accuracy: 0.4034\n",
            "Epoch 14/70\n",
            "59/59 [==============================] - 103s 2s/step - loss: 1.2233 - accuracy: 0.4125 - val_loss: 1.2276 - val_accuracy: 0.3950\n",
            "Epoch 15/70\n",
            "59/59 [==============================] - 103s 2s/step - loss: 1.2087 - accuracy: 0.4201 - val_loss: 1.3607 - val_accuracy: 0.2437\n",
            "Epoch 16/70\n",
            "59/59 [==============================] - 103s 2s/step - loss: 1.2091 - accuracy: 0.3911 - val_loss: 1.2332 - val_accuracy: 0.3613\n",
            "Epoch 17/70\n",
            "59/59 [==============================] - 103s 2s/step - loss: 1.1720 - accuracy: 0.4517 - val_loss: 1.2370 - val_accuracy: 0.3697\n",
            "Epoch 18/70\n",
            "59/59 [==============================] - 103s 2s/step - loss: 1.2089 - accuracy: 0.4501 - val_loss: 1.2342 - val_accuracy: 0.3697\n",
            "Epoch 19/70\n",
            "59/59 [==============================] - 103s 2s/step - loss: 1.2048 - accuracy: 0.4545 - val_loss: 1.2744 - val_accuracy: 0.3193\n",
            "Epoch 20/70\n",
            "59/59 [==============================] - 103s 2s/step - loss: 1.1510 - accuracy: 0.4702 - val_loss: 1.2388 - val_accuracy: 0.3613\n",
            "Epoch 21/70\n",
            "59/59 [==============================] - 103s 2s/step - loss: 1.0662 - accuracy: 0.5409 - val_loss: 1.2565 - val_accuracy: 0.3025\n",
            "Epoch 22/70\n",
            "59/59 [==============================] - 103s 2s/step - loss: 1.0859 - accuracy: 0.5361 - val_loss: 1.2571 - val_accuracy: 0.3529\n",
            "Epoch 23/70\n",
            "59/59 [==============================] - 103s 2s/step - loss: 1.1019 - accuracy: 0.4924 - val_loss: 1.2724 - val_accuracy: 0.3445\n",
            "Epoch 24/70\n",
            "59/59 [==============================] - 103s 2s/step - loss: 1.0790 - accuracy: 0.4865 - val_loss: 1.2672 - val_accuracy: 0.3109\n",
            "Epoch 25/70\n",
            "59/59 [==============================] - 103s 2s/step - loss: 1.0551 - accuracy: 0.5442 - val_loss: 1.2898 - val_accuracy: 0.2941\n",
            "Epoch 26/70\n",
            "59/59 [==============================] - 103s 2s/step - loss: 1.0447 - accuracy: 0.5255 - val_loss: 1.3047 - val_accuracy: 0.3529\n",
            "Epoch 27/70\n",
            "59/59 [==============================] - 103s 2s/step - loss: 1.0329 - accuracy: 0.5282 - val_loss: 1.2625 - val_accuracy: 0.3866\n",
            "Epoch 28/70\n",
            "59/59 [==============================] - 103s 2s/step - loss: 0.9585 - accuracy: 0.5524 - val_loss: 1.3048 - val_accuracy: 0.3025\n",
            "Epoch 29/70\n",
            "59/59 [==============================] - 103s 2s/step - loss: 0.9718 - accuracy: 0.5701 - val_loss: 1.3564 - val_accuracy: 0.3025\n",
            "Epoch 30/70\n",
            "59/59 [==============================] - 103s 2s/step - loss: 0.9844 - accuracy: 0.5542 - val_loss: 1.3453 - val_accuracy: 0.2941\n",
            "Epoch 31/70\n",
            "59/59 [==============================] - 103s 2s/step - loss: 0.9117 - accuracy: 0.6059 - val_loss: 1.4166 - val_accuracy: 0.2521\n",
            "Epoch 32/70\n",
            "59/59 [==============================] - 103s 2s/step - loss: 0.8687 - accuracy: 0.6149 - val_loss: 1.4152 - val_accuracy: 0.2773\n",
            "Epoch 33/70\n",
            "59/59 [==============================] - 103s 2s/step - loss: 0.8992 - accuracy: 0.6123 - val_loss: 1.4529 - val_accuracy: 0.1681\n",
            "Epoch 34/70\n",
            "59/59 [==============================] - 103s 2s/step - loss: 0.8492 - accuracy: 0.5977 - val_loss: 1.3211 - val_accuracy: 0.3193\n",
            "Epoch 35/70\n",
            "59/59 [==============================] - 103s 2s/step - loss: 0.8151 - accuracy: 0.6952 - val_loss: 1.3155 - val_accuracy: 0.3193\n",
            "Epoch 36/70\n",
            "59/59 [==============================] - 103s 2s/step - loss: 0.7728 - accuracy: 0.6779 - val_loss: 1.4909 - val_accuracy: 0.2773\n",
            "Epoch 37/70\n",
            "59/59 [==============================] - 103s 2s/step - loss: 0.7222 - accuracy: 0.7002 - val_loss: 1.5200 - val_accuracy: 0.3445\n",
            "Epoch 38/70\n",
            "59/59 [==============================] - 103s 2s/step - loss: 0.7317 - accuracy: 0.6559 - val_loss: 1.5129 - val_accuracy: 0.2857\n",
            "Epoch 39/70\n",
            "59/59 [==============================] - 103s 2s/step - loss: 0.7311 - accuracy: 0.6873 - val_loss: 1.4967 - val_accuracy: 0.3193\n",
            "Epoch 40/70\n",
            "59/59 [==============================] - 103s 2s/step - loss: 0.6753 - accuracy: 0.7340 - val_loss: 1.6847 - val_accuracy: 0.1933\n",
            "Epoch 41/70\n",
            "59/59 [==============================] - 103s 2s/step - loss: 0.7390 - accuracy: 0.6999 - val_loss: 1.6828 - val_accuracy: 0.2269\n",
            "Epoch 42/70\n",
            "59/59 [==============================] - 103s 2s/step - loss: 0.6567 - accuracy: 0.7021 - val_loss: 1.6989 - val_accuracy: 0.2269\n",
            "Epoch 43/70\n",
            "59/59 [==============================] - 103s 2s/step - loss: 0.6562 - accuracy: 0.6941 - val_loss: 1.6084 - val_accuracy: 0.2437\n",
            "Epoch 44/70\n",
            "59/59 [==============================] - 103s 2s/step - loss: 0.7197 - accuracy: 0.6474 - val_loss: 1.6489 - val_accuracy: 0.2689\n",
            "Epoch 45/70\n",
            "59/59 [==============================] - 103s 2s/step - loss: 0.6341 - accuracy: 0.7270 - val_loss: 1.7055 - val_accuracy: 0.1933\n",
            "Epoch 46/70\n",
            "59/59 [==============================] - 103s 2s/step - loss: 0.5915 - accuracy: 0.7292 - val_loss: 1.7429 - val_accuracy: 0.2689\n",
            "Epoch 47/70\n",
            "59/59 [==============================] - 103s 2s/step - loss: 0.5832 - accuracy: 0.7094 - val_loss: 1.8642 - val_accuracy: 0.1933\n",
            "Epoch 48/70\n",
            "59/59 [==============================] - 103s 2s/step - loss: 0.5978 - accuracy: 0.6974 - val_loss: 1.6300 - val_accuracy: 0.2689\n",
            "Epoch 49/70\n",
            "59/59 [==============================] - 103s 2s/step - loss: 0.5545 - accuracy: 0.7323 - val_loss: 1.8702 - val_accuracy: 0.1933\n",
            "Epoch 50/70\n",
            "59/59 [==============================] - 103s 2s/step - loss: 0.5118 - accuracy: 0.7812 - val_loss: 1.8950 - val_accuracy: 0.2353\n",
            "Epoch 51/70\n",
            "59/59 [==============================] - 103s 2s/step - loss: 0.5348 - accuracy: 0.7469 - val_loss: 1.7476 - val_accuracy: 0.2521\n",
            "Epoch 52/70\n",
            "59/59 [==============================] - 103s 2s/step - loss: 0.5152 - accuracy: 0.7535 - val_loss: 1.8937 - val_accuracy: 0.2605\n",
            "Epoch 53/70\n",
            "59/59 [==============================] - 103s 2s/step - loss: 0.5522 - accuracy: 0.7326 - val_loss: 2.0103 - val_accuracy: 0.2185\n",
            "Epoch 54/70\n",
            "59/59 [==============================] - 103s 2s/step - loss: 0.5154 - accuracy: 0.7239 - val_loss: 1.7689 - val_accuracy: 0.2353\n",
            "Epoch 55/70\n",
            "59/59 [==============================] - 103s 2s/step - loss: 0.4779 - accuracy: 0.7568 - val_loss: 1.9436 - val_accuracy: 0.1933\n",
            "Epoch 56/70\n",
            "59/59 [==============================] - 103s 2s/step - loss: 0.5443 - accuracy: 0.7303 - val_loss: 2.1936 - val_accuracy: 0.2437\n",
            "Epoch 57/70\n",
            "59/59 [==============================] - 103s 2s/step - loss: 0.4909 - accuracy: 0.7516 - val_loss: 2.2053 - val_accuracy: 0.1765\n",
            "Epoch 58/70\n",
            "59/59 [==============================] - 103s 2s/step - loss: 0.4672 - accuracy: 0.7395 - val_loss: 1.8973 - val_accuracy: 0.2017\n",
            "Epoch 59/70\n",
            "59/59 [==============================] - 103s 2s/step - loss: 0.5050 - accuracy: 0.7703 - val_loss: 2.2498 - val_accuracy: 0.1681\n",
            "Epoch 60/70\n",
            "59/59 [==============================] - 103s 2s/step - loss: 0.4530 - accuracy: 0.7513 - val_loss: 1.8713 - val_accuracy: 0.2941\n",
            "Epoch 61/70\n",
            "59/59 [==============================] - 103s 2s/step - loss: 0.4340 - accuracy: 0.7743 - val_loss: 2.0017 - val_accuracy: 0.2521\n",
            "Epoch 62/70\n",
            "59/59 [==============================] - 103s 2s/step - loss: 0.4745 - accuracy: 0.7574 - val_loss: 2.2034 - val_accuracy: 0.2101\n",
            "Epoch 63/70\n",
            "59/59 [==============================] - 103s 2s/step - loss: 0.5183 - accuracy: 0.7363 - val_loss: 2.3442 - val_accuracy: 0.2017\n",
            "Epoch 64/70\n",
            "59/59 [==============================] - 103s 2s/step - loss: 0.4217 - accuracy: 0.7667 - val_loss: 2.1184 - val_accuracy: 0.2353\n",
            "Epoch 65/70\n",
            "59/59 [==============================] - 103s 2s/step - loss: 0.5118 - accuracy: 0.7145 - val_loss: 2.2891 - val_accuracy: 0.1933\n",
            "Epoch 66/70\n",
            "59/59 [==============================] - 103s 2s/step - loss: 0.4824 - accuracy: 0.7437 - val_loss: 2.1913 - val_accuracy: 0.1933\n",
            "Epoch 67/70\n",
            "59/59 [==============================] - 103s 2s/step - loss: 0.4567 - accuracy: 0.8041 - val_loss: 2.2038 - val_accuracy: 0.2437\n",
            "Epoch 68/70\n",
            "59/59 [==============================] - 103s 2s/step - loss: 0.4053 - accuracy: 0.7866 - val_loss: 2.1910 - val_accuracy: 0.2353\n",
            "Epoch 69/70\n",
            "59/59 [==============================] - 103s 2s/step - loss: 0.4427 - accuracy: 0.7591 - val_loss: 2.0904 - val_accuracy: 0.2353\n",
            "Epoch 70/70\n",
            "59/59 [==============================] - 103s 2s/step - loss: 0.4783 - accuracy: 0.7475 - val_loss: 2.1186 - val_accuracy: 0.2689\n"
          ],
          "name": "stdout"
        },
        {
          "output_type": "error",
          "ename": "ValueError",
          "evalue": "ignored",
          "traceback": [
            "\u001b[0;31m---------------------------------------------------------------------------\u001b[0m",
            "\u001b[0;31mValueError\u001b[0m                                Traceback (most recent call last)",
            "\u001b[0;32m<ipython-input-48-885218a27b9f>\u001b[0m in \u001b[0;36m<module>\u001b[0;34m()\u001b[0m\n\u001b[1;32m     26\u001b[0m \u001b[0;31m#history = model.fit(x=X_train, y=y_train, epochs=40, batch_size=8, shuffle=True, validation_split=0.2, callbacks=callbacks)\u001b[0m\u001b[0;34m\u001b[0m\u001b[0;34m\u001b[0m\u001b[0;34m\u001b[0m\u001b[0m\n\u001b[1;32m     27\u001b[0m \u001b[0mhistory\u001b[0m \u001b[0;34m=\u001b[0m \u001b[0mmodel\u001b[0m\u001b[0;34m.\u001b[0m\u001b[0mfit\u001b[0m\u001b[0;34m(\u001b[0m\u001b[0mx\u001b[0m\u001b[0;34m=\u001b[0m\u001b[0mX_train\u001b[0m\u001b[0;34m,\u001b[0m \u001b[0my\u001b[0m\u001b[0;34m=\u001b[0m\u001b[0my_train\u001b[0m\u001b[0;34m,\u001b[0m \u001b[0mepochs\u001b[0m\u001b[0;34m=\u001b[0m\u001b[0;36m70\u001b[0m\u001b[0;34m,\u001b[0m \u001b[0mbatch_size\u001b[0m\u001b[0;34m=\u001b[0m\u001b[0;36m8\u001b[0m\u001b[0;34m,\u001b[0m \u001b[0mshuffle\u001b[0m\u001b[0;34m=\u001b[0m\u001b[0;32mTrue\u001b[0m\u001b[0;34m,\u001b[0m \u001b[0mvalidation_split\u001b[0m\u001b[0;34m=\u001b[0m\u001b[0;36m0.2\u001b[0m\u001b[0;34m)\u001b[0m\u001b[0;34m\u001b[0m\u001b[0;34m\u001b[0m\u001b[0m\n\u001b[0;32m---> 28\u001b[0;31m \u001b[0mprint\u001b[0m\u001b[0;34m(\u001b[0m\u001b[0;34m\"정확도 : %.4f\"\u001b[0m \u001b[0;34m%\u001b[0m \u001b[0;34m(\u001b[0m\u001b[0mmodel\u001b[0m\u001b[0;34m.\u001b[0m\u001b[0mevaluate\u001b[0m\u001b[0;34m(\u001b[0m\u001b[0mX_test\u001b[0m\u001b[0;34m,\u001b[0m \u001b[0my_test\u001b[0m\u001b[0;34m)\u001b[0m\u001b[0;34m[\u001b[0m\u001b[0;36m1\u001b[0m\u001b[0;34m]\u001b[0m\u001b[0;34m)\u001b[0m\u001b[0;34m)\u001b[0m\u001b[0;34m\u001b[0m\u001b[0;34m\u001b[0m\u001b[0m\n\u001b[0m\u001b[1;32m     29\u001b[0m \u001b[0;34m\u001b[0m\u001b[0m\n\u001b[1;32m     30\u001b[0m \u001b[0;31m# Result\u001b[0m\u001b[0;34m\u001b[0m\u001b[0;34m\u001b[0m\u001b[0;34m\u001b[0m\u001b[0m\n",
            "\u001b[0;32m/usr/local/lib/python3.7/dist-packages/tensorflow/python/keras/engine/training.py\u001b[0m in \u001b[0;36mevaluate\u001b[0;34m(self, x, y, batch_size, verbose, sample_weight, steps, callbacks, max_queue_size, workers, use_multiprocessing, return_dict)\u001b[0m\n\u001b[1;32m   1387\u001b[0m             \u001b[0;32mwith\u001b[0m \u001b[0mtrace\u001b[0m\u001b[0;34m.\u001b[0m\u001b[0mTrace\u001b[0m\u001b[0;34m(\u001b[0m\u001b[0;34m'test'\u001b[0m\u001b[0;34m,\u001b[0m \u001b[0mstep_num\u001b[0m\u001b[0;34m=\u001b[0m\u001b[0mstep\u001b[0m\u001b[0;34m,\u001b[0m \u001b[0m_r\u001b[0m\u001b[0;34m=\u001b[0m\u001b[0;36m1\u001b[0m\u001b[0;34m)\u001b[0m\u001b[0;34m:\u001b[0m\u001b[0;34m\u001b[0m\u001b[0;34m\u001b[0m\u001b[0m\n\u001b[1;32m   1388\u001b[0m               \u001b[0mcallbacks\u001b[0m\u001b[0;34m.\u001b[0m\u001b[0mon_test_batch_begin\u001b[0m\u001b[0;34m(\u001b[0m\u001b[0mstep\u001b[0m\u001b[0;34m)\u001b[0m\u001b[0;34m\u001b[0m\u001b[0;34m\u001b[0m\u001b[0m\n\u001b[0;32m-> 1389\u001b[0;31m               \u001b[0mtmp_logs\u001b[0m \u001b[0;34m=\u001b[0m \u001b[0mself\u001b[0m\u001b[0;34m.\u001b[0m\u001b[0mtest_function\u001b[0m\u001b[0;34m(\u001b[0m\u001b[0miterator\u001b[0m\u001b[0;34m)\u001b[0m\u001b[0;34m\u001b[0m\u001b[0;34m\u001b[0m\u001b[0m\n\u001b[0m\u001b[1;32m   1390\u001b[0m               \u001b[0;32mif\u001b[0m \u001b[0mdata_handler\u001b[0m\u001b[0;34m.\u001b[0m\u001b[0mshould_sync\u001b[0m\u001b[0;34m:\u001b[0m\u001b[0;34m\u001b[0m\u001b[0;34m\u001b[0m\u001b[0m\n\u001b[1;32m   1391\u001b[0m                 \u001b[0mcontext\u001b[0m\u001b[0;34m.\u001b[0m\u001b[0masync_wait\u001b[0m\u001b[0;34m(\u001b[0m\u001b[0;34m)\u001b[0m\u001b[0;34m\u001b[0m\u001b[0;34m\u001b[0m\u001b[0m\n",
            "\u001b[0;32m/usr/local/lib/python3.7/dist-packages/tensorflow/python/eager/def_function.py\u001b[0m in \u001b[0;36m__call__\u001b[0;34m(self, *args, **kwds)\u001b[0m\n\u001b[1;32m    826\u001b[0m     \u001b[0mtracing_count\u001b[0m \u001b[0;34m=\u001b[0m \u001b[0mself\u001b[0m\u001b[0;34m.\u001b[0m\u001b[0mexperimental_get_tracing_count\u001b[0m\u001b[0;34m(\u001b[0m\u001b[0;34m)\u001b[0m\u001b[0;34m\u001b[0m\u001b[0;34m\u001b[0m\u001b[0m\n\u001b[1;32m    827\u001b[0m     \u001b[0;32mwith\u001b[0m \u001b[0mtrace\u001b[0m\u001b[0;34m.\u001b[0m\u001b[0mTrace\u001b[0m\u001b[0;34m(\u001b[0m\u001b[0mself\u001b[0m\u001b[0;34m.\u001b[0m\u001b[0m_name\u001b[0m\u001b[0;34m)\u001b[0m \u001b[0;32mas\u001b[0m \u001b[0mtm\u001b[0m\u001b[0;34m:\u001b[0m\u001b[0;34m\u001b[0m\u001b[0;34m\u001b[0m\u001b[0m\n\u001b[0;32m--> 828\u001b[0;31m       \u001b[0mresult\u001b[0m \u001b[0;34m=\u001b[0m \u001b[0mself\u001b[0m\u001b[0;34m.\u001b[0m\u001b[0m_call\u001b[0m\u001b[0;34m(\u001b[0m\u001b[0;34m*\u001b[0m\u001b[0margs\u001b[0m\u001b[0;34m,\u001b[0m \u001b[0;34m**\u001b[0m\u001b[0mkwds\u001b[0m\u001b[0;34m)\u001b[0m\u001b[0;34m\u001b[0m\u001b[0;34m\u001b[0m\u001b[0m\n\u001b[0m\u001b[1;32m    829\u001b[0m       \u001b[0mcompiler\u001b[0m \u001b[0;34m=\u001b[0m \u001b[0;34m\"xla\"\u001b[0m \u001b[0;32mif\u001b[0m \u001b[0mself\u001b[0m\u001b[0;34m.\u001b[0m\u001b[0m_experimental_compile\u001b[0m \u001b[0;32melse\u001b[0m \u001b[0;34m\"nonXla\"\u001b[0m\u001b[0;34m\u001b[0m\u001b[0;34m\u001b[0m\u001b[0m\n\u001b[1;32m    830\u001b[0m       \u001b[0mnew_tracing_count\u001b[0m \u001b[0;34m=\u001b[0m \u001b[0mself\u001b[0m\u001b[0;34m.\u001b[0m\u001b[0mexperimental_get_tracing_count\u001b[0m\u001b[0;34m(\u001b[0m\u001b[0;34m)\u001b[0m\u001b[0;34m\u001b[0m\u001b[0;34m\u001b[0m\u001b[0m\n",
            "\u001b[0;32m/usr/local/lib/python3.7/dist-packages/tensorflow/python/eager/def_function.py\u001b[0m in \u001b[0;36m_call\u001b[0;34m(self, *args, **kwds)\u001b[0m\n\u001b[1;32m    860\u001b[0m       \u001b[0;31m# In this case we have not created variables on the first call. So we can\u001b[0m\u001b[0;34m\u001b[0m\u001b[0;34m\u001b[0m\u001b[0;34m\u001b[0m\u001b[0m\n\u001b[1;32m    861\u001b[0m       \u001b[0;31m# run the first trace but we should fail if variables are created.\u001b[0m\u001b[0;34m\u001b[0m\u001b[0;34m\u001b[0m\u001b[0;34m\u001b[0m\u001b[0m\n\u001b[0;32m--> 862\u001b[0;31m       \u001b[0mresults\u001b[0m \u001b[0;34m=\u001b[0m \u001b[0mself\u001b[0m\u001b[0;34m.\u001b[0m\u001b[0m_stateful_fn\u001b[0m\u001b[0;34m(\u001b[0m\u001b[0;34m*\u001b[0m\u001b[0margs\u001b[0m\u001b[0;34m,\u001b[0m \u001b[0;34m**\u001b[0m\u001b[0mkwds\u001b[0m\u001b[0;34m)\u001b[0m\u001b[0;34m\u001b[0m\u001b[0;34m\u001b[0m\u001b[0m\n\u001b[0m\u001b[1;32m    863\u001b[0m       \u001b[0;32mif\u001b[0m \u001b[0mself\u001b[0m\u001b[0;34m.\u001b[0m\u001b[0m_created_variables\u001b[0m\u001b[0;34m:\u001b[0m\u001b[0;34m\u001b[0m\u001b[0;34m\u001b[0m\u001b[0m\n\u001b[1;32m    864\u001b[0m         raise ValueError(\"Creating variables on a non-first call to a function\"\n",
            "\u001b[0;32m/usr/local/lib/python3.7/dist-packages/tensorflow/python/eager/function.py\u001b[0m in \u001b[0;36m__call__\u001b[0;34m(self, *args, **kwargs)\u001b[0m\n\u001b[1;32m   2939\u001b[0m     \u001b[0;32mwith\u001b[0m \u001b[0mself\u001b[0m\u001b[0;34m.\u001b[0m\u001b[0m_lock\u001b[0m\u001b[0;34m:\u001b[0m\u001b[0;34m\u001b[0m\u001b[0;34m\u001b[0m\u001b[0m\n\u001b[1;32m   2940\u001b[0m       (graph_function,\n\u001b[0;32m-> 2941\u001b[0;31m        filtered_flat_args) = self._maybe_define_function(args, kwargs)\n\u001b[0m\u001b[1;32m   2942\u001b[0m     return graph_function._call_flat(\n\u001b[1;32m   2943\u001b[0m         filtered_flat_args, captured_inputs=graph_function.captured_inputs)  # pylint: disable=protected-access\n",
            "\u001b[0;32m/usr/local/lib/python3.7/dist-packages/tensorflow/python/eager/function.py\u001b[0m in \u001b[0;36m_maybe_define_function\u001b[0;34m(self, args, kwargs)\u001b[0m\n\u001b[1;32m   3356\u001b[0m               call_context_key in self._function_cache.missed):\n\u001b[1;32m   3357\u001b[0m             return self._define_function_with_shape_relaxation(\n\u001b[0;32m-> 3358\u001b[0;31m                 args, kwargs, flat_args, filtered_flat_args, cache_key_context)\n\u001b[0m\u001b[1;32m   3359\u001b[0m \u001b[0;34m\u001b[0m\u001b[0m\n\u001b[1;32m   3360\u001b[0m           \u001b[0mself\u001b[0m\u001b[0;34m.\u001b[0m\u001b[0m_function_cache\u001b[0m\u001b[0;34m.\u001b[0m\u001b[0mmissed\u001b[0m\u001b[0;34m.\u001b[0m\u001b[0madd\u001b[0m\u001b[0;34m(\u001b[0m\u001b[0mcall_context_key\u001b[0m\u001b[0;34m)\u001b[0m\u001b[0;34m\u001b[0m\u001b[0;34m\u001b[0m\u001b[0m\n",
            "\u001b[0;32m/usr/local/lib/python3.7/dist-packages/tensorflow/python/eager/function.py\u001b[0m in \u001b[0;36m_define_function_with_shape_relaxation\u001b[0;34m(self, args, kwargs, flat_args, filtered_flat_args, cache_key_context)\u001b[0m\n\u001b[1;32m   3278\u001b[0m \u001b[0;34m\u001b[0m\u001b[0m\n\u001b[1;32m   3279\u001b[0m     graph_function = self._create_graph_function(\n\u001b[0;32m-> 3280\u001b[0;31m         args, kwargs, override_flat_arg_shapes=relaxed_arg_shapes)\n\u001b[0m\u001b[1;32m   3281\u001b[0m     \u001b[0mself\u001b[0m\u001b[0;34m.\u001b[0m\u001b[0m_function_cache\u001b[0m\u001b[0;34m.\u001b[0m\u001b[0marg_relaxed\u001b[0m\u001b[0;34m[\u001b[0m\u001b[0mrank_only_cache_key\u001b[0m\u001b[0;34m]\u001b[0m \u001b[0;34m=\u001b[0m \u001b[0mgraph_function\u001b[0m\u001b[0;34m\u001b[0m\u001b[0;34m\u001b[0m\u001b[0m\n\u001b[1;32m   3282\u001b[0m \u001b[0;34m\u001b[0m\u001b[0m\n",
            "\u001b[0;32m/usr/local/lib/python3.7/dist-packages/tensorflow/python/eager/function.py\u001b[0m in \u001b[0;36m_create_graph_function\u001b[0;34m(self, args, kwargs, override_flat_arg_shapes)\u001b[0m\n\u001b[1;32m   3204\u001b[0m             \u001b[0marg_names\u001b[0m\u001b[0;34m=\u001b[0m\u001b[0marg_names\u001b[0m\u001b[0;34m,\u001b[0m\u001b[0;34m\u001b[0m\u001b[0;34m\u001b[0m\u001b[0m\n\u001b[1;32m   3205\u001b[0m             \u001b[0moverride_flat_arg_shapes\u001b[0m\u001b[0;34m=\u001b[0m\u001b[0moverride_flat_arg_shapes\u001b[0m\u001b[0;34m,\u001b[0m\u001b[0;34m\u001b[0m\u001b[0;34m\u001b[0m\u001b[0m\n\u001b[0;32m-> 3206\u001b[0;31m             capture_by_value=self._capture_by_value),\n\u001b[0m\u001b[1;32m   3207\u001b[0m         \u001b[0mself\u001b[0m\u001b[0;34m.\u001b[0m\u001b[0m_function_attributes\u001b[0m\u001b[0;34m,\u001b[0m\u001b[0;34m\u001b[0m\u001b[0;34m\u001b[0m\u001b[0m\n\u001b[1;32m   3208\u001b[0m         \u001b[0mfunction_spec\u001b[0m\u001b[0;34m=\u001b[0m\u001b[0mself\u001b[0m\u001b[0;34m.\u001b[0m\u001b[0mfunction_spec\u001b[0m\u001b[0;34m,\u001b[0m\u001b[0;34m\u001b[0m\u001b[0;34m\u001b[0m\u001b[0m\n",
            "\u001b[0;32m/usr/local/lib/python3.7/dist-packages/tensorflow/python/framework/func_graph.py\u001b[0m in \u001b[0;36mfunc_graph_from_py_func\u001b[0;34m(name, python_func, args, kwargs, signature, func_graph, autograph, autograph_options, add_control_dependencies, arg_names, op_return_value, collections, capture_by_value, override_flat_arg_shapes)\u001b[0m\n\u001b[1;32m    988\u001b[0m         \u001b[0m_\u001b[0m\u001b[0;34m,\u001b[0m \u001b[0moriginal_func\u001b[0m \u001b[0;34m=\u001b[0m \u001b[0mtf_decorator\u001b[0m\u001b[0;34m.\u001b[0m\u001b[0munwrap\u001b[0m\u001b[0;34m(\u001b[0m\u001b[0mpython_func\u001b[0m\u001b[0;34m)\u001b[0m\u001b[0;34m\u001b[0m\u001b[0;34m\u001b[0m\u001b[0m\n\u001b[1;32m    989\u001b[0m \u001b[0;34m\u001b[0m\u001b[0m\n\u001b[0;32m--> 990\u001b[0;31m       \u001b[0mfunc_outputs\u001b[0m \u001b[0;34m=\u001b[0m \u001b[0mpython_func\u001b[0m\u001b[0;34m(\u001b[0m\u001b[0;34m*\u001b[0m\u001b[0mfunc_args\u001b[0m\u001b[0;34m,\u001b[0m \u001b[0;34m**\u001b[0m\u001b[0mfunc_kwargs\u001b[0m\u001b[0;34m)\u001b[0m\u001b[0;34m\u001b[0m\u001b[0;34m\u001b[0m\u001b[0m\n\u001b[0m\u001b[1;32m    991\u001b[0m \u001b[0;34m\u001b[0m\u001b[0m\n\u001b[1;32m    992\u001b[0m       \u001b[0;31m# invariant: `func_outputs` contains only Tensors, CompositeTensors,\u001b[0m\u001b[0;34m\u001b[0m\u001b[0;34m\u001b[0m\u001b[0;34m\u001b[0m\u001b[0m\n",
            "\u001b[0;32m/usr/local/lib/python3.7/dist-packages/tensorflow/python/eager/def_function.py\u001b[0m in \u001b[0;36mwrapped_fn\u001b[0;34m(*args, **kwds)\u001b[0m\n\u001b[1;32m    632\u001b[0m             \u001b[0mxla_context\u001b[0m\u001b[0;34m.\u001b[0m\u001b[0mExit\u001b[0m\u001b[0;34m(\u001b[0m\u001b[0;34m)\u001b[0m\u001b[0;34m\u001b[0m\u001b[0;34m\u001b[0m\u001b[0m\n\u001b[1;32m    633\u001b[0m         \u001b[0;32melse\u001b[0m\u001b[0;34m:\u001b[0m\u001b[0;34m\u001b[0m\u001b[0;34m\u001b[0m\u001b[0m\n\u001b[0;32m--> 634\u001b[0;31m           \u001b[0mout\u001b[0m \u001b[0;34m=\u001b[0m \u001b[0mweak_wrapped_fn\u001b[0m\u001b[0;34m(\u001b[0m\u001b[0;34m)\u001b[0m\u001b[0;34m.\u001b[0m\u001b[0m__wrapped__\u001b[0m\u001b[0;34m(\u001b[0m\u001b[0;34m*\u001b[0m\u001b[0margs\u001b[0m\u001b[0;34m,\u001b[0m \u001b[0;34m**\u001b[0m\u001b[0mkwds\u001b[0m\u001b[0;34m)\u001b[0m\u001b[0;34m\u001b[0m\u001b[0;34m\u001b[0m\u001b[0m\n\u001b[0m\u001b[1;32m    635\u001b[0m         \u001b[0;32mreturn\u001b[0m \u001b[0mout\u001b[0m\u001b[0;34m\u001b[0m\u001b[0;34m\u001b[0m\u001b[0m\n\u001b[1;32m    636\u001b[0m \u001b[0;34m\u001b[0m\u001b[0m\n",
            "\u001b[0;32m/usr/local/lib/python3.7/dist-packages/tensorflow/python/framework/func_graph.py\u001b[0m in \u001b[0;36mwrapper\u001b[0;34m(*args, **kwargs)\u001b[0m\n\u001b[1;32m    975\u001b[0m           \u001b[0;32mexcept\u001b[0m \u001b[0mException\u001b[0m \u001b[0;32mas\u001b[0m \u001b[0me\u001b[0m\u001b[0;34m:\u001b[0m  \u001b[0;31m# pylint:disable=broad-except\u001b[0m\u001b[0;34m\u001b[0m\u001b[0;34m\u001b[0m\u001b[0m\n\u001b[1;32m    976\u001b[0m             \u001b[0;32mif\u001b[0m \u001b[0mhasattr\u001b[0m\u001b[0;34m(\u001b[0m\u001b[0me\u001b[0m\u001b[0;34m,\u001b[0m \u001b[0;34m\"ag_error_metadata\"\u001b[0m\u001b[0;34m)\u001b[0m\u001b[0;34m:\u001b[0m\u001b[0;34m\u001b[0m\u001b[0;34m\u001b[0m\u001b[0m\n\u001b[0;32m--> 977\u001b[0;31m               \u001b[0;32mraise\u001b[0m \u001b[0me\u001b[0m\u001b[0;34m.\u001b[0m\u001b[0mag_error_metadata\u001b[0m\u001b[0;34m.\u001b[0m\u001b[0mto_exception\u001b[0m\u001b[0;34m(\u001b[0m\u001b[0me\u001b[0m\u001b[0;34m)\u001b[0m\u001b[0;34m\u001b[0m\u001b[0;34m\u001b[0m\u001b[0m\n\u001b[0m\u001b[1;32m    978\u001b[0m             \u001b[0;32melse\u001b[0m\u001b[0;34m:\u001b[0m\u001b[0;34m\u001b[0m\u001b[0;34m\u001b[0m\u001b[0m\n\u001b[1;32m    979\u001b[0m               \u001b[0;32mraise\u001b[0m\u001b[0;34m\u001b[0m\u001b[0;34m\u001b[0m\u001b[0m\n",
            "\u001b[0;31mValueError\u001b[0m: in user code:\n\n    /usr/local/lib/python3.7/dist-packages/tensorflow/python/keras/engine/training.py:1233 test_function  *\n        return step_function(self, iterator)\n    /usr/local/lib/python3.7/dist-packages/tensorflow/python/keras/engine/training.py:1224 step_function  **\n        outputs = model.distribute_strategy.run(run_step, args=(data,))\n    /usr/local/lib/python3.7/dist-packages/tensorflow/python/distribute/distribute_lib.py:1259 run\n        return self._extended.call_for_each_replica(fn, args=args, kwargs=kwargs)\n    /usr/local/lib/python3.7/dist-packages/tensorflow/python/distribute/distribute_lib.py:2730 call_for_each_replica\n        return self._call_for_each_replica(fn, args, kwargs)\n    /usr/local/lib/python3.7/dist-packages/tensorflow/python/distribute/distribute_lib.py:3417 _call_for_each_replica\n        return fn(*args, **kwargs)\n    /usr/local/lib/python3.7/dist-packages/tensorflow/python/keras/engine/training.py:1217 run_step  **\n        outputs = model.test_step(data)\n    /usr/local/lib/python3.7/dist-packages/tensorflow/python/keras/engine/training.py:1186 test_step\n        y, y_pred, sample_weight, regularization_losses=self.losses)\n    /usr/local/lib/python3.7/dist-packages/tensorflow/python/keras/engine/compile_utils.py:203 __call__\n        loss_value = loss_obj(y_t, y_p, sample_weight=sw)\n    /usr/local/lib/python3.7/dist-packages/tensorflow/python/keras/losses.py:152 __call__\n        losses = call_fn(y_true, y_pred)\n    /usr/local/lib/python3.7/dist-packages/tensorflow/python/keras/losses.py:256 call  **\n        return ag_fn(y_true, y_pred, **self._fn_kwargs)\n    /usr/local/lib/python3.7/dist-packages/tensorflow/python/util/dispatch.py:201 wrapper\n        return target(*args, **kwargs)\n    /usr/local/lib/python3.7/dist-packages/tensorflow/python/keras/losses.py:1537 categorical_crossentropy\n        return K.categorical_crossentropy(y_true, y_pred, from_logits=from_logits)\n    /usr/local/lib/python3.7/dist-packages/tensorflow/python/util/dispatch.py:201 wrapper\n        return target(*args, **kwargs)\n    /usr/local/lib/python3.7/dist-packages/tensorflow/python/keras/backend.py:4833 categorical_crossentropy\n        target.shape.assert_is_compatible_with(output.shape)\n    /usr/local/lib/python3.7/dist-packages/tensorflow/python/framework/tensor_shape.py:1134 assert_is_compatible_with\n        raise ValueError(\"Shapes %s and %s are incompatible\" % (self, other))\n\n    ValueError: Shapes (None, 1) and (None, 4) are incompatible\n"
          ]
        }
      ]
    },
    {
      "cell_type": "code",
      "metadata": {
        "colab": {
          "base_uri": "https://localhost:8080/",
          "height": 840
        },
        "id": "03EgVD9bI03A",
        "outputId": "22b2069a-3dc2-4a72-cde1-ed0959b17621"
      },
      "source": [
        "## summarize history for accuracy\n",
        "plt.plot(history.history['accuracy'])\n",
        "plt.plot(history.history['val_accuracy'])\n",
        "plt.title('model accuracy')\n",
        "plt.ylabel('accuracy')\n",
        "plt.xlabel('epoch')\n",
        "plt.legend(['train', 'test'], loc='upper left')\n",
        "plt.show()\n",
        "## summarize history for loss\n",
        "plt.plot(history.history['loss'])\n",
        "plt.plot(history.history['val_loss'])\n",
        "plt.title('model loss')\n",
        "plt.ylabel('loss')\n",
        "plt.xlabel('epoch')\n",
        "plt.legend(['train', 'test'], loc='upper left')\n",
        "plt.show()\n",
        "\n",
        "predictions = model.predict(X_test)\n",
        "print('result: ',np.argmax(predictions[0]))\n",
        "print('actual result: ', y_test[0])\n",
        "\n",
        "# Evaluation of model\n",
        "y_pred = model.predict(X_test)\n",
        "y_pred = np.argmax(y_pred, axis=1)\n",
        "y_test = np.argmax(y_test, axis=1)\n",
        "#print('y_test: ', y_test)\n",
        "print('report\\n')\n",
        "print(classification_report(y_test, y_pred))\n"
      ],
      "execution_count": 47,
      "outputs": [
        {
          "output_type": "display_data",
          "data": {
            "image/png": "[encoded data removed]",
            "text/plain": [
              "<Figure size 432x288 with 1 Axes>"
            ]
          },
          "metadata": {
            "tags": [],
            "needs_background": "light"
          }
        },
        {
          "output_type": "display_data",
          "data": {
            "image/png": "[encoded data removed]",
            "text/plain": [
              "<Figure size 432x288 with 1 Axes>"
            ]
          },
          "metadata": {
            "tags": [],
            "needs_background": "light"
          }
        },
        {
          "output_type": "stream",
          "text": [
            "result:  0\n",
            "actual result:  [1 0 0 0]\n",
            "report\n",
            "\n",
            "              precision    recall  f1-score   support\n",
            "\n",
            "           0       0.48      0.64      0.55        36\n",
            "           1       0.00      0.00      0.00        17\n",
            "           2       0.13      0.14      0.13        49\n",
            "           3       0.05      0.04      0.04        46\n",
            "\n",
            "    accuracy                           0.22       148\n",
            "   macro avg       0.16      0.21      0.18       148\n",
            "weighted avg       0.17      0.22      0.19       148\n",
            "\n"
          ],
          "name": "stdout"
        }
      ]
    },
    {
      "cell_type": "code",
      "metadata": {
        "colab": {
          "base_uri": "https://localhost:8080/"
        },
        "id": "SgizBH-H74Rl",
        "outputId": "2431a9f7-cb11-4132-89e1-c414b2fdabf5"
      },
      "source": [
        "# Confusion Matrix\n",
        "#y_true = [1,0,0,0]\n",
        "cm = confusion_matrix(y_test, y_pred) \n",
        "print('confusion matrix: ', cm)"
      ],
      "execution_count": null,
      "outputs": [
        {
          "output_type": "stream",
          "text": [
            "confusion matrix:  [[23  0 13  0]\n",
            " [ 4  0 13  0]\n",
            " [13  0 31  5]\n",
            " [ 8  0 37  1]]\n"
          ],
          "name": "stdout"
        }
      ]
    }
  ]
}