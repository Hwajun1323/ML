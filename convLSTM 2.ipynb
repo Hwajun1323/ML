{
  "nbformat": 4,
  "nbformat_minor": 0,
  "metadata": {
    "colab": {
      "name": "convLSTM.ipynb",
      "provenance": [],
      "collapsed_sections": [],
      "machine_shape": "hm",
      "mount_file_id": "1XnAaPpzTOwHYzrEg_H0alWQisudlbZ3V",
      "authorship_tag": "ABX9TyPlXUmmYD6WIc3sZLO/27eT",
      "include_colab_link": true
    },
    "kernelspec": {
      "name": "python3",
      "display_name": "Python 3"
    },
    "language_info": {
      "name": "python"
    },
    "accelerator": "GPU"
  },
  "cells": [
    {
      "cell_type": "markdown",
      "metadata": {
        "id": "view-in-github",
        "colab_type": "text"
      },
      "source": [
        "<a href=\"https://colab.research.google.com/github/Hwajun1323/ML/blob/master/convLSTM%202.ipynb\" target=\"_parent\"><img src=\"https://colab.research.google.com/assets/colab-badge.svg\" alt=\"Open In Colab\"/></a>"
      ]
    },
    {
      "cell_type": "code",
      "metadata": {
        "id": "-lJjS99is-Fw",
        "colab": {
          "base_uri": "https://localhost:8080/"
        },
        "outputId": "a9d83fe8-6ca2-4d8b-b6c3-edb6fbe39937"
      },
      "source": [
        "pip install keras-metrics"
      ],
      "execution_count": 19,
      "outputs": [
        {
          "output_type": "stream",
          "text": [
            "Requirement already satisfied: keras-metrics in /usr/local/lib/python3.7/dist-packages (1.1.0)\n",
            "Requirement already satisfied: Keras>=2.1.5 in /usr/local/lib/python3.7/dist-packages (from keras-metrics) (2.4.3)\n",
            "Requirement already satisfied: h5py in /usr/local/lib/python3.7/dist-packages (from Keras>=2.1.5->keras-metrics) (2.10.0)\n",
            "Requirement already satisfied: pyyaml in /usr/local/lib/python3.7/dist-packages (from Keras>=2.1.5->keras-metrics) (3.13)\n",
            "Requirement already satisfied: scipy>=0.14 in /usr/local/lib/python3.7/dist-packages (from Keras>=2.1.5->keras-metrics) (1.4.1)\n",
            "Requirement already satisfied: numpy>=1.9.1 in /usr/local/lib/python3.7/dist-packages (from Keras>=2.1.5->keras-metrics) (1.19.5)\n",
            "Requirement already satisfied: six in /usr/local/lib/python3.7/dist-packages (from h5py->Keras>=2.1.5->keras-metrics) (1.15.0)\n"
          ],
          "name": "stdout"
        }
      ]
    },
    {
      "cell_type": "code",
      "metadata": {
        "id": "GQ0gCXmlfZX8"
      },
      "source": [
        "import keras\n",
        "from keras import applications\n",
        "from keras.preprocessing.image import ImageDataGenerator\n",
        "from keras import optimizers\n",
        "from keras.models import Sequential, Model\n",
        "from keras.layers import *\n",
        "from keras.callbacks import ModelCheckpoint, LearningRateScheduler, TensorBoard, EarlyStopping\n",
        "\n",
        "import os\n",
        "import cv2\n",
        "import numpy as np\n",
        "from sklearn.model_selection import train_test_split\n",
        "from sklearn.model_selection import cross_val_score , cross_validate\n",
        "import keras_metrics as km\n",
        "\n",
        "from sklearn.metrics import accuracy_score\n",
        "from sklearn.metrics import precision_score\n",
        "from sklearn.metrics import recall_score\n",
        "from sklearn.metrics import f1_score\n",
        "from sklearn.metrics import cohen_kappa_score\n",
        "from sklearn.metrics import roc_auc_score\n",
        "from sklearn.metrics import multilabel_confusion_matrix\n",
        "from sklearn.metrics import classification_report\n",
        "from sklearn.metrics import confusion_matrix\n",
        "\n",
        "import matplotlib.pyplot as plt"
      ],
      "execution_count": 20,
      "outputs": []
    },
    {
      "cell_type": "code",
      "metadata": {
        "id": "CiVFsiIWffUd",
        "colab": {
          "base_uri": "https://localhost:8080/"
        },
        "outputId": "b3f6d8a8-405f-4e11-d051-e641ea7e89b3"
      },
      "source": [
        "data_dir = \"/content/drive/My Drive/dataset/video_data\"\n",
        "#data_dir = \"video_data/\"\n",
        "img_height, img_width = 64, 64\n",
        "seq_len = 70\n",
        "\n",
        "classes = [\"Child's room\",  \"Museum\", \"Office\", \"Restaurant\"]\n",
        "num_classes = len(classes)\n",
        "print(\"Number of Class: \", num_classes)\n",
        "\n",
        "#  Creating frames from videos\n",
        "\n",
        "def frames_extraction(video_path):\n",
        "    frames_list = []\n",
        "\n",
        "    vidObj = cv2.VideoCapture(video_path)\n",
        "    # Used as counter variable\n",
        "    count = 1\n",
        "\n",
        "    while count <= seq_len:\n",
        "        success, image = vidObj.read()\n",
        "        if success:\n",
        "            image = cv2.resize(image, (img_height, img_width))\n",
        "            frames_list.append(image)\n",
        "            count += 1\n",
        "        else:\n",
        "            print(\"Defected frame\")\n",
        "            break\n",
        "\n",
        "    return frames_list\n",
        "\n",
        "# Create the actual data from the sequence of images\n",
        "\n",
        "def create_data(input_dir):\n",
        "    X = []\n",
        "    Y = []\n",
        "\n",
        "    classes_list = os.listdir(input_dir)\n",
        "\n",
        "    for c in classes_list:\n",
        "        print(c)\n",
        "        files_list = os.listdir(os.path.join(input_dir, c))\n",
        "        for f in files_list:\n",
        "            frames = frames_extraction(os.path.join(os.path.join(input_dir, c), f))\n",
        "            if len(frames) == seq_len:\n",
        "                X.append(frames)\n",
        "\n",
        "                y = [0] * len(classes)\n",
        "                y[classes.index(c)] = 1\n",
        "                Y.append(y)\n",
        "\n",
        "    X = np.asarray(X)\n",
        "    Y = np.asarray(Y)\n",
        "    \n",
        "    return X, Y"
      ],
      "execution_count": 22,
      "outputs": [
        {
          "output_type": "stream",
          "text": [
            "Number of Class:  4\n"
          ],
          "name": "stdout"
        }
      ]
    },
    {
      "cell_type": "code",
      "metadata": {
        "id": "G6nClQdnRTwb",
        "colab": {
          "base_uri": "https://localhost:8080/"
        },
        "outputId": "16c53c54-11d8-4c95-bfe1-7a89abcb8cc1"
      },
      "source": [
        "X, Y = create_data(data_dir)\n",
        "\n",
        "X_train, X_test, y_train, y_test = train_test_split(X, Y, test_size=0.20, shuffle=True, random_state=0)\n",
        "\n",
        "print(X_train.shape)\n",
        "print(X_test.shape)\n",
        "print(y_train.shape)\n",
        "print(y_test.shape)\n"
      ],
      "execution_count": 23,
      "outputs": [
        {
          "output_type": "stream",
          "text": [
            "Child's room\n",
            "Restaurant\n",
            "Office\n",
            "Defected frame\n",
            "Defected frame\n",
            "Museum\n",
            "(816, 70, 64, 64, 3)\n",
            "(205, 70, 64, 64, 3)\n",
            "(816, 4)\n",
            "(205, 4)\n"
          ],
          "name": "stdout"
        }
      ]
    },
    {
      "cell_type": "code",
      "metadata": {
        "colab": {
          "base_uri": "https://localhost:8080/"
        },
        "id": "h_v-9iPAIv_E",
        "outputId": "bcb634f3-0ef9-411c-bc77-b89fbe398021"
      },
      "source": [
        "model = Sequential()\n",
        "\n",
        "model.add(ConvLSTM2D(filters=64, kernel_size=(3, 3), return_sequences=False, data_format=\"channels_last\", input_shape=(seq_len, img_height, img_width, 3)))\n",
        "model.add(Dropout(0.2))\n",
        "\n",
        "#model.add(BatchNormalization())\n",
        "#model.add(MaxPooling2D(pool_size = (2, 2)))\n",
        "#model.add(GlobalAveragePooling2D())\n",
        "\n",
        "model.add(Flatten())\n",
        "model.add(Dense(256, activation=\"relu\"))\n",
        "model.add(Dropout(0.3))\n",
        "model.add(Dense(256, activation=\"relu\"))\n",
        "model.add(Dropout(0.3))\n",
        "model.add(Dense(128, activation=\"relu\"))\n",
        "model.add(Dropout(0.3))\n",
        "model.add(Dense(num_classes, activation=\"softmax\"))\n",
        "\n",
        "model.summary()\n",
        "\n",
        "#opt = keras.optimizers.Adam(lr=0.001, beta_1=0.9, beta_2=0.999, epsilon=None, decay=0.0, amsgrad=False)\n",
        "#opt = keras.optimizers.SGD(lr=0.001)\n",
        "opt = keras.optimizers.SGD(lr=0.001, momentum=0.9)\n",
        "#opt = keras.optimizers.SGD(lr=0.1, momentum=0.9, nesterov=True)\n",
        "#opt = keras.optimizers.Adagrad(lr=0.01, epsilon=1e-6)\n",
        "#opt = keras.optimizers.Adadelta(lr=1.0, rho=0.95, epsilon=None, decay=0.0)\n",
        "\n",
        "model.compile(loss='categorical_crossentropy', optimizer=opt, metrics=[\"accuracy\"])\n",
        "\n",
        "earlystop = EarlyStopping(patience=7)\n",
        "callbacks = [earlystop]\n",
        "\n",
        "#history = model.fit(x=X_train, y=y_train, epochs=40, batch_size=8, shuffle=True, validation_split=0.2, callbacks=callbacks)\n",
        "history = model.fit(x=X_train, y=y_train, epochs=60, batch_size=10, shuffle=True, validation_split=0.2)\n",
        "print(\"Accuracy : %.4f\" % (model.evaluate(X_test, y_test)[1]))\n",
        "\n",
        "#scores = cross_val_score(history, X_train, y_train, cv=3)\n",
        "#print('cross validation check accuracy:',np.round(scores, 4))\n",
        "#print('mean check accuracy', np.round(np.mean(scores), 4))\n",
        "\n",
        "# Result\n",
        "loss, acc = model.evaluate(X_test, y_test)\n",
        "print(model.evaluate(X_test, y_test))"
      ],
      "execution_count": 25,
      "outputs": [
        {
          "output_type": "stream",
          "text": [
            "Model: \"sequential_1\"\n",
            "_________________________________________________________________\n",
            "Layer (type)                 Output Shape              Param #   \n",
            "=================================================================\n",
            "conv_lst_m2d_1 (ConvLSTM2D)  (None, 62, 62, 64)        154624    \n",
            "_________________________________________________________________\n",
            "dropout_4 (Dropout)          (None, 62, 62, 64)        0         \n",
            "_________________________________________________________________\n",
            "flatten_1 (Flatten)          (None, 246016)            0         \n",
            "_________________________________________________________________\n",
            "dense_4 (Dense)              (None, 256)               62980352  \n",
            "_________________________________________________________________\n",
            "dropout_5 (Dropout)          (None, 256)               0         \n",
            "_________________________________________________________________\n",
            "dense_5 (Dense)              (None, 256)               65792     \n",
            "_________________________________________________________________\n",
            "dropout_6 (Dropout)          (None, 256)               0         \n",
            "_________________________________________________________________\n",
            "dense_6 (Dense)              (None, 128)               32896     \n",
            "_________________________________________________________________\n",
            "dropout_7 (Dropout)          (None, 128)               0         \n",
            "_________________________________________________________________\n",
            "dense_7 (Dense)              (None, 4)                 516       \n",
            "=================================================================\n",
            "Total params: 63,234,180\n",
            "Trainable params: 63,234,180\n",
            "Non-trainable params: 0\n",
            "_________________________________________________________________\n",
            "Epoch 1/60\n",
            "66/66 [==============================] - 34s 479ms/step - loss: 1.6463 - accuracy: 0.3392 - val_loss: 1.3611 - val_accuracy: 0.3537\n",
            "Epoch 2/60\n",
            "66/66 [==============================] - 31s 466ms/step - loss: 1.4811 - accuracy: 0.3068 - val_loss: 1.3634 - val_accuracy: 0.3598\n",
            "Epoch 3/60\n",
            "66/66 [==============================] - 31s 464ms/step - loss: 1.3455 - accuracy: 0.3926 - val_loss: 1.3642 - val_accuracy: 0.3598\n",
            "Epoch 4/60\n",
            "66/66 [==============================] - 31s 467ms/step - loss: 1.3612 - accuracy: 0.3561 - val_loss: 1.3641 - val_accuracy: 0.3598\n",
            "Epoch 5/60\n",
            "66/66 [==============================] - 31s 472ms/step - loss: 1.3486 - accuracy: 0.4077 - val_loss: 1.3591 - val_accuracy: 0.3598\n",
            "Epoch 6/60\n",
            "66/66 [==============================] - 31s 464ms/step - loss: 1.3194 - accuracy: 0.4359 - val_loss: 1.3576 - val_accuracy: 0.3598\n",
            "Epoch 7/60\n",
            "66/66 [==============================] - 30s 460ms/step - loss: 1.3474 - accuracy: 0.4082 - val_loss: 1.3401 - val_accuracy: 0.3598\n",
            "Epoch 8/60\n",
            "66/66 [==============================] - 30s 460ms/step - loss: 1.3391 - accuracy: 0.3779 - val_loss: 1.3396 - val_accuracy: 0.3598\n",
            "Epoch 9/60\n",
            "66/66 [==============================] - 30s 461ms/step - loss: 1.3336 - accuracy: 0.3853 - val_loss: 1.3433 - val_accuracy: 0.3598\n",
            "Epoch 10/60\n",
            "66/66 [==============================] - 30s 461ms/step - loss: 1.3040 - accuracy: 0.4315 - val_loss: 1.3392 - val_accuracy: 0.3598\n",
            "Epoch 11/60\n",
            "66/66 [==============================] - 31s 463ms/step - loss: 1.3055 - accuracy: 0.4075 - val_loss: 1.3304 - val_accuracy: 0.3598\n",
            "Epoch 12/60\n",
            "66/66 [==============================] - 30s 462ms/step - loss: 1.3029 - accuracy: 0.4230 - val_loss: 1.3536 - val_accuracy: 0.3598\n",
            "Epoch 13/60\n",
            "66/66 [==============================] - 31s 465ms/step - loss: 1.3291 - accuracy: 0.4193 - val_loss: 1.3742 - val_accuracy: 0.3598\n",
            "Epoch 14/60\n",
            "66/66 [==============================] - 31s 464ms/step - loss: 1.3114 - accuracy: 0.3864 - val_loss: 1.3445 - val_accuracy: 0.3537\n",
            "Epoch 15/60\n",
            "66/66 [==============================] - 31s 464ms/step - loss: 1.3533 - accuracy: 0.3595 - val_loss: 1.3343 - val_accuracy: 0.3598\n",
            "Epoch 16/60\n",
            "66/66 [==============================] - 30s 462ms/step - loss: 1.2874 - accuracy: 0.4084 - val_loss: 1.3136 - val_accuracy: 0.3598\n",
            "Epoch 17/60\n",
            "66/66 [==============================] - 31s 465ms/step - loss: 1.2558 - accuracy: 0.4364 - val_loss: 1.3338 - val_accuracy: 0.3720\n",
            "Epoch 18/60\n",
            "66/66 [==============================] - 31s 467ms/step - loss: 1.2844 - accuracy: 0.3977 - val_loss: 1.3491 - val_accuracy: 0.3598\n",
            "Epoch 19/60\n",
            "66/66 [==============================] - 31s 467ms/step - loss: 1.2631 - accuracy: 0.4129 - val_loss: 1.3089 - val_accuracy: 0.3476\n",
            "Epoch 20/60\n",
            "66/66 [==============================] - 31s 465ms/step - loss: 1.2413 - accuracy: 0.4237 - val_loss: 1.3184 - val_accuracy: 0.3476\n",
            "Epoch 21/60\n",
            "66/66 [==============================] - 31s 464ms/step - loss: 1.2461 - accuracy: 0.3984 - val_loss: 1.4136 - val_accuracy: 0.3476\n",
            "Epoch 22/60\n",
            "66/66 [==============================] - 31s 468ms/step - loss: 1.2374 - accuracy: 0.4290 - val_loss: 1.3067 - val_accuracy: 0.3476\n",
            "Epoch 23/60\n",
            "66/66 [==============================] - 31s 471ms/step - loss: 1.2514 - accuracy: 0.4176 - val_loss: 1.2954 - val_accuracy: 0.3537\n",
            "Epoch 24/60\n",
            "66/66 [==============================] - 31s 463ms/step - loss: 1.3537 - accuracy: 0.3299 - val_loss: 1.3073 - val_accuracy: 0.3963\n",
            "Epoch 25/60\n",
            "66/66 [==============================] - 31s 466ms/step - loss: 1.1763 - accuracy: 0.4557 - val_loss: 1.3085 - val_accuracy: 0.3476\n",
            "Epoch 26/60\n",
            "66/66 [==============================] - 31s 467ms/step - loss: 1.2879 - accuracy: 0.3969 - val_loss: 1.2972 - val_accuracy: 0.3476\n",
            "Epoch 27/60\n",
            "66/66 [==============================] - 31s 466ms/step - loss: 1.1750 - accuracy: 0.4439 - val_loss: 1.3131 - val_accuracy: 0.3354\n",
            "Epoch 28/60\n",
            "66/66 [==============================] - 31s 471ms/step - loss: 1.1563 - accuracy: 0.4587 - val_loss: 1.2710 - val_accuracy: 0.3476\n",
            "Epoch 29/60\n",
            "66/66 [==============================] - 31s 473ms/step - loss: 1.0189 - accuracy: 0.5268 - val_loss: 1.2938 - val_accuracy: 0.3293\n",
            "Epoch 30/60\n",
            "66/66 [==============================] - 31s 470ms/step - loss: 0.9885 - accuracy: 0.5749 - val_loss: 1.3566 - val_accuracy: 0.3659\n",
            "Epoch 31/60\n",
            "66/66 [==============================] - 31s 466ms/step - loss: 0.8520 - accuracy: 0.6416 - val_loss: 1.3346 - val_accuracy: 0.3598\n",
            "Epoch 32/60\n",
            "66/66 [==============================] - 30s 463ms/step - loss: 0.7895 - accuracy: 0.6716 - val_loss: 1.4059 - val_accuracy: 0.3720\n",
            "Epoch 33/60\n",
            "66/66 [==============================] - 30s 460ms/step - loss: 0.6932 - accuracy: 0.7111 - val_loss: 1.4802 - val_accuracy: 0.3415\n",
            "Epoch 34/60\n",
            "66/66 [==============================] - 30s 460ms/step - loss: 0.5959 - accuracy: 0.7502 - val_loss: 1.4453 - val_accuracy: 0.3537\n",
            "Epoch 35/60\n",
            "66/66 [==============================] - 30s 460ms/step - loss: 0.5483 - accuracy: 0.7846 - val_loss: 1.6894 - val_accuracy: 0.2988\n",
            "Epoch 36/60\n",
            "66/66 [==============================] - 30s 459ms/step - loss: 0.5407 - accuracy: 0.7430 - val_loss: 1.8696 - val_accuracy: 0.3171\n",
            "Epoch 37/60\n",
            "66/66 [==============================] - 31s 464ms/step - loss: 0.4989 - accuracy: 0.7823 - val_loss: 1.5673 - val_accuracy: 0.2988\n",
            "Epoch 38/60\n",
            "66/66 [==============================] - 30s 460ms/step - loss: 0.4838 - accuracy: 0.7906 - val_loss: 1.9856 - val_accuracy: 0.3293\n",
            "Epoch 39/60\n",
            "66/66 [==============================] - 30s 461ms/step - loss: 0.4105 - accuracy: 0.8087 - val_loss: 1.5311 - val_accuracy: 0.3171\n",
            "Epoch 40/60\n",
            "66/66 [==============================] - 31s 469ms/step - loss: 0.4357 - accuracy: 0.7837 - val_loss: 1.5578 - val_accuracy: 0.3049\n",
            "Epoch 41/60\n",
            "66/66 [==============================] - 31s 469ms/step - loss: 0.4971 - accuracy: 0.7829 - val_loss: 1.8706 - val_accuracy: 0.3232\n",
            "Epoch 42/60\n",
            "66/66 [==============================] - 31s 466ms/step - loss: 0.5064 - accuracy: 0.7729 - val_loss: 1.6054 - val_accuracy: 0.2500\n",
            "Epoch 43/60\n",
            "66/66 [==============================] - 31s 466ms/step - loss: 0.5730 - accuracy: 0.7712 - val_loss: 1.6101 - val_accuracy: 0.2622\n",
            "Epoch 44/60\n",
            "66/66 [==============================] - 31s 464ms/step - loss: 0.5527 - accuracy: 0.7951 - val_loss: 1.7926 - val_accuracy: 0.2561\n",
            "Epoch 45/60\n",
            "66/66 [==============================] - 30s 460ms/step - loss: 0.4468 - accuracy: 0.7883 - val_loss: 2.0042 - val_accuracy: 0.2561\n",
            "Epoch 46/60\n",
            "66/66 [==============================] - 30s 461ms/step - loss: 0.3869 - accuracy: 0.8062 - val_loss: 2.1525 - val_accuracy: 0.1951\n",
            "Epoch 47/60\n",
            "66/66 [==============================] - 30s 461ms/step - loss: 0.3502 - accuracy: 0.8198 - val_loss: 1.8860 - val_accuracy: 0.2622\n",
            "Epoch 48/60\n",
            "66/66 [==============================] - 31s 467ms/step - loss: 0.3947 - accuracy: 0.8222 - val_loss: 2.1922 - val_accuracy: 0.2439\n",
            "Epoch 49/60\n",
            "66/66 [==============================] - 31s 467ms/step - loss: 0.3440 - accuracy: 0.8439 - val_loss: 1.9330 - val_accuracy: 0.2744\n",
            "Epoch 50/60\n",
            "66/66 [==============================] - 31s 464ms/step - loss: 0.3203 - accuracy: 0.8707 - val_loss: 2.7368 - val_accuracy: 0.2439\n",
            "Epoch 51/60\n",
            "66/66 [==============================] - 30s 462ms/step - loss: 0.3185 - accuracy: 0.8392 - val_loss: 2.1997 - val_accuracy: 0.2378\n",
            "Epoch 52/60\n",
            "66/66 [==============================] - 30s 461ms/step - loss: 0.2993 - accuracy: 0.8462 - val_loss: 2.3061 - val_accuracy: 0.2378\n",
            "Epoch 53/60\n",
            "66/66 [==============================] - 31s 463ms/step - loss: 0.2924 - accuracy: 0.8429 - val_loss: 2.4443 - val_accuracy: 0.2256\n",
            "Epoch 54/60\n",
            "66/66 [==============================] - 31s 467ms/step - loss: 0.2727 - accuracy: 0.8675 - val_loss: 2.4574 - val_accuracy: 0.2134\n",
            "Epoch 55/60\n",
            "66/66 [==============================] - 31s 467ms/step - loss: 0.3076 - accuracy: 0.8363 - val_loss: 2.6080 - val_accuracy: 0.2439\n",
            "Epoch 56/60\n",
            "66/66 [==============================] - 31s 464ms/step - loss: 0.3082 - accuracy: 0.8451 - val_loss: 2.5760 - val_accuracy: 0.2256\n",
            "Epoch 57/60\n",
            "66/66 [==============================] - 31s 466ms/step - loss: 0.2993 - accuracy: 0.8215 - val_loss: 2.9122 - val_accuracy: 0.2500\n",
            "Epoch 58/60\n",
            "66/66 [==============================] - 31s 465ms/step - loss: 0.2820 - accuracy: 0.8333 - val_loss: 2.7498 - val_accuracy: 0.2378\n",
            "Epoch 59/60\n",
            "66/66 [==============================] - 31s 464ms/step - loss: 0.2732 - accuracy: 0.8616 - val_loss: 2.6610 - val_accuracy: 0.2927\n",
            "Epoch 60/60\n",
            "66/66 [==============================] - 31s 464ms/step - loss: 0.2851 - accuracy: 0.8411 - val_loss: 2.5348 - val_accuracy: 0.2561\n",
            "7/7 [==============================] - 2s 311ms/step - loss: 2.5170 - accuracy: 0.3024\n",
            "Accuracy : 0.3024\n",
            "7/7 [==============================] - 2s 306ms/step - loss: 2.5170 - accuracy: 0.3024\n",
            "7/7 [==============================] - 2s 305ms/step - loss: 2.5170 - accuracy: 0.3024\n",
            "[2.5169789791107178, 0.30243903398513794]\n"
          ],
          "name": "stdout"
        }
      ]
    },
    {
      "cell_type": "code",
      "metadata": {
        "colab": {
          "base_uri": "https://localhost:8080/"
        },
        "id": "IYnev14UAi_m",
        "outputId": "0afc240d-ace2-4ead-e655-62ba5894948d"
      },
      "source": [
        "# Result\n",
        "loss, acc = model.evaluate(X_test, y_test)\n",
        "print(\"\\nLoss: {}, Acc: {}\".format(loss,acc))\n",
        "\n",
        "# Evaluation of model\n",
        "y_pred = model.predict(X_test)\n",
        "y_pred = np.argmax(y_pred, axis=1)\n",
        "y_test = np.argmax(y_test, axis=1)\n",
        "\n",
        "print('Classification Report:\\n')\n",
        "print(classification_report(y_test, y_pred))\n",
        "\n",
        "# Confusion Matrix\n",
        "cm = confusion_matrix(y_test, y_pred) \n",
        "print('confusion matrix:\\n ', cm)"
      ],
      "execution_count": 26,
      "outputs": [
        {
          "output_type": "stream",
          "text": [
            "7/7 [==============================] - 2s 305ms/step - loss: 2.5170 - accuracy: 0.3024\n",
            "\n",
            "Loss: 2.5169789791107178, Acc: 0.30243903398513794\n",
            "Classification Report:\n",
            "\n",
            "              precision    recall  f1-score   support\n",
            "\n",
            "           0       0.31      0.36      0.33        28\n",
            "           1       0.12      0.09      0.10        53\n",
            "           2       0.50      0.38      0.43        37\n",
            "           3       0.32      0.38      0.35        87\n",
            "\n",
            "    accuracy                           0.30       205\n",
            "   macro avg       0.31      0.30      0.30       205\n",
            "weighted avg       0.30      0.30      0.30       205\n",
            "\n",
            "confusion matrix:\n",
            "  [[10  2  2 14]\n",
            " [ 6  5  1 41]\n",
            " [ 5  4 14 14]\n",
            " [11 32 11 33]]\n"
          ],
          "name": "stdout"
        }
      ]
    },
    {
      "cell_type": "code",
      "metadata": {
        "colab": {
          "base_uri": "https://localhost:8080/",
          "height": 573
        },
        "id": "03EgVD9bI03A",
        "outputId": "bfb74584-99b7-4977-aa70-c3f11a0fbaf3"
      },
      "source": [
        "# Visualize the plot\n",
        "\n",
        "## summarize history for accuracy\n",
        "plt.plot(history.history['accuracy'])\n",
        "plt.plot(history.history['val_accuracy'])\n",
        "plt.title('model accuracy')\n",
        "plt.ylabel('accuracy')\n",
        "plt.xlabel('epoch')\n",
        "plt.legend(['train', 'test'], loc='upper left')\n",
        "plt.show()\n",
        "## summarize history for loss\n",
        "plt.plot(history.history['loss'])\n",
        "plt.plot(history.history['val_loss'])\n",
        "plt.title('model loss')\n",
        "plt.ylabel('loss')\n",
        "plt.xlabel('epoch')\n",
        "plt.legend(['train', 'test'], loc='upper left')\n",
        "plt.show()"
      ],
      "execution_count": 27,
      "outputs": [
        {
          "output_type": "display_data",
          "data": {
            "image/png": "[encoded data removed]",
            "text/plain": [
              "<Figure size 432x288 with 1 Axes>"
            ]
          },
          "metadata": {
            "tags": [],
            "needs_background": "light"
          }
        },
        {
          "output_type": "display_data",
          "data": {
            "image/png": "[encoded data removed]",
            "text/plain": [
              "<Figure size 432x288 with 1 Axes>"
            ]
          },
          "metadata": {
            "tags": [],
            "needs_background": "light"
          }
        }
      ]
    }
  ]
}