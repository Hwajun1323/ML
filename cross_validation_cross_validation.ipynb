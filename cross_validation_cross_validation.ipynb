{
  "nbformat": 4,
  "nbformat_minor": 0,
  "metadata": {
    "colab": {
      "name": "cross_validation.ipynb",
      "provenance": [],
      "collapsed_sections": [],
      "machine_shape": "hm",
      "mount_file_id": "1k1VFO1nHXE--qfAR2Y2exVYpVMNDcmTJ",
      "authorship_tag": "ABX9TyOgUgtq9H4Vloxw6ukWCrPc",
      "include_colab_link": true
    },
    "kernelspec": {
      "name": "python3",
      "display_name": "Python 3"
    },
    "language_info": {
      "name": "python"
    },
    "accelerator": "GPU"
  },
  "cells": [
    {
      "cell_type": "markdown",
      "metadata": {
        "id": "view-in-github",
        "colab_type": "text"
      },
      "source": [
        "<a href=\"https://colab.research.google.com/github/Hwajun1323/ML/blob/master/cross_validation_cross_validation.ipynb\" target=\"_parent\"><img src=\"https://colab.research.google.com/assets/colab-badge.svg\" alt=\"Open In Colab\"/></a>"
      ]
    },
    {
      "cell_type": "code",
      "metadata": {
        "id": "-lJjS99is-Fw",
        "colab": {
          "base_uri": "https://localhost:8080/"
        },
        "outputId": "bf91bd20-c37c-4a08-ce21-b04bd0e0c328"
      },
      "source": [
        "pip install keras-metrics"
      ],
      "execution_count": 24,
      "outputs": [
        {
          "output_type": "stream",
          "text": [
            "Requirement already satisfied: keras-metrics in /usr/local/lib/python3.7/dist-packages (1.1.0)\n",
            "Requirement already satisfied: Keras>=2.1.5 in /usr/local/lib/python3.7/dist-packages (from keras-metrics) (2.4.3)\n",
            "Requirement already satisfied: pyyaml in /usr/local/lib/python3.7/dist-packages (from Keras>=2.1.5->keras-metrics) (3.13)\n",
            "Requirement already satisfied: h5py in /usr/local/lib/python3.7/dist-packages (from Keras>=2.1.5->keras-metrics) (2.10.0)\n",
            "Requirement already satisfied: scipy>=0.14 in /usr/local/lib/python3.7/dist-packages (from Keras>=2.1.5->keras-metrics) (1.4.1)\n",
            "Requirement already satisfied: numpy>=1.9.1 in /usr/local/lib/python3.7/dist-packages (from Keras>=2.1.5->keras-metrics) (1.19.5)\n",
            "Requirement already satisfied: six in /usr/local/lib/python3.7/dist-packages (from h5py->Keras>=2.1.5->keras-metrics) (1.15.0)\n"
          ],
          "name": "stdout"
        }
      ]
    },
    {
      "cell_type": "code",
      "metadata": {
        "id": "GQ0gCXmlfZX8"
      },
      "source": [
        "import keras\n",
        "from keras import applications\n",
        "from keras.preprocessing.image import ImageDataGenerator\n",
        "from keras import optimizers\n",
        "from keras.models import Sequential, Model\n",
        "from keras.layers import *\n",
        "from keras.callbacks import ModelCheckpoint, LearningRateScheduler, TensorBoard, EarlyStopping\n",
        "\n",
        "import os\n",
        "import cv2\n",
        "import numpy as np\n",
        "from sklearn.model_selection import train_test_split\n",
        "from sklearn.model_selection import cross_val_score , cross_validate\n",
        "from sklearn.model_selection import KFold, StratifiedKFold\n",
        "\n",
        "import keras_metrics as km\n",
        "\n",
        "from sklearn.metrics import accuracy_score\n",
        "from sklearn.metrics import precision_score\n",
        "from sklearn.metrics import recall_score\n",
        "from sklearn.metrics import f1_score\n",
        "from sklearn.metrics import cohen_kappa_score\n",
        "from sklearn.metrics import roc_auc_score\n",
        "from sklearn.metrics import multilabel_confusion_matrix\n",
        "from sklearn.metrics import classification_report\n",
        "from sklearn.metrics import confusion_matrix\n",
        "\n",
        "import matplotlib.pyplot as plt"
      ],
      "execution_count": 25,
      "outputs": []
    },
    {
      "cell_type": "code",
      "metadata": {
        "id": "CiVFsiIWffUd",
        "colab": {
          "base_uri": "https://localhost:8080/"
        },
        "outputId": "937a1bc4-29f3-4d32-a578-adf5c3d7f8c1"
      },
      "source": [
        "data_dir = \"/content/drive/My Drive/dataset/video_data\"\n",
        "#data_dir = \"video_data/\"\n",
        "img_height, img_width = 64, 64\n",
        "seq_len = 70\n",
        "\n",
        "classes = [\"Child's room\",  \"Museum\", \"Office\", \"Restaurant\"]\n",
        "num_classes = len(classes)\n",
        "print(\"Number of Class: \", num_classes)\n",
        "\n",
        "#  Creating frames from videos\n",
        "\n",
        "def frames_extraction(video_path):\n",
        "    frames_list = []\n",
        "\n",
        "    vidObj = cv2.VideoCapture(video_path)\n",
        "    # Used as counter variable\n",
        "    count = 1\n",
        "\n",
        "    while count <= seq_len:\n",
        "        success, image = vidObj.read()\n",
        "        if success:\n",
        "            image = cv2.resize(image, (img_height, img_width))\n",
        "            frames_list.append(image)\n",
        "            count += 1\n",
        "        else:\n",
        "            print(\"Defected frame\")\n",
        "            break\n",
        "\n",
        "    return frames_list\n",
        "\n",
        "# Create the actual data from the sequence of images\n",
        "\n",
        "def create_data(input_dir):\n",
        "    X = []\n",
        "    Y = []\n",
        "\n",
        "    classes_list = os.listdir(input_dir)\n",
        "\n",
        "    for c in classes_list:\n",
        "        print(c)\n",
        "        files_list = os.listdir(os.path.join(input_dir, c))\n",
        "        for f in files_list:\n",
        "            frames = frames_extraction(os.path.join(os.path.join(input_dir, c), f))\n",
        "            if len(frames) == seq_len:\n",
        "                X.append(frames)\n",
        "\n",
        "                y = [0] * len(classes)\n",
        "                y[classes.index(c)] = 1\n",
        "                Y.append(y)\n",
        "\n",
        "    X = np.asarray(X)\n",
        "    Y = np.asarray(Y)\n",
        "    \n",
        "    return X, Y"
      ],
      "execution_count": 26,
      "outputs": [
        {
          "output_type": "stream",
          "text": [
            "Number of Class:  4\n"
          ],
          "name": "stdout"
        }
      ]
    },
    {
      "cell_type": "code",
      "metadata": {
        "id": "G6nClQdnRTwb",
        "colab": {
          "base_uri": "https://localhost:8080/"
        },
        "outputId": "d1f247a3-248d-40db-9226-9df13b324120"
      },
      "source": [
        "X, Y = create_data(data_dir)\n",
        "\n",
        "#X_train, X_test, y_train, y_test = train_test_split(X, Y, test_size=0.20, shuffle=True, random_state=0)"
      ],
      "execution_count": 44,
      "outputs": [
        {
          "output_type": "stream",
          "text": [
            "Child's room\n",
            "Restaurant\n",
            "Office\n",
            "Defected frame\n",
            "Defected frame\n",
            "Museum\n"
          ],
          "name": "stdout"
        }
      ]
    },
    {
      "cell_type": "code",
      "metadata": {
        "colab": {
          "base_uri": "https://localhost:8080/"
        },
        "id": "2_ehqpr2ZCgm",
        "outputId": "df599008-f19c-4716-c3fa-2262ec8e8e83"
      },
      "source": [
        "# Cross validation\n",
        "\n",
        "skf = KFold(n_splits=5, shuffle=True, random_state=None)\n",
        "\n",
        "# X is the feature set and y is the target\n",
        "for train_index, test_index in skf.split(X,Y): \n",
        "    #print(\"Train:\", train_index, \"Validation:\", test_index) \n",
        "    X_train, X_test = X[train_index], X[test_index] \n",
        "    y_train, y_test = Y[train_index], Y[test_index]\n",
        "\n",
        "print(X_train.shape)\n",
        "print(X_test.shape)\n",
        "print(y_train.shape)\n",
        "print(y_test.shape)"
      ],
      "execution_count": 45,
      "outputs": [
        {
          "output_type": "stream",
          "text": [
            "(817, 70, 64, 64, 3)\n",
            "(204, 70, 64, 64, 3)\n",
            "(817, 4)\n",
            "(204, 4)\n"
          ],
          "name": "stdout"
        }
      ]
    },
    {
      "cell_type": "code",
      "metadata": {
        "colab": {
          "base_uri": "https://localhost:8080/"
        },
        "id": "h_v-9iPAIv_E",
        "outputId": "0f1387c4-73c2-4088-d92d-0e4124c759ba"
      },
      "source": [
        "model = Sequential()\n",
        "\n",
        "model.add(ConvLSTM2D(filters=64, kernel_size=(3, 3), return_sequences=False, data_format=\"channels_last\", input_shape=(seq_len, img_height, img_width, 3)))\n",
        "model.add(Dropout(0.2))\n",
        "\n",
        "model.add(BatchNormalization())\n",
        "model.add(MaxPooling2D(pool_size = (2, 2)))\n",
        "#model.add(GlobalAveragePooling2D())\n",
        "\n",
        "model.add(Flatten())\n",
        "model.add(Dense(256, activation=\"relu\"))\n",
        "model.add(Dropout(0.5))\n",
        "#model.add(Dense(256, activation=\"relu\"))\n",
        "#model.add(Dropout(0.5))\n",
        "model.add(Dense(128, activation=\"relu\"))\n",
        "model.add(Dropout(0.5))\n",
        "model.add(Dense(num_classes, activation=\"softmax\"))\n",
        "\n",
        "model.summary()\n",
        "\n",
        "#opt = keras.optimizers.Adam(lr=0.001, beta_1=0.9, beta_2=0.999, epsilon=None, decay=0.0, amsgrad=False)\n",
        "#opt = keras.optimizers.SGD(lr=0.001)\n",
        "#opt = keras.optimizers.SGD(lr=0.001, momentum=0.9)\n",
        "opt = keras.optimizers.SGD(lr=0.001, momentum=0.9, nesterov=True)\n",
        "#opt = keras.optimizers.Adagrad(lr=0.001, epsilon=1e-6)\n",
        "#opt = keras.optimizers.Adadelta(lr=1.0, rho=0.95, epsilon=None, decay=0.0)\n",
        "\n",
        "model.compile(loss='categorical_crossentropy', optimizer=opt, metrics=[\"accuracy\"])\n",
        "\n",
        "\n",
        "#score = cross_val_score(model, X, Y, scoring='accuracy', cv=5)\n",
        "#print('cross validation accuracy:',np.round(scores, 4))\n",
        "#print('mean accuracy:', np.round(np.mean(scores), 4))\n",
        "\n",
        "earlystop = EarlyStopping(patience=7)\n",
        "callbacks = [earlystop]\n",
        "\n",
        "#history = model.fit(x=X_train, y=y_train, epochs=40, batch_size=8, shuffle=True, validation_split=0.2, callbacks=callbacks)\n",
        "history = model.fit(x=X_train, y=y_train, epochs=60, batch_size=10, shuffle=True, validation_split=0.2)\n",
        "print(\"Accuracy : %.4f\" % (model.evaluate(X_test, y_test)[1]))\n",
        "\n",
        "# Result\n",
        "loss, acc = model.evaluate(X_test, y_test)\n",
        "print(\"\\nLoss: {}, Acc: {}\".format(loss,acc))\n"
      ],
      "execution_count": 46,
      "outputs": [
        {
          "output_type": "stream",
          "text": [
            "Model: \"sequential_7\"\n",
            "_________________________________________________________________\n",
            "Layer (type)                 Output Shape              Param #   \n",
            "=================================================================\n",
            "conv_lst_m2d_7 (ConvLSTM2D)  (None, 62, 62, 64)        154624    \n",
            "_________________________________________________________________\n",
            "dropout_26 (Dropout)         (None, 62, 62, 64)        0         \n",
            "_________________________________________________________________\n",
            "batch_normalization_2 (Batch (None, 62, 62, 64)        256       \n",
            "_________________________________________________________________\n",
            "max_pooling2d_2 (MaxPooling2 (None, 31, 31, 64)        0         \n",
            "_________________________________________________________________\n",
            "flatten_7 (Flatten)          (None, 61504)             0         \n",
            "_________________________________________________________________\n",
            "dense_26 (Dense)             (None, 256)               15745280  \n",
            "_________________________________________________________________\n",
            "dropout_27 (Dropout)         (None, 256)               0         \n",
            "_________________________________________________________________\n",
            "dense_27 (Dense)             (None, 128)               32896     \n",
            "_________________________________________________________________\n",
            "dropout_28 (Dropout)         (None, 128)               0         \n",
            "_________________________________________________________________\n",
            "dense_28 (Dense)             (None, 4)                 516       \n",
            "=================================================================\n",
            "Total params: 15,933,572\n",
            "Trainable params: 15,933,444\n",
            "Non-trainable params: 128\n",
            "_________________________________________________________________\n",
            "Epoch 1/60\n",
            "66/66 [==============================] - 50s 725ms/step - loss: 2.7753 - accuracy: 0.3414 - val_loss: 2.4943 - val_accuracy: 0.0000e+00\n",
            "Epoch 2/60\n",
            "66/66 [==============================] - 47s 719ms/step - loss: 1.8471 - accuracy: 0.3599 - val_loss: 3.2334 - val_accuracy: 0.0000e+00\n",
            "Epoch 3/60\n",
            "66/66 [==============================] - 47s 719ms/step - loss: 1.8090 - accuracy: 0.4696 - val_loss: 4.9996 - val_accuracy: 0.0000e+00\n",
            "Epoch 4/60\n",
            "66/66 [==============================] - 47s 719ms/step - loss: 2.0635 - accuracy: 0.4679 - val_loss: 7.6315 - val_accuracy: 0.0000e+00\n",
            "Epoch 5/60\n",
            "66/66 [==============================] - 47s 719ms/step - loss: 1.8175 - accuracy: 0.4664 - val_loss: 9.4743 - val_accuracy: 0.0000e+00\n",
            "Epoch 6/60\n",
            "66/66 [==============================] - 47s 720ms/step - loss: 1.4508 - accuracy: 0.4762 - val_loss: 12.5097 - val_accuracy: 0.0000e+00\n",
            "Epoch 7/60\n",
            "66/66 [==============================] - 47s 719ms/step - loss: 1.3559 - accuracy: 0.4701 - val_loss: 15.4610 - val_accuracy: 0.0000e+00\n",
            "Epoch 8/60\n",
            "66/66 [==============================] - 47s 719ms/step - loss: 1.5019 - accuracy: 0.4818 - val_loss: 6.3503 - val_accuracy: 0.0000e+00\n",
            "Epoch 9/60\n",
            "66/66 [==============================] - 47s 720ms/step - loss: 1.2730 - accuracy: 0.5111 - val_loss: 6.8632 - val_accuracy: 0.0000e+00\n",
            "Epoch 10/60\n",
            "66/66 [==============================] - 47s 719ms/step - loss: 1.3144 - accuracy: 0.4914 - val_loss: 5.3540 - val_accuracy: 0.0000e+00\n",
            "Epoch 11/60\n",
            "66/66 [==============================] - 47s 720ms/step - loss: 1.2239 - accuracy: 0.4911 - val_loss: 5.3515 - val_accuracy: 0.0000e+00\n",
            "Epoch 12/60\n",
            "66/66 [==============================] - 47s 719ms/step - loss: 1.1427 - accuracy: 0.5052 - val_loss: 5.9017 - val_accuracy: 0.0000e+00\n",
            "Epoch 13/60\n",
            "66/66 [==============================] - 47s 719ms/step - loss: 1.2289 - accuracy: 0.4667 - val_loss: 5.2669 - val_accuracy: 0.0000e+00\n",
            "Epoch 14/60\n",
            "66/66 [==============================] - 47s 719ms/step - loss: 1.1504 - accuracy: 0.4907 - val_loss: 5.4578 - val_accuracy: 0.0000e+00\n",
            "Epoch 15/60\n",
            "66/66 [==============================] - 47s 719ms/step - loss: 1.0881 - accuracy: 0.5501 - val_loss: 5.9300 - val_accuracy: 0.0000e+00\n",
            "Epoch 16/60\n",
            "66/66 [==============================] - 47s 719ms/step - loss: 1.1275 - accuracy: 0.5170 - val_loss: 6.3514 - val_accuracy: 0.0000e+00\n",
            "Epoch 17/60\n",
            "66/66 [==============================] - 47s 719ms/step - loss: 1.1109 - accuracy: 0.5290 - val_loss: 5.2865 - val_accuracy: 0.0000e+00\n",
            "Epoch 18/60\n",
            "66/66 [==============================] - 47s 719ms/step - loss: 1.1081 - accuracy: 0.5147 - val_loss: 5.9122 - val_accuracy: 0.0000e+00\n",
            "Epoch 19/60\n",
            "66/66 [==============================] - 47s 719ms/step - loss: 1.0497 - accuracy: 0.5294 - val_loss: 5.8822 - val_accuracy: 0.0000e+00\n",
            "Epoch 20/60\n",
            "66/66 [==============================] - 47s 720ms/step - loss: 1.0585 - accuracy: 0.5188 - val_loss: 6.1542 - val_accuracy: 0.0000e+00\n",
            "Epoch 21/60\n",
            "66/66 [==============================] - 47s 720ms/step - loss: 1.0501 - accuracy: 0.5550 - val_loss: 6.2486 - val_accuracy: 0.0000e+00\n",
            "Epoch 22/60\n",
            "66/66 [==============================] - 47s 720ms/step - loss: 1.1082 - accuracy: 0.4963 - val_loss: 6.8151 - val_accuracy: 0.0000e+00\n",
            "Epoch 23/60\n",
            "66/66 [==============================] - 47s 720ms/step - loss: 1.0749 - accuracy: 0.4906 - val_loss: 6.4664 - val_accuracy: 0.0000e+00\n",
            "Epoch 24/60\n",
            "66/66 [==============================] - 47s 720ms/step - loss: 1.0889 - accuracy: 0.4911 - val_loss: 6.1892 - val_accuracy: 0.0000e+00\n",
            "Epoch 25/60\n",
            "66/66 [==============================] - 47s 720ms/step - loss: 1.0439 - accuracy: 0.5071 - val_loss: 6.3204 - val_accuracy: 0.0000e+00\n",
            "Epoch 26/60\n",
            "66/66 [==============================] - 47s 719ms/step - loss: 1.0576 - accuracy: 0.5156 - val_loss: 6.4679 - val_accuracy: 0.0000e+00\n",
            "Epoch 27/60\n",
            "66/66 [==============================] - 47s 719ms/step - loss: 1.1382 - accuracy: 0.4904 - val_loss: 6.1364 - val_accuracy: 0.0000e+00\n",
            "Epoch 28/60\n",
            "66/66 [==============================] - 47s 720ms/step - loss: 1.0964 - accuracy: 0.4998 - val_loss: 7.4005 - val_accuracy: 0.0000e+00\n",
            "Epoch 29/60\n",
            "66/66 [==============================] - 47s 720ms/step - loss: 1.0331 - accuracy: 0.5278 - val_loss: 4.9113 - val_accuracy: 0.0000e+00\n",
            "Epoch 30/60\n",
            "66/66 [==============================] - 47s 720ms/step - loss: 1.0489 - accuracy: 0.5227 - val_loss: 5.3390 - val_accuracy: 0.0000e+00\n",
            "Epoch 31/60\n",
            "66/66 [==============================] - 47s 720ms/step - loss: 1.0461 - accuracy: 0.4982 - val_loss: 5.8580 - val_accuracy: 0.0000e+00\n",
            "Epoch 32/60\n",
            "66/66 [==============================] - 47s 720ms/step - loss: 1.0241 - accuracy: 0.5299 - val_loss: 5.4832 - val_accuracy: 0.0000e+00\n",
            "Epoch 33/60\n",
            "66/66 [==============================] - 47s 720ms/step - loss: 1.0033 - accuracy: 0.5295 - val_loss: 6.3282 - val_accuracy: 0.0000e+00\n",
            "Epoch 34/60\n",
            "66/66 [==============================] - 47s 719ms/step - loss: 1.0099 - accuracy: 0.5414 - val_loss: 6.2153 - val_accuracy: 0.0000e+00\n",
            "Epoch 35/60\n",
            "66/66 [==============================] - 47s 720ms/step - loss: 1.0215 - accuracy: 0.4943 - val_loss: 5.6600 - val_accuracy: 0.0000e+00\n",
            "Epoch 36/60\n",
            "66/66 [==============================] - 47s 720ms/step - loss: 1.0172 - accuracy: 0.5401 - val_loss: 5.0747 - val_accuracy: 0.0000e+00\n",
            "Epoch 37/60\n",
            "66/66 [==============================] - 47s 720ms/step - loss: 0.9522 - accuracy: 0.5247 - val_loss: 5.3079 - val_accuracy: 0.0000e+00\n",
            "Epoch 38/60\n",
            "66/66 [==============================] - 47s 719ms/step - loss: 0.9438 - accuracy: 0.5414 - val_loss: 5.5274 - val_accuracy: 0.0000e+00\n",
            "Epoch 39/60\n",
            "66/66 [==============================] - 47s 720ms/step - loss: 0.9898 - accuracy: 0.5127 - val_loss: 6.4809 - val_accuracy: 0.0000e+00\n",
            "Epoch 40/60\n",
            "66/66 [==============================] - 47s 720ms/step - loss: 0.9352 - accuracy: 0.5027 - val_loss: 7.2726 - val_accuracy: 0.0000e+00\n",
            "Epoch 41/60\n",
            "66/66 [==============================] - 47s 719ms/step - loss: 0.9971 - accuracy: 0.5315 - val_loss: 6.9210 - val_accuracy: 0.0000e+00\n",
            "Epoch 42/60\n",
            "66/66 [==============================] - 47s 720ms/step - loss: 0.9944 - accuracy: 0.4967 - val_loss: 6.4956 - val_accuracy: 0.0000e+00\n",
            "Epoch 43/60\n",
            "66/66 [==============================] - 47s 719ms/step - loss: 0.9897 - accuracy: 0.5746 - val_loss: 7.3561 - val_accuracy: 0.0000e+00\n",
            "Epoch 44/60\n",
            "66/66 [==============================] - 47s 719ms/step - loss: 0.9768 - accuracy: 0.5133 - val_loss: 6.5980 - val_accuracy: 0.0000e+00\n",
            "Epoch 45/60\n",
            "66/66 [==============================] - 47s 719ms/step - loss: 1.0212 - accuracy: 0.5211 - val_loss: 6.4636 - val_accuracy: 0.0000e+00\n",
            "Epoch 46/60\n",
            "66/66 [==============================] - 47s 719ms/step - loss: 1.0298 - accuracy: 0.5146 - val_loss: 6.5651 - val_accuracy: 0.0000e+00\n",
            "Epoch 47/60\n",
            "66/66 [==============================] - 47s 720ms/step - loss: 1.0057 - accuracy: 0.4901 - val_loss: 6.5915 - val_accuracy: 0.0000e+00\n",
            "Epoch 48/60\n",
            "66/66 [==============================] - 47s 720ms/step - loss: 0.9471 - accuracy: 0.5306 - val_loss: 6.9979 - val_accuracy: 0.0000e+00\n",
            "Epoch 49/60\n",
            "66/66 [==============================] - 47s 719ms/step - loss: 0.9655 - accuracy: 0.5328 - val_loss: 6.7724 - val_accuracy: 0.0000e+00\n",
            "Epoch 50/60\n",
            "66/66 [==============================] - 47s 719ms/step - loss: 0.9413 - accuracy: 0.5363 - val_loss: 6.1790 - val_accuracy: 0.0000e+00\n",
            "Epoch 51/60\n",
            "66/66 [==============================] - 47s 720ms/step - loss: 0.8958 - accuracy: 0.5750 - val_loss: 6.4971 - val_accuracy: 0.0000e+00\n",
            "Epoch 52/60\n",
            "66/66 [==============================] - 47s 719ms/step - loss: 0.8878 - accuracy: 0.5844 - val_loss: 7.3138 - val_accuracy: 0.0000e+00\n",
            "Epoch 53/60\n",
            "66/66 [==============================] - 47s 719ms/step - loss: 0.9654 - accuracy: 0.5478 - val_loss: 7.0253 - val_accuracy: 0.0000e+00\n",
            "Epoch 54/60\n",
            "66/66 [==============================] - 47s 720ms/step - loss: 0.9083 - accuracy: 0.5409 - val_loss: 6.5494 - val_accuracy: 0.0000e+00\n",
            "Epoch 55/60\n",
            "66/66 [==============================] - 47s 719ms/step - loss: 0.9274 - accuracy: 0.5531 - val_loss: 7.6302 - val_accuracy: 0.0000e+00\n",
            "Epoch 56/60\n",
            "66/66 [==============================] - 47s 719ms/step - loss: 0.9012 - accuracy: 0.5779 - val_loss: 7.4113 - val_accuracy: 0.0000e+00\n",
            "Epoch 57/60\n",
            "66/66 [==============================] - 47s 719ms/step - loss: 0.8844 - accuracy: 0.5879 - val_loss: 6.8998 - val_accuracy: 0.0000e+00\n",
            "Epoch 58/60\n",
            "66/66 [==============================] - 47s 719ms/step - loss: 0.8074 - accuracy: 0.6458 - val_loss: 6.9580 - val_accuracy: 0.0000e+00\n",
            "Epoch 59/60\n",
            "66/66 [==============================] - 47s 719ms/step - loss: 0.8759 - accuracy: 0.6218 - val_loss: 6.4196 - val_accuracy: 0.0000e+00\n",
            "Epoch 60/60\n",
            "66/66 [==============================] - 47s 720ms/step - loss: 0.8359 - accuracy: 0.6458 - val_loss: 7.7151 - val_accuracy: 0.0000e+00\n",
            "7/7 [==============================] - 3s 479ms/step - loss: 2.8369 - accuracy: 0.3824\n",
            "Accuracy : 0.3824\n",
            "7/7 [==============================] - 3s 475ms/step - loss: 2.8369 - accuracy: 0.3824\n",
            "\n",
            "Loss: 2.836897850036621, Acc: 0.38235294818878174\n"
          ],
          "name": "stdout"
        }
      ]
    },
    {
      "cell_type": "code",
      "metadata": {
        "colab": {
          "base_uri": "https://localhost:8080/"
        },
        "id": "IYnev14UAi_m",
        "outputId": "19dadc76-d976-451a-f283-1e6a65c6127e"
      },
      "source": [
        "# Result\n",
        "loss, acc = model.evaluate(X_test, y_test)\n",
        "print(\"\\nLoss: {}, Acc: {}\".format(loss,acc))\n",
        "\n",
        "# Evaluation of model\n",
        "y_pred = model.predict(X_test)\n",
        "y_pred = np.argmax(y_pred, axis=1)\n",
        "y_test = np.argmax(y_test, axis=1)\n",
        "\n",
        "print('Classification Report:\\n')\n",
        "print(classification_report(y_test, y_pred))\n",
        "\n",
        "# Confusion Matrix\n",
        "cm = confusion_matrix(y_test, y_pred) \n",
        "print('confusion matrix:\\n ', cm)"
      ],
      "execution_count": 47,
      "outputs": [
        {
          "output_type": "stream",
          "text": [
            "7/7 [==============================] - 3s 475ms/step - loss: 2.8369 - accuracy: 0.3824\n",
            "\n",
            "Loss: 2.836897850036621, Acc: 0.38235294818878174\n",
            "Classification Report:\n",
            "\n",
            "              precision    recall  f1-score   support\n",
            "\n",
            "           0       0.00      0.00      0.00        41\n",
            "           1       0.00      0.00      0.00        46\n",
            "           2       0.20      0.03      0.05        36\n",
            "           3       0.39      0.95      0.55        81\n",
            "\n",
            "    accuracy                           0.38       204\n",
            "   macro avg       0.15      0.24      0.15       204\n",
            "weighted avg       0.19      0.38      0.23       204\n",
            "\n",
            "confusion matrix:\n",
            "  [[ 0  0  0 41]\n",
            " [ 0  0  0 46]\n",
            " [ 0  0  1 35]\n",
            " [ 0  0  4 77]]\n"
          ],
          "name": "stdout"
        },
        {
          "output_type": "stream",
          "text": [
            "/usr/local/lib/python3.7/dist-packages/sklearn/metrics/_classification.py:1272: UndefinedMetricWarning: Precision and F-score are ill-defined and being set to 0.0 in labels with no predicted samples. Use `zero_division` parameter to control this behavior.\n",
            "  _warn_prf(average, modifier, msg_start, len(result))\n"
          ],
          "name": "stderr"
        }
      ]
    },
    {
      "cell_type": "code",
      "metadata": {
        "colab": {
          "base_uri": "https://localhost:8080/",
          "height": 573
        },
        "id": "03EgVD9bI03A",
        "outputId": "1917654b-f5cf-44a9-b855-2644e30a69db"
      },
      "source": [
        "# Visualize the plot\n",
        "\n",
        "## summarize history for accuracy\n",
        "plt.plot(history.history['accuracy'])\n",
        "plt.plot(history.history['val_accuracy'])\n",
        "plt.title('model accuracy')\n",
        "plt.ylabel('accuracy')\n",
        "plt.xlabel('epoch')\n",
        "plt.legend(['train', 'test'], loc='upper left')\n",
        "plt.show()\n",
        "## summarize history for loss\n",
        "plt.plot(history.history['loss'])\n",
        "plt.plot(history.history['val_loss'])\n",
        "plt.title('model loss')\n",
        "plt.ylabel('loss')\n",
        "plt.xlabel('epoch')\n",
        "plt.legend(['train', 'test'], loc='upper left')\n",
        "plt.show()"
      ],
      "execution_count": 48,
      "outputs": [
        {
          "output_type": "display_data",
          "data": {
            "image/png": "[encoded data removed]",
            "text/plain": [
              "<Figure size 432x288 with 1 Axes>"
            ]
          },
          "metadata": {
            "tags": [],
            "needs_background": "light"
          }
        },
        {
          "output_type": "display_data",
          "data": {
            "image/png": "[encoded data removed]",
            "text/plain": [
              "<Figure size 432x288 with 1 Axes>"
            ]
          },
          "metadata": {
            "tags": [],
            "needs_background": "light"
          }
        }
      ]
    }
  ]
}