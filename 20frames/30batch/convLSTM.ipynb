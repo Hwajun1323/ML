{
  "nbformat": 4,
  "nbformat_minor": 0,
  "metadata": {
    "colab": {
      "name": "convLSTM.ipynb",
      "provenance": [],
      "collapsed_sections": [],
      "machine_shape": "hm",
      "mount_file_id": "1XnAaPpzTOwHYzrEg_H0alWQisudlbZ3V",
      "authorship_tag": "ABX9TyOU2yjjTzax5H6TJ56tXTxi",
      "include_colab_link": true
    },
    "kernelspec": {
      "name": "python3",
      "display_name": "Python 3"
    },
    "language_info": {
      "name": "python"
    },
    "accelerator": "GPU"
  },
  "cells": [
    {
      "cell_type": "markdown",
      "metadata": {
        "id": "view-in-github",
        "colab_type": "text"
      },
      "source": [
        "<a href=\"https://colab.research.google.com/github/Hwajun1323/ML/blob/master/20frames/30batch/convLSTM.ipynb\" target=\"_parent\"><img src=\"https://colab.research.google.com/assets/colab-badge.svg\" alt=\"Open In Colab\"/></a>"
      ]
    },
    {
      "cell_type": "code",
      "metadata": {
        "id": "-lJjS99is-Fw",
        "colab": {
          "base_uri": "https://localhost:8080/"
        },
        "outputId": "847bd7bb-30b9-4602-9bef-6e60bb6c7ddd"
      },
      "source": [
        "pip install keras-metrics"
      ],
      "execution_count": 1,
      "outputs": [
        {
          "output_type": "stream",
          "text": [
            "Collecting keras-metrics\n",
            "  Downloading https://files.pythonhosted.org/packages/32/c9/a87420da8e73de944e63a8e9cdcfb1f03ca31a7c4cdcdbd45d2cdf13275a/keras_metrics-1.1.0-py2.py3-none-any.whl\n",
            "Requirement already satisfied: Keras>=2.1.5 in /usr/local/lib/python3.7/dist-packages (from keras-metrics) (2.4.3)\n",
            "Requirement already satisfied: scipy>=0.14 in /usr/local/lib/python3.7/dist-packages (from Keras>=2.1.5->keras-metrics) (1.4.1)\n",
            "Requirement already satisfied: h5py in /usr/local/lib/python3.7/dist-packages (from Keras>=2.1.5->keras-metrics) (3.1.0)\n",
            "Requirement already satisfied: numpy>=1.9.1 in /usr/local/lib/python3.7/dist-packages (from Keras>=2.1.5->keras-metrics) (1.19.5)\n",
            "Requirement already satisfied: pyyaml in /usr/local/lib/python3.7/dist-packages (from Keras>=2.1.5->keras-metrics) (3.13)\n",
            "Requirement already satisfied: cached-property; python_version < \"3.8\" in /usr/local/lib/python3.7/dist-packages (from h5py->Keras>=2.1.5->keras-metrics) (1.5.2)\n",
            "Installing collected packages: keras-metrics\n",
            "Successfully installed keras-metrics-1.1.0\n"
          ],
          "name": "stdout"
        }
      ]
    },
    {
      "cell_type": "code",
      "metadata": {
        "colab": {
          "base_uri": "https://localhost:8080/"
        },
        "id": "N4kTMnUpSM_U",
        "outputId": "78345c2c-7717-48f6-9477-9b5d9c4a5504"
      },
      "source": [
        "!apt install graphviz\n",
        "!pip install pydot pydot-ng\n",
        "!echo \"Double check with Python 3\"\n",
        "!python -c \"import pydot\""
      ],
      "execution_count": 2,
      "outputs": [
        {
          "output_type": "stream",
          "text": [
            "Reading package lists... Done\n",
            "Building dependency tree       \n",
            "Reading state information... Done\n",
            "graphviz is already the newest version (2.40.1-2).\n",
            "The following package was automatically installed and is no longer required:\n",
            "  libnvidia-common-460\n",
            "Use 'apt autoremove' to remove it.\n",
            "0 upgraded, 0 newly installed, 0 to remove and 34 not upgraded.\n",
            "Requirement already satisfied: pydot in /usr/local/lib/python3.7/dist-packages (1.3.0)\n",
            "Requirement already satisfied: pydot-ng in /usr/local/lib/python3.7/dist-packages (2.0.0)\n",
            "Requirement already satisfied: pyparsing>=2.1.4 in /usr/local/lib/python3.7/dist-packages (from pydot) (2.4.7)\n",
            "Double check with Python 3\n"
          ],
          "name": "stdout"
        }
      ]
    },
    {
      "cell_type": "code",
      "metadata": {
        "id": "GQ0gCXmlfZX8"
      },
      "source": [
        "import keras\n",
        "from keras import applications\n",
        "from keras.preprocessing.image import ImageDataGenerator\n",
        "from keras import optimizers\n",
        "from keras.models import Sequential, Model\n",
        "from keras.layers import *\n",
        "from keras.callbacks import ModelCheckpoint, LearningRateScheduler, TensorBoard, EarlyStopping\n",
        "from tensorflow.keras.utils import plot_model\n",
        "\n",
        "import os\n",
        "import cv2\n",
        "import numpy as np\n",
        "from sklearn.model_selection import train_test_split\n",
        "from sklearn.model_selection import cross_val_score , cross_validate\n",
        "import keras_metrics as km\n",
        "\n",
        "from sklearn.metrics import accuracy_score\n",
        "from sklearn.metrics import precision_score\n",
        "from sklearn.metrics import recall_score\n",
        "from sklearn.metrics import f1_score\n",
        "from sklearn.metrics import cohen_kappa_score\n",
        "from sklearn.metrics import roc_auc_score\n",
        "from sklearn.metrics import multilabel_confusion_matrix\n",
        "from sklearn.metrics import classification_report\n",
        "from sklearn.metrics import confusion_matrix\n",
        "\n",
        "import matplotlib.pyplot as plt\n",
        "import graphviz\n",
        "import pydot_ng as pydot\n",
        "from keras.optimizers import SGD  # Stochastic Gradient Decent\n",
        "from keras.utils import np_utils\n"
      ],
      "execution_count": 3,
      "outputs": []
    },
    {
      "cell_type": "code",
      "metadata": {
        "id": "CiVFsiIWffUd",
        "colab": {
          "base_uri": "https://localhost:8080/"
        },
        "outputId": "4a02245e-e4c5-439a-f51a-c1ea3e9ef41a"
      },
      "source": [
        "data_dir = \"/content/drive/My Drive/dataset/video_data\"\n",
        "#data_dir = \"video_data/\"\n",
        "img_height, img_width = 64, 64\n",
        "seq_len = 20\n",
        "\n",
        "classes = [\"Child's room\",  \"Museum\", \"Office\", \"Restaurant\"]\n",
        "num_classes = len(classes)\n",
        "print(\"Number of Class: \", num_classes)\n",
        "\n",
        "#  Creating frames from videos\n",
        "\n",
        "def frames_extraction(video_path):\n",
        "    frames_list = []\n",
        "\n",
        "    vidObj = cv2.VideoCapture(video_path)\n",
        "    # Used as counter variable\n",
        "    count = 1\n",
        "\n",
        "    while count <= seq_len:\n",
        "        success, image = vidObj.read()\n",
        "        if success:\n",
        "            image = cv2.resize(image, (img_height, img_width))\n",
        "            frames_list.append(image)\n",
        "            count += 1\n",
        "        else:\n",
        "            print(\"Defected frame\")\n",
        "            break\n",
        "\n",
        "    return frames_list\n",
        "\n",
        "# Create the actual data from the sequence of images\n",
        "\n",
        "def create_data(input_dir):\n",
        "    X = []\n",
        "    Y = []\n",
        "\n",
        "    classes_list = os.listdir(input_dir)\n",
        "\n",
        "    for c in classes_list:\n",
        "        print(c)\n",
        "        files_list = os.listdir(os.path.join(input_dir, c))\n",
        "        for f in files_list:\n",
        "            frames = frames_extraction(os.path.join(os.path.join(input_dir, c), f))\n",
        "            if len(frames) == seq_len:\n",
        "                X.append(frames)\n",
        "\n",
        "                y = [0] * len(classes)\n",
        "                y[classes.index(c)] = 1\n",
        "                Y.append(y)\n",
        "\n",
        "    X = np.asarray(X)\n",
        "    Y = np.asarray(Y)\n",
        "    \n",
        "    return X, Y"
      ],
      "execution_count": 4,
      "outputs": [
        {
          "output_type": "stream",
          "text": [
            "Number of Class:  4\n"
          ],
          "name": "stdout"
        }
      ]
    },
    {
      "cell_type": "code",
      "metadata": {
        "id": "G6nClQdnRTwb",
        "colab": {
          "base_uri": "https://localhost:8080/"
        },
        "outputId": "63d4dc90-26f4-4265-abc4-6ff7d5668b36"
      },
      "source": [
        "X, Y = create_data(data_dir)\n",
        "\n",
        "X_train, X_test, y_train, y_test = train_test_split(X, Y, test_size=0.20, shuffle=True, random_state=0)"
      ],
      "execution_count": 27,
      "outputs": [
        {
          "output_type": "stream",
          "text": [
            "Child's room\n",
            "Restaurant\n",
            "Office\n",
            "Museum\n"
          ],
          "name": "stdout"
        }
      ]
    },
    {
      "cell_type": "code",
      "metadata": {
        "colab": {
          "base_uri": "https://localhost:8080/"
        },
        "id": "853UXXpN6lbQ",
        "outputId": "4f63ec0b-501d-4b0a-d985-7fcd49a819dc"
      },
      "source": [
        "print(X_train.shape)\n",
        "print(X_test.shape)\n",
        "print(y_train.shape)\n",
        "print(y_test.shape)"
      ],
      "execution_count": 28,
      "outputs": [
        {
          "output_type": "stream",
          "text": [
            "(818, 20, 64, 64, 3)\n",
            "(205, 20, 64, 64, 3)\n",
            "(818, 4)\n",
            "(205, 4)\n"
          ],
          "name": "stdout"
        }
      ]
    },
    {
      "cell_type": "code",
      "metadata": {
        "id": "h_v-9iPAIv_E"
      },
      "source": [
        "model = Sequential()\n",
        "\n",
        "model.add(ConvLSTM2D(filters=64, kernel_size=(3, 3), return_sequences=False, data_format=\"channels_last\", input_shape=(seq_len, img_height, img_width, 3)))\n",
        "model.add(Dropout(0.3))\n",
        "\n",
        "model.add(BatchNormalization())\n",
        "model.add(MaxPooling2D(pool_size = (2, 2)))\n",
        "model.add(GlobalAveragePooling2D())\n",
        "\n",
        "model.add(Flatten())\n",
        "model.add(Dense(256, activation=\"relu\"))\n",
        "model.add(Dropout(0.5))\n",
        "model.add(Dense(128, activation=\"relu\"))\n",
        "model.add(Dropout(0.5))\n",
        "model.add(Dense(num_classes, activation=\"softmax\"))"
      ],
      "execution_count": 20,
      "outputs": []
    },
    {
      "cell_type": "code",
      "metadata": {
        "colab": {
          "base_uri": "https://localhost:8080/",
          "height": 1000
        },
        "id": "OXqe5onAXaoA",
        "outputId": "059071a6-e09b-4362-c56e-ee1a6ee72236"
      },
      "source": [
        "from IPython.display import SVG\n",
        "from keras.utils.vis_utils import model_to_dot\n",
        "\n",
        "SVG(model_to_dot(model, show_shapes=True, dpi=65).create(prog='dot', format='svg'))"
      ],
      "execution_count": 21,
      "outputs": [
        {
          "output_type": "execute_result",
          "data": {
            "text/plain": [
              "<IPython.core.display.SVG object>"
            ],
            "image/svg+xml": "<svg height=\"874pt\" viewBox=\"0.00 0.00 535.00 968.00\" width=\"483pt\" xmlns=\"http://www.w3.org/2000/svg\" xmlns:xlink=\"http://www.w3.org/1999/xlink\">\n<g class=\"graph\" id=\"graph0\" transform=\"scale(.9028 .9028) rotate(0) translate(4 964)\">\n<title>G</title>\n<polygon fill=\"#ffffff\" points=\"-4,4 -4,-964 531,-964 531,4 -4,4\" stroke=\"transparent\"/>\n<!-- 140189780738128 -->\n<g class=\"node\" id=\"node1\">\n<title>140189780738128</title>\n<polygon fill=\"none\" points=\"48.5,-913.5 48.5,-959.5 478.5,-959.5 478.5,-913.5 48.5,-913.5\" stroke=\"#000000\"/>\n<text fill=\"#000000\" font-family=\"Times,serif\" font-size=\"14.00\" text-anchor=\"middle\" x=\"160\" y=\"-932.8\">conv_lst_m2d_1_input: InputLayer</text>\n<polyline fill=\"none\" points=\"271.5,-913.5 271.5,-959.5 \" stroke=\"#000000\"/>\n<text fill=\"#000000\" font-family=\"Times,serif\" font-size=\"14.00\" text-anchor=\"middle\" x=\"300.5\" y=\"-944.3\">input:</text>\n<polyline fill=\"none\" points=\"271.5,-936.5 329.5,-936.5 \" stroke=\"#000000\"/>\n<text fill=\"#000000\" font-family=\"Times,serif\" font-size=\"14.00\" text-anchor=\"middle\" x=\"300.5\" y=\"-921.3\">output:</text>\n<polyline fill=\"none\" points=\"329.5,-913.5 329.5,-959.5 \" stroke=\"#000000\"/>\n<text fill=\"#000000\" font-family=\"Times,serif\" font-size=\"14.00\" text-anchor=\"middle\" x=\"404\" y=\"-944.3\">[(None, 20, 64, 64, 3)]</text>\n<polyline fill=\"none\" points=\"329.5,-936.5 478.5,-936.5 \" stroke=\"#000000\"/>\n<text fill=\"#000000\" font-family=\"Times,serif\" font-size=\"14.00\" text-anchor=\"middle\" x=\"404\" y=\"-921.3\">[(None, 20, 64, 64, 3)]</text>\n</g>\n<!-- 140189781499152 -->\n<g class=\"node\" id=\"node2\">\n<title>140189781499152</title>\n<polygon fill=\"none\" points=\"59,-830.5 59,-876.5 468,-876.5 468,-830.5 59,-830.5\" stroke=\"#000000\"/>\n<text fill=\"#000000\" font-family=\"Times,serif\" font-size=\"14.00\" text-anchor=\"middle\" x=\"164.5\" y=\"-849.8\">conv_lst_m2d_1: ConvLSTM2D</text>\n<polyline fill=\"none\" points=\"270,-830.5 270,-876.5 \" stroke=\"#000000\"/>\n<text fill=\"#000000\" font-family=\"Times,serif\" font-size=\"14.00\" text-anchor=\"middle\" x=\"299\" y=\"-861.3\">input:</text>\n<polyline fill=\"none\" points=\"270,-853.5 328,-853.5 \" stroke=\"#000000\"/>\n<text fill=\"#000000\" font-family=\"Times,serif\" font-size=\"14.00\" text-anchor=\"middle\" x=\"299\" y=\"-838.3\">output:</text>\n<polyline fill=\"none\" points=\"328,-830.5 328,-876.5 \" stroke=\"#000000\"/>\n<text fill=\"#000000\" font-family=\"Times,serif\" font-size=\"14.00\" text-anchor=\"middle\" x=\"398\" y=\"-861.3\">(None, 20, 64, 64, 3)</text>\n<polyline fill=\"none\" points=\"328,-853.5 468,-853.5 \" stroke=\"#000000\"/>\n<text fill=\"#000000\" font-family=\"Times,serif\" font-size=\"14.00\" text-anchor=\"middle\" x=\"398\" y=\"-838.3\">(None, 62, 62, 64)</text>\n</g>\n<!-- 140189780738128&#45;&gt;140189781499152 -->\n<g class=\"edge\" id=\"edge1\">\n<title>140189780738128-&gt;140189781499152</title>\n<path d=\"M263.5,-913.3799C263.5,-905.1745 263.5,-895.7679 263.5,-886.8786\" fill=\"none\" stroke=\"#000000\"/>\n<polygon fill=\"#000000\" points=\"267.0001,-886.784 263.5,-876.784 260.0001,-886.784 267.0001,-886.784\" stroke=\"#000000\"/>\n</g>\n<!-- 140189781499088 -->\n<g class=\"node\" id=\"node3\">\n<title>140189781499088</title>\n<polygon fill=\"none\" points=\"105,-747.5 105,-793.5 422,-793.5 422,-747.5 105,-747.5\" stroke=\"#000000\"/>\n<text fill=\"#000000\" font-family=\"Times,serif\" font-size=\"14.00\" text-anchor=\"middle\" x=\"172\" y=\"-766.8\">dropout_3: Dropout</text>\n<polyline fill=\"none\" points=\"239,-747.5 239,-793.5 \" stroke=\"#000000\"/>\n<text fill=\"#000000\" font-family=\"Times,serif\" font-size=\"14.00\" text-anchor=\"middle\" x=\"268\" y=\"-778.3\">input:</text>\n<polyline fill=\"none\" points=\"239,-770.5 297,-770.5 \" stroke=\"#000000\"/>\n<text fill=\"#000000\" font-family=\"Times,serif\" font-size=\"14.00\" text-anchor=\"middle\" x=\"268\" y=\"-755.3\">output:</text>\n<polyline fill=\"none\" points=\"297,-747.5 297,-793.5 \" stroke=\"#000000\"/>\n<text fill=\"#000000\" font-family=\"Times,serif\" font-size=\"14.00\" text-anchor=\"middle\" x=\"359.5\" y=\"-778.3\">(None, 62, 62, 64)</text>\n<polyline fill=\"none\" points=\"297,-770.5 422,-770.5 \" stroke=\"#000000\"/>\n<text fill=\"#000000\" font-family=\"Times,serif\" font-size=\"14.00\" text-anchor=\"middle\" x=\"359.5\" y=\"-755.3\">(None, 62, 62, 64)</text>\n</g>\n<!-- 140189781499152&#45;&gt;140189781499088 -->\n<g class=\"edge\" id=\"edge2\">\n<title>140189781499152-&gt;140189781499088</title>\n<path d=\"M263.5,-830.3799C263.5,-822.1745 263.5,-812.7679 263.5,-803.8786\" fill=\"none\" stroke=\"#000000\"/>\n<polygon fill=\"#000000\" points=\"267.0001,-803.784 263.5,-793.784 260.0001,-803.784 267.0001,-803.784\" stroke=\"#000000\"/>\n</g>\n<!-- 140202451994512 -->\n<g class=\"node\" id=\"node4\">\n<title>140202451994512</title>\n<polygon fill=\"none\" points=\"36.5,-664.5 36.5,-710.5 490.5,-710.5 490.5,-664.5 36.5,-664.5\" stroke=\"#000000\"/>\n<text fill=\"#000000\" font-family=\"Times,serif\" font-size=\"14.00\" text-anchor=\"middle\" x=\"172\" y=\"-683.8\">batch_normalization_1: BatchNormalization</text>\n<polyline fill=\"none\" points=\"307.5,-664.5 307.5,-710.5 \" stroke=\"#000000\"/>\n<text fill=\"#000000\" font-family=\"Times,serif\" font-size=\"14.00\" text-anchor=\"middle\" x=\"336.5\" y=\"-695.3\">input:</text>\n<polyline fill=\"none\" points=\"307.5,-687.5 365.5,-687.5 \" stroke=\"#000000\"/>\n<text fill=\"#000000\" font-family=\"Times,serif\" font-size=\"14.00\" text-anchor=\"middle\" x=\"336.5\" y=\"-672.3\">output:</text>\n<polyline fill=\"none\" points=\"365.5,-664.5 365.5,-710.5 \" stroke=\"#000000\"/>\n<text fill=\"#000000\" font-family=\"Times,serif\" font-size=\"14.00\" text-anchor=\"middle\" x=\"428\" y=\"-695.3\">(None, 62, 62, 64)</text>\n<polyline fill=\"none\" points=\"365.5,-687.5 490.5,-687.5 \" stroke=\"#000000\"/>\n<text fill=\"#000000\" font-family=\"Times,serif\" font-size=\"14.00\" text-anchor=\"middle\" x=\"428\" y=\"-672.3\">(None, 62, 62, 64)</text>\n</g>\n<!-- 140189781499088&#45;&gt;140202451994512 -->\n<g class=\"edge\" id=\"edge3\">\n<title>140189781499088-&gt;140202451994512</title>\n<path d=\"M263.5,-747.3799C263.5,-739.1745 263.5,-729.7679 263.5,-720.8786\" fill=\"none\" stroke=\"#000000\"/>\n<polygon fill=\"#000000\" points=\"267.0001,-720.784 263.5,-710.784 260.0001,-720.784 267.0001,-720.784\" stroke=\"#000000\"/>\n</g>\n<!-- 140200328972688 -->\n<g class=\"node\" id=\"node5\">\n<title>140200328972688</title>\n<polygon fill=\"none\" points=\"61.5,-581.5 61.5,-627.5 465.5,-627.5 465.5,-581.5 61.5,-581.5\" stroke=\"#000000\"/>\n<text fill=\"#000000\" font-family=\"Times,serif\" font-size=\"14.00\" text-anchor=\"middle\" x=\"172\" y=\"-600.8\">max_pooling2d_1: MaxPooling2D</text>\n<polyline fill=\"none\" points=\"282.5,-581.5 282.5,-627.5 \" stroke=\"#000000\"/>\n<text fill=\"#000000\" font-family=\"Times,serif\" font-size=\"14.00\" text-anchor=\"middle\" x=\"311.5\" y=\"-612.3\">input:</text>\n<polyline fill=\"none\" points=\"282.5,-604.5 340.5,-604.5 \" stroke=\"#000000\"/>\n<text fill=\"#000000\" font-family=\"Times,serif\" font-size=\"14.00\" text-anchor=\"middle\" x=\"311.5\" y=\"-589.3\">output:</text>\n<polyline fill=\"none\" points=\"340.5,-581.5 340.5,-627.5 \" stroke=\"#000000\"/>\n<text fill=\"#000000\" font-family=\"Times,serif\" font-size=\"14.00\" text-anchor=\"middle\" x=\"403\" y=\"-612.3\">(None, 62, 62, 64)</text>\n<polyline fill=\"none\" points=\"340.5,-604.5 465.5,-604.5 \" stroke=\"#000000\"/>\n<text fill=\"#000000\" font-family=\"Times,serif\" font-size=\"14.00\" text-anchor=\"middle\" x=\"403\" y=\"-589.3\">(None, 31, 31, 64)</text>\n</g>\n<!-- 140202451994512&#45;&gt;140200328972688 -->\n<g class=\"edge\" id=\"edge4\">\n<title>140202451994512-&gt;140200328972688</title>\n<path d=\"M263.5,-664.3799C263.5,-656.1745 263.5,-646.7679 263.5,-637.8786\" fill=\"none\" stroke=\"#000000\"/>\n<polygon fill=\"#000000\" points=\"267.0001,-637.784 263.5,-627.784 260.0001,-637.784 267.0001,-637.784\" stroke=\"#000000\"/>\n</g>\n<!-- 140189781408720 -->\n<g class=\"node\" id=\"node6\">\n<title>140189781408720</title>\n<polygon fill=\"none\" points=\"0,-498.5 0,-544.5 527,-544.5 527,-498.5 0,-498.5\" stroke=\"#000000\"/>\n<text fill=\"#000000\" font-family=\"Times,serif\" font-size=\"14.00\" text-anchor=\"middle\" x=\"172\" y=\"-517.8\">global_average_pooling2d_1: GlobalAveragePooling2D</text>\n<polyline fill=\"none\" points=\"344,-498.5 344,-544.5 \" stroke=\"#000000\"/>\n<text fill=\"#000000\" font-family=\"Times,serif\" font-size=\"14.00\" text-anchor=\"middle\" x=\"373\" y=\"-529.3\">input:</text>\n<polyline fill=\"none\" points=\"344,-521.5 402,-521.5 \" stroke=\"#000000\"/>\n<text fill=\"#000000\" font-family=\"Times,serif\" font-size=\"14.00\" text-anchor=\"middle\" x=\"373\" y=\"-506.3\">output:</text>\n<polyline fill=\"none\" points=\"402,-498.5 402,-544.5 \" stroke=\"#000000\"/>\n<text fill=\"#000000\" font-family=\"Times,serif\" font-size=\"14.00\" text-anchor=\"middle\" x=\"464.5\" y=\"-529.3\">(None, 31, 31, 64)</text>\n<polyline fill=\"none\" points=\"402,-521.5 527,-521.5 \" stroke=\"#000000\"/>\n<text fill=\"#000000\" font-family=\"Times,serif\" font-size=\"14.00\" text-anchor=\"middle\" x=\"464.5\" y=\"-506.3\">(None, 64)</text>\n</g>\n<!-- 140200328972688&#45;&gt;140189781408720 -->\n<g class=\"edge\" id=\"edge5\">\n<title>140200328972688-&gt;140189781408720</title>\n<path d=\"M263.5,-581.3799C263.5,-573.1745 263.5,-563.7679 263.5,-554.8786\" fill=\"none\" stroke=\"#000000\"/>\n<polygon fill=\"#000000\" points=\"267.0001,-554.784 263.5,-544.784 260.0001,-554.784 267.0001,-554.784\" stroke=\"#000000\"/>\n</g>\n<!-- 140189686082128 -->\n<g class=\"node\" id=\"node7\">\n<title>140189686082128</title>\n<polygon fill=\"none\" points=\"138,-415.5 138,-461.5 389,-461.5 389,-415.5 138,-415.5\" stroke=\"#000000\"/>\n<text fill=\"#000000\" font-family=\"Times,serif\" font-size=\"14.00\" text-anchor=\"middle\" x=\"194.5\" y=\"-434.8\">flatten_1: Flatten</text>\n<polyline fill=\"none\" points=\"251,-415.5 251,-461.5 \" stroke=\"#000000\"/>\n<text fill=\"#000000\" font-family=\"Times,serif\" font-size=\"14.00\" text-anchor=\"middle\" x=\"280\" y=\"-446.3\">input:</text>\n<polyline fill=\"none\" points=\"251,-438.5 309,-438.5 \" stroke=\"#000000\"/>\n<text fill=\"#000000\" font-family=\"Times,serif\" font-size=\"14.00\" text-anchor=\"middle\" x=\"280\" y=\"-423.3\">output:</text>\n<polyline fill=\"none\" points=\"309,-415.5 309,-461.5 \" stroke=\"#000000\"/>\n<text fill=\"#000000\" font-family=\"Times,serif\" font-size=\"14.00\" text-anchor=\"middle\" x=\"349\" y=\"-446.3\">(None, 64)</text>\n<polyline fill=\"none\" points=\"309,-438.5 389,-438.5 \" stroke=\"#000000\"/>\n<text fill=\"#000000\" font-family=\"Times,serif\" font-size=\"14.00\" text-anchor=\"middle\" x=\"349\" y=\"-423.3\">(None, 64)</text>\n</g>\n<!-- 140189781408720&#45;&gt;140189686082128 -->\n<g class=\"edge\" id=\"edge6\">\n<title>140189781408720-&gt;140189686082128</title>\n<path d=\"M263.5,-498.3799C263.5,-490.1745 263.5,-480.7679 263.5,-471.8786\" fill=\"none\" stroke=\"#000000\"/>\n<polygon fill=\"#000000\" points=\"267.0001,-471.784 263.5,-461.784 260.0001,-471.784 267.0001,-471.784\" stroke=\"#000000\"/>\n</g>\n<!-- 140202133509072 -->\n<g class=\"node\" id=\"node8\">\n<title>140202133509072</title>\n<polygon fill=\"none\" points=\"137.5,-332.5 137.5,-378.5 389.5,-378.5 389.5,-332.5 137.5,-332.5\" stroke=\"#000000\"/>\n<text fill=\"#000000\" font-family=\"Times,serif\" font-size=\"14.00\" text-anchor=\"middle\" x=\"191\" y=\"-351.8\">dense_3: Dense</text>\n<polyline fill=\"none\" points=\"244.5,-332.5 244.5,-378.5 \" stroke=\"#000000\"/>\n<text fill=\"#000000\" font-family=\"Times,serif\" font-size=\"14.00\" text-anchor=\"middle\" x=\"273.5\" y=\"-363.3\">input:</text>\n<polyline fill=\"none\" points=\"244.5,-355.5 302.5,-355.5 \" stroke=\"#000000\"/>\n<text fill=\"#000000\" font-family=\"Times,serif\" font-size=\"14.00\" text-anchor=\"middle\" x=\"273.5\" y=\"-340.3\">output:</text>\n<polyline fill=\"none\" points=\"302.5,-332.5 302.5,-378.5 \" stroke=\"#000000\"/>\n<text fill=\"#000000\" font-family=\"Times,serif\" font-size=\"14.00\" text-anchor=\"middle\" x=\"346\" y=\"-363.3\">(None, 64)</text>\n<polyline fill=\"none\" points=\"302.5,-355.5 389.5,-355.5 \" stroke=\"#000000\"/>\n<text fill=\"#000000\" font-family=\"Times,serif\" font-size=\"14.00\" text-anchor=\"middle\" x=\"346\" y=\"-340.3\">(None, 256)</text>\n</g>\n<!-- 140189686082128&#45;&gt;140202133509072 -->\n<g class=\"edge\" id=\"edge7\">\n<title>140189686082128-&gt;140202133509072</title>\n<path d=\"M263.5,-415.3799C263.5,-407.1745 263.5,-397.7679 263.5,-388.8786\" fill=\"none\" stroke=\"#000000\"/>\n<polygon fill=\"#000000\" points=\"267.0001,-388.784 263.5,-378.784 260.0001,-388.784 267.0001,-388.784\" stroke=\"#000000\"/>\n</g>\n<!-- 140189780687696 -->\n<g class=\"node\" id=\"node9\">\n<title>140189780687696</title>\n<polygon fill=\"none\" points=\"124,-249.5 124,-295.5 403,-295.5 403,-249.5 124,-249.5\" stroke=\"#000000\"/>\n<text fill=\"#000000\" font-family=\"Times,serif\" font-size=\"14.00\" text-anchor=\"middle\" x=\"191\" y=\"-268.8\">dropout_4: Dropout</text>\n<polyline fill=\"none\" points=\"258,-249.5 258,-295.5 \" stroke=\"#000000\"/>\n<text fill=\"#000000\" font-family=\"Times,serif\" font-size=\"14.00\" text-anchor=\"middle\" x=\"287\" y=\"-280.3\">input:</text>\n<polyline fill=\"none\" points=\"258,-272.5 316,-272.5 \" stroke=\"#000000\"/>\n<text fill=\"#000000\" font-family=\"Times,serif\" font-size=\"14.00\" text-anchor=\"middle\" x=\"287\" y=\"-257.3\">output:</text>\n<polyline fill=\"none\" points=\"316,-249.5 316,-295.5 \" stroke=\"#000000\"/>\n<text fill=\"#000000\" font-family=\"Times,serif\" font-size=\"14.00\" text-anchor=\"middle\" x=\"359.5\" y=\"-280.3\">(None, 256)</text>\n<polyline fill=\"none\" points=\"316,-272.5 403,-272.5 \" stroke=\"#000000\"/>\n<text fill=\"#000000\" font-family=\"Times,serif\" font-size=\"14.00\" text-anchor=\"middle\" x=\"359.5\" y=\"-257.3\">(None, 256)</text>\n</g>\n<!-- 140202133509072&#45;&gt;140189780687696 -->\n<g class=\"edge\" id=\"edge8\">\n<title>140202133509072-&gt;140189780687696</title>\n<path d=\"M263.5,-332.3799C263.5,-324.1745 263.5,-314.7679 263.5,-305.8786\" fill=\"none\" stroke=\"#000000\"/>\n<polygon fill=\"#000000\" points=\"267.0001,-305.784 263.5,-295.784 260.0001,-305.784 267.0001,-305.784\" stroke=\"#000000\"/>\n</g>\n<!-- 140189780750928 -->\n<g class=\"node\" id=\"node10\">\n<title>140189780750928</title>\n<polygon fill=\"none\" points=\"137.5,-166.5 137.5,-212.5 389.5,-212.5 389.5,-166.5 137.5,-166.5\" stroke=\"#000000\"/>\n<text fill=\"#000000\" font-family=\"Times,serif\" font-size=\"14.00\" text-anchor=\"middle\" x=\"191\" y=\"-185.8\">dense_4: Dense</text>\n<polyline fill=\"none\" points=\"244.5,-166.5 244.5,-212.5 \" stroke=\"#000000\"/>\n<text fill=\"#000000\" font-family=\"Times,serif\" font-size=\"14.00\" text-anchor=\"middle\" x=\"273.5\" y=\"-197.3\">input:</text>\n<polyline fill=\"none\" points=\"244.5,-189.5 302.5,-189.5 \" stroke=\"#000000\"/>\n<text fill=\"#000000\" font-family=\"Times,serif\" font-size=\"14.00\" text-anchor=\"middle\" x=\"273.5\" y=\"-174.3\">output:</text>\n<polyline fill=\"none\" points=\"302.5,-166.5 302.5,-212.5 \" stroke=\"#000000\"/>\n<text fill=\"#000000\" font-family=\"Times,serif\" font-size=\"14.00\" text-anchor=\"middle\" x=\"346\" y=\"-197.3\">(None, 256)</text>\n<polyline fill=\"none\" points=\"302.5,-189.5 389.5,-189.5 \" stroke=\"#000000\"/>\n<text fill=\"#000000\" font-family=\"Times,serif\" font-size=\"14.00\" text-anchor=\"middle\" x=\"346\" y=\"-174.3\">(None, 128)</text>\n</g>\n<!-- 140189780687696&#45;&gt;140189780750928 -->\n<g class=\"edge\" id=\"edge9\">\n<title>140189780687696-&gt;140189780750928</title>\n<path d=\"M263.5,-249.3799C263.5,-241.1745 263.5,-231.7679 263.5,-222.8786\" fill=\"none\" stroke=\"#000000\"/>\n<polygon fill=\"#000000\" points=\"267.0001,-222.784 263.5,-212.784 260.0001,-222.784 267.0001,-222.784\" stroke=\"#000000\"/>\n</g>\n<!-- 140198671660112 -->\n<g class=\"node\" id=\"node11\">\n<title>140198671660112</title>\n<polygon fill=\"none\" points=\"124,-83.5 124,-129.5 403,-129.5 403,-83.5 124,-83.5\" stroke=\"#000000\"/>\n<text fill=\"#000000\" font-family=\"Times,serif\" font-size=\"14.00\" text-anchor=\"middle\" x=\"191\" y=\"-102.8\">dropout_5: Dropout</text>\n<polyline fill=\"none\" points=\"258,-83.5 258,-129.5 \" stroke=\"#000000\"/>\n<text fill=\"#000000\" font-family=\"Times,serif\" font-size=\"14.00\" text-anchor=\"middle\" x=\"287\" y=\"-114.3\">input:</text>\n<polyline fill=\"none\" points=\"258,-106.5 316,-106.5 \" stroke=\"#000000\"/>\n<text fill=\"#000000\" font-family=\"Times,serif\" font-size=\"14.00\" text-anchor=\"middle\" x=\"287\" y=\"-91.3\">output:</text>\n<polyline fill=\"none\" points=\"316,-83.5 316,-129.5 \" stroke=\"#000000\"/>\n<text fill=\"#000000\" font-family=\"Times,serif\" font-size=\"14.00\" text-anchor=\"middle\" x=\"359.5\" y=\"-114.3\">(None, 128)</text>\n<polyline fill=\"none\" points=\"316,-106.5 403,-106.5 \" stroke=\"#000000\"/>\n<text fill=\"#000000\" font-family=\"Times,serif\" font-size=\"14.00\" text-anchor=\"middle\" x=\"359.5\" y=\"-91.3\">(None, 128)</text>\n</g>\n<!-- 140189780750928&#45;&gt;140198671660112 -->\n<g class=\"edge\" id=\"edge10\">\n<title>140189780750928-&gt;140198671660112</title>\n<path d=\"M263.5,-166.3799C263.5,-158.1745 263.5,-148.7679 263.5,-139.8786\" fill=\"none\" stroke=\"#000000\"/>\n<polygon fill=\"#000000\" points=\"267.0001,-139.784 263.5,-129.784 260.0001,-139.784 267.0001,-139.784\" stroke=\"#000000\"/>\n</g>\n<!-- 140189780807120 -->\n<g class=\"node\" id=\"node12\">\n<title>140189780807120</title>\n<polygon fill=\"none\" points=\"137.5,-.5 137.5,-46.5 389.5,-46.5 389.5,-.5 137.5,-.5\" stroke=\"#000000\"/>\n<text fill=\"#000000\" font-family=\"Times,serif\" font-size=\"14.00\" text-anchor=\"middle\" x=\"191\" y=\"-19.8\">dense_5: Dense</text>\n<polyline fill=\"none\" points=\"244.5,-.5 244.5,-46.5 \" stroke=\"#000000\"/>\n<text fill=\"#000000\" font-family=\"Times,serif\" font-size=\"14.00\" text-anchor=\"middle\" x=\"273.5\" y=\"-31.3\">input:</text>\n<polyline fill=\"none\" points=\"244.5,-23.5 302.5,-23.5 \" stroke=\"#000000\"/>\n<text fill=\"#000000\" font-family=\"Times,serif\" font-size=\"14.00\" text-anchor=\"middle\" x=\"273.5\" y=\"-8.3\">output:</text>\n<polyline fill=\"none\" points=\"302.5,-.5 302.5,-46.5 \" stroke=\"#000000\"/>\n<text fill=\"#000000\" font-family=\"Times,serif\" font-size=\"14.00\" text-anchor=\"middle\" x=\"346\" y=\"-31.3\">(None, 128)</text>\n<polyline fill=\"none\" points=\"302.5,-23.5 389.5,-23.5 \" stroke=\"#000000\"/>\n<text fill=\"#000000\" font-family=\"Times,serif\" font-size=\"14.00\" text-anchor=\"middle\" x=\"346\" y=\"-8.3\">(None, 4)</text>\n</g>\n<!-- 140198671660112&#45;&gt;140189780807120 -->\n<g class=\"edge\" id=\"edge11\">\n<title>140198671660112-&gt;140189780807120</title>\n<path d=\"M263.5,-83.3799C263.5,-75.1745 263.5,-65.7679 263.5,-56.8786\" fill=\"none\" stroke=\"#000000\"/>\n<polygon fill=\"#000000\" points=\"267.0001,-56.784 263.5,-46.784 260.0001,-56.784 267.0001,-56.784\" stroke=\"#000000\"/>\n</g>\n</g>\n</svg>"
          },
          "metadata": {
            "tags": []
          },
          "execution_count": 21
        }
      ]
    },
    {
      "cell_type": "code",
      "metadata": {
        "id": "xu_OCP0iXdFr",
        "colab": {
          "base_uri": "https://localhost:8080/"
        },
        "outputId": "0e852e1f-79ef-429a-9e9b-0e1feb9af4ea"
      },
      "source": [
        "model.summary()\n",
        "\n",
        "#opt = keras.optimizers.Adam(learning_rate=0.001, beta_1=0.9, beta_2=0.999, epsilon=None, decay=0.0, amsgrad=False)\n",
        "#opt = keras.optimizers.SGD(learning_rate=0.001)\n",
        "#opt = keras.optimizers.SGD(learning_rate=0.001, momentum=0.9)\n",
        "opt = keras.optimizers.SGD(learning_rate=0.001, momentum=0.9, nesterov=True)\n",
        "#opt = keras.optimizers.Adagrad(learning_rate=0.001, epsilon=1e-6)\n",
        "#opt = keras.optimizers.Adadelta(learning_rate=1.0, rho=0.95, epsilon=None, decay=0.0)\n",
        "\n",
        "model.compile(loss='categorical_crossentropy', optimizer=opt, metrics=[\"accuracy\"])\n",
        "\n",
        "history = model.fit(x=X_train, y=y_train, epochs=80, batch_size=30, shuffle=True, validation_split=0.2)\n",
        "\n",
        "# Result\n",
        "loss, acc = model.evaluate(X_test, y_test)\n",
        "print(\"\\nLoss: {}, Acc: {}\".format(loss,acc))"
      ],
      "execution_count": 29,
      "outputs": [
        {
          "output_type": "stream",
          "text": [
            "Model: \"sequential_1\"\n",
            "_________________________________________________________________\n",
            "Layer (type)                 Output Shape              Param #   \n",
            "=================================================================\n",
            "conv_lst_m2d_1 (ConvLSTM2D)  (None, 62, 62, 64)        154624    \n",
            "_________________________________________________________________\n",
            "dropout_3 (Dropout)          (None, 62, 62, 64)        0         \n",
            "_________________________________________________________________\n",
            "batch_normalization_1 (Batch (None, 62, 62, 64)        256       \n",
            "_________________________________________________________________\n",
            "max_pooling2d_1 (MaxPooling2 (None, 31, 31, 64)        0         \n",
            "_________________________________________________________________\n",
            "global_average_pooling2d_1 ( (None, 64)                0         \n",
            "_________________________________________________________________\n",
            "flatten_1 (Flatten)          (None, 64)                0         \n",
            "_________________________________________________________________\n",
            "dense_3 (Dense)              (None, 256)               16640     \n",
            "_________________________________________________________________\n",
            "dropout_4 (Dropout)          (None, 256)               0         \n",
            "_________________________________________________________________\n",
            "dense_4 (Dense)              (None, 128)               32896     \n",
            "_________________________________________________________________\n",
            "dropout_5 (Dropout)          (None, 128)               0         \n",
            "_________________________________________________________________\n",
            "dense_5 (Dense)              (None, 4)                 516       \n",
            "=================================================================\n",
            "Total params: 204,932\n",
            "Trainable params: 204,804\n",
            "Non-trainable params: 128\n",
            "_________________________________________________________________\n",
            "Epoch 1/80\n",
            "22/22 [==============================] - 12s 389ms/step - loss: 1.2893 - accuracy: 0.4005 - val_loss: 1.3224 - val_accuracy: 0.3598\n",
            "Epoch 2/80\n",
            "22/22 [==============================] - 8s 342ms/step - loss: 1.2611 - accuracy: 0.4587 - val_loss: 1.3134 - val_accuracy: 0.3598\n",
            "Epoch 3/80\n",
            "22/22 [==============================] - 8s 343ms/step - loss: 1.2451 - accuracy: 0.4527 - val_loss: 1.3075 - val_accuracy: 0.3598\n",
            "Epoch 4/80\n",
            "22/22 [==============================] - 8s 343ms/step - loss: 1.2592 - accuracy: 0.4207 - val_loss: 1.3151 - val_accuracy: 0.3598\n",
            "Epoch 5/80\n",
            "22/22 [==============================] - 8s 343ms/step - loss: 1.2495 - accuracy: 0.4152 - val_loss: 1.2982 - val_accuracy: 0.3598\n",
            "Epoch 6/80\n",
            "22/22 [==============================] - 8s 343ms/step - loss: 1.2350 - accuracy: 0.4634 - val_loss: 1.3738 - val_accuracy: 0.3598\n",
            "Epoch 7/80\n",
            "22/22 [==============================] - 8s 342ms/step - loss: 1.2731 - accuracy: 0.4116 - val_loss: 1.6016 - val_accuracy: 0.3598\n",
            "Epoch 8/80\n",
            "22/22 [==============================] - 7s 342ms/step - loss: 1.2893 - accuracy: 0.4137 - val_loss: 1.3676 - val_accuracy: 0.3598\n",
            "Epoch 9/80\n",
            "22/22 [==============================] - 8s 342ms/step - loss: 1.2902 - accuracy: 0.4064 - val_loss: 1.3361 - val_accuracy: 0.3598\n",
            "Epoch 10/80\n",
            "22/22 [==============================] - 8s 342ms/step - loss: 1.2860 - accuracy: 0.3988 - val_loss: 1.3138 - val_accuracy: 0.3598\n",
            "Epoch 11/80\n",
            "22/22 [==============================] - 8s 343ms/step - loss: 1.2735 - accuracy: 0.4266 - val_loss: 1.2976 - val_accuracy: 0.3598\n",
            "Epoch 12/80\n",
            "22/22 [==============================] - 8s 343ms/step - loss: 1.2348 - accuracy: 0.4578 - val_loss: 1.2998 - val_accuracy: 0.3598\n",
            "Epoch 13/80\n",
            "22/22 [==============================] - 7s 342ms/step - loss: 1.2672 - accuracy: 0.4271 - val_loss: 1.3242 - val_accuracy: 0.3598\n",
            "Epoch 14/80\n",
            "22/22 [==============================] - 8s 342ms/step - loss: 1.2762 - accuracy: 0.4196 - val_loss: 1.3145 - val_accuracy: 0.3598\n",
            "Epoch 15/80\n",
            "22/22 [==============================] - 7s 342ms/step - loss: 1.2679 - accuracy: 0.4184 - val_loss: 1.3306 - val_accuracy: 0.3598\n",
            "Epoch 16/80\n",
            "22/22 [==============================] - 8s 342ms/step - loss: 1.2748 - accuracy: 0.4118 - val_loss: 1.3125 - val_accuracy: 0.3598\n",
            "Epoch 17/80\n",
            "22/22 [==============================] - 8s 343ms/step - loss: 1.2814 - accuracy: 0.4122 - val_loss: 1.2848 - val_accuracy: 0.3598\n",
            "Epoch 18/80\n",
            "22/22 [==============================] - 8s 343ms/step - loss: 1.2460 - accuracy: 0.4245 - val_loss: 1.2897 - val_accuracy: 0.3780\n",
            "Epoch 19/80\n",
            "22/22 [==============================] - 8s 343ms/step - loss: 1.2713 - accuracy: 0.4079 - val_loss: 1.2828 - val_accuracy: 0.3902\n",
            "Epoch 20/80\n",
            "22/22 [==============================] - 8s 342ms/step - loss: 1.2694 - accuracy: 0.4108 - val_loss: 1.2763 - val_accuracy: 0.3902\n",
            "Epoch 21/80\n",
            "22/22 [==============================] - 8s 342ms/step - loss: 1.2255 - accuracy: 0.4454 - val_loss: 1.3066 - val_accuracy: 0.4085\n",
            "Epoch 22/80\n",
            "22/22 [==============================] - 7s 342ms/step - loss: 1.2477 - accuracy: 0.4308 - val_loss: 1.2954 - val_accuracy: 0.4146\n",
            "Epoch 23/80\n",
            "22/22 [==============================] - 8s 342ms/step - loss: 1.2306 - accuracy: 0.4251 - val_loss: 1.3042 - val_accuracy: 0.4207\n",
            "Epoch 24/80\n",
            "22/22 [==============================] - 7s 342ms/step - loss: 1.2701 - accuracy: 0.4277 - val_loss: 1.3173 - val_accuracy: 0.4329\n",
            "Epoch 25/80\n",
            "22/22 [==============================] - 8s 343ms/step - loss: 1.2639 - accuracy: 0.4325 - val_loss: 1.3152 - val_accuracy: 0.4146\n",
            "Epoch 26/80\n",
            "22/22 [==============================] - 7s 342ms/step - loss: 1.2398 - accuracy: 0.4216 - val_loss: 1.3050 - val_accuracy: 0.4146\n",
            "Epoch 27/80\n",
            "22/22 [==============================] - 8s 342ms/step - loss: 1.2643 - accuracy: 0.4267 - val_loss: 1.2788 - val_accuracy: 0.3841\n",
            "Epoch 28/80\n",
            "22/22 [==============================] - 8s 342ms/step - loss: 1.2505 - accuracy: 0.4189 - val_loss: 1.2880 - val_accuracy: 0.4451\n",
            "Epoch 29/80\n",
            "22/22 [==============================] - 8s 342ms/step - loss: 1.2643 - accuracy: 0.4184 - val_loss: 1.4279 - val_accuracy: 0.3598\n",
            "Epoch 30/80\n",
            "22/22 [==============================] - 8s 342ms/step - loss: 1.2844 - accuracy: 0.4060 - val_loss: 1.4188 - val_accuracy: 0.3598\n",
            "Epoch 31/80\n",
            "22/22 [==============================] - 7s 342ms/step - loss: 1.2947 - accuracy: 0.3663 - val_loss: 1.3363 - val_accuracy: 0.3598\n",
            "Epoch 32/80\n",
            "22/22 [==============================] - 7s 342ms/step - loss: 1.2627 - accuracy: 0.4209 - val_loss: 1.2990 - val_accuracy: 0.3598\n",
            "Epoch 33/80\n",
            "22/22 [==============================] - 7s 342ms/step - loss: 1.2720 - accuracy: 0.4214 - val_loss: 1.2969 - val_accuracy: 0.3598\n",
            "Epoch 34/80\n",
            "22/22 [==============================] - 8s 343ms/step - loss: 1.2656 - accuracy: 0.4177 - val_loss: 1.3111 - val_accuracy: 0.3598\n",
            "Epoch 35/80\n",
            "22/22 [==============================] - 8s 343ms/step - loss: 1.2523 - accuracy: 0.4148 - val_loss: 1.3184 - val_accuracy: 0.4695\n",
            "Epoch 36/80\n",
            "22/22 [==============================] - 8s 342ms/step - loss: 1.2689 - accuracy: 0.4290 - val_loss: 1.3133 - val_accuracy: 0.4756\n",
            "Epoch 37/80\n",
            "22/22 [==============================] - 8s 342ms/step - loss: 1.2750 - accuracy: 0.4236 - val_loss: 1.2857 - val_accuracy: 0.3720\n",
            "Epoch 38/80\n",
            "22/22 [==============================] - 8s 342ms/step - loss: 1.2633 - accuracy: 0.4340 - val_loss: 1.3096 - val_accuracy: 0.4695\n",
            "Epoch 39/80\n",
            "22/22 [==============================] - 8s 342ms/step - loss: 1.2233 - accuracy: 0.4408 - val_loss: 1.2980 - val_accuracy: 0.3659\n",
            "Epoch 40/80\n",
            "22/22 [==============================] - 8s 342ms/step - loss: 1.2424 - accuracy: 0.4520 - val_loss: 1.2771 - val_accuracy: 0.4207\n",
            "Epoch 41/80\n",
            "22/22 [==============================] - 8s 342ms/step - loss: 1.2598 - accuracy: 0.4464 - val_loss: 1.2971 - val_accuracy: 0.4207\n",
            "Epoch 42/80\n",
            "22/22 [==============================] - 7s 342ms/step - loss: 1.2679 - accuracy: 0.4137 - val_loss: 1.3136 - val_accuracy: 0.4207\n",
            "Epoch 43/80\n",
            "22/22 [==============================] - 8s 343ms/step - loss: 1.2762 - accuracy: 0.4029 - val_loss: 1.2847 - val_accuracy: 0.4146\n",
            "Epoch 44/80\n",
            "22/22 [==============================] - 7s 342ms/step - loss: 1.2471 - accuracy: 0.4060 - val_loss: 1.2899 - val_accuracy: 0.4634\n",
            "Epoch 45/80\n",
            "22/22 [==============================] - 7s 342ms/step - loss: 1.2066 - accuracy: 0.4531 - val_loss: 1.2904 - val_accuracy: 0.4573\n",
            "Epoch 46/80\n",
            "22/22 [==============================] - 7s 342ms/step - loss: 1.2244 - accuracy: 0.4598 - val_loss: 1.2832 - val_accuracy: 0.4085\n",
            "Epoch 47/80\n",
            "22/22 [==============================] - 7s 342ms/step - loss: 1.2454 - accuracy: 0.4359 - val_loss: 1.2877 - val_accuracy: 0.3841\n",
            "Epoch 48/80\n",
            "22/22 [==============================] - 7s 342ms/step - loss: 1.2428 - accuracy: 0.4404 - val_loss: 1.3012 - val_accuracy: 0.4390\n",
            "Epoch 49/80\n",
            "22/22 [==============================] - 7s 342ms/step - loss: 1.2283 - accuracy: 0.4662 - val_loss: 1.2916 - val_accuracy: 0.4634\n",
            "Epoch 50/80\n",
            "22/22 [==============================] - 8s 342ms/step - loss: 1.2347 - accuracy: 0.4445 - val_loss: 1.2798 - val_accuracy: 0.4207\n",
            "Epoch 51/80\n",
            "22/22 [==============================] - 8s 342ms/step - loss: 1.2179 - accuracy: 0.4672 - val_loss: 1.3037 - val_accuracy: 0.4329\n",
            "Epoch 52/80\n",
            "22/22 [==============================] - 8s 342ms/step - loss: 1.2340 - accuracy: 0.4582 - val_loss: 1.2792 - val_accuracy: 0.4268\n",
            "Epoch 53/80\n",
            "22/22 [==============================] - 8s 343ms/step - loss: 1.2541 - accuracy: 0.4113 - val_loss: 1.2841 - val_accuracy: 0.3659\n",
            "Epoch 54/80\n",
            "22/22 [==============================] - 7s 342ms/step - loss: 1.2251 - accuracy: 0.4485 - val_loss: 1.2806 - val_accuracy: 0.4146\n",
            "Epoch 55/80\n",
            "22/22 [==============================] - 8s 342ms/step - loss: 1.2312 - accuracy: 0.4336 - val_loss: 1.3322 - val_accuracy: 0.3780\n",
            "Epoch 56/80\n",
            "22/22 [==============================] - 7s 342ms/step - loss: 1.2968 - accuracy: 0.4173 - val_loss: 1.3179 - val_accuracy: 0.3598\n",
            "Epoch 57/80\n",
            "22/22 [==============================] - 7s 342ms/step - loss: 1.2729 - accuracy: 0.4201 - val_loss: 1.3253 - val_accuracy: 0.3780\n",
            "Epoch 58/80\n",
            "22/22 [==============================] - 7s 341ms/step - loss: 1.2612 - accuracy: 0.4349 - val_loss: 1.2954 - val_accuracy: 0.4451\n",
            "Epoch 59/80\n",
            "22/22 [==============================] - 7s 342ms/step - loss: 1.2672 - accuracy: 0.4019 - val_loss: 1.2918 - val_accuracy: 0.3902\n",
            "Epoch 60/80\n",
            "22/22 [==============================] - 7s 342ms/step - loss: 1.2415 - accuracy: 0.4477 - val_loss: 1.2924 - val_accuracy: 0.3902\n",
            "Epoch 61/80\n",
            "22/22 [==============================] - 7s 342ms/step - loss: 1.2747 - accuracy: 0.3999 - val_loss: 1.2825 - val_accuracy: 0.4085\n",
            "Epoch 62/80\n",
            "22/22 [==============================] - 7s 342ms/step - loss: 1.2508 - accuracy: 0.4307 - val_loss: 1.2908 - val_accuracy: 0.3537\n",
            "Epoch 63/80\n",
            "22/22 [==============================] - 8s 342ms/step - loss: 1.2471 - accuracy: 0.4412 - val_loss: 1.3105 - val_accuracy: 0.3598\n",
            "Epoch 64/80\n",
            "22/22 [==============================] - 7s 342ms/step - loss: 1.2112 - accuracy: 0.4547 - val_loss: 1.3511 - val_accuracy: 0.3537\n",
            "Epoch 65/80\n",
            "22/22 [==============================] - 7s 341ms/step - loss: 1.2527 - accuracy: 0.4350 - val_loss: 1.2868 - val_accuracy: 0.4268\n",
            "Epoch 66/80\n",
            "22/22 [==============================] - 7s 342ms/step - loss: 1.2351 - accuracy: 0.4370 - val_loss: 1.2792 - val_accuracy: 0.4207\n",
            "Epoch 67/80\n",
            "22/22 [==============================] - 8s 342ms/step - loss: 1.2305 - accuracy: 0.4656 - val_loss: 1.3009 - val_accuracy: 0.3720\n",
            "Epoch 68/80\n",
            "22/22 [==============================] - 7s 342ms/step - loss: 1.2347 - accuracy: 0.4250 - val_loss: 1.2767 - val_accuracy: 0.4207\n",
            "Epoch 69/80\n",
            "22/22 [==============================] - 7s 342ms/step - loss: 1.2613 - accuracy: 0.4042 - val_loss: 1.2779 - val_accuracy: 0.4634\n",
            "Epoch 70/80\n",
            "22/22 [==============================] - 8s 342ms/step - loss: 1.2556 - accuracy: 0.4241 - val_loss: 1.2854 - val_accuracy: 0.3841\n",
            "Epoch 71/80\n",
            "22/22 [==============================] - 8s 343ms/step - loss: 1.2315 - accuracy: 0.4492 - val_loss: 1.2951 - val_accuracy: 0.4390\n",
            "Epoch 72/80\n",
            "22/22 [==============================] - 7s 342ms/step - loss: 1.2487 - accuracy: 0.4257 - val_loss: 1.2974 - val_accuracy: 0.4573\n",
            "Epoch 73/80\n",
            "22/22 [==============================] - 8s 342ms/step - loss: 1.2248 - accuracy: 0.4471 - val_loss: 1.3030 - val_accuracy: 0.4512\n",
            "Epoch 74/80\n",
            "22/22 [==============================] - 8s 343ms/step - loss: 1.2125 - accuracy: 0.4447 - val_loss: 1.2890 - val_accuracy: 0.4268\n",
            "Epoch 75/80\n",
            "22/22 [==============================] - 7s 342ms/step - loss: 1.1968 - accuracy: 0.4904 - val_loss: 1.3200 - val_accuracy: 0.4268\n",
            "Epoch 76/80\n",
            "22/22 [==============================] - 8s 343ms/step - loss: 1.2259 - accuracy: 0.4464 - val_loss: 1.2858 - val_accuracy: 0.4512\n",
            "Epoch 77/80\n",
            "22/22 [==============================] - 8s 342ms/step - loss: 1.1838 - accuracy: 0.4902 - val_loss: 1.2975 - val_accuracy: 0.4390\n",
            "Epoch 78/80\n",
            "22/22 [==============================] - 8s 342ms/step - loss: 1.1949 - accuracy: 0.4590 - val_loss: 1.2697 - val_accuracy: 0.4390\n",
            "Epoch 79/80\n",
            "22/22 [==============================] - 8s 342ms/step - loss: 1.2189 - accuracy: 0.4208 - val_loss: 1.3076 - val_accuracy: 0.3720\n",
            "Epoch 80/80\n",
            "22/22 [==============================] - 7s 342ms/step - loss: 1.2048 - accuracy: 0.4505 - val_loss: 1.2925 - val_accuracy: 0.4512\n",
            "7/7 [==============================] - 1s 91ms/step - loss: 1.2889 - accuracy: 0.4488\n",
            "\n",
            "Loss: 1.288858413696289, Acc: 0.44878047704696655\n"
          ],
          "name": "stdout"
        }
      ]
    },
    {
      "cell_type": "code",
      "metadata": {
        "colab": {
          "base_uri": "https://localhost:8080/",
          "height": 573
        },
        "id": "03EgVD9bI03A",
        "outputId": "620f9479-b2cd-4495-d630-c9064b99244e"
      },
      "source": [
        "# Visualize the plot\n",
        "\n",
        "## summarize history for accuracy\n",
        "plt.plot(history.history['accuracy'])\n",
        "plt.plot(history.history['val_accuracy'])\n",
        "plt.title('model accuracy')\n",
        "plt.ylabel('accuracy')\n",
        "plt.xlabel('epoch')\n",
        "plt.legend(['train', 'test'], loc='upper left')\n",
        "plt.show()\n",
        "## summarize history for loss\n",
        "plt.plot(history.history['loss'])\n",
        "plt.plot(history.history['val_loss'])\n",
        "plt.title('model loss')\n",
        "plt.ylabel('loss')\n",
        "plt.xlabel('epoch')\n",
        "plt.legend(['train', 'test'], loc='upper left')\n",
        "plt.show()"
      ],
      "execution_count": 30,
      "outputs": [
        {
          "output_type": "display_data",
          "data": {
            "image/png": "[encoded data removed]",
            "text/plain": [
              "<Figure size 432x288 with 1 Axes>"
            ]
          },
          "metadata": {
            "tags": [],
            "needs_background": "light"
          }
        },
        {
          "output_type": "display_data",
          "data": {
            "image/png": "[encoded data removed]",
            "text/plain": [
              "<Figure size 432x288 with 1 Axes>"
            ]
          },
          "metadata": {
            "tags": [],
            "needs_background": "light"
          }
        }
      ]
    },
    {
      "cell_type": "code",
      "metadata": {
        "id": "6MM-uKMXKbc5"
      },
      "source": [
        "predictions = model.predict(X_test)\n",
        "print('prediction result: ',np.argmax(predictions[0]))\n",
        "print('actual result: ', y_test[0])\n",
        "\n",
        "# Evaluation of model\n",
        "y_pred = model.predict(X_test)\n",
        "y_pred = np.argmax(y_pred, axis=1)\n",
        "y_test = np.argmax(y_test, axis=1)\n",
        "print('classification report\\n')\n",
        "print(classification_report(y_test, y_pred))"
      ],
      "execution_count": null,
      "outputs": []
    },
    {
      "cell_type": "code",
      "metadata": {
        "colab": {
          "base_uri": "https://localhost:8080/"
        },
        "id": "IYnev14UAi_m",
        "outputId": "ec939066-fef1-4858-a06d-e013753ec1c4"
      },
      "source": [
        "# Evaluation of model\n",
        "y_pred = model.predict(X_test)\n",
        "y_pred = np.argmax(y_pred, axis = 1)\n",
        "y_test = np.argmax(y_test, axis = 1)\n",
        "#print('y test:', y_test)\n",
        "print('Classification Report:\\n')\n",
        "print(classification_report(y_test, y_pred))\n",
        "\n",
        "# Confusion Matrix\n",
        "cm = confusion_matrix(y_test, y_pred) \n",
        "print('confusion matrix:\\n ', cm)"
      ],
      "execution_count": 31,
      "outputs": [
        {
          "output_type": "stream",
          "text": [
            "Classification Report:\n",
            "\n",
            "              precision    recall  f1-score   support\n",
            "\n",
            "           0       0.28      0.82      0.42        28\n",
            "           1       0.00      0.00      0.00        47\n",
            "           2       0.00      0.00      0.00        41\n",
            "           3       0.56      0.78      0.65        89\n",
            "\n",
            "    accuracy                           0.45       205\n",
            "   macro avg       0.21      0.40      0.27       205\n",
            "weighted avg       0.28      0.45      0.34       205\n",
            "\n",
            "confusion matrix:\n",
            "  [[23  0  0  5]\n",
            " [14  0  0 33]\n",
            " [24  1  0 16]\n",
            " [20  0  0 69]]\n"
          ],
          "name": "stdout"
        },
        {
          "output_type": "stream",
          "text": [
            "/usr/local/lib/python3.7/dist-packages/sklearn/metrics/_classification.py:1272: UndefinedMetricWarning: Precision and F-score are ill-defined and being set to 0.0 in labels with no predicted samples. Use `zero_division` parameter to control this behavior.\n",
            "  _warn_prf(average, modifier, msg_start, len(result))\n"
          ],
          "name": "stderr"
        }
      ]
    }
  ]
}