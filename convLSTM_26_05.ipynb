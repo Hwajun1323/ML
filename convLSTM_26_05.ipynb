{
  "nbformat": 4,
  "nbformat_minor": 0,
  "metadata": {
    "colab": {
      "name": "convLSTM.ipynb",
      "provenance": [],
      "collapsed_sections": [],
      "machine_shape": "hm",
      "mount_file_id": "1XnAaPpzTOwHYzrEg_H0alWQisudlbZ3V",
      "authorship_tag": "ABX9TyPI0ckfhAzER0CE/ysTiOuU",
      "include_colab_link": true
    },
    "kernelspec": {
      "name": "python3",
      "display_name": "Python 3"
    },
    "language_info": {
      "name": "python"
    },
    "accelerator": "GPU"
  },
  "cells": [
    {
      "cell_type": "markdown",
      "metadata": {
        "id": "view-in-github",
        "colab_type": "text"
      },
      "source": [
        "<a href=\"https://colab.research.google.com/github/Hwajun1323/ML/blob/master/convLSTM_26_05.ipynb\" target=\"_parent\"><img src=\"https://colab.research.google.com/assets/colab-badge.svg\" alt=\"Open In Colab\"/></a>"
      ]
    },
    {
      "cell_type": "code",
      "metadata": {
        "id": "-lJjS99is-Fw",
        "colab": {
          "base_uri": "https://localhost:8080/"
        },
        "outputId": "3647c45f-56e8-4170-e2ba-5f88899b198c"
      },
      "source": [
        "pip install keras-metrics"
      ],
      "execution_count": 2,
      "outputs": [
        {
          "output_type": "stream",
          "text": [
            "Requirement already satisfied: keras-metrics in /usr/local/lib/python3.7/dist-packages (1.1.0)\n",
            "Requirement already satisfied: Keras>=2.1.5 in /usr/local/lib/python3.7/dist-packages (from keras-metrics) (2.4.3)\n",
            "Requirement already satisfied: scipy>=0.14 in /usr/local/lib/python3.7/dist-packages (from Keras>=2.1.5->keras-metrics) (1.4.1)\n",
            "Requirement already satisfied: numpy>=1.9.1 in /usr/local/lib/python3.7/dist-packages (from Keras>=2.1.5->keras-metrics) (1.19.5)\n",
            "Requirement already satisfied: pyyaml in /usr/local/lib/python3.7/dist-packages (from Keras>=2.1.5->keras-metrics) (3.13)\n",
            "Requirement already satisfied: h5py in /usr/local/lib/python3.7/dist-packages (from Keras>=2.1.5->keras-metrics) (3.1.0)\n",
            "Requirement already satisfied: cached-property; python_version < \"3.8\" in /usr/local/lib/python3.7/dist-packages (from h5py->Keras>=2.1.5->keras-metrics) (1.5.2)\n"
          ],
          "name": "stdout"
        }
      ]
    },
    {
      "cell_type": "code",
      "metadata": {
        "id": "GQ0gCXmlfZX8"
      },
      "source": [
        "import keras\n",
        "from keras import applications\n",
        "from keras.preprocessing.image import ImageDataGenerator\n",
        "from keras import optimizers\n",
        "from keras.models import Sequential, Model\n",
        "from keras.layers import *\n",
        "from keras.callbacks import ModelCheckpoint, LearningRateScheduler, TensorBoard, EarlyStopping\n",
        "\n",
        "import os\n",
        "import cv2\n",
        "import numpy as np\n",
        "from sklearn.model_selection import train_test_split\n",
        "from sklearn.model_selection import cross_val_score , cross_validate\n",
        "import keras_metrics as km\n",
        "\n",
        "from sklearn.metrics import accuracy_score\n",
        "from sklearn.metrics import precision_score\n",
        "from sklearn.metrics import recall_score\n",
        "from sklearn.metrics import f1_score\n",
        "from sklearn.metrics import cohen_kappa_score\n",
        "from sklearn.metrics import roc_auc_score\n",
        "from sklearn.metrics import multilabel_confusion_matrix\n",
        "from sklearn.metrics import classification_report\n",
        "from sklearn.metrics import confusion_matrix\n",
        "\n",
        "import matplotlib.pyplot as plt"
      ],
      "execution_count": 3,
      "outputs": []
    },
    {
      "cell_type": "code",
      "metadata": {
        "id": "CiVFsiIWffUd",
        "colab": {
          "base_uri": "https://localhost:8080/"
        },
        "outputId": "68685a4f-2719-40c5-86e3-7be84fcf340e"
      },
      "source": [
        "data_dir = \"/content/drive/My Drive/dataset/video_data\"\n",
        "#data_dir = \"video_data/\"\n",
        "img_height, img_width = 64, 64\n",
        "seq_len = 70\n",
        "\n",
        "classes = [\"Child's room\",  \"Museum\", \"Office\", \"Restaurant\"]\n",
        "num_classes = len(classes)\n",
        "print(\"Number of Class: \", num_classes)\n",
        "\n",
        "#  Creating frames from videos\n",
        "\n",
        "def frames_extraction(video_path):\n",
        "    frames_list = []\n",
        "\n",
        "    vidObj = cv2.VideoCapture(video_path)\n",
        "    # Used as counter variable\n",
        "    count = 1\n",
        "\n",
        "    while count <= seq_len:\n",
        "        success, image = vidObj.read()\n",
        "        if success:\n",
        "            image = cv2.resize(image, (img_height, img_width))\n",
        "            frames_list.append(image)\n",
        "            count += 1\n",
        "        else:\n",
        "            print(\"Defected frame\")\n",
        "            break\n",
        "\n",
        "    return frames_list\n",
        "\n",
        "# Create the actual data from the sequence of images\n",
        "\n",
        "def create_data(input_dir):\n",
        "    X = []\n",
        "    Y = []\n",
        "\n",
        "    classes_list = os.listdir(input_dir)\n",
        "\n",
        "    for c in classes_list:\n",
        "        print(c)\n",
        "        files_list = os.listdir(os.path.join(input_dir, c))\n",
        "        for f in files_list:\n",
        "            frames = frames_extraction(os.path.join(os.path.join(input_dir, c), f))\n",
        "            if len(frames) == seq_len:\n",
        "                X.append(frames)\n",
        "\n",
        "                y = [0] * len(classes)\n",
        "                y[classes.index(c)] = 1\n",
        "                Y.append(y)\n",
        "\n",
        "    X = np.asarray(X)\n",
        "    Y = np.asarray(Y)\n",
        "    \n",
        "    return X, Y"
      ],
      "execution_count": 5,
      "outputs": [
        {
          "output_type": "stream",
          "text": [
            "Number of Class:  4\n"
          ],
          "name": "stdout"
        }
      ]
    },
    {
      "cell_type": "code",
      "metadata": {
        "id": "G6nClQdnRTwb",
        "colab": {
          "base_uri": "https://localhost:8080/"
        },
        "outputId": "28681d03-2091-499e-a370-256868cb5753"
      },
      "source": [
        "X, Y = create_data(data_dir)\n",
        "\n",
        "X_train, X_test, y_train, y_test = train_test_split(X, Y, test_size=0.20, shuffle=True, random_state=0)\n",
        "\n",
        "print(X_train.shape)\n",
        "print(X_test.shape)\n",
        "print(y_train.shape)\n",
        "print(y_test.shape)"
      ],
      "execution_count": 6,
      "outputs": [
        {
          "output_type": "stream",
          "text": [
            "Child's room\n",
            "Restaurant\n",
            "Office\n",
            "Defected frame\n",
            "Defected frame\n",
            "Museum\n",
            "(816, 70, 64, 64, 3)\n",
            "(205, 70, 64, 64, 3)\n",
            "(816, 4)\n",
            "(205, 4)\n"
          ],
          "name": "stdout"
        }
      ]
    },
    {
      "cell_type": "code",
      "metadata": {
        "colab": {
          "base_uri": "https://localhost:8080/"
        },
        "id": "h_v-9iPAIv_E",
        "outputId": "7baa66d5-22aa-4763-bea8-c4ae9e9b3750"
      },
      "source": [
        "model = Sequential()\n",
        "\n",
        "model.add(ConvLSTM2D(filters=64, kernel_size=(3, 3), return_sequences=False, data_format=\"channels_last\", input_shape=(seq_len, img_height, img_width, 3)))\n",
        "model.add(Dropout(0.5))\n",
        "\n",
        "model.add(BatchNormalization())\n",
        "model.add(MaxPooling2D(pool_size = (2, 2)))\n",
        "model.add(GlobalAveragePooling2D())\n",
        "\n",
        "model.add(Flatten())\n",
        "model.add(Dense(256, activation=\"relu\"))\n",
        "model.add(Dropout(0.5))\n",
        "model.add(Dense(128, activation=\"relu\"))\n",
        "model.add(Dropout(0.5))\n",
        "model.add(Dense(num_classes, activation=\"softmax\"))\n",
        "\n",
        "model.summary()\n",
        "\n",
        "#opt = keras.optimizers.Adam(lr=0.001, beta_1=0.9, beta_2=0.999, epsilon=None, decay=0.0, amsgrad=False)\n",
        "#opt = keras.optimizers.SGD(lr=0.001)\n",
        "#opt = keras.optimizers.SGD(lr=0.001, momentum=0.9)\n",
        "opt = keras.optimizers.SGD(learning_rate=0.001, momentum=0.9, nesterov=True)\n",
        "#opt = keras.optimizers.Adagrad(lr=0.001, epsilon=1e-6)\n",
        "#opt = keras.optimizers.Adadelta(lr=1.0, rho=0.95, epsilon=None, decay=0.0)\n",
        "\n",
        "model.compile(loss='categorical_crossentropy', optimizer=opt, metrics=[\"accuracy\"])\n",
        "\n",
        "earlystop = EarlyStopping(patience=7)\n",
        "callbacks = [earlystop]\n",
        "\n",
        "#history = model.fit(x=X_train, y=y_train, epochs=40, batch_size=8, shuffle=True, validation_split=0.2, callbacks=callbacks)\n",
        "history = model.fit(x=X_train, y=y_train, epochs=70, batch_size=10, shuffle=True, validation_split=0.2)\n",
        "print(\"Accuracy : %.4f\" % (model.evaluate(X_test, y_test)[1]))\n",
        "\n",
        "# Result\n",
        "loss, acc = model.evaluate(X_test, y_test)\n",
        "print(\"\\nLoss: {}, Acc: {}\".format(loss,acc))\n"
      ],
      "execution_count": 7,
      "outputs": [
        {
          "output_type": "stream",
          "text": [
            "Model: \"sequential\"\n",
            "_________________________________________________________________\n",
            "Layer (type)                 Output Shape              Param #   \n",
            "=================================================================\n",
            "conv_lst_m2d (ConvLSTM2D)    (None, 62, 62, 64)        154624    \n",
            "_________________________________________________________________\n",
            "dropout (Dropout)            (None, 62, 62, 64)        0         \n",
            "_________________________________________________________________\n",
            "batch_normalization (BatchNo (None, 62, 62, 64)        256       \n",
            "_________________________________________________________________\n",
            "max_pooling2d (MaxPooling2D) (None, 31, 31, 64)        0         \n",
            "_________________________________________________________________\n",
            "global_average_pooling2d (Gl (None, 64)                0         \n",
            "_________________________________________________________________\n",
            "flatten (Flatten)            (None, 64)                0         \n",
            "_________________________________________________________________\n",
            "dense (Dense)                (None, 256)               16640     \n",
            "_________________________________________________________________\n",
            "dropout_1 (Dropout)          (None, 256)               0         \n",
            "_________________________________________________________________\n",
            "dense_1 (Dense)              (None, 128)               32896     \n",
            "_________________________________________________________________\n",
            "dropout_2 (Dropout)          (None, 128)               0         \n",
            "_________________________________________________________________\n",
            "dense_2 (Dense)              (None, 4)                 516       \n",
            "=================================================================\n",
            "Total params: 204,932\n",
            "Trainable params: 204,804\n",
            "Non-trainable params: 128\n",
            "_________________________________________________________________\n",
            "Epoch 1/70\n",
            "66/66 [==============================] - 69s 709ms/step - loss: 1.5174 - accuracy: 0.2517 - val_loss: 1.3588 - val_accuracy: 0.3598\n",
            "Epoch 2/70\n",
            "66/66 [==============================] - 46s 694ms/step - loss: 1.3899 - accuracy: 0.3040 - val_loss: 1.3712 - val_accuracy: 0.3598\n",
            "Epoch 3/70\n",
            "66/66 [==============================] - 46s 694ms/step - loss: 1.3314 - accuracy: 0.3951 - val_loss: 1.3459 - val_accuracy: 0.3537\n",
            "Epoch 4/70\n",
            "66/66 [==============================] - 46s 694ms/step - loss: 1.3615 - accuracy: 0.3801 - val_loss: 1.3341 - val_accuracy: 0.3537\n",
            "Epoch 5/70\n",
            "66/66 [==============================] - 46s 694ms/step - loss: 1.3449 - accuracy: 0.3819 - val_loss: 1.3411 - val_accuracy: 0.3598\n",
            "Epoch 6/70\n",
            "66/66 [==============================] - 46s 693ms/step - loss: 1.2896 - accuracy: 0.4534 - val_loss: 1.3372 - val_accuracy: 0.3598\n",
            "Epoch 7/70\n",
            "66/66 [==============================] - 46s 693ms/step - loss: 1.3614 - accuracy: 0.3838 - val_loss: 1.3256 - val_accuracy: 0.3598\n",
            "Epoch 8/70\n",
            "66/66 [==============================] - 46s 694ms/step - loss: 1.2920 - accuracy: 0.4028 - val_loss: 1.3439 - val_accuracy: 0.3598\n",
            "Epoch 9/70\n",
            "66/66 [==============================] - 46s 693ms/step - loss: 1.2842 - accuracy: 0.4286 - val_loss: 1.3461 - val_accuracy: 0.3598\n",
            "Epoch 10/70\n",
            "66/66 [==============================] - 46s 693ms/step - loss: 1.3114 - accuracy: 0.4001 - val_loss: 1.3334 - val_accuracy: 0.3598\n",
            "Epoch 11/70\n",
            "66/66 [==============================] - 46s 693ms/step - loss: 1.2859 - accuracy: 0.4172 - val_loss: 1.3325 - val_accuracy: 0.3537\n",
            "Epoch 12/70\n",
            "66/66 [==============================] - 46s 693ms/step - loss: 1.2635 - accuracy: 0.4205 - val_loss: 1.3317 - val_accuracy: 0.3720\n",
            "Epoch 13/70\n",
            "66/66 [==============================] - 46s 693ms/step - loss: 1.2656 - accuracy: 0.4421 - val_loss: 1.3377 - val_accuracy: 0.3598\n",
            "Epoch 14/70\n",
            "66/66 [==============================] - 46s 693ms/step - loss: 1.3047 - accuracy: 0.3910 - val_loss: 1.3232 - val_accuracy: 0.3598\n",
            "Epoch 15/70\n",
            "66/66 [==============================] - 46s 693ms/step - loss: 1.3018 - accuracy: 0.3953 - val_loss: 1.3449 - val_accuracy: 0.3598\n",
            "Epoch 16/70\n",
            "66/66 [==============================] - 46s 693ms/step - loss: 1.2833 - accuracy: 0.4168 - val_loss: 1.3389 - val_accuracy: 0.3537\n",
            "Epoch 17/70\n",
            "66/66 [==============================] - 46s 693ms/step - loss: 1.2489 - accuracy: 0.4284 - val_loss: 1.3233 - val_accuracy: 0.3598\n",
            "Epoch 18/70\n",
            "66/66 [==============================] - 46s 693ms/step - loss: 1.2784 - accuracy: 0.4476 - val_loss: 1.3218 - val_accuracy: 0.4329\n",
            "Epoch 19/70\n",
            "66/66 [==============================] - 46s 694ms/step - loss: 1.2638 - accuracy: 0.4378 - val_loss: 1.3217 - val_accuracy: 0.3963\n",
            "Epoch 20/70\n",
            "66/66 [==============================] - 46s 694ms/step - loss: 1.2576 - accuracy: 0.4446 - val_loss: 1.3261 - val_accuracy: 0.3902\n",
            "Epoch 21/70\n",
            "66/66 [==============================] - 46s 693ms/step - loss: 1.2797 - accuracy: 0.4101 - val_loss: 1.3343 - val_accuracy: 0.3598\n",
            "Epoch 22/70\n",
            "66/66 [==============================] - 46s 693ms/step - loss: 1.2573 - accuracy: 0.4311 - val_loss: 1.3245 - val_accuracy: 0.3537\n",
            "Epoch 23/70\n",
            "66/66 [==============================] - 46s 694ms/step - loss: 1.2568 - accuracy: 0.4585 - val_loss: 1.3138 - val_accuracy: 0.3598\n",
            "Epoch 24/70\n",
            "66/66 [==============================] - 46s 693ms/step - loss: 1.2264 - accuracy: 0.4675 - val_loss: 1.3169 - val_accuracy: 0.4024\n",
            "Epoch 25/70\n",
            "66/66 [==============================] - 46s 694ms/step - loss: 1.2954 - accuracy: 0.4148 - val_loss: 1.3247 - val_accuracy: 0.3537\n",
            "Epoch 26/70\n",
            "66/66 [==============================] - 46s 693ms/step - loss: 1.2810 - accuracy: 0.4244 - val_loss: 1.3110 - val_accuracy: 0.4390\n",
            "Epoch 27/70\n",
            "66/66 [==============================] - 46s 693ms/step - loss: 1.2704 - accuracy: 0.4248 - val_loss: 1.3115 - val_accuracy: 0.4390\n",
            "Epoch 28/70\n",
            "66/66 [==============================] - 46s 694ms/step - loss: 1.2709 - accuracy: 0.4241 - val_loss: 1.3330 - val_accuracy: 0.3720\n",
            "Epoch 29/70\n",
            "66/66 [==============================] - 46s 694ms/step - loss: 1.2671 - accuracy: 0.4367 - val_loss: 1.3123 - val_accuracy: 0.4451\n",
            "Epoch 30/70\n",
            "66/66 [==============================] - 46s 696ms/step - loss: 1.2409 - accuracy: 0.4466 - val_loss: 1.2994 - val_accuracy: 0.4390\n",
            "Epoch 31/70\n",
            "66/66 [==============================] - 46s 696ms/step - loss: 1.2501 - accuracy: 0.4281 - val_loss: 1.3156 - val_accuracy: 0.3415\n",
            "Epoch 32/70\n",
            "66/66 [==============================] - 46s 697ms/step - loss: 1.2308 - accuracy: 0.4502 - val_loss: 1.3361 - val_accuracy: 0.4268\n",
            "Epoch 33/70\n",
            "66/66 [==============================] - 46s 696ms/step - loss: 1.2597 - accuracy: 0.4359 - val_loss: 1.3097 - val_accuracy: 0.4268\n",
            "Epoch 34/70\n",
            "66/66 [==============================] - 46s 695ms/step - loss: 1.2491 - accuracy: 0.4142 - val_loss: 1.3095 - val_accuracy: 0.4207\n",
            "Epoch 35/70\n",
            "66/66 [==============================] - 46s 696ms/step - loss: 1.2520 - accuracy: 0.4348 - val_loss: 1.3044 - val_accuracy: 0.3902\n",
            "Epoch 36/70\n",
            "66/66 [==============================] - 46s 695ms/step - loss: 1.2701 - accuracy: 0.3973 - val_loss: 1.3065 - val_accuracy: 0.3476\n",
            "Epoch 37/70\n",
            "66/66 [==============================] - 46s 696ms/step - loss: 1.2410 - accuracy: 0.4786 - val_loss: 1.3121 - val_accuracy: 0.4085\n",
            "Epoch 38/70\n",
            "66/66 [==============================] - 46s 695ms/step - loss: 1.2739 - accuracy: 0.4373 - val_loss: 1.3154 - val_accuracy: 0.3537\n",
            "Epoch 39/70\n",
            "66/66 [==============================] - 46s 695ms/step - loss: 1.2450 - accuracy: 0.4322 - val_loss: 1.3222 - val_accuracy: 0.4451\n",
            "Epoch 40/70\n",
            "66/66 [==============================] - 46s 695ms/step - loss: 1.2746 - accuracy: 0.4533 - val_loss: 1.3209 - val_accuracy: 0.4512\n",
            "Epoch 41/70\n",
            "66/66 [==============================] - 46s 696ms/step - loss: 1.2557 - accuracy: 0.4445 - val_loss: 1.3181 - val_accuracy: 0.4207\n",
            "Epoch 42/70\n",
            "66/66 [==============================] - 46s 696ms/step - loss: 1.2587 - accuracy: 0.4289 - val_loss: 1.3008 - val_accuracy: 0.4451\n",
            "Epoch 43/70\n",
            "66/66 [==============================] - 46s 696ms/step - loss: 1.2306 - accuracy: 0.4443 - val_loss: 1.3006 - val_accuracy: 0.4207\n",
            "Epoch 44/70\n",
            "66/66 [==============================] - 46s 696ms/step - loss: 1.2250 - accuracy: 0.4643 - val_loss: 1.3048 - val_accuracy: 0.4329\n",
            "Epoch 45/70\n",
            "66/66 [==============================] - 46s 696ms/step - loss: 1.2362 - accuracy: 0.4483 - val_loss: 1.2943 - val_accuracy: 0.4024\n",
            "Epoch 46/70\n",
            "66/66 [==============================] - 46s 696ms/step - loss: 1.1984 - accuracy: 0.4781 - val_loss: 1.3068 - val_accuracy: 0.4390\n",
            "Epoch 47/70\n",
            "66/66 [==============================] - 46s 696ms/step - loss: 1.2428 - accuracy: 0.4296 - val_loss: 1.3118 - val_accuracy: 0.4207\n",
            "Epoch 48/70\n",
            "66/66 [==============================] - 46s 697ms/step - loss: 1.2361 - accuracy: 0.4312 - val_loss: 1.2963 - val_accuracy: 0.4451\n",
            "Epoch 49/70\n",
            "66/66 [==============================] - 46s 696ms/step - loss: 1.2190 - accuracy: 0.4472 - val_loss: 1.3052 - val_accuracy: 0.4329\n",
            "Epoch 50/70\n",
            "66/66 [==============================] - 46s 696ms/step - loss: 1.2329 - accuracy: 0.4467 - val_loss: 1.2999 - val_accuracy: 0.3902\n",
            "Epoch 51/70\n",
            "66/66 [==============================] - 46s 696ms/step - loss: 1.2637 - accuracy: 0.4053 - val_loss: 1.3057 - val_accuracy: 0.4146\n",
            "Epoch 52/70\n",
            "66/66 [==============================] - 46s 696ms/step - loss: 1.2021 - accuracy: 0.4506 - val_loss: 1.2985 - val_accuracy: 0.4268\n",
            "Epoch 53/70\n",
            "66/66 [==============================] - 46s 696ms/step - loss: 1.2091 - accuracy: 0.4434 - val_loss: 1.2826 - val_accuracy: 0.4451\n",
            "Epoch 54/70\n",
            "66/66 [==============================] - 46s 696ms/step - loss: 1.1897 - accuracy: 0.4790 - val_loss: 1.2937 - val_accuracy: 0.4207\n",
            "Epoch 55/70\n",
            "66/66 [==============================] - 46s 696ms/step - loss: 1.2493 - accuracy: 0.4284 - val_loss: 1.3077 - val_accuracy: 0.4146\n",
            "Epoch 56/70\n",
            "66/66 [==============================] - 46s 697ms/step - loss: 1.2032 - accuracy: 0.4569 - val_loss: 1.3309 - val_accuracy: 0.3963\n",
            "Epoch 57/70\n",
            "66/66 [==============================] - 46s 696ms/step - loss: 1.2019 - accuracy: 0.4723 - val_loss: 1.2954 - val_accuracy: 0.4390\n",
            "Epoch 58/70\n",
            "66/66 [==============================] - 46s 696ms/step - loss: 1.2054 - accuracy: 0.4588 - val_loss: 1.2952 - val_accuracy: 0.4207\n",
            "Epoch 59/70\n",
            "66/66 [==============================] - 46s 696ms/step - loss: 1.2534 - accuracy: 0.4709 - val_loss: 1.2896 - val_accuracy: 0.4451\n",
            "Epoch 60/70\n",
            "66/66 [==============================] - 46s 696ms/step - loss: 1.2300 - accuracy: 0.4236 - val_loss: 1.3109 - val_accuracy: 0.4146\n",
            "Epoch 61/70\n",
            "66/66 [==============================] - 46s 694ms/step - loss: 1.1865 - accuracy: 0.4709 - val_loss: 1.2913 - val_accuracy: 0.4268\n",
            "Epoch 62/70\n",
            "66/66 [==============================] - 46s 693ms/step - loss: 1.2260 - accuracy: 0.4446 - val_loss: 1.2855 - val_accuracy: 0.3963\n",
            "Epoch 63/70\n",
            "66/66 [==============================] - 46s 694ms/step - loss: 1.2122 - accuracy: 0.4541 - val_loss: 1.2882 - val_accuracy: 0.4329\n",
            "Epoch 64/70\n",
            "66/66 [==============================] - 46s 693ms/step - loss: 1.1883 - accuracy: 0.4591 - val_loss: 1.3028 - val_accuracy: 0.4146\n",
            "Epoch 65/70\n",
            "66/66 [==============================] - 46s 693ms/step - loss: 1.2377 - accuracy: 0.4475 - val_loss: 1.2824 - val_accuracy: 0.4207\n",
            "Epoch 66/70\n",
            "66/66 [==============================] - 46s 694ms/step - loss: 1.1814 - accuracy: 0.4924 - val_loss: 1.2711 - val_accuracy: 0.4268\n",
            "Epoch 67/70\n",
            "66/66 [==============================] - 46s 693ms/step - loss: 1.2335 - accuracy: 0.4583 - val_loss: 1.2893 - val_accuracy: 0.4024\n",
            "Epoch 68/70\n",
            "66/66 [==============================] - 46s 694ms/step - loss: 1.2326 - accuracy: 0.4562 - val_loss: 1.3143 - val_accuracy: 0.3720\n",
            "Epoch 69/70\n",
            "66/66 [==============================] - 46s 693ms/step - loss: 1.2005 - accuracy: 0.4636 - val_loss: 1.3183 - val_accuracy: 0.3720\n",
            "Epoch 70/70\n",
            "66/66 [==============================] - 46s 693ms/step - loss: 1.2312 - accuracy: 0.4456 - val_loss: 1.2903 - val_accuracy: 0.4146\n",
            "7/7 [==============================] - 3s 479ms/step - loss: 1.2720 - accuracy: 0.4683\n",
            "Accuracy : 0.4683\n",
            "7/7 [==============================] - 3s 475ms/step - loss: 1.2720 - accuracy: 0.4683\n",
            "\n",
            "Loss: 1.2720345258712769, Acc: 0.4682926833629608\n"
          ],
          "name": "stdout"
        }
      ]
    },
    {
      "cell_type": "code",
      "metadata": {
        "colab": {
          "base_uri": "https://localhost:8080/",
          "height": 443
        },
        "id": "IYnev14UAi_m",
        "outputId": "fbacf1bc-ae41-4e5a-b3c0-1c2a1abcff9b"
      },
      "source": [
        "# Evaluation of model\n",
        "y_pred = model.predict(X_test)\n",
        "y_pred = np.argmax(y_pred, axis = 0)\n",
        "y_test = np.argmax(y_test, axis = 0)\n",
        "print('y test:', y_test)\n",
        "print('Classification Report:\\n')\n",
        "print(classification_report(y_test, y_pred))\n",
        "\n",
        "# Confusion Matrix\n",
        "cm = confusion_matrix(y_test, y_pred) \n",
        "print('confusion matrix:\\n ', cm)"
      ],
      "execution_count": 22,
      "outputs": [
        {
          "output_type": "stream",
          "text": [
            "y test: 0\n",
            "Classification Report:\n",
            "\n"
          ],
          "name": "stdout"
        },
        {
          "output_type": "error",
          "ename": "TypeError",
          "evalue": "ignored",
          "traceback": [
            "\u001b[0;31m---------------------------------------------------------------------------\u001b[0m",
            "\u001b[0;31mTypeError\u001b[0m                                 Traceback (most recent call last)",
            "\u001b[0;32m<ipython-input-22-77ea5fc2ff04>\u001b[0m in \u001b[0;36m<module>\u001b[0;34m()\u001b[0m\n\u001b[1;32m      5\u001b[0m \u001b[0mprint\u001b[0m\u001b[0;34m(\u001b[0m\u001b[0;34m'y test:'\u001b[0m\u001b[0;34m,\u001b[0m \u001b[0my_test\u001b[0m\u001b[0;34m)\u001b[0m\u001b[0;34m\u001b[0m\u001b[0;34m\u001b[0m\u001b[0m\n\u001b[1;32m      6\u001b[0m \u001b[0mprint\u001b[0m\u001b[0;34m(\u001b[0m\u001b[0;34m'Classification Report:\\n'\u001b[0m\u001b[0;34m)\u001b[0m\u001b[0;34m\u001b[0m\u001b[0;34m\u001b[0m\u001b[0m\n\u001b[0;32m----> 7\u001b[0;31m \u001b[0mprint\u001b[0m\u001b[0;34m(\u001b[0m\u001b[0mclassification_report\u001b[0m\u001b[0;34m(\u001b[0m\u001b[0my_test\u001b[0m\u001b[0;34m,\u001b[0m \u001b[0my_pred\u001b[0m\u001b[0;34m)\u001b[0m\u001b[0;34m)\u001b[0m\u001b[0;34m\u001b[0m\u001b[0;34m\u001b[0m\u001b[0m\n\u001b[0m\u001b[1;32m      8\u001b[0m \u001b[0;34m\u001b[0m\u001b[0m\n\u001b[1;32m      9\u001b[0m \u001b[0;31m# Confusion Matrix\u001b[0m\u001b[0;34m\u001b[0m\u001b[0;34m\u001b[0m\u001b[0;34m\u001b[0m\u001b[0m\n",
            "\u001b[0;32m/usr/local/lib/python3.7/dist-packages/sklearn/metrics/_classification.py\u001b[0m in \u001b[0;36mclassification_report\u001b[0;34m(y_true, y_pred, labels, target_names, sample_weight, digits, output_dict, zero_division)\u001b[0m\n\u001b[1;32m   1969\u001b[0m     \"\"\"\n\u001b[1;32m   1970\u001b[0m \u001b[0;34m\u001b[0m\u001b[0m\n\u001b[0;32m-> 1971\u001b[0;31m     \u001b[0my_type\u001b[0m\u001b[0;34m,\u001b[0m \u001b[0my_true\u001b[0m\u001b[0;34m,\u001b[0m \u001b[0my_pred\u001b[0m \u001b[0;34m=\u001b[0m \u001b[0m_check_targets\u001b[0m\u001b[0;34m(\u001b[0m\u001b[0my_true\u001b[0m\u001b[0;34m,\u001b[0m \u001b[0my_pred\u001b[0m\u001b[0;34m)\u001b[0m\u001b[0;34m\u001b[0m\u001b[0;34m\u001b[0m\u001b[0m\n\u001b[0m\u001b[1;32m   1972\u001b[0m \u001b[0;34m\u001b[0m\u001b[0m\n\u001b[1;32m   1973\u001b[0m     \u001b[0mlabels_given\u001b[0m \u001b[0;34m=\u001b[0m \u001b[0;32mTrue\u001b[0m\u001b[0;34m\u001b[0m\u001b[0;34m\u001b[0m\u001b[0m\n",
            "\u001b[0;32m/usr/local/lib/python3.7/dist-packages/sklearn/metrics/_classification.py\u001b[0m in \u001b[0;36m_check_targets\u001b[0;34m(y_true, y_pred)\u001b[0m\n\u001b[1;32m     78\u001b[0m     \u001b[0my_pred\u001b[0m \u001b[0;34m:\u001b[0m \u001b[0marray\u001b[0m \u001b[0;32mor\u001b[0m \u001b[0mindicator\u001b[0m \u001b[0mmatrix\u001b[0m\u001b[0;34m\u001b[0m\u001b[0;34m\u001b[0m\u001b[0m\n\u001b[1;32m     79\u001b[0m     \"\"\"\n\u001b[0;32m---> 80\u001b[0;31m     \u001b[0mcheck_consistent_length\u001b[0m\u001b[0;34m(\u001b[0m\u001b[0my_true\u001b[0m\u001b[0;34m,\u001b[0m \u001b[0my_pred\u001b[0m\u001b[0;34m)\u001b[0m\u001b[0;34m\u001b[0m\u001b[0;34m\u001b[0m\u001b[0m\n\u001b[0m\u001b[1;32m     81\u001b[0m     \u001b[0mtype_true\u001b[0m \u001b[0;34m=\u001b[0m \u001b[0mtype_of_target\u001b[0m\u001b[0;34m(\u001b[0m\u001b[0my_true\u001b[0m\u001b[0;34m)\u001b[0m\u001b[0;34m\u001b[0m\u001b[0;34m\u001b[0m\u001b[0m\n\u001b[1;32m     82\u001b[0m     \u001b[0mtype_pred\u001b[0m \u001b[0;34m=\u001b[0m \u001b[0mtype_of_target\u001b[0m\u001b[0;34m(\u001b[0m\u001b[0my_pred\u001b[0m\u001b[0;34m)\u001b[0m\u001b[0;34m\u001b[0m\u001b[0;34m\u001b[0m\u001b[0m\n",
            "\u001b[0;32m/usr/local/lib/python3.7/dist-packages/sklearn/utils/validation.py\u001b[0m in \u001b[0;36mcheck_consistent_length\u001b[0;34m(*arrays)\u001b[0m\n\u001b[1;32m    206\u001b[0m     \"\"\"\n\u001b[1;32m    207\u001b[0m \u001b[0;34m\u001b[0m\u001b[0m\n\u001b[0;32m--> 208\u001b[0;31m     \u001b[0mlengths\u001b[0m \u001b[0;34m=\u001b[0m \u001b[0;34m[\u001b[0m\u001b[0m_num_samples\u001b[0m\u001b[0;34m(\u001b[0m\u001b[0mX\u001b[0m\u001b[0;34m)\u001b[0m \u001b[0;32mfor\u001b[0m \u001b[0mX\u001b[0m \u001b[0;32min\u001b[0m \u001b[0marrays\u001b[0m \u001b[0;32mif\u001b[0m \u001b[0mX\u001b[0m \u001b[0;32mis\u001b[0m \u001b[0;32mnot\u001b[0m \u001b[0;32mNone\u001b[0m\u001b[0;34m]\u001b[0m\u001b[0;34m\u001b[0m\u001b[0;34m\u001b[0m\u001b[0m\n\u001b[0m\u001b[1;32m    209\u001b[0m     \u001b[0muniques\u001b[0m \u001b[0;34m=\u001b[0m \u001b[0mnp\u001b[0m\u001b[0;34m.\u001b[0m\u001b[0munique\u001b[0m\u001b[0;34m(\u001b[0m\u001b[0mlengths\u001b[0m\u001b[0;34m)\u001b[0m\u001b[0;34m\u001b[0m\u001b[0;34m\u001b[0m\u001b[0m\n\u001b[1;32m    210\u001b[0m     \u001b[0;32mif\u001b[0m \u001b[0mlen\u001b[0m\u001b[0;34m(\u001b[0m\u001b[0muniques\u001b[0m\u001b[0;34m)\u001b[0m \u001b[0;34m>\u001b[0m \u001b[0;36m1\u001b[0m\u001b[0;34m:\u001b[0m\u001b[0;34m\u001b[0m\u001b[0;34m\u001b[0m\u001b[0m\n",
            "\u001b[0;32m/usr/local/lib/python3.7/dist-packages/sklearn/utils/validation.py\u001b[0m in \u001b[0;36m<listcomp>\u001b[0;34m(.0)\u001b[0m\n\u001b[1;32m    206\u001b[0m     \"\"\"\n\u001b[1;32m    207\u001b[0m \u001b[0;34m\u001b[0m\u001b[0m\n\u001b[0;32m--> 208\u001b[0;31m     \u001b[0mlengths\u001b[0m \u001b[0;34m=\u001b[0m \u001b[0;34m[\u001b[0m\u001b[0m_num_samples\u001b[0m\u001b[0;34m(\u001b[0m\u001b[0mX\u001b[0m\u001b[0;34m)\u001b[0m \u001b[0;32mfor\u001b[0m \u001b[0mX\u001b[0m \u001b[0;32min\u001b[0m \u001b[0marrays\u001b[0m \u001b[0;32mif\u001b[0m \u001b[0mX\u001b[0m \u001b[0;32mis\u001b[0m \u001b[0;32mnot\u001b[0m \u001b[0;32mNone\u001b[0m\u001b[0;34m]\u001b[0m\u001b[0;34m\u001b[0m\u001b[0;34m\u001b[0m\u001b[0m\n\u001b[0m\u001b[1;32m    209\u001b[0m     \u001b[0muniques\u001b[0m \u001b[0;34m=\u001b[0m \u001b[0mnp\u001b[0m\u001b[0;34m.\u001b[0m\u001b[0munique\u001b[0m\u001b[0;34m(\u001b[0m\u001b[0mlengths\u001b[0m\u001b[0;34m)\u001b[0m\u001b[0;34m\u001b[0m\u001b[0;34m\u001b[0m\u001b[0m\n\u001b[1;32m    210\u001b[0m     \u001b[0;32mif\u001b[0m \u001b[0mlen\u001b[0m\u001b[0;34m(\u001b[0m\u001b[0muniques\u001b[0m\u001b[0;34m)\u001b[0m \u001b[0;34m>\u001b[0m \u001b[0;36m1\u001b[0m\u001b[0;34m:\u001b[0m\u001b[0;34m\u001b[0m\u001b[0;34m\u001b[0m\u001b[0m\n",
            "\u001b[0;32m/usr/local/lib/python3.7/dist-packages/sklearn/utils/validation.py\u001b[0m in \u001b[0;36m_num_samples\u001b[0;34m(x)\u001b[0m\n\u001b[1;32m    150\u001b[0m         \u001b[0;32mif\u001b[0m \u001b[0mlen\u001b[0m\u001b[0;34m(\u001b[0m\u001b[0mx\u001b[0m\u001b[0;34m.\u001b[0m\u001b[0mshape\u001b[0m\u001b[0;34m)\u001b[0m \u001b[0;34m==\u001b[0m \u001b[0;36m0\u001b[0m\u001b[0;34m:\u001b[0m\u001b[0;34m\u001b[0m\u001b[0;34m\u001b[0m\u001b[0m\n\u001b[1;32m    151\u001b[0m             raise TypeError(\"Singleton array %r cannot be considered\"\n\u001b[0;32m--> 152\u001b[0;31m                             \" a valid collection.\" % x)\n\u001b[0m\u001b[1;32m    153\u001b[0m         \u001b[0;31m# Check that shape is returning an integer or default to len\u001b[0m\u001b[0;34m\u001b[0m\u001b[0;34m\u001b[0m\u001b[0;34m\u001b[0m\u001b[0m\n\u001b[1;32m    154\u001b[0m         \u001b[0;31m# Dask dataframes may not return numeric shape[0] value\u001b[0m\u001b[0;34m\u001b[0m\u001b[0;34m\u001b[0m\u001b[0;34m\u001b[0m\u001b[0m\n",
            "\u001b[0;31mTypeError\u001b[0m: Singleton array 0 cannot be considered a valid collection."
          ]
        }
      ]
    },
    {
      "cell_type": "code",
      "metadata": {
        "colab": {
          "base_uri": "https://localhost:8080/",
          "height": 573
        },
        "id": "03EgVD9bI03A",
        "outputId": "e677f6b3-ed5e-4f79-d924-e84004bf584d"
      },
      "source": [
        "# Visualize the plot\n",
        "\n",
        "## summarize history for accuracy\n",
        "plt.plot(history.history['accuracy'])\n",
        "plt.plot(history.history['val_accuracy'])\n",
        "plt.title('model accuracy')\n",
        "plt.ylabel('accuracy')\n",
        "plt.xlabel('epoch')\n",
        "plt.legend(['train', 'test'], loc='upper left')\n",
        "plt.show()\n",
        "## summarize history for loss\n",
        "plt.plot(history.history['loss'])\n",
        "plt.plot(history.history['val_loss'])\n",
        "plt.title('model loss')\n",
        "plt.ylabel('loss')\n",
        "plt.xlabel('epoch')\n",
        "plt.legend(['train', 'test'], loc='upper left')\n",
        "plt.show()"
      ],
      "execution_count": 13,
      "outputs": [
        {
          "output_type": "display_data",
          "data": {
            "image/png": "[encoded data removed]",
            "text/plain": [
              "<Figure size 432x288 with 1 Axes>"
            ]
          },
          "metadata": {
            "tags": [],
            "needs_background": "light"
          }
        },
        {
          "output_type": "display_data",
          "data": {
            "image/png": "[encoded data removed]",
            "text/plain": [
              "<Figure size 432x288 with 1 Axes>"
            ]
          },
          "metadata": {
            "tags": [],
            "needs_background": "light"
          }
        }
      ]
    }
  ]
}