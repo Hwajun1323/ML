{
  "nbformat": 4,
  "nbformat_minor": 0,
  "metadata": {
    "accelerator": "GPU",
    "colab": {
      "name": "cross_validation_predict.ipynb",
      "provenance": [],
      "collapsed_sections": [],
      "machine_shape": "hm",
      "mount_file_id": "1zE5axvTQyPoYVWhZG2Tt-pw1bvnqDQT0",
      "authorship_tag": "ABX9TyN2189DXrBHRY6qbkhZo6P1",
      "include_colab_link": true
    },
    "kernelspec": {
      "display_name": "Python 3",
      "name": "python3"
    },
    "language_info": {
      "name": "python"
    }
  },
  "cells": [
    {
      "cell_type": "markdown",
      "metadata": {
        "id": "view-in-github",
        "colab_type": "text"
      },
      "source": [
        "<a href=\"https://colab.research.google.com/github/Hwajun1323/ML/blob/master/178/5classes/cross_validation_predict.ipynb\" target=\"_parent\"><img src=\"https://colab.research.google.com/assets/colab-badge.svg\" alt=\"Open In Colab\"/></a>"
      ]
    },
    {
      "cell_type": "code",
      "metadata": {
        "colab": {
          "base_uri": "https://localhost:8080/"
        },
        "id": "-lJjS99is-Fw",
        "outputId": "d5379a8f-f0a1-4632-930b-5b9f69cfa769"
      },
      "source": [
        "pip install keras-metrics"
      ],
      "execution_count": 2,
      "outputs": [
        {
          "output_type": "stream",
          "text": [
            "Collecting keras-metrics\n",
            "  Downloading https://files.pythonhosted.org/packages/32/c9/a87420da8e73de944e63a8e9cdcfb1f03ca31a7c4cdcdbd45d2cdf13275a/keras_metrics-1.1.0-py2.py3-none-any.whl\n",
            "Requirement already satisfied: Keras>=2.1.5 in /usr/local/lib/python3.7/dist-packages (from keras-metrics) (2.4.3)\n",
            "Requirement already satisfied: h5py in /usr/local/lib/python3.7/dist-packages (from Keras>=2.1.5->keras-metrics) (3.1.0)\n",
            "Requirement already satisfied: pyyaml in /usr/local/lib/python3.7/dist-packages (from Keras>=2.1.5->keras-metrics) (3.13)\n",
            "Requirement already satisfied: numpy>=1.9.1 in /usr/local/lib/python3.7/dist-packages (from Keras>=2.1.5->keras-metrics) (1.19.5)\n",
            "Requirement already satisfied: scipy>=0.14 in /usr/local/lib/python3.7/dist-packages (from Keras>=2.1.5->keras-metrics) (1.4.1)\n",
            "Requirement already satisfied: cached-property; python_version < \"3.8\" in /usr/local/lib/python3.7/dist-packages (from h5py->Keras>=2.1.5->keras-metrics) (1.5.2)\n",
            "Installing collected packages: keras-metrics\n",
            "Successfully installed keras-metrics-1.1.0\n"
          ],
          "name": "stdout"
        }
      ]
    },
    {
      "cell_type": "code",
      "metadata": {
        "id": "3elYz8BGjE8w"
      },
      "source": [
        "! pip install -q scikit-plot"
      ],
      "execution_count": 3,
      "outputs": []
    },
    {
      "cell_type": "code",
      "metadata": {
        "id": "GQ0gCXmlfZX8"
      },
      "source": [
        "import keras\n",
        "from keras import applications\n",
        "from keras.preprocessing.image import ImageDataGenerator\n",
        "from keras import optimizers\n",
        "from keras.models import Sequential, Model\n",
        "from keras.layers import *\n",
        "from keras.callbacks import ModelCheckpoint, LearningRateScheduler, TensorBoard, EarlyStopping\n",
        "from tensorflow.keras.utils import plot_model\n",
        "\n",
        "import os\n",
        "import cv2\n",
        "import numpy as np\n",
        "from sklearn.model_selection import train_test_split\n",
        "from sklearn.model_selection import cross_val_score , cross_validate\n",
        "from sklearn.model_selection import KFold, StratifiedKFold\n",
        "from keras.wrappers.scikit_learn import KerasClassifier\n",
        "\n",
        "import keras_metrics as km\n",
        "\n",
        "from sklearn.metrics import accuracy_score\n",
        "from sklearn.metrics import precision_score\n",
        "from sklearn.metrics import recall_score\n",
        "from sklearn.metrics import f1_score\n",
        "from sklearn.metrics import cohen_kappa_score\n",
        "from sklearn.metrics import roc_auc_score\n",
        "from sklearn.metrics import multilabel_confusion_matrix\n",
        "from sklearn.metrics import classification_report\n",
        "from sklearn.metrics import confusion_matrix\n",
        "\n",
        "import matplotlib.pyplot as plt"
      ],
      "execution_count": 7,
      "outputs": []
    },
    {
      "cell_type": "code",
      "metadata": {
        "colab": {
          "base_uri": "https://localhost:8080/"
        },
        "id": "CiVFsiIWffUd",
        "outputId": "5a4f5dcd-efa1-4012-b283-8907f7bf2eaa"
      },
      "source": [
        "data_dir = \"/content/drive/My Drive/Data/video_data\"\n",
        "#data_dir = \"video_data/\"\n",
        "img_height, img_width = 64, 64\n",
        "seq_len = 20\n",
        "\n",
        "# Restaurant remove version\n",
        "classes = [\"DiningRoom\",\"Office\", \"Restaurant\", \"Museum\", \"ChildsRoom\"]\n",
        "num_classes = len(classes)\n",
        "print(\"Number of Class: \", num_classes)\n",
        "\n",
        "#  Creating frames from videos\n",
        "\n",
        "def frames_extraction(video_path):\n",
        "    frames_list = []\n",
        "\n",
        "    vidObj = cv2.VideoCapture(video_path)\n",
        "    # Used as counter variable\n",
        "    count = 1\n",
        "\n",
        "    while count <= seq_len:\n",
        "        success, image = vidObj.read()\n",
        "        if success:\n",
        "            image = cv2.resize(image, (img_height, img_width))\n",
        "            frames_list.append(image)\n",
        "            count += 1\n",
        "        else:\n",
        "            print(\"Defected frame\")\n",
        "            break\n",
        "            \n",
        "    return frames_list\n",
        "\n",
        "# Create the actual data from the sequence of images\n",
        "\n",
        "def create_data(input_dir):\n",
        "    X = []\n",
        "    Y = []\n",
        "\n",
        "    classes_list = os.listdir(input_dir)\n",
        "\n",
        "    for c in classes_list:\n",
        "        print(c)\n",
        "        files_list = os.listdir(os.path.join(input_dir, c))\n",
        "        print(c, ': ' , len(files_list))\n",
        "        print(c ,' index number : ', classes.index(c) )\n",
        "        for f in files_list:\n",
        "            frames = frames_extraction(os.path.join(os.path.join(input_dir, c), f))\n",
        "            if len(frames) == seq_len:\n",
        "                X.append(frames)\n",
        "\n",
        "                y = [0] * len(classes)\n",
        "                y[classes.index(c)] = 1\n",
        "                #print(y)\n",
        "                Y.append(y)\n",
        "\n",
        "    X = np.asarray(X)\n",
        "    Y = np.asarray(Y)\n",
        "    \n",
        "    return X, Y"
      ],
      "execution_count": 19,
      "outputs": [
        {
          "output_type": "stream",
          "text": [
            "Number of Class:  5\n"
          ],
          "name": "stdout"
        }
      ]
    },
    {
      "cell_type": "code",
      "metadata": {
        "id": "G6nClQdnRTwb",
        "colab": {
          "base_uri": "https://localhost:8080/"
        },
        "outputId": "bfa657b7-db21-4eab-dbd5-362567b1fdbe"
      },
      "source": [
        "X, Y = create_data(data_dir)\n",
        "X_train, X_test, y_train, y_test = train_test_split(X, Y, test_size=0.20, shuffle=True, random_state=0)"
      ],
      "execution_count": 20,
      "outputs": [
        {
          "output_type": "stream",
          "text": [
            "Office\n",
            "Office :  178\n",
            "Office  index number :  1\n",
            "Restaurant\n",
            "Restaurant :  178\n",
            "Restaurant  index number :  2\n",
            "DiningRoom\n",
            "DiningRoom :  178\n",
            "DiningRoom  index number :  0\n",
            "Museum\n",
            "Museum :  178\n",
            "Museum  index number :  3\n",
            "ChildsRoom\n",
            "ChildsRoom :  178\n",
            "ChildsRoom  index number :  4\n"
          ],
          "name": "stdout"
        }
      ]
    },
    {
      "cell_type": "code",
      "metadata": {
        "id": "2_ehqpr2ZCgm"
      },
      "source": [
        "print(X)\n",
        "print(X_train.shape)\n",
        "print(X_test.shape)\n",
        "print(y_train.shape)\n",
        "print(y_test.shape)"
      ],
      "execution_count": null,
      "outputs": []
    },
    {
      "cell_type": "code",
      "metadata": {
        "id": "h_v-9iPAIv_E"
      },
      "source": [
        "def create_model():\n",
        "    model = Sequential()\n",
        "\n",
        "    model.add(ConvLSTM2D(filters=64, kernel_size=(3, 3), return_sequences=False, data_format=\"channels_last\", input_shape=(seq_len, img_height, img_width, 3)))\n",
        "    model.add(Dropout(0.3))\n",
        "\n",
        "    model.add(BatchNormalization())\n",
        "    model.add(MaxPooling2D(pool_size = (2, 2)))\n",
        "    model.add(GlobalAveragePooling2D())\n",
        "\n",
        "    model.add(Flatten())\n",
        "    model.add(Dense(256, activation=\"relu\"))\n",
        "    model.add(Dropout(0.5))\n",
        "    model.add(Dense(128, activation=\"relu\"))\n",
        "    model.add(Dropout(0.5))\n",
        "    model.add(Dense(num_classes, activation=\"softmax\"))\n",
        "\n",
        "    model.summary()\n",
        "\n",
        "    # Various optimizer\n",
        "\n",
        "    #opt = keras.optimizers.Adam(learning_rate=0.001, beta_1=0.9, beta_2=0.999, epsilon=None, decay=0.0, amsgrad=False)\n",
        "    #opt = keras.optimizers.SGD(lr=0.001)\n",
        "    #opt = keras.optimizers.SGD(lr=0.001, momentum=0.9)\n",
        "    #opt = keras.optimizers.SGD(learning_rate=0.001, momentum=0.9, nesterov=True)\n",
        "    #opt = keras.optimizers.Adagrad(lr=0.001, epsilon=1e-6)\n",
        "    #opt = keras.optimizers.Adadelta(learning_rate=1.0, rho=0.95, epsilon=None, decay=0.0)\n",
        "\n",
        "    model.compile(loss='categorical_crossentropy', optimizer='Adam', metrics=[\"accuracy\"])\n",
        "    return model"
      ],
      "execution_count": 21,
      "outputs": []
    },
    {
      "cell_type": "code",
      "metadata": {
        "colab": {
          "base_uri": "https://localhost:8080/"
        },
        "id": "Ks_FcbxkKx5J",
        "outputId": "f131efe6-3ba0-4dc4-ef6f-3ca139055bf6"
      },
      "source": [
        "model = KerasClassifier(build_fn=create_model, epochs=80, batch_size=40, verbose=0)\n",
        "kfold = KFold(n_splits=3, shuffle=True, random_state=None) \n",
        "results = cross_val_score(model, X, Y, cv=kfold)\n",
        "\n",
        "print('Result of Cross Validation:')\n",
        "print('cross validation accuracy:',np.round(results, 4))\n",
        "print('mean accuracy:', np.round(np.mean(results), 4))\n",
        "print('std :', np.round(np.std  (results), 4))"
      ],
      "execution_count": 22,
      "outputs": [
        {
          "output_type": "stream",
          "text": [
            "Model: \"sequential_6\"\n",
            "_________________________________________________________________\n",
            "Layer (type)                 Output Shape              Param #   \n",
            "=================================================================\n",
            "conv_lst_m2d_6 (ConvLSTM2D)  (None, 62, 62, 64)        154624    \n",
            "_________________________________________________________________\n",
            "dropout_18 (Dropout)         (None, 62, 62, 64)        0         \n",
            "_________________________________________________________________\n",
            "batch_normalization_6 (Batch (None, 62, 62, 64)        256       \n",
            "_________________________________________________________________\n",
            "max_pooling2d_6 (MaxPooling2 (None, 31, 31, 64)        0         \n",
            "_________________________________________________________________\n",
            "global_average_pooling2d_6 ( (None, 64)                0         \n",
            "_________________________________________________________________\n",
            "flatten_6 (Flatten)          (None, 64)                0         \n",
            "_________________________________________________________________\n",
            "dense_18 (Dense)             (None, 256)               16640     \n",
            "_________________________________________________________________\n",
            "dropout_19 (Dropout)         (None, 256)               0         \n",
            "_________________________________________________________________\n",
            "dense_19 (Dense)             (None, 128)               32896     \n",
            "_________________________________________________________________\n",
            "dropout_20 (Dropout)         (None, 128)               0         \n",
            "_________________________________________________________________\n",
            "dense_20 (Dense)             (None, 5)                 645       \n",
            "=================================================================\n",
            "Total params: 205,061\n",
            "Trainable params: 204,933\n",
            "Non-trainable params: 128\n",
            "_________________________________________________________________\n",
            "Model: \"sequential_7\"\n",
            "_________________________________________________________________\n",
            "Layer (type)                 Output Shape              Param #   \n",
            "=================================================================\n",
            "conv_lst_m2d_7 (ConvLSTM2D)  (None, 62, 62, 64)        154624    \n",
            "_________________________________________________________________\n",
            "dropout_21 (Dropout)         (None, 62, 62, 64)        0         \n",
            "_________________________________________________________________\n",
            "batch_normalization_7 (Batch (None, 62, 62, 64)        256       \n",
            "_________________________________________________________________\n",
            "max_pooling2d_7 (MaxPooling2 (None, 31, 31, 64)        0         \n",
            "_________________________________________________________________\n",
            "global_average_pooling2d_7 ( (None, 64)                0         \n",
            "_________________________________________________________________\n",
            "flatten_7 (Flatten)          (None, 64)                0         \n",
            "_________________________________________________________________\n",
            "dense_21 (Dense)             (None, 256)               16640     \n",
            "_________________________________________________________________\n",
            "dropout_22 (Dropout)         (None, 256)               0         \n",
            "_________________________________________________________________\n",
            "dense_22 (Dense)             (None, 128)               32896     \n",
            "_________________________________________________________________\n",
            "dropout_23 (Dropout)         (None, 128)               0         \n",
            "_________________________________________________________________\n",
            "dense_23 (Dense)             (None, 5)                 645       \n",
            "=================================================================\n",
            "Total params: 205,061\n",
            "Trainable params: 204,933\n",
            "Non-trainable params: 128\n",
            "_________________________________________________________________\n",
            "Model: \"sequential_8\"\n",
            "_________________________________________________________________\n",
            "Layer (type)                 Output Shape              Param #   \n",
            "=================================================================\n",
            "conv_lst_m2d_8 (ConvLSTM2D)  (None, 62, 62, 64)        154624    \n",
            "_________________________________________________________________\n",
            "dropout_24 (Dropout)         (None, 62, 62, 64)        0         \n",
            "_________________________________________________________________\n",
            "batch_normalization_8 (Batch (None, 62, 62, 64)        256       \n",
            "_________________________________________________________________\n",
            "max_pooling2d_8 (MaxPooling2 (None, 31, 31, 64)        0         \n",
            "_________________________________________________________________\n",
            "global_average_pooling2d_8 ( (None, 64)                0         \n",
            "_________________________________________________________________\n",
            "flatten_8 (Flatten)          (None, 64)                0         \n",
            "_________________________________________________________________\n",
            "dense_24 (Dense)             (None, 256)               16640     \n",
            "_________________________________________________________________\n",
            "dropout_25 (Dropout)         (None, 256)               0         \n",
            "_________________________________________________________________\n",
            "dense_25 (Dense)             (None, 128)               32896     \n",
            "_________________________________________________________________\n",
            "dropout_26 (Dropout)         (None, 128)               0         \n",
            "_________________________________________________________________\n",
            "dense_26 (Dense)             (None, 5)                 645       \n",
            "=================================================================\n",
            "Total params: 205,061\n",
            "Trainable params: 204,933\n",
            "Non-trainable params: 128\n",
            "_________________________________________________________________\n",
            "Result of Cross Validation:\n",
            "cross validation accuracy: [0.3064 0.2492 0.3108]\n",
            "mean accuracy: 0.2888\n",
            "std : 0.0281\n"
          ],
          "name": "stdout"
        }
      ]
    },
    {
      "cell_type": "code",
      "metadata": {
        "colab": {
          "base_uri": "https://localhost:8080/"
        },
        "id": "e0HAk46FQFV7",
        "outputId": "f279a626-8166-4bc4-ef85-5cafb019a7b9"
      },
      "source": [
        "from sklearn.model_selection import cross_val_predict\n",
        "\n",
        "model = KerasClassifier(build_fn=create_model, epochs=80, batch_size=40, verbose=0)\n",
        "kfold = KFold(n_splits=3, shuffle=True, random_state=None) \n",
        "predicted = cross_val_predict(model, X, Y, cv=kfold)\n",
        "\n",
        "print('Cross validation prediction done!')"
      ],
      "execution_count": 23,
      "outputs": [
        {
          "output_type": "stream",
          "text": [
            "Model: \"sequential_9\"\n",
            "_________________________________________________________________\n",
            "Layer (type)                 Output Shape              Param #   \n",
            "=================================================================\n",
            "conv_lst_m2d_9 (ConvLSTM2D)  (None, 62, 62, 64)        154624    \n",
            "_________________________________________________________________\n",
            "dropout_27 (Dropout)         (None, 62, 62, 64)        0         \n",
            "_________________________________________________________________\n",
            "batch_normalization_9 (Batch (None, 62, 62, 64)        256       \n",
            "_________________________________________________________________\n",
            "max_pooling2d_9 (MaxPooling2 (None, 31, 31, 64)        0         \n",
            "_________________________________________________________________\n",
            "global_average_pooling2d_9 ( (None, 64)                0         \n",
            "_________________________________________________________________\n",
            "flatten_9 (Flatten)          (None, 64)                0         \n",
            "_________________________________________________________________\n",
            "dense_27 (Dense)             (None, 256)               16640     \n",
            "_________________________________________________________________\n",
            "dropout_28 (Dropout)         (None, 256)               0         \n",
            "_________________________________________________________________\n",
            "dense_28 (Dense)             (None, 128)               32896     \n",
            "_________________________________________________________________\n",
            "dropout_29 (Dropout)         (None, 128)               0         \n",
            "_________________________________________________________________\n",
            "dense_29 (Dense)             (None, 5)                 645       \n",
            "=================================================================\n",
            "Total params: 205,061\n",
            "Trainable params: 204,933\n",
            "Non-trainable params: 128\n",
            "_________________________________________________________________\n"
          ],
          "name": "stdout"
        },
        {
          "output_type": "stream",
          "text": [
            "/usr/local/lib/python3.7/dist-packages/keras/engine/sequential.py:450: UserWarning: `model.predict_classes()` is deprecated and will be removed after 2021-01-01. Please use instead:* `np.argmax(model.predict(x), axis=-1)`,   if your model does multi-class classification   (e.g. if it uses a `softmax` last-layer activation).* `(model.predict(x) > 0.5).astype(\"int32\")`,   if your model does binary classification   (e.g. if it uses a `sigmoid` last-layer activation).\n",
            "  warnings.warn('`model.predict_classes()` is deprecated and '\n"
          ],
          "name": "stderr"
        },
        {
          "output_type": "stream",
          "text": [
            "Model: \"sequential_10\"\n",
            "_________________________________________________________________\n",
            "Layer (type)                 Output Shape              Param #   \n",
            "=================================================================\n",
            "conv_lst_m2d_10 (ConvLSTM2D) (None, 62, 62, 64)        154624    \n",
            "_________________________________________________________________\n",
            "dropout_30 (Dropout)         (None, 62, 62, 64)        0         \n",
            "_________________________________________________________________\n",
            "batch_normalization_10 (Batc (None, 62, 62, 64)        256       \n",
            "_________________________________________________________________\n",
            "max_pooling2d_10 (MaxPooling (None, 31, 31, 64)        0         \n",
            "_________________________________________________________________\n",
            "global_average_pooling2d_10  (None, 64)                0         \n",
            "_________________________________________________________________\n",
            "flatten_10 (Flatten)         (None, 64)                0         \n",
            "_________________________________________________________________\n",
            "dense_30 (Dense)             (None, 256)               16640     \n",
            "_________________________________________________________________\n",
            "dropout_31 (Dropout)         (None, 256)               0         \n",
            "_________________________________________________________________\n",
            "dense_31 (Dense)             (None, 128)               32896     \n",
            "_________________________________________________________________\n",
            "dropout_32 (Dropout)         (None, 128)               0         \n",
            "_________________________________________________________________\n",
            "dense_32 (Dense)             (None, 5)                 645       \n",
            "=================================================================\n",
            "Total params: 205,061\n",
            "Trainable params: 204,933\n",
            "Non-trainable params: 128\n",
            "_________________________________________________________________\n",
            "Model: \"sequential_11\"\n",
            "_________________________________________________________________\n",
            "Layer (type)                 Output Shape              Param #   \n",
            "=================================================================\n",
            "conv_lst_m2d_11 (ConvLSTM2D) (None, 62, 62, 64)        154624    \n",
            "_________________________________________________________________\n",
            "dropout_33 (Dropout)         (None, 62, 62, 64)        0         \n",
            "_________________________________________________________________\n",
            "batch_normalization_11 (Batc (None, 62, 62, 64)        256       \n",
            "_________________________________________________________________\n",
            "max_pooling2d_11 (MaxPooling (None, 31, 31, 64)        0         \n",
            "_________________________________________________________________\n",
            "global_average_pooling2d_11  (None, 64)                0         \n",
            "_________________________________________________________________\n",
            "flatten_11 (Flatten)         (None, 64)                0         \n",
            "_________________________________________________________________\n",
            "dense_33 (Dense)             (None, 256)               16640     \n",
            "_________________________________________________________________\n",
            "dropout_34 (Dropout)         (None, 256)               0         \n",
            "_________________________________________________________________\n",
            "dense_34 (Dense)             (None, 128)               32896     \n",
            "_________________________________________________________________\n",
            "dropout_35 (Dropout)         (None, 128)               0         \n",
            "_________________________________________________________________\n",
            "dense_35 (Dense)             (None, 5)                 645       \n",
            "=================================================================\n",
            "Total params: 205,061\n",
            "Trainable params: 204,933\n",
            "Non-trainable params: 128\n",
            "_________________________________________________________________\n",
            "Cross validation prediction done!\n"
          ],
          "name": "stdout"
        }
      ]
    },
    {
      "cell_type": "code",
      "metadata": {
        "colab": {
          "base_uri": "https://localhost:8080/",
          "height": 674
        },
        "id": "7qmmkNcPgsMv",
        "outputId": "b27ec92f-cd95-40e3-e1bc-8b2d575c2b22"
      },
      "source": [
        "from sklearn.metrics import confusion_matrix, plot_confusion_matrix\n",
        "from sklearn.metrics import ConfusionMatrixDisplay\n",
        "\n",
        "rounded_Y=np.argmax(Y, axis=1)\n",
        "\n",
        "\n",
        "# Classification report \n",
        "\n",
        "targets = ['DiningRoom','Office', 'Restaurant', 'Museum', 'ChildsRoom']\n",
        "print('\\nClassification report:\\n',classification_report(rounded_Y, predicted, target_names=targets))\n",
        "\n",
        "\n",
        "# Confusion Matrix\n",
        "cm = confusion_matrix(rounded_Y, predicted) \n",
        "print('Confusion matrix: \\n')\n",
        "print(cm)\n",
        "\n",
        "disp = ConfusionMatrixDisplay(cm,  display_labels=targets)\n",
        "disp.plot(cmap=plt.cm.Blues, values_format='')"
      ],
      "execution_count": 24,
      "outputs": [
        {
          "output_type": "stream",
          "text": [
            "\n",
            "Classification report:\n",
            "               precision    recall  f1-score   support\n",
            "\n",
            "  DiningRoom       0.42      0.25      0.32       178\n",
            "      Office       0.37      0.20      0.26       178\n",
            "  Restaurant       0.42      0.44      0.43       178\n",
            "      Museum       0.24      0.67      0.35       178\n",
            "  ChildsRoom       0.45      0.03      0.05       178\n",
            "\n",
            "    accuracy                           0.32       890\n",
            "   macro avg       0.38      0.32      0.28       890\n",
            "weighted avg       0.38      0.32      0.28       890\n",
            "\n",
            "Confusion matrix: \n",
            "\n",
            "[[ 45  16  23  93   1]\n",
            " [ 29  35  26  86   2]\n",
            " [  4  17  79  75   3]\n",
            " [  9  17  33 119   0]\n",
            " [ 19   9  25 120   5]]\n"
          ],
          "name": "stdout"
        },
        {
          "output_type": "execute_result",
          "data": {
            "text/plain": [
              "<sklearn.metrics._plot.confusion_matrix.ConfusionMatrixDisplay at 0x7ff8abb27b10>"
            ]
          },
          "metadata": {
            "tags": []
          },
          "execution_count": 24
        },
        {
          "output_type": "display_data",
          "data": {
            "image/png": "[encoded data removed]",
            "text/plain": [
              "<Figure size 432x288 with 2 Axes>"
            ]
          },
          "metadata": {
            "tags": [],
            "needs_background": "light"
          }
        }
      ]
    },
    {
      "cell_type": "code",
      "metadata": {
        "colab": {
          "base_uri": "https://localhost:8080/",
          "height": 1000
        },
        "id": "6XOW3437iySO",
        "outputId": "18823a41-1933-4ebb-fe1d-2db5215d46dc"
      },
      "source": [
        "import scikitplot as skplt\n",
        "from sklearn.metrics import plot_confusion_matrix\n",
        "\n",
        "skplt.metrics.plot_confusion_matrix(rounded_Y, predicted,  figsize=(15,15))\n",
        "skplt.metrics.plot_confusion_matrix(rounded_Y, predicted, figsize=(12,12), normalize=True)"
      ],
      "execution_count": 25,
      "outputs": [
        {
          "output_type": "execute_result",
          "data": {
            "text/plain": [
              "<matplotlib.axes._subplots.AxesSubplot at 0x7ff8ac3c5650>"
            ]
          },
          "metadata": {
            "tags": []
          },
          "execution_count": 25
        },
        {
          "output_type": "display_data",
          "data": {
            "image/png": "[encoded data removed]",
            "text/plain": [
              "<Figure size 1080x1080 with 2 Axes>"
            ]
          },
          "metadata": {
            "tags": [],
            "needs_background": "light"
          }
        },
        {
          "output_type": "display_data",
          "data": {
            "image/png": "[encoded data removed]",
            "text/plain": [
              "<Figure size 864x864 with 2 Axes>"
            ]
          },
          "metadata": {
            "tags": [],
            "needs_background": "light"
          }
        }
      ]
    }
  ]
}