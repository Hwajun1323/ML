{
  "nbformat": 4,
  "nbformat_minor": 0,
  "metadata": {
    "colab": {
      "name": "convLSTM.ipynb",
      "provenance": [],
      "collapsed_sections": [],
      "machine_shape": "hm",
      "mount_file_id": "1XnAaPpzTOwHYzrEg_H0alWQisudlbZ3V",
      "authorship_tag": "ABX9TyPKgj1BOlL3K6dGLikJlZgA",
      "include_colab_link": true
    },
    "kernelspec": {
      "name": "python3",
      "display_name": "Python 3"
    },
    "language_info": {
      "name": "python"
    },
    "accelerator": "GPU"
  },
  "cells": [
    {
      "cell_type": "markdown",
      "metadata": {
        "id": "view-in-github",
        "colab_type": "text"
      },
      "source": [
        "<a href=\"https://colab.research.google.com/github/Hwajun1323/ML/blob/master/result/convLSTM_sgd_optimizer.ipynb\" target=\"_parent\"><img src=\"https://colab.research.google.com/assets/colab-badge.svg\" alt=\"Open In Colab\"/></a>"
      ]
    },
    {
      "cell_type": "code",
      "metadata": {
        "id": "-lJjS99is-Fw",
        "colab": {
          "base_uri": "https://localhost:8080/"
        },
        "outputId": "847bd7bb-30b9-4602-9bef-6e60bb6c7ddd"
      },
      "source": [
        "pip install keras-metrics"
      ],
      "execution_count": 1,
      "outputs": [
        {
          "output_type": "stream",
          "text": [
            "Collecting keras-metrics\n",
            "  Downloading https://files.pythonhosted.org/packages/32/c9/a87420da8e73de944e63a8e9cdcfb1f03ca31a7c4cdcdbd45d2cdf13275a/keras_metrics-1.1.0-py2.py3-none-any.whl\n",
            "Requirement already satisfied: Keras>=2.1.5 in /usr/local/lib/python3.7/dist-packages (from keras-metrics) (2.4.3)\n",
            "Requirement already satisfied: scipy>=0.14 in /usr/local/lib/python3.7/dist-packages (from Keras>=2.1.5->keras-metrics) (1.4.1)\n",
            "Requirement already satisfied: h5py in /usr/local/lib/python3.7/dist-packages (from Keras>=2.1.5->keras-metrics) (3.1.0)\n",
            "Requirement already satisfied: numpy>=1.9.1 in /usr/local/lib/python3.7/dist-packages (from Keras>=2.1.5->keras-metrics) (1.19.5)\n",
            "Requirement already satisfied: pyyaml in /usr/local/lib/python3.7/dist-packages (from Keras>=2.1.5->keras-metrics) (3.13)\n",
            "Requirement already satisfied: cached-property; python_version < \"3.8\" in /usr/local/lib/python3.7/dist-packages (from h5py->Keras>=2.1.5->keras-metrics) (1.5.2)\n",
            "Installing collected packages: keras-metrics\n",
            "Successfully installed keras-metrics-1.1.0\n"
          ],
          "name": "stdout"
        }
      ]
    },
    {
      "cell_type": "code",
      "metadata": {
        "colab": {
          "base_uri": "https://localhost:8080/"
        },
        "id": "N4kTMnUpSM_U",
        "outputId": "78345c2c-7717-48f6-9477-9b5d9c4a5504"
      },
      "source": [
        "!apt install graphviz\n",
        "!pip install pydot pydot-ng\n",
        "!echo \"Double check with Python 3\"\n",
        "!python -c \"import pydot\""
      ],
      "execution_count": 2,
      "outputs": [
        {
          "output_type": "stream",
          "text": [
            "Reading package lists... Done\n",
            "Building dependency tree       \n",
            "Reading state information... Done\n",
            "graphviz is already the newest version (2.40.1-2).\n",
            "The following package was automatically installed and is no longer required:\n",
            "  libnvidia-common-460\n",
            "Use 'apt autoremove' to remove it.\n",
            "0 upgraded, 0 newly installed, 0 to remove and 34 not upgraded.\n",
            "Requirement already satisfied: pydot in /usr/local/lib/python3.7/dist-packages (1.3.0)\n",
            "Requirement already satisfied: pydot-ng in /usr/local/lib/python3.7/dist-packages (2.0.0)\n",
            "Requirement already satisfied: pyparsing>=2.1.4 in /usr/local/lib/python3.7/dist-packages (from pydot) (2.4.7)\n",
            "Double check with Python 3\n"
          ],
          "name": "stdout"
        }
      ]
    },
    {
      "cell_type": "code",
      "metadata": {
        "id": "GQ0gCXmlfZX8"
      },
      "source": [
        "import keras\n",
        "from keras import applications\n",
        "from keras.preprocessing.image import ImageDataGenerator\n",
        "from keras import optimizers\n",
        "from keras.models import Sequential, Model\n",
        "from keras.layers import *\n",
        "from keras.callbacks import ModelCheckpoint, LearningRateScheduler, TensorBoard, EarlyStopping\n",
        "from tensorflow.keras.utils import plot_model\n",
        "\n",
        "import os\n",
        "import cv2\n",
        "import numpy as np\n",
        "from sklearn.model_selection import train_test_split\n",
        "from sklearn.model_selection import cross_val_score , cross_validate\n",
        "import keras_metrics as km\n",
        "\n",
        "from sklearn.metrics import accuracy_score\n",
        "from sklearn.metrics import precision_score\n",
        "from sklearn.metrics import recall_score\n",
        "from sklearn.metrics import f1_score\n",
        "from sklearn.metrics import cohen_kappa_score\n",
        "from sklearn.metrics import roc_auc_score\n",
        "from sklearn.metrics import multilabel_confusion_matrix\n",
        "from sklearn.metrics import classification_report\n",
        "from sklearn.metrics import confusion_matrix\n",
        "\n",
        "import matplotlib.pyplot as plt\n",
        "import graphviz\n",
        "import pydot_ng as pydot\n",
        "from keras.optimizers import SGD  # Stochastic Gradient Decent\n",
        "from keras.utils import np_utils\n"
      ],
      "execution_count": 3,
      "outputs": []
    },
    {
      "cell_type": "code",
      "metadata": {
        "id": "CiVFsiIWffUd",
        "colab": {
          "base_uri": "https://localhost:8080/"
        },
        "outputId": "4a02245e-e4c5-439a-f51a-c1ea3e9ef41a"
      },
      "source": [
        "data_dir = \"/content/drive/My Drive/dataset/video_data\"\n",
        "#data_dir = \"video_data/\"\n",
        "img_height, img_width = 64, 64\n",
        "seq_len = 20\n",
        "\n",
        "classes = [\"Child's room\",  \"Museum\", \"Office\", \"Restaurant\"]\n",
        "num_classes = len(classes)\n",
        "print(\"Number of Class: \", num_classes)\n",
        "\n",
        "#  Creating frames from videos\n",
        "\n",
        "def frames_extraction(video_path):\n",
        "    frames_list = []\n",
        "\n",
        "    vidObj = cv2.VideoCapture(video_path)\n",
        "    # Used as counter variable\n",
        "    count = 1\n",
        "\n",
        "    while count <= seq_len:\n",
        "        success, image = vidObj.read()\n",
        "        if success:\n",
        "            image = cv2.resize(image, (img_height, img_width))\n",
        "            frames_list.append(image)\n",
        "            count += 1\n",
        "        else:\n",
        "            print(\"Defected frame\")\n",
        "            break\n",
        "\n",
        "    return frames_list\n",
        "\n",
        "# Create the actual data from the sequence of images\n",
        "\n",
        "def create_data(input_dir):\n",
        "    X = []\n",
        "    Y = []\n",
        "\n",
        "    classes_list = os.listdir(input_dir)\n",
        "\n",
        "    for c in classes_list:\n",
        "        print(c)\n",
        "        files_list = os.listdir(os.path.join(input_dir, c))\n",
        "        for f in files_list:\n",
        "            frames = frames_extraction(os.path.join(os.path.join(input_dir, c), f))\n",
        "            if len(frames) == seq_len:\n",
        "                X.append(frames)\n",
        "\n",
        "                y = [0] * len(classes)\n",
        "                y[classes.index(c)] = 1\n",
        "                Y.append(y)\n",
        "\n",
        "    X = np.asarray(X)\n",
        "    Y = np.asarray(Y)\n",
        "    \n",
        "    return X, Y"
      ],
      "execution_count": 4,
      "outputs": [
        {
          "output_type": "stream",
          "text": [
            "Number of Class:  4\n"
          ],
          "name": "stdout"
        }
      ]
    },
    {
      "cell_type": "code",
      "metadata": {
        "id": "G6nClQdnRTwb",
        "colab": {
          "base_uri": "https://localhost:8080/"
        },
        "outputId": "0ccecf22-ccb2-4626-90b2-1fb2021a10ac"
      },
      "source": [
        "X, Y = create_data(data_dir)\n",
        "\n",
        "X_train, X_test, y_train, y_test = train_test_split(X, Y, test_size=0.20, shuffle=True, random_state=0)"
      ],
      "execution_count": 12,
      "outputs": [
        {
          "output_type": "stream",
          "text": [
            "Child's room\n",
            "Restaurant\n",
            "Office\n",
            "Museum\n"
          ],
          "name": "stdout"
        }
      ]
    },
    {
      "cell_type": "code",
      "metadata": {
        "colab": {
          "base_uri": "https://localhost:8080/"
        },
        "id": "853UXXpN6lbQ",
        "outputId": "e1b66e6e-7898-41a2-f082-77104855af12"
      },
      "source": [
        "print(X_train.shape)\n",
        "print(X_test.shape)\n",
        "print(y_train.shape)\n",
        "print(y_test.shape)"
      ],
      "execution_count": 13,
      "outputs": [
        {
          "output_type": "stream",
          "text": [
            "(818, 20, 64, 64, 3)\n",
            "(205, 20, 64, 64, 3)\n",
            "(818, 4)\n",
            "(205, 4)\n"
          ],
          "name": "stdout"
        }
      ]
    },
    {
      "cell_type": "code",
      "metadata": {
        "id": "h_v-9iPAIv_E"
      },
      "source": [
        "model = Sequential()\n",
        "\n",
        "model.add(ConvLSTM2D(filters=64, kernel_size=(3, 3), return_sequences=False, data_format=\"channels_last\", input_shape=(seq_len, img_height, img_width, 3)))\n",
        "model.add(Dropout(0.3))\n",
        "\n",
        "model.add(BatchNormalization())\n",
        "model.add(MaxPooling2D(pool_size = (2, 2)))\n",
        "model.add(GlobalAveragePooling2D())\n",
        "\n",
        "model.add(Flatten())\n",
        "model.add(Dense(256, activation=\"relu\"))\n",
        "model.add(Dropout(0.5))\n",
        "model.add(Dense(128, activation=\"relu\"))\n",
        "model.add(Dropout(0.5))\n",
        "model.add(Dense(num_classes, activation=\"softmax\"))"
      ],
      "execution_count": 7,
      "outputs": []
    },
    {
      "cell_type": "code",
      "metadata": {
        "colab": {
          "base_uri": "https://localhost:8080/",
          "height": 1000
        },
        "id": "OXqe5onAXaoA",
        "outputId": "134d8fda-0a59-4553-b2b3-e7b1b30f8efd"
      },
      "source": [
        "from IPython.display import SVG\n",
        "from keras.utils.vis_utils import model_to_dot\n",
        "\n",
        "SVG(model_to_dot(model, show_shapes=True, dpi=65).create(prog='dot', format='svg'))"
      ],
      "execution_count": null,
      "outputs": [
        {
          "output_type": "execute_result",
          "data": {
            "text/plain": [
              "<IPython.core.display.SVG object>"
            ],
            "image/svg+xml": "<svg height=\"874pt\" viewBox=\"0.00 0.00 542.00 968.00\" width=\"489pt\" xmlns=\"http://www.w3.org/2000/svg\" xmlns:xlink=\"http://www.w3.org/1999/xlink\">\n<g class=\"graph\" id=\"graph0\" transform=\"scale(.9028 .9028) rotate(0) translate(4 964)\">\n<title>G</title>\n<polygon fill=\"#ffffff\" points=\"-4,4 -4,-964 538,-964 538,4 -4,4\" stroke=\"transparent\"/>\n<!-- 139726448139472 -->\n<g class=\"node\" id=\"node1\">\n<title>139726448139472</title>\n<polygon fill=\"none\" points=\"48.5,-913.5 48.5,-959.5 485.5,-959.5 485.5,-913.5 48.5,-913.5\" stroke=\"#000000\"/>\n<text fill=\"#000000\" font-family=\"Times,serif\" font-size=\"14.00\" text-anchor=\"middle\" x=\"163.5\" y=\"-932.8\">conv_lst_m2d_19_input: InputLayer</text>\n<polyline fill=\"none\" points=\"278.5,-913.5 278.5,-959.5 \" stroke=\"#000000\"/>\n<text fill=\"#000000\" font-family=\"Times,serif\" font-size=\"14.00\" text-anchor=\"middle\" x=\"307.5\" y=\"-944.3\">input:</text>\n<polyline fill=\"none\" points=\"278.5,-936.5 336.5,-936.5 \" stroke=\"#000000\"/>\n<text fill=\"#000000\" font-family=\"Times,serif\" font-size=\"14.00\" text-anchor=\"middle\" x=\"307.5\" y=\"-921.3\">output:</text>\n<polyline fill=\"none\" points=\"336.5,-913.5 336.5,-959.5 \" stroke=\"#000000\"/>\n<text fill=\"#000000\" font-family=\"Times,serif\" font-size=\"14.00\" text-anchor=\"middle\" x=\"411\" y=\"-944.3\">[(None, 20, 64, 64, 3)]</text>\n<polyline fill=\"none\" points=\"336.5,-936.5 485.5,-936.5 \" stroke=\"#000000\"/>\n<text fill=\"#000000\" font-family=\"Times,serif\" font-size=\"14.00\" text-anchor=\"middle\" x=\"411\" y=\"-921.3\">[(None, 20, 64, 64, 3)]</text>\n</g>\n<!-- 139726448032784 -->\n<g class=\"node\" id=\"node2\">\n<title>139726448032784</title>\n<polygon fill=\"none\" points=\"59,-830.5 59,-876.5 475,-876.5 475,-830.5 59,-830.5\" stroke=\"#000000\"/>\n<text fill=\"#000000\" font-family=\"Times,serif\" font-size=\"14.00\" text-anchor=\"middle\" x=\"168\" y=\"-849.8\">conv_lst_m2d_19: ConvLSTM2D</text>\n<polyline fill=\"none\" points=\"277,-830.5 277,-876.5 \" stroke=\"#000000\"/>\n<text fill=\"#000000\" font-family=\"Times,serif\" font-size=\"14.00\" text-anchor=\"middle\" x=\"306\" y=\"-861.3\">input:</text>\n<polyline fill=\"none\" points=\"277,-853.5 335,-853.5 \" stroke=\"#000000\"/>\n<text fill=\"#000000\" font-family=\"Times,serif\" font-size=\"14.00\" text-anchor=\"middle\" x=\"306\" y=\"-838.3\">output:</text>\n<polyline fill=\"none\" points=\"335,-830.5 335,-876.5 \" stroke=\"#000000\"/>\n<text fill=\"#000000\" font-family=\"Times,serif\" font-size=\"14.00\" text-anchor=\"middle\" x=\"405\" y=\"-861.3\">(None, 20, 64, 64, 3)</text>\n<polyline fill=\"none\" points=\"335,-853.5 475,-853.5 \" stroke=\"#000000\"/>\n<text fill=\"#000000\" font-family=\"Times,serif\" font-size=\"14.00\" text-anchor=\"middle\" x=\"405\" y=\"-838.3\">(None, 62, 62, 64)</text>\n</g>\n<!-- 139726448139472&#45;&gt;139726448032784 -->\n<g class=\"edge\" id=\"edge1\">\n<title>139726448139472-&gt;139726448032784</title>\n<path d=\"M267,-913.3799C267,-905.1745 267,-895.7679 267,-886.8786\" fill=\"none\" stroke=\"#000000\"/>\n<polygon fill=\"#000000\" points=\"270.5001,-886.784 267,-876.784 263.5001,-886.784 270.5001,-886.784\" stroke=\"#000000\"/>\n</g>\n<!-- 139726448043856 -->\n<g class=\"node\" id=\"node3\">\n<title>139726448043856</title>\n<polygon fill=\"none\" points=\"105,-747.5 105,-793.5 429,-793.5 429,-747.5 105,-747.5\" stroke=\"#000000\"/>\n<text fill=\"#000000\" font-family=\"Times,serif\" font-size=\"14.00\" text-anchor=\"middle\" x=\"175.5\" y=\"-766.8\">dropout_57: Dropout</text>\n<polyline fill=\"none\" points=\"246,-747.5 246,-793.5 \" stroke=\"#000000\"/>\n<text fill=\"#000000\" font-family=\"Times,serif\" font-size=\"14.00\" text-anchor=\"middle\" x=\"275\" y=\"-778.3\">input:</text>\n<polyline fill=\"none\" points=\"246,-770.5 304,-770.5 \" stroke=\"#000000\"/>\n<text fill=\"#000000\" font-family=\"Times,serif\" font-size=\"14.00\" text-anchor=\"middle\" x=\"275\" y=\"-755.3\">output:</text>\n<polyline fill=\"none\" points=\"304,-747.5 304,-793.5 \" stroke=\"#000000\"/>\n<text fill=\"#000000\" font-family=\"Times,serif\" font-size=\"14.00\" text-anchor=\"middle\" x=\"366.5\" y=\"-778.3\">(None, 62, 62, 64)</text>\n<polyline fill=\"none\" points=\"304,-770.5 429,-770.5 \" stroke=\"#000000\"/>\n<text fill=\"#000000\" font-family=\"Times,serif\" font-size=\"14.00\" text-anchor=\"middle\" x=\"366.5\" y=\"-755.3\">(None, 62, 62, 64)</text>\n</g>\n<!-- 139726448032784&#45;&gt;139726448043856 -->\n<g class=\"edge\" id=\"edge2\">\n<title>139726448032784-&gt;139726448043856</title>\n<path d=\"M267,-830.3799C267,-822.1745 267,-812.7679 267,-803.8786\" fill=\"none\" stroke=\"#000000\"/>\n<polygon fill=\"#000000\" points=\"270.5001,-803.784 267,-793.784 263.5001,-803.784 270.5001,-803.784\" stroke=\"#000000\"/>\n</g>\n<!-- 139726450781904 -->\n<g class=\"node\" id=\"node4\">\n<title>139726450781904</title>\n<polygon fill=\"none\" points=\"36.5,-664.5 36.5,-710.5 497.5,-710.5 497.5,-664.5 36.5,-664.5\" stroke=\"#000000\"/>\n<text fill=\"#000000\" font-family=\"Times,serif\" font-size=\"14.00\" text-anchor=\"middle\" x=\"175.5\" y=\"-683.8\">batch_normalization_19: BatchNormalization</text>\n<polyline fill=\"none\" points=\"314.5,-664.5 314.5,-710.5 \" stroke=\"#000000\"/>\n<text fill=\"#000000\" font-family=\"Times,serif\" font-size=\"14.00\" text-anchor=\"middle\" x=\"343.5\" y=\"-695.3\">input:</text>\n<polyline fill=\"none\" points=\"314.5,-687.5 372.5,-687.5 \" stroke=\"#000000\"/>\n<text fill=\"#000000\" font-family=\"Times,serif\" font-size=\"14.00\" text-anchor=\"middle\" x=\"343.5\" y=\"-672.3\">output:</text>\n<polyline fill=\"none\" points=\"372.5,-664.5 372.5,-710.5 \" stroke=\"#000000\"/>\n<text fill=\"#000000\" font-family=\"Times,serif\" font-size=\"14.00\" text-anchor=\"middle\" x=\"435\" y=\"-695.3\">(None, 62, 62, 64)</text>\n<polyline fill=\"none\" points=\"372.5,-687.5 497.5,-687.5 \" stroke=\"#000000\"/>\n<text fill=\"#000000\" font-family=\"Times,serif\" font-size=\"14.00\" text-anchor=\"middle\" x=\"435\" y=\"-672.3\">(None, 62, 62, 64)</text>\n</g>\n<!-- 139726448043856&#45;&gt;139726450781904 -->\n<g class=\"edge\" id=\"edge3\">\n<title>139726448043856-&gt;139726450781904</title>\n<path d=\"M267,-747.3799C267,-739.1745 267,-729.7679 267,-720.8786\" fill=\"none\" stroke=\"#000000\"/>\n<polygon fill=\"#000000\" points=\"270.5001,-720.784 267,-710.784 263.5001,-720.784 270.5001,-720.784\" stroke=\"#000000\"/>\n</g>\n<!-- 139726449477840 -->\n<g class=\"node\" id=\"node5\">\n<title>139726449477840</title>\n<polygon fill=\"none\" points=\"61,-581.5 61,-627.5 473,-627.5 473,-581.5 61,-581.5\" stroke=\"#000000\"/>\n<text fill=\"#000000\" font-family=\"Times,serif\" font-size=\"14.00\" text-anchor=\"middle\" x=\"175.5\" y=\"-600.8\">max_pooling2d_19: MaxPooling2D</text>\n<polyline fill=\"none\" points=\"290,-581.5 290,-627.5 \" stroke=\"#000000\"/>\n<text fill=\"#000000\" font-family=\"Times,serif\" font-size=\"14.00\" text-anchor=\"middle\" x=\"319\" y=\"-612.3\">input:</text>\n<polyline fill=\"none\" points=\"290,-604.5 348,-604.5 \" stroke=\"#000000\"/>\n<text fill=\"#000000\" font-family=\"Times,serif\" font-size=\"14.00\" text-anchor=\"middle\" x=\"319\" y=\"-589.3\">output:</text>\n<polyline fill=\"none\" points=\"348,-581.5 348,-627.5 \" stroke=\"#000000\"/>\n<text fill=\"#000000\" font-family=\"Times,serif\" font-size=\"14.00\" text-anchor=\"middle\" x=\"410.5\" y=\"-612.3\">(None, 62, 62, 64)</text>\n<polyline fill=\"none\" points=\"348,-604.5 473,-604.5 \" stroke=\"#000000\"/>\n<text fill=\"#000000\" font-family=\"Times,serif\" font-size=\"14.00\" text-anchor=\"middle\" x=\"410.5\" y=\"-589.3\">(None, 31, 31, 64)</text>\n</g>\n<!-- 139726450781904&#45;&gt;139726449477840 -->\n<g class=\"edge\" id=\"edge4\">\n<title>139726450781904-&gt;139726449477840</title>\n<path d=\"M267,-664.3799C267,-656.1745 267,-646.7679 267,-637.8786\" fill=\"none\" stroke=\"#000000\"/>\n<polygon fill=\"#000000\" points=\"270.5001,-637.784 267,-627.784 263.5001,-637.784 270.5001,-637.784\" stroke=\"#000000\"/>\n</g>\n<!-- 139726449435664 -->\n<g class=\"node\" id=\"node6\">\n<title>139726449435664</title>\n<polygon fill=\"none\" points=\"0,-498.5 0,-544.5 534,-544.5 534,-498.5 0,-498.5\" stroke=\"#000000\"/>\n<text fill=\"#000000\" font-family=\"Times,serif\" font-size=\"14.00\" text-anchor=\"middle\" x=\"175.5\" y=\"-517.8\">global_average_pooling2d_19: GlobalAveragePooling2D</text>\n<polyline fill=\"none\" points=\"351,-498.5 351,-544.5 \" stroke=\"#000000\"/>\n<text fill=\"#000000\" font-family=\"Times,serif\" font-size=\"14.00\" text-anchor=\"middle\" x=\"380\" y=\"-529.3\">input:</text>\n<polyline fill=\"none\" points=\"351,-521.5 409,-521.5 \" stroke=\"#000000\"/>\n<text fill=\"#000000\" font-family=\"Times,serif\" font-size=\"14.00\" text-anchor=\"middle\" x=\"380\" y=\"-506.3\">output:</text>\n<polyline fill=\"none\" points=\"409,-498.5 409,-544.5 \" stroke=\"#000000\"/>\n<text fill=\"#000000\" font-family=\"Times,serif\" font-size=\"14.00\" text-anchor=\"middle\" x=\"471.5\" y=\"-529.3\">(None, 31, 31, 64)</text>\n<polyline fill=\"none\" points=\"409,-521.5 534,-521.5 \" stroke=\"#000000\"/>\n<text fill=\"#000000\" font-family=\"Times,serif\" font-size=\"14.00\" text-anchor=\"middle\" x=\"471.5\" y=\"-506.3\">(None, 64)</text>\n</g>\n<!-- 139726449477840&#45;&gt;139726449435664 -->\n<g class=\"edge\" id=\"edge5\">\n<title>139726449477840-&gt;139726449435664</title>\n<path d=\"M267,-581.3799C267,-573.1745 267,-563.7679 267,-554.8786\" fill=\"none\" stroke=\"#000000\"/>\n<polygon fill=\"#000000\" points=\"270.5001,-554.784 267,-544.784 263.5001,-554.784 270.5001,-554.784\" stroke=\"#000000\"/>\n</g>\n<!-- 139726449481360 -->\n<g class=\"node\" id=\"node7\">\n<title>139726449481360</title>\n<polygon fill=\"none\" points=\"137.5,-415.5 137.5,-461.5 396.5,-461.5 396.5,-415.5 137.5,-415.5\" stroke=\"#000000\"/>\n<text fill=\"#000000\" font-family=\"Times,serif\" font-size=\"14.00\" text-anchor=\"middle\" x=\"198\" y=\"-434.8\">flatten_19: Flatten</text>\n<polyline fill=\"none\" points=\"258.5,-415.5 258.5,-461.5 \" stroke=\"#000000\"/>\n<text fill=\"#000000\" font-family=\"Times,serif\" font-size=\"14.00\" text-anchor=\"middle\" x=\"287.5\" y=\"-446.3\">input:</text>\n<polyline fill=\"none\" points=\"258.5,-438.5 316.5,-438.5 \" stroke=\"#000000\"/>\n<text fill=\"#000000\" font-family=\"Times,serif\" font-size=\"14.00\" text-anchor=\"middle\" x=\"287.5\" y=\"-423.3\">output:</text>\n<polyline fill=\"none\" points=\"316.5,-415.5 316.5,-461.5 \" stroke=\"#000000\"/>\n<text fill=\"#000000\" font-family=\"Times,serif\" font-size=\"14.00\" text-anchor=\"middle\" x=\"356.5\" y=\"-446.3\">(None, 64)</text>\n<polyline fill=\"none\" points=\"316.5,-438.5 396.5,-438.5 \" stroke=\"#000000\"/>\n<text fill=\"#000000\" font-family=\"Times,serif\" font-size=\"14.00\" text-anchor=\"middle\" x=\"356.5\" y=\"-423.3\">(None, 64)</text>\n</g>\n<!-- 139726449435664&#45;&gt;139726449481360 -->\n<g class=\"edge\" id=\"edge6\">\n<title>139726449435664-&gt;139726449481360</title>\n<path d=\"M267,-498.3799C267,-490.1745 267,-480.7679 267,-471.8786\" fill=\"none\" stroke=\"#000000\"/>\n<polygon fill=\"#000000\" points=\"270.5001,-471.784 267,-461.784 263.5001,-471.784 270.5001,-471.784\" stroke=\"#000000\"/>\n</g>\n<!-- 139726448238864 -->\n<g class=\"node\" id=\"node8\">\n<title>139726448238864</title>\n<polygon fill=\"none\" points=\"137.5,-332.5 137.5,-378.5 396.5,-378.5 396.5,-332.5 137.5,-332.5\" stroke=\"#000000\"/>\n<text fill=\"#000000\" font-family=\"Times,serif\" font-size=\"14.00\" text-anchor=\"middle\" x=\"194.5\" y=\"-351.8\">dense_57: Dense</text>\n<polyline fill=\"none\" points=\"251.5,-332.5 251.5,-378.5 \" stroke=\"#000000\"/>\n<text fill=\"#000000\" font-family=\"Times,serif\" font-size=\"14.00\" text-anchor=\"middle\" x=\"280.5\" y=\"-363.3\">input:</text>\n<polyline fill=\"none\" points=\"251.5,-355.5 309.5,-355.5 \" stroke=\"#000000\"/>\n<text fill=\"#000000\" font-family=\"Times,serif\" font-size=\"14.00\" text-anchor=\"middle\" x=\"280.5\" y=\"-340.3\">output:</text>\n<polyline fill=\"none\" points=\"309.5,-332.5 309.5,-378.5 \" stroke=\"#000000\"/>\n<text fill=\"#000000\" font-family=\"Times,serif\" font-size=\"14.00\" text-anchor=\"middle\" x=\"353\" y=\"-363.3\">(None, 64)</text>\n<polyline fill=\"none\" points=\"309.5,-355.5 396.5,-355.5 \" stroke=\"#000000\"/>\n<text fill=\"#000000\" font-family=\"Times,serif\" font-size=\"14.00\" text-anchor=\"middle\" x=\"353\" y=\"-340.3\">(None, 256)</text>\n</g>\n<!-- 139726449481360&#45;&gt;139726448238864 -->\n<g class=\"edge\" id=\"edge7\">\n<title>139726449481360-&gt;139726448238864</title>\n<path d=\"M267,-415.3799C267,-407.1745 267,-397.7679 267,-388.8786\" fill=\"none\" stroke=\"#000000\"/>\n<polygon fill=\"#000000\" points=\"270.5001,-388.784 267,-378.784 263.5001,-388.784 270.5001,-388.784\" stroke=\"#000000\"/>\n</g>\n<!-- 139726447537488 -->\n<g class=\"node\" id=\"node9\">\n<title>139726447537488</title>\n<polygon fill=\"none\" points=\"124,-249.5 124,-295.5 410,-295.5 410,-249.5 124,-249.5\" stroke=\"#000000\"/>\n<text fill=\"#000000\" font-family=\"Times,serif\" font-size=\"14.00\" text-anchor=\"middle\" x=\"194.5\" y=\"-268.8\">dropout_58: Dropout</text>\n<polyline fill=\"none\" points=\"265,-249.5 265,-295.5 \" stroke=\"#000000\"/>\n<text fill=\"#000000\" font-family=\"Times,serif\" font-size=\"14.00\" text-anchor=\"middle\" x=\"294\" y=\"-280.3\">input:</text>\n<polyline fill=\"none\" points=\"265,-272.5 323,-272.5 \" stroke=\"#000000\"/>\n<text fill=\"#000000\" font-family=\"Times,serif\" font-size=\"14.00\" text-anchor=\"middle\" x=\"294\" y=\"-257.3\">output:</text>\n<polyline fill=\"none\" points=\"323,-249.5 323,-295.5 \" stroke=\"#000000\"/>\n<text fill=\"#000000\" font-family=\"Times,serif\" font-size=\"14.00\" text-anchor=\"middle\" x=\"366.5\" y=\"-280.3\">(None, 256)</text>\n<polyline fill=\"none\" points=\"323,-272.5 410,-272.5 \" stroke=\"#000000\"/>\n<text fill=\"#000000\" font-family=\"Times,serif\" font-size=\"14.00\" text-anchor=\"middle\" x=\"366.5\" y=\"-257.3\">(None, 256)</text>\n</g>\n<!-- 139726448238864&#45;&gt;139726447537488 -->\n<g class=\"edge\" id=\"edge8\">\n<title>139726448238864-&gt;139726447537488</title>\n<path d=\"M267,-332.3799C267,-324.1745 267,-314.7679 267,-305.8786\" fill=\"none\" stroke=\"#000000\"/>\n<polygon fill=\"#000000\" points=\"270.5001,-305.784 267,-295.784 263.5001,-305.784 270.5001,-305.784\" stroke=\"#000000\"/>\n</g>\n<!-- 139726448049488 -->\n<g class=\"node\" id=\"node10\">\n<title>139726448049488</title>\n<polygon fill=\"none\" points=\"137.5,-166.5 137.5,-212.5 396.5,-212.5 396.5,-166.5 137.5,-166.5\" stroke=\"#000000\"/>\n<text fill=\"#000000\" font-family=\"Times,serif\" font-size=\"14.00\" text-anchor=\"middle\" x=\"194.5\" y=\"-185.8\">dense_58: Dense</text>\n<polyline fill=\"none\" points=\"251.5,-166.5 251.5,-212.5 \" stroke=\"#000000\"/>\n<text fill=\"#000000\" font-family=\"Times,serif\" font-size=\"14.00\" text-anchor=\"middle\" x=\"280.5\" y=\"-197.3\">input:</text>\n<polyline fill=\"none\" points=\"251.5,-189.5 309.5,-189.5 \" stroke=\"#000000\"/>\n<text fill=\"#000000\" font-family=\"Times,serif\" font-size=\"14.00\" text-anchor=\"middle\" x=\"280.5\" y=\"-174.3\">output:</text>\n<polyline fill=\"none\" points=\"309.5,-166.5 309.5,-212.5 \" stroke=\"#000000\"/>\n<text fill=\"#000000\" font-family=\"Times,serif\" font-size=\"14.00\" text-anchor=\"middle\" x=\"353\" y=\"-197.3\">(None, 256)</text>\n<polyline fill=\"none\" points=\"309.5,-189.5 396.5,-189.5 \" stroke=\"#000000\"/>\n<text fill=\"#000000\" font-family=\"Times,serif\" font-size=\"14.00\" text-anchor=\"middle\" x=\"353\" y=\"-174.3\">(None, 128)</text>\n</g>\n<!-- 139726447537488&#45;&gt;139726448049488 -->\n<g class=\"edge\" id=\"edge9\">\n<title>139726447537488-&gt;139726448049488</title>\n<path d=\"M267,-249.3799C267,-241.1745 267,-231.7679 267,-222.8786\" fill=\"none\" stroke=\"#000000\"/>\n<polygon fill=\"#000000\" points=\"270.5001,-222.784 267,-212.784 263.5001,-222.784 270.5001,-222.784\" stroke=\"#000000\"/>\n</g>\n<!-- 139726447512272 -->\n<g class=\"node\" id=\"node11\">\n<title>139726447512272</title>\n<polygon fill=\"none\" points=\"124,-83.5 124,-129.5 410,-129.5 410,-83.5 124,-83.5\" stroke=\"#000000\"/>\n<text fill=\"#000000\" font-family=\"Times,serif\" font-size=\"14.00\" text-anchor=\"middle\" x=\"194.5\" y=\"-102.8\">dropout_59: Dropout</text>\n<polyline fill=\"none\" points=\"265,-83.5 265,-129.5 \" stroke=\"#000000\"/>\n<text fill=\"#000000\" font-family=\"Times,serif\" font-size=\"14.00\" text-anchor=\"middle\" x=\"294\" y=\"-114.3\">input:</text>\n<polyline fill=\"none\" points=\"265,-106.5 323,-106.5 \" stroke=\"#000000\"/>\n<text fill=\"#000000\" font-family=\"Times,serif\" font-size=\"14.00\" text-anchor=\"middle\" x=\"294\" y=\"-91.3\">output:</text>\n<polyline fill=\"none\" points=\"323,-83.5 323,-129.5 \" stroke=\"#000000\"/>\n<text fill=\"#000000\" font-family=\"Times,serif\" font-size=\"14.00\" text-anchor=\"middle\" x=\"366.5\" y=\"-114.3\">(None, 128)</text>\n<polyline fill=\"none\" points=\"323,-106.5 410,-106.5 \" stroke=\"#000000\"/>\n<text fill=\"#000000\" font-family=\"Times,serif\" font-size=\"14.00\" text-anchor=\"middle\" x=\"366.5\" y=\"-91.3\">(None, 128)</text>\n</g>\n<!-- 139726448049488&#45;&gt;139726447512272 -->\n<g class=\"edge\" id=\"edge10\">\n<title>139726448049488-&gt;139726447512272</title>\n<path d=\"M267,-166.3799C267,-158.1745 267,-148.7679 267,-139.8786\" fill=\"none\" stroke=\"#000000\"/>\n<polygon fill=\"#000000\" points=\"270.5001,-139.784 267,-129.784 263.5001,-139.784 270.5001,-139.784\" stroke=\"#000000\"/>\n</g>\n<!-- 139726448217744 -->\n<g class=\"node\" id=\"node12\">\n<title>139726448217744</title>\n<polygon fill=\"none\" points=\"137.5,-.5 137.5,-46.5 396.5,-46.5 396.5,-.5 137.5,-.5\" stroke=\"#000000\"/>\n<text fill=\"#000000\" font-family=\"Times,serif\" font-size=\"14.00\" text-anchor=\"middle\" x=\"194.5\" y=\"-19.8\">dense_59: Dense</text>\n<polyline fill=\"none\" points=\"251.5,-.5 251.5,-46.5 \" stroke=\"#000000\"/>\n<text fill=\"#000000\" font-family=\"Times,serif\" font-size=\"14.00\" text-anchor=\"middle\" x=\"280.5\" y=\"-31.3\">input:</text>\n<polyline fill=\"none\" points=\"251.5,-23.5 309.5,-23.5 \" stroke=\"#000000\"/>\n<text fill=\"#000000\" font-family=\"Times,serif\" font-size=\"14.00\" text-anchor=\"middle\" x=\"280.5\" y=\"-8.3\">output:</text>\n<polyline fill=\"none\" points=\"309.5,-.5 309.5,-46.5 \" stroke=\"#000000\"/>\n<text fill=\"#000000\" font-family=\"Times,serif\" font-size=\"14.00\" text-anchor=\"middle\" x=\"353\" y=\"-31.3\">(None, 128)</text>\n<polyline fill=\"none\" points=\"309.5,-23.5 396.5,-23.5 \" stroke=\"#000000\"/>\n<text fill=\"#000000\" font-family=\"Times,serif\" font-size=\"14.00\" text-anchor=\"middle\" x=\"353\" y=\"-8.3\">(None, 4)</text>\n</g>\n<!-- 139726447512272&#45;&gt;139726448217744 -->\n<g class=\"edge\" id=\"edge11\">\n<title>139726447512272-&gt;139726448217744</title>\n<path d=\"M267,-83.3799C267,-75.1745 267,-65.7679 267,-56.8786\" fill=\"none\" stroke=\"#000000\"/>\n<polygon fill=\"#000000\" points=\"270.5001,-56.784 267,-46.784 263.5001,-56.784 270.5001,-56.784\" stroke=\"#000000\"/>\n</g>\n</g>\n</svg>"
          },
          "metadata": {
            "tags": []
          },
          "execution_count": 46
        }
      ]
    },
    {
      "cell_type": "code",
      "metadata": {
        "id": "xu_OCP0iXdFr",
        "colab": {
          "base_uri": "https://localhost:8080/"
        },
        "outputId": "3b6d8f0f-812f-4271-902d-1a5eb240efda"
      },
      "source": [
        "model.summary()\n",
        "\n",
        "#opt = keras.optimizers.Adam(learning_rate=0.001, beta_1=0.9, beta_2=0.999, epsilon=None, decay=0.0, amsgrad=False)\n",
        "#opt = keras.optimizers.SGD(learning_rate=0.001)\n",
        "#opt = keras.optimizers.SGD(learning_rate=0.001, momentum=0.9)\n",
        "opt = keras.optimizers.SGD(learning_rate=0.001, momentum=0.9, nesterov=True)\n",
        "#opt = keras.optimizers.Adagrad(learning_rate=0.001, epsilon=1e-6)\n",
        "#opt = keras.optimizers.Adadelta(learning_rate=1.0, rho=0.95, epsilon=None, decay=0.0)\n",
        "\n",
        "model.compile(loss='categorical_crossentropy', optimizer=opt, metrics=[\"accuracy\"])\n",
        "\n",
        "history = model.fit(x=X_train, y=y_train, epochs=80, batch_size=12, shuffle=True, validation_split=0.2)\n",
        "\n",
        "# Result\n",
        "loss, acc = model.evaluate(X_test, y_test)\n",
        "print(\"\\nLoss: {}, Acc: {}\".format(loss,acc))"
      ],
      "execution_count": 14,
      "outputs": [
        {
          "output_type": "stream",
          "text": [
            "Model: \"sequential\"\n",
            "_________________________________________________________________\n",
            "Layer (type)                 Output Shape              Param #   \n",
            "=================================================================\n",
            "conv_lst_m2d (ConvLSTM2D)    (None, 62, 62, 64)        154624    \n",
            "_________________________________________________________________\n",
            "dropout (Dropout)            (None, 62, 62, 64)        0         \n",
            "_________________________________________________________________\n",
            "batch_normalization (BatchNo (None, 62, 62, 64)        256       \n",
            "_________________________________________________________________\n",
            "max_pooling2d (MaxPooling2D) (None, 31, 31, 64)        0         \n",
            "_________________________________________________________________\n",
            "global_average_pooling2d (Gl (None, 64)                0         \n",
            "_________________________________________________________________\n",
            "flatten (Flatten)            (None, 64)                0         \n",
            "_________________________________________________________________\n",
            "dense (Dense)                (None, 256)               16640     \n",
            "_________________________________________________________________\n",
            "dropout_1 (Dropout)          (None, 256)               0         \n",
            "_________________________________________________________________\n",
            "dense_1 (Dense)              (None, 128)               32896     \n",
            "_________________________________________________________________\n",
            "dropout_2 (Dropout)          (None, 128)               0         \n",
            "_________________________________________________________________\n",
            "dense_2 (Dense)              (None, 4)                 516       \n",
            "=================================================================\n",
            "Total params: 204,932\n",
            "Trainable params: 204,804\n",
            "Non-trainable params: 128\n",
            "_________________________________________________________________\n",
            "Epoch 1/80\n",
            "55/55 [==============================] - 13s 179ms/step - loss: 1.1349 - accuracy: 0.4835 - val_loss: 1.3862 - val_accuracy: 0.3354\n",
            "Epoch 2/80\n",
            "55/55 [==============================] - 9s 163ms/step - loss: 1.1569 - accuracy: 0.4600 - val_loss: 1.3473 - val_accuracy: 0.3171\n",
            "Epoch 3/80\n",
            "55/55 [==============================] - 9s 163ms/step - loss: 1.1189 - accuracy: 0.5016 - val_loss: 1.4175 - val_accuracy: 0.3232\n",
            "Epoch 4/80\n",
            "55/55 [==============================] - 9s 163ms/step - loss: 1.1062 - accuracy: 0.4549 - val_loss: 1.3886 - val_accuracy: 0.3415\n",
            "Epoch 5/80\n",
            "55/55 [==============================] - 9s 162ms/step - loss: 1.0969 - accuracy: 0.4758 - val_loss: 1.4314 - val_accuracy: 0.3049\n",
            "Epoch 6/80\n",
            "55/55 [==============================] - 9s 163ms/step - loss: 1.1143 - accuracy: 0.5035 - val_loss: 1.4021 - val_accuracy: 0.3293\n",
            "Epoch 7/80\n",
            "55/55 [==============================] - 9s 163ms/step - loss: 1.1334 - accuracy: 0.4871 - val_loss: 1.4230 - val_accuracy: 0.3354\n",
            "Epoch 8/80\n",
            "55/55 [==============================] - 9s 163ms/step - loss: 1.1037 - accuracy: 0.4719 - val_loss: 1.3335 - val_accuracy: 0.3171\n",
            "Epoch 9/80\n",
            "55/55 [==============================] - 9s 163ms/step - loss: 1.1015 - accuracy: 0.5005 - val_loss: 1.3754 - val_accuracy: 0.3293\n",
            "Epoch 10/80\n",
            "55/55 [==============================] - 9s 163ms/step - loss: 1.1194 - accuracy: 0.5150 - val_loss: 1.3438 - val_accuracy: 0.3537\n",
            "Epoch 11/80\n",
            "55/55 [==============================] - 9s 162ms/step - loss: 1.0862 - accuracy: 0.5041 - val_loss: 1.3198 - val_accuracy: 0.3476\n",
            "Epoch 12/80\n",
            "55/55 [==============================] - 9s 163ms/step - loss: 1.1653 - accuracy: 0.4393 - val_loss: 1.3424 - val_accuracy: 0.3537\n",
            "Epoch 13/80\n",
            "55/55 [==============================] - 9s 162ms/step - loss: 1.0902 - accuracy: 0.4844 - val_loss: 1.3713 - val_accuracy: 0.3354\n",
            "Epoch 14/80\n",
            "55/55 [==============================] - 9s 163ms/step - loss: 1.0826 - accuracy: 0.5157 - val_loss: 1.3618 - val_accuracy: 0.3232\n",
            "Epoch 15/80\n",
            "55/55 [==============================] - 9s 163ms/step - loss: 1.0883 - accuracy: 0.4933 - val_loss: 1.3669 - val_accuracy: 0.3354\n",
            "Epoch 16/80\n",
            "55/55 [==============================] - 9s 163ms/step - loss: 1.1144 - accuracy: 0.5028 - val_loss: 1.4197 - val_accuracy: 0.3476\n",
            "Epoch 17/80\n",
            "55/55 [==============================] - 9s 163ms/step - loss: 1.1026 - accuracy: 0.5184 - val_loss: 1.3507 - val_accuracy: 0.3354\n",
            "Epoch 18/80\n",
            "55/55 [==============================] - 9s 164ms/step - loss: 1.1310 - accuracy: 0.5166 - val_loss: 1.3610 - val_accuracy: 0.3171\n",
            "Epoch 19/80\n",
            "55/55 [==============================] - 9s 162ms/step - loss: 1.1097 - accuracy: 0.4574 - val_loss: 1.3807 - val_accuracy: 0.3415\n",
            "Epoch 20/80\n",
            "55/55 [==============================] - 9s 164ms/step - loss: 1.0926 - accuracy: 0.5216 - val_loss: 1.3825 - val_accuracy: 0.3232\n",
            "Epoch 21/80\n",
            "55/55 [==============================] - 9s 163ms/step - loss: 1.0937 - accuracy: 0.4927 - val_loss: 1.3437 - val_accuracy: 0.3110\n",
            "Epoch 22/80\n",
            "55/55 [==============================] - 9s 163ms/step - loss: 1.0719 - accuracy: 0.5322 - val_loss: 1.3927 - val_accuracy: 0.3232\n",
            "Epoch 23/80\n",
            "55/55 [==============================] - 9s 163ms/step - loss: 1.1053 - accuracy: 0.5188 - val_loss: 1.4189 - val_accuracy: 0.3171\n",
            "Epoch 24/80\n",
            "55/55 [==============================] - 9s 163ms/step - loss: 1.0928 - accuracy: 0.5087 - val_loss: 1.3601 - val_accuracy: 0.3049\n",
            "Epoch 25/80\n",
            "55/55 [==============================] - 9s 162ms/step - loss: 1.0783 - accuracy: 0.5241 - val_loss: 1.3667 - val_accuracy: 0.2927\n",
            "Epoch 26/80\n",
            "55/55 [==============================] - 9s 162ms/step - loss: 1.1044 - accuracy: 0.4996 - val_loss: 1.3860 - val_accuracy: 0.3110\n",
            "Epoch 27/80\n",
            "55/55 [==============================] - 9s 162ms/step - loss: 1.1141 - accuracy: 0.4857 - val_loss: 1.4053 - val_accuracy: 0.2622\n",
            "Epoch 28/80\n",
            "55/55 [==============================] - 9s 162ms/step - loss: 1.1430 - accuracy: 0.4781 - val_loss: 1.4194 - val_accuracy: 0.3171\n",
            "Epoch 29/80\n",
            "55/55 [==============================] - 9s 162ms/step - loss: 1.0956 - accuracy: 0.5128 - val_loss: 1.2946 - val_accuracy: 0.3720\n",
            "Epoch 30/80\n",
            "55/55 [==============================] - 9s 163ms/step - loss: 1.1573 - accuracy: 0.4848 - val_loss: 1.3329 - val_accuracy: 0.3780\n",
            "Epoch 31/80\n",
            "55/55 [==============================] - 9s 163ms/step - loss: 1.1006 - accuracy: 0.4940 - val_loss: 1.3010 - val_accuracy: 0.4024\n",
            "Epoch 32/80\n",
            "55/55 [==============================] - 9s 163ms/step - loss: 1.1280 - accuracy: 0.4935 - val_loss: 1.3977 - val_accuracy: 0.3171\n",
            "Epoch 33/80\n",
            "55/55 [==============================] - 9s 163ms/step - loss: 1.1139 - accuracy: 0.4862 - val_loss: 1.4093 - val_accuracy: 0.3049\n",
            "Epoch 34/80\n",
            "55/55 [==============================] - 9s 163ms/step - loss: 1.1244 - accuracy: 0.5197 - val_loss: 1.3471 - val_accuracy: 0.3476\n",
            "Epoch 35/80\n",
            "55/55 [==============================] - 9s 163ms/step - loss: 1.1002 - accuracy: 0.5254 - val_loss: 1.3747 - val_accuracy: 0.3171\n",
            "Epoch 36/80\n",
            "55/55 [==============================] - 9s 163ms/step - loss: 1.0847 - accuracy: 0.5310 - val_loss: 1.3873 - val_accuracy: 0.3171\n",
            "Epoch 37/80\n",
            "55/55 [==============================] - 9s 163ms/step - loss: 1.0906 - accuracy: 0.5002 - val_loss: 1.3622 - val_accuracy: 0.3232\n",
            "Epoch 38/80\n",
            "55/55 [==============================] - 9s 163ms/step - loss: 1.1088 - accuracy: 0.5085 - val_loss: 1.3792 - val_accuracy: 0.3049\n",
            "Epoch 39/80\n",
            "55/55 [==============================] - 9s 163ms/step - loss: 1.1213 - accuracy: 0.4866 - val_loss: 1.3698 - val_accuracy: 0.3171\n",
            "Epoch 40/80\n",
            "55/55 [==============================] - 9s 163ms/step - loss: 1.1057 - accuracy: 0.5004 - val_loss: 1.3941 - val_accuracy: 0.3354\n",
            "Epoch 41/80\n",
            "55/55 [==============================] - 9s 163ms/step - loss: 1.0663 - accuracy: 0.5157 - val_loss: 1.3971 - val_accuracy: 0.3354\n",
            "Epoch 42/80\n",
            "55/55 [==============================] - 9s 163ms/step - loss: 1.0841 - accuracy: 0.5040 - val_loss: 1.3417 - val_accuracy: 0.3598\n",
            "Epoch 43/80\n",
            "55/55 [==============================] - 9s 163ms/step - loss: 1.0986 - accuracy: 0.5055 - val_loss: 1.4255 - val_accuracy: 0.3415\n",
            "Epoch 44/80\n",
            "55/55 [==============================] - 9s 163ms/step - loss: 1.0739 - accuracy: 0.5189 - val_loss: 1.4256 - val_accuracy: 0.3293\n",
            "Epoch 45/80\n",
            "55/55 [==============================] - 9s 161ms/step - loss: 1.1193 - accuracy: 0.5393 - val_loss: 1.4228 - val_accuracy: 0.3110\n",
            "Epoch 46/80\n",
            "55/55 [==============================] - 9s 161ms/step - loss: 1.0736 - accuracy: 0.5204 - val_loss: 1.5190 - val_accuracy: 0.2988\n",
            "Epoch 47/80\n",
            "55/55 [==============================] - 9s 161ms/step - loss: 1.1213 - accuracy: 0.5031 - val_loss: 1.3640 - val_accuracy: 0.3780\n",
            "Epoch 48/80\n",
            "55/55 [==============================] - 9s 161ms/step - loss: 1.0816 - accuracy: 0.5223 - val_loss: 1.4344 - val_accuracy: 0.3049\n",
            "Epoch 49/80\n",
            "55/55 [==============================] - 9s 161ms/step - loss: 1.1340 - accuracy: 0.4936 - val_loss: 1.3306 - val_accuracy: 0.3537\n",
            "Epoch 50/80\n",
            "55/55 [==============================] - 9s 161ms/step - loss: 1.1392 - accuracy: 0.4489 - val_loss: 1.4102 - val_accuracy: 0.2988\n",
            "Epoch 51/80\n",
            "55/55 [==============================] - 9s 162ms/step - loss: 1.0976 - accuracy: 0.4970 - val_loss: 1.4097 - val_accuracy: 0.3293\n",
            "Epoch 52/80\n",
            "55/55 [==============================] - 9s 163ms/step - loss: 1.1048 - accuracy: 0.5227 - val_loss: 1.3893 - val_accuracy: 0.3110\n",
            "Epoch 53/80\n",
            "55/55 [==============================] - 9s 163ms/step - loss: 1.1302 - accuracy: 0.4685 - val_loss: 1.7143 - val_accuracy: 0.3232\n",
            "Epoch 54/80\n",
            "55/55 [==============================] - 9s 162ms/step - loss: 1.1286 - accuracy: 0.4678 - val_loss: 1.6658 - val_accuracy: 0.3232\n",
            "Epoch 55/80\n",
            "55/55 [==============================] - 9s 163ms/step - loss: 1.0976 - accuracy: 0.5044 - val_loss: 1.6475 - val_accuracy: 0.3232\n",
            "Epoch 56/80\n",
            "55/55 [==============================] - 9s 162ms/step - loss: 1.1270 - accuracy: 0.5019 - val_loss: 1.5776 - val_accuracy: 0.3232\n",
            "Epoch 57/80\n",
            "55/55 [==============================] - 9s 162ms/step - loss: 1.1732 - accuracy: 0.4473 - val_loss: 1.5254 - val_accuracy: 0.3171\n",
            "Epoch 58/80\n",
            "55/55 [==============================] - 9s 162ms/step - loss: 1.1081 - accuracy: 0.5088 - val_loss: 1.4007 - val_accuracy: 0.3232\n",
            "Epoch 59/80\n",
            "55/55 [==============================] - 9s 163ms/step - loss: 1.1544 - accuracy: 0.4743 - val_loss: 1.3568 - val_accuracy: 0.3659\n",
            "Epoch 60/80\n",
            "55/55 [==============================] - 9s 163ms/step - loss: 1.1014 - accuracy: 0.5048 - val_loss: 1.4125 - val_accuracy: 0.3293\n",
            "Epoch 61/80\n",
            "55/55 [==============================] - 9s 162ms/step - loss: 1.1254 - accuracy: 0.4543 - val_loss: 1.3697 - val_accuracy: 0.3110\n",
            "Epoch 62/80\n",
            "55/55 [==============================] - 9s 162ms/step - loss: 1.1646 - accuracy: 0.4654 - val_loss: 1.3158 - val_accuracy: 0.3659\n",
            "Epoch 63/80\n",
            "55/55 [==============================] - 9s 163ms/step - loss: 1.0539 - accuracy: 0.5213 - val_loss: 1.3671 - val_accuracy: 0.3232\n",
            "Epoch 64/80\n",
            "55/55 [==============================] - 9s 163ms/step - loss: 1.0857 - accuracy: 0.5007 - val_loss: 1.3639 - val_accuracy: 0.3171\n",
            "Epoch 65/80\n",
            "55/55 [==============================] - 9s 163ms/step - loss: 1.0875 - accuracy: 0.4889 - val_loss: 1.3974 - val_accuracy: 0.3415\n",
            "Epoch 66/80\n",
            "55/55 [==============================] - 9s 166ms/step - loss: 1.0768 - accuracy: 0.5049 - val_loss: 1.3716 - val_accuracy: 0.3354\n",
            "Epoch 67/80\n",
            "55/55 [==============================] - 9s 164ms/step - loss: 1.0395 - accuracy: 0.5261 - val_loss: 1.3896 - val_accuracy: 0.3232\n",
            "Epoch 68/80\n",
            "55/55 [==============================] - 9s 164ms/step - loss: 1.1009 - accuracy: 0.5246 - val_loss: 1.4595 - val_accuracy: 0.3293\n",
            "Epoch 69/80\n",
            "55/55 [==============================] - 9s 165ms/step - loss: 1.0553 - accuracy: 0.5071 - val_loss: 1.3770 - val_accuracy: 0.3232\n",
            "Epoch 70/80\n",
            "55/55 [==============================] - 9s 165ms/step - loss: 1.0622 - accuracy: 0.5112 - val_loss: 1.4170 - val_accuracy: 0.3293\n",
            "Epoch 71/80\n",
            "55/55 [==============================] - 9s 165ms/step - loss: 1.0743 - accuracy: 0.5209 - val_loss: 1.4767 - val_accuracy: 0.3293\n",
            "Epoch 72/80\n",
            "55/55 [==============================] - 9s 163ms/step - loss: 1.0497 - accuracy: 0.5201 - val_loss: 1.4018 - val_accuracy: 0.3537\n",
            "Epoch 73/80\n",
            "55/55 [==============================] - 9s 163ms/step - loss: 1.0943 - accuracy: 0.5271 - val_loss: 1.4220 - val_accuracy: 0.3293\n",
            "Epoch 74/80\n",
            "55/55 [==============================] - 9s 163ms/step - loss: 1.1193 - accuracy: 0.4774 - val_loss: 1.5178 - val_accuracy: 0.3171\n",
            "Epoch 75/80\n",
            "55/55 [==============================] - 9s 165ms/step - loss: 1.0513 - accuracy: 0.5266 - val_loss: 1.3952 - val_accuracy: 0.2927\n",
            "Epoch 76/80\n",
            "55/55 [==============================] - 9s 163ms/step - loss: 1.0108 - accuracy: 0.5328 - val_loss: 1.4225 - val_accuracy: 0.3232\n",
            "Epoch 77/80\n",
            "55/55 [==============================] - 9s 162ms/step - loss: 1.0470 - accuracy: 0.5385 - val_loss: 1.4159 - val_accuracy: 0.3476\n",
            "Epoch 78/80\n",
            "55/55 [==============================] - 9s 164ms/step - loss: 1.0864 - accuracy: 0.5008 - val_loss: 1.4704 - val_accuracy: 0.3110\n",
            "Epoch 79/80\n",
            "55/55 [==============================] - 9s 164ms/step - loss: 1.1029 - accuracy: 0.4896 - val_loss: 1.5057 - val_accuracy: 0.3354\n",
            "Epoch 80/80\n",
            "55/55 [==============================] - 9s 163ms/step - loss: 1.1094 - accuracy: 0.5037 - val_loss: 1.4376 - val_accuracy: 0.3049\n",
            "7/7 [==============================] - 1s 92ms/step - loss: 1.4680 - accuracy: 0.4000\n",
            "\n",
            "Loss: 1.46804940700531, Acc: 0.4000000059604645\n"
          ],
          "name": "stdout"
        }
      ]
    },
    {
      "cell_type": "code",
      "metadata": {
        "colab": {
          "base_uri": "https://localhost:8080/",
          "height": 573
        },
        "id": "03EgVD9bI03A",
        "outputId": "b0ed936a-9f2f-4ae6-99e4-b177e17c70af"
      },
      "source": [
        "# Visualize the plot\n",
        "\n",
        "## summarize history for accuracy\n",
        "plt.plot(history.history['accuracy'])\n",
        "plt.plot(history.history['val_accuracy'])\n",
        "plt.title('model accuracy')\n",
        "plt.ylabel('accuracy')\n",
        "plt.xlabel('epoch')\n",
        "plt.legend(['train', 'test'], loc='upper left')\n",
        "plt.show()\n",
        "## summarize history for loss\n",
        "plt.plot(history.history['loss'])\n",
        "plt.plot(history.history['val_loss'])\n",
        "plt.title('model loss')\n",
        "plt.ylabel('loss')\n",
        "plt.xlabel('epoch')\n",
        "plt.legend(['train', 'test'], loc='upper left')\n",
        "plt.show()"
      ],
      "execution_count": 15,
      "outputs": [
        {
          "output_type": "display_data",
          "data": {
            "image/png": "[encoded data removed]",
            "text/plain": [
              "<Figure size 432x288 with 1 Axes>"
            ]
          },
          "metadata": {
            "tags": [],
            "needs_background": "light"
          }
        },
        {
          "output_type": "display_data",
          "data": {
            "image/png": "[encoded data removed]",
            "text/plain": [
              "<Figure size 432x288 with 1 Axes>"
            ]
          },
          "metadata": {
            "tags": [],
            "needs_background": "light"
          }
        }
      ]
    },
    {
      "cell_type": "code",
      "metadata": {
        "id": "6MM-uKMXKbc5"
      },
      "source": [
        "predictions = model.predict(X_test)\n",
        "print('prediction result: ',np.argmax(predictions[0]))\n",
        "print('actual result: ', y_test[0])\n",
        "\n",
        "# Evaluation of model\n",
        "y_pred = model.predict(X_test)\n",
        "y_pred = np.argmax(y_pred, axis=1)\n",
        "y_test = np.argmax(y_test, axis=1)\n",
        "print('classification report\\n')\n",
        "print(classification_report(y_test, y_pred))"
      ],
      "execution_count": null,
      "outputs": []
    },
    {
      "cell_type": "code",
      "metadata": {
        "colab": {
          "base_uri": "https://localhost:8080/"
        },
        "id": "IYnev14UAi_m",
        "outputId": "fd84e939-9194-4a3e-c4d3-0afbbb483451"
      },
      "source": [
        "# Evaluation of model\n",
        "y_pred = model.predict(X_test)\n",
        "y_pred = np.argmax(y_pred, axis = 1)\n",
        "y_test = np.argmax(y_test, axis = 1)\n",
        "#print('y test:', y_test)\n",
        "print('Classification Report:\\n')\n",
        "print(classification_report(y_test, y_pred))\n",
        "\n",
        "# Confusion Matrix\n",
        "cm = confusion_matrix(y_test, y_pred) \n",
        "print('confusion matrix:\\n ', cm)"
      ],
      "execution_count": 16,
      "outputs": [
        {
          "output_type": "stream",
          "text": [
            "Classification Report:\n",
            "\n",
            "              precision    recall  f1-score   support\n",
            "\n",
            "           0       0.20      0.04      0.06        28\n",
            "           1       0.00      0.00      0.00        47\n",
            "           2       0.43      0.24      0.31        41\n",
            "           3       0.42      0.80      0.55        89\n",
            "\n",
            "    accuracy                           0.40       205\n",
            "   macro avg       0.26      0.27      0.23       205\n",
            "weighted avg       0.30      0.40      0.31       205\n",
            "\n",
            "confusion matrix:\n",
            "  [[ 1  0  0 27]\n",
            " [ 0  0  3 44]\n",
            " [ 2  1 10 28]\n",
            " [ 2  6 10 71]]\n"
          ],
          "name": "stdout"
        }
      ]
    }
  ]
}