{
  "nbformat": 4,
  "nbformat_minor": 0,
  "metadata": {
    "accelerator": "GPU",
    "colab": {
      "name": "cross_validation_predict.ipynb",
      "provenance": [],
      "collapsed_sections": [],
      "machine_shape": "hm",
      "mount_file_id": "1zE5axvTQyPoYVWhZG2Tt-pw1bvnqDQT0",
      "authorship_tag": "ABX9TyPXlKx9huDXop6z97eCvTqC",
      "include_colab_link": true
    },
    "kernelspec": {
      "display_name": "Python 3",
      "name": "python3"
    },
    "language_info": {
      "name": "python"
    }
  },
  "cells": [
    {
      "cell_type": "markdown",
      "metadata": {
        "id": "view-in-github",
        "colab_type": "text"
      },
      "source": [
        "<a href=\"https://colab.research.google.com/github/Hwajun1323/ML/blob/master/result/20frames/cross_validation_predict.ipynb\" target=\"_parent\"><img src=\"https://colab.research.google.com/assets/colab-badge.svg\" alt=\"Open In Colab\"/></a>"
      ]
    },
    {
      "cell_type": "code",
      "metadata": {
        "colab": {
          "base_uri": "https://localhost:8080/"
        },
        "id": "-lJjS99is-Fw",
        "outputId": "737e9ae3-80ff-4c96-b4c7-e899548fe022"
      },
      "source": [
        "pip install keras-metrics"
      ],
      "execution_count": 1,
      "outputs": [
        {
          "output_type": "stream",
          "text": [
            "Collecting keras-metrics\n",
            "  Downloading https://files.pythonhosted.org/packages/32/c9/a87420da8e73de944e63a8e9cdcfb1f03ca31a7c4cdcdbd45d2cdf13275a/keras_metrics-1.1.0-py2.py3-none-any.whl\n",
            "Requirement already satisfied: Keras>=2.1.5 in /usr/local/lib/python3.7/dist-packages (from keras-metrics) (2.4.3)\n",
            "Requirement already satisfied: numpy>=1.9.1 in /usr/local/lib/python3.7/dist-packages (from Keras>=2.1.5->keras-metrics) (1.19.5)\n",
            "Requirement already satisfied: pyyaml in /usr/local/lib/python3.7/dist-packages (from Keras>=2.1.5->keras-metrics) (3.13)\n",
            "Requirement already satisfied: scipy>=0.14 in /usr/local/lib/python3.7/dist-packages (from Keras>=2.1.5->keras-metrics) (1.4.1)\n",
            "Requirement already satisfied: h5py in /usr/local/lib/python3.7/dist-packages (from Keras>=2.1.5->keras-metrics) (3.1.0)\n",
            "Requirement already satisfied: cached-property; python_version < \"3.8\" in /usr/local/lib/python3.7/dist-packages (from h5py->Keras>=2.1.5->keras-metrics) (1.5.2)\n",
            "Installing collected packages: keras-metrics\n",
            "Successfully installed keras-metrics-1.1.0\n"
          ],
          "name": "stdout"
        }
      ]
    },
    {
      "cell_type": "code",
      "metadata": {
        "id": "GQ0gCXmlfZX8"
      },
      "source": [
        "import keras\n",
        "from keras import applications\n",
        "from keras.preprocessing.image import ImageDataGenerator\n",
        "from keras import optimizers\n",
        "from keras.models import Sequential, Model\n",
        "from keras.layers import *\n",
        "from keras.callbacks import ModelCheckpoint, LearningRateScheduler, TensorBoard, EarlyStopping\n",
        "from tensorflow.keras.utils import plot_model\n",
        "\n",
        "import os\n",
        "import cv2\n",
        "import numpy as np\n",
        "from sklearn.model_selection import train_test_split\n",
        "from sklearn.model_selection import cross_val_score , cross_validate\n",
        "from sklearn.model_selection import KFold, StratifiedKFold\n",
        "from keras.wrappers.scikit_learn import KerasClassifier\n",
        "\n",
        "import keras_metrics as km\n",
        "\n",
        "from sklearn.metrics import accuracy_score\n",
        "from sklearn.metrics import precision_score\n",
        "from sklearn.metrics import recall_score\n",
        "from sklearn.metrics import f1_score\n",
        "from sklearn.metrics import cohen_kappa_score\n",
        "from sklearn.metrics import roc_auc_score\n",
        "from sklearn.metrics import multilabel_confusion_matrix\n",
        "from sklearn.metrics import classification_report\n",
        "from sklearn.metrics import confusion_matrix\n",
        "\n",
        "import matplotlib.pyplot as plt"
      ],
      "execution_count": 2,
      "outputs": []
    },
    {
      "cell_type": "code",
      "metadata": {
        "colab": {
          "base_uri": "https://localhost:8080/"
        },
        "id": "CiVFsiIWffUd",
        "outputId": "7ef1698c-efc6-429e-b504-b4756145a1ee"
      },
      "source": [
        "data_dir = \"/content/drive/My Drive/dataset/video_data\"\n",
        "#data_dir = \"video_data/\"\n",
        "img_height, img_width = 64, 64\n",
        "seq_len = 20\n",
        "\n",
        "classes = [\"Child's room\",  \"Museum\", \"Office\", \"Restaurant\"]\n",
        "num_classes = len(classes)\n",
        "print(\"Number of Class: \", num_classes)\n",
        "\n",
        "#  Creating frames from videos\n",
        "\n",
        "def frames_extraction(video_path):\n",
        "    frames_list = []\n",
        "\n",
        "    vidObj = cv2.VideoCapture(video_path)\n",
        "    # Used as counter variable\n",
        "    count = 1\n",
        "\n",
        "    while count <= seq_len:\n",
        "        success, image = vidObj.read()\n",
        "        if success:\n",
        "            image = cv2.resize(image, (img_height, img_width))\n",
        "            frames_list.append(image)\n",
        "            count += 1\n",
        "        else:\n",
        "            print(\"Defected frame\")\n",
        "            break\n",
        "\n",
        "    return frames_list\n",
        "\n",
        "# Create the actual data from the sequence of images\n",
        "\n",
        "def create_data(input_dir):\n",
        "    X = []\n",
        "    Y = []\n",
        "\n",
        "    classes_list = os.listdir(input_dir)\n",
        "\n",
        "    for c in classes_list:\n",
        "        print(c)\n",
        "        files_list = os.listdir(os.path.join(input_dir, c))\n",
        "        for f in files_list:\n",
        "            frames = frames_extraction(os.path.join(os.path.join(input_dir, c), f))\n",
        "            if len(frames) == seq_len:\n",
        "                X.append(frames)\n",
        "\n",
        "                y = [0] * len(classes)\n",
        "                y[classes.index(c)] = 1\n",
        "                Y.append(y)\n",
        "\n",
        "    X = np.asarray(X)\n",
        "    Y = np.asarray(Y)\n",
        "    \n",
        "    return X, Y"
      ],
      "execution_count": 3,
      "outputs": [
        {
          "output_type": "stream",
          "text": [
            "Number of Class:  4\n"
          ],
          "name": "stdout"
        }
      ]
    },
    {
      "cell_type": "code",
      "metadata": {
        "colab": {
          "base_uri": "https://localhost:8080/"
        },
        "id": "G6nClQdnRTwb",
        "outputId": "4f204d01-9c44-4ba0-a19e-3053740f8bfa"
      },
      "source": [
        "X, Y = create_data(data_dir)\n",
        "X_train, X_test, y_train, y_test = train_test_split(X, Y, test_size=0.20, shuffle=True, random_state=0)"
      ],
      "execution_count": 4,
      "outputs": [
        {
          "output_type": "stream",
          "text": [
            "Child's room\n",
            "Restaurant\n",
            "Office\n",
            "Museum\n"
          ],
          "name": "stdout"
        }
      ]
    },
    {
      "cell_type": "code",
      "metadata": {
        "colab": {
          "base_uri": "https://localhost:8080/"
        },
        "id": "2_ehqpr2ZCgm",
        "outputId": "c48bc02b-78ce-4e6f-91d9-ae5f512834d5"
      },
      "source": [
        "print(X_train.shape)\n",
        "print(X_test.shape)\n",
        "print(y_train.shape)\n",
        "print(y_test.shape)"
      ],
      "execution_count": 6,
      "outputs": [
        {
          "output_type": "stream",
          "text": [
            "(818, 20, 64, 64, 3)\n",
            "(205, 20, 64, 64, 3)\n",
            "(818, 4)\n",
            "(205, 4)\n"
          ],
          "name": "stdout"
        }
      ]
    },
    {
      "cell_type": "code",
      "metadata": {
        "id": "h_v-9iPAIv_E"
      },
      "source": [
        "def create_model():\n",
        "    model = Sequential()\n",
        "\n",
        "    model.add(ConvLSTM2D(filters=64, kernel_size=(3, 3), return_sequences=False, data_format=\"channels_last\", input_shape=(seq_len, img_height, img_width, 3)))\n",
        "    model.add(Dropout(0.3))\n",
        "\n",
        "    model.add(BatchNormalization())\n",
        "    model.add(MaxPooling2D(pool_size = (2, 2)))\n",
        "    model.add(GlobalAveragePooling2D())\n",
        "\n",
        "    model.add(Flatten())\n",
        "    model.add(Dense(256, activation=\"relu\"))\n",
        "    model.add(Dropout(0.5))\n",
        "    model.add(Dense(128, activation=\"relu\"))\n",
        "    model.add(Dropout(0.5))\n",
        "    model.add(Dense(num_classes, activation=\"softmax\"))\n",
        "\n",
        "    model.summary()\n",
        "\n",
        "    # Various optimizer\n",
        "\n",
        "    opt = keras.optimizers.Adam(lr=0.001, beta_1=0.9, beta_2=0.999, epsilon=None, decay=0.0, amsgrad=False)\n",
        "    #opt = keras.optimizers.SGD(lr=0.001)\n",
        "    #opt = keras.optimizers.SGD(lr=0.001, momentum=0.9)\n",
        "    #opt = keras.optimizers.SGD(learning_rate=0.001, momentum=0.9, nesterov=True)\n",
        "    #opt = keras.optimizers.Adagrad(lr=0.001, epsilon=1e-6)\n",
        "    #opt = keras.optimizers.Adadelta(learning_rate=1.0, rho=0.95, epsilon=None, decay=0.0)\n",
        "\n",
        "    model.compile(loss='categorical_crossentropy', optimizer=opt, metrics=[\"accuracy\"])\n",
        "    return model"
      ],
      "execution_count": 9,
      "outputs": []
    },
    {
      "cell_type": "code",
      "metadata": {
        "colab": {
          "base_uri": "https://localhost:8080/"
        },
        "id": "Ks_FcbxkKx5J",
        "outputId": "ad096ba4-77a4-474c-bd72-e4fc9977787d"
      },
      "source": [
        "model = KerasClassifier(build_fn=create_model, epochs=80, batch_size=40, verbose=0)\n",
        "kfold = KFold(n_splits=3, shuffle=True, random_state=None) \n",
        "results = cross_val_score(model, X, Y, cv=kfold)\n",
        "\n",
        "print('cross validation accuracy:',np.round(results, 4))\n",
        "print('mean accuracy:', np.round(np.mean(results), 4))\n",
        "print('std :', np.round(np.std  (results), 4))"
      ],
      "execution_count": 10,
      "outputs": [
        {
          "output_type": "stream",
          "text": [
            "Model: \"sequential_5\"\n",
            "_________________________________________________________________\n",
            "Layer (type)                 Output Shape              Param #   \n",
            "=================================================================\n",
            "conv_lst_m2d_5 (ConvLSTM2D)  (None, 62, 62, 64)        154624    \n",
            "_________________________________________________________________\n",
            "dropout_15 (Dropout)         (None, 62, 62, 64)        0         \n",
            "_________________________________________________________________\n",
            "batch_normalization_5 (Batch (None, 62, 62, 64)        256       \n",
            "_________________________________________________________________\n",
            "max_pooling2d_5 (MaxPooling2 (None, 31, 31, 64)        0         \n",
            "_________________________________________________________________\n",
            "global_average_pooling2d_5 ( (None, 64)                0         \n",
            "_________________________________________________________________\n",
            "flatten_5 (Flatten)          (None, 64)                0         \n",
            "_________________________________________________________________\n",
            "dense_15 (Dense)             (None, 256)               16640     \n",
            "_________________________________________________________________\n",
            "dropout_16 (Dropout)         (None, 256)               0         \n",
            "_________________________________________________________________\n",
            "dense_16 (Dense)             (None, 128)               32896     \n",
            "_________________________________________________________________\n",
            "dropout_17 (Dropout)         (None, 128)               0         \n",
            "_________________________________________________________________\n",
            "dense_17 (Dense)             (None, 4)                 516       \n",
            "=================================================================\n",
            "Total params: 204,932\n",
            "Trainable params: 204,804\n",
            "Non-trainable params: 128\n",
            "_________________________________________________________________\n"
          ],
          "name": "stdout"
        },
        {
          "output_type": "stream",
          "text": [
            "/usr/local/lib/python3.7/dist-packages/tensorflow/python/keras/optimizer_v2/optimizer_v2.py:375: UserWarning: The `lr` argument is deprecated, use `learning_rate` instead.\n",
            "  \"The `lr` argument is deprecated, use `learning_rate` instead.\")\n"
          ],
          "name": "stderr"
        },
        {
          "output_type": "stream",
          "text": [
            "Model: \"sequential_6\"\n",
            "_________________________________________________________________\n",
            "Layer (type)                 Output Shape              Param #   \n",
            "=================================================================\n",
            "conv_lst_m2d_6 (ConvLSTM2D)  (None, 62, 62, 64)        154624    \n",
            "_________________________________________________________________\n",
            "dropout_18 (Dropout)         (None, 62, 62, 64)        0         \n",
            "_________________________________________________________________\n",
            "batch_normalization_6 (Batch (None, 62, 62, 64)        256       \n",
            "_________________________________________________________________\n",
            "max_pooling2d_6 (MaxPooling2 (None, 31, 31, 64)        0         \n",
            "_________________________________________________________________\n",
            "global_average_pooling2d_6 ( (None, 64)                0         \n",
            "_________________________________________________________________\n",
            "flatten_6 (Flatten)          (None, 64)                0         \n",
            "_________________________________________________________________\n",
            "dense_18 (Dense)             (None, 256)               16640     \n",
            "_________________________________________________________________\n",
            "dropout_19 (Dropout)         (None, 256)               0         \n",
            "_________________________________________________________________\n",
            "dense_19 (Dense)             (None, 128)               32896     \n",
            "_________________________________________________________________\n",
            "dropout_20 (Dropout)         (None, 128)               0         \n",
            "_________________________________________________________________\n",
            "dense_20 (Dense)             (None, 4)                 516       \n",
            "=================================================================\n",
            "Total params: 204,932\n",
            "Trainable params: 204,804\n",
            "Non-trainable params: 128\n",
            "_________________________________________________________________\n",
            "Model: \"sequential_7\"\n",
            "_________________________________________________________________\n",
            "Layer (type)                 Output Shape              Param #   \n",
            "=================================================================\n",
            "conv_lst_m2d_7 (ConvLSTM2D)  (None, 62, 62, 64)        154624    \n",
            "_________________________________________________________________\n",
            "dropout_21 (Dropout)         (None, 62, 62, 64)        0         \n",
            "_________________________________________________________________\n",
            "batch_normalization_7 (Batch (None, 62, 62, 64)        256       \n",
            "_________________________________________________________________\n",
            "max_pooling2d_7 (MaxPooling2 (None, 31, 31, 64)        0         \n",
            "_________________________________________________________________\n",
            "global_average_pooling2d_7 ( (None, 64)                0         \n",
            "_________________________________________________________________\n",
            "flatten_7 (Flatten)          (None, 64)                0         \n",
            "_________________________________________________________________\n",
            "dense_21 (Dense)             (None, 256)               16640     \n",
            "_________________________________________________________________\n",
            "dropout_22 (Dropout)         (None, 256)               0         \n",
            "_________________________________________________________________\n",
            "dense_22 (Dense)             (None, 128)               32896     \n",
            "_________________________________________________________________\n",
            "dropout_23 (Dropout)         (None, 128)               0         \n",
            "_________________________________________________________________\n",
            "dense_23 (Dense)             (None, 4)                 516       \n",
            "=================================================================\n",
            "Total params: 204,932\n",
            "Trainable params: 204,804\n",
            "Non-trainable params: 128\n",
            "_________________________________________________________________\n",
            "cross validation accuracy: [0.3754 0.3988 0.4282]\n",
            "mean accuracy: 0.4008\n",
            "std : 0.0216\n"
          ],
          "name": "stdout"
        }
      ]
    },
    {
      "cell_type": "code",
      "metadata": {
        "colab": {
          "base_uri": "https://localhost:8080/"
        },
        "id": "e0HAk46FQFV7",
        "outputId": "7bb84d38-41c3-47a0-89a4-f9f8aaea34c3"
      },
      "source": [
        "from sklearn.model_selection import cross_val_predict\n",
        "\n",
        "#model = KerasClassifier(build_fn=create_model, epochs=80, batch_size=40, verbose=0)\n",
        "#kfold = KFold(n_splits=3, shuffle=True, random_state=None) \n",
        "predicted = cross_val_predict(model, X, Y, cv=kfold)\n",
        "print('Cross validation prediction done!')"
      ],
      "execution_count": 11,
      "outputs": [
        {
          "output_type": "stream",
          "text": [
            "Model: \"sequential_8\"\n",
            "_________________________________________________________________\n",
            "Layer (type)                 Output Shape              Param #   \n",
            "=================================================================\n",
            "conv_lst_m2d_8 (ConvLSTM2D)  (None, 62, 62, 64)        154624    \n",
            "_________________________________________________________________\n",
            "dropout_24 (Dropout)         (None, 62, 62, 64)        0         \n",
            "_________________________________________________________________\n",
            "batch_normalization_8 (Batch (None, 62, 62, 64)        256       \n",
            "_________________________________________________________________\n",
            "max_pooling2d_8 (MaxPooling2 (None, 31, 31, 64)        0         \n",
            "_________________________________________________________________\n",
            "global_average_pooling2d_8 ( (None, 64)                0         \n",
            "_________________________________________________________________\n",
            "flatten_8 (Flatten)          (None, 64)                0         \n",
            "_________________________________________________________________\n",
            "dense_24 (Dense)             (None, 256)               16640     \n",
            "_________________________________________________________________\n",
            "dropout_25 (Dropout)         (None, 256)               0         \n",
            "_________________________________________________________________\n",
            "dense_25 (Dense)             (None, 128)               32896     \n",
            "_________________________________________________________________\n",
            "dropout_26 (Dropout)         (None, 128)               0         \n",
            "_________________________________________________________________\n",
            "dense_26 (Dense)             (None, 4)                 516       \n",
            "=================================================================\n",
            "Total params: 204,932\n",
            "Trainable params: 204,804\n",
            "Non-trainable params: 128\n",
            "_________________________________________________________________\n"
          ],
          "name": "stdout"
        },
        {
          "output_type": "stream",
          "text": [
            "/usr/local/lib/python3.7/dist-packages/tensorflow/python/keras/optimizer_v2/optimizer_v2.py:375: UserWarning: The `lr` argument is deprecated, use `learning_rate` instead.\n",
            "  \"The `lr` argument is deprecated, use `learning_rate` instead.\")\n",
            "/usr/local/lib/python3.7/dist-packages/keras/engine/sequential.py:450: UserWarning: `model.predict_classes()` is deprecated and will be removed after 2021-01-01. Please use instead:* `np.argmax(model.predict(x), axis=-1)`,   if your model does multi-class classification   (e.g. if it uses a `softmax` last-layer activation).* `(model.predict(x) > 0.5).astype(\"int32\")`,   if your model does binary classification   (e.g. if it uses a `sigmoid` last-layer activation).\n",
            "  warnings.warn('`model.predict_classes()` is deprecated and '\n"
          ],
          "name": "stderr"
        },
        {
          "output_type": "stream",
          "text": [
            "Model: \"sequential_9\"\n",
            "_________________________________________________________________\n",
            "Layer (type)                 Output Shape              Param #   \n",
            "=================================================================\n",
            "conv_lst_m2d_9 (ConvLSTM2D)  (None, 62, 62, 64)        154624    \n",
            "_________________________________________________________________\n",
            "dropout_27 (Dropout)         (None, 62, 62, 64)        0         \n",
            "_________________________________________________________________\n",
            "batch_normalization_9 (Batch (None, 62, 62, 64)        256       \n",
            "_________________________________________________________________\n",
            "max_pooling2d_9 (MaxPooling2 (None, 31, 31, 64)        0         \n",
            "_________________________________________________________________\n",
            "global_average_pooling2d_9 ( (None, 64)                0         \n",
            "_________________________________________________________________\n",
            "flatten_9 (Flatten)          (None, 64)                0         \n",
            "_________________________________________________________________\n",
            "dense_27 (Dense)             (None, 256)               16640     \n",
            "_________________________________________________________________\n",
            "dropout_28 (Dropout)         (None, 256)               0         \n",
            "_________________________________________________________________\n",
            "dense_28 (Dense)             (None, 128)               32896     \n",
            "_________________________________________________________________\n",
            "dropout_29 (Dropout)         (None, 128)               0         \n",
            "_________________________________________________________________\n",
            "dense_29 (Dense)             (None, 4)                 516       \n",
            "=================================================================\n",
            "Total params: 204,932\n",
            "Trainable params: 204,804\n",
            "Non-trainable params: 128\n",
            "_________________________________________________________________\n",
            "Model: \"sequential_10\"\n",
            "_________________________________________________________________\n",
            "Layer (type)                 Output Shape              Param #   \n",
            "=================================================================\n",
            "conv_lst_m2d_10 (ConvLSTM2D) (None, 62, 62, 64)        154624    \n",
            "_________________________________________________________________\n",
            "dropout_30 (Dropout)         (None, 62, 62, 64)        0         \n",
            "_________________________________________________________________\n",
            "batch_normalization_10 (Batc (None, 62, 62, 64)        256       \n",
            "_________________________________________________________________\n",
            "max_pooling2d_10 (MaxPooling (None, 31, 31, 64)        0         \n",
            "_________________________________________________________________\n",
            "global_average_pooling2d_10  (None, 64)                0         \n",
            "_________________________________________________________________\n",
            "flatten_10 (Flatten)         (None, 64)                0         \n",
            "_________________________________________________________________\n",
            "dense_30 (Dense)             (None, 256)               16640     \n",
            "_________________________________________________________________\n",
            "dropout_31 (Dropout)         (None, 256)               0         \n",
            "_________________________________________________________________\n",
            "dense_31 (Dense)             (None, 128)               32896     \n",
            "_________________________________________________________________\n",
            "dropout_32 (Dropout)         (None, 128)               0         \n",
            "_________________________________________________________________\n",
            "dense_32 (Dense)             (None, 4)                 516       \n",
            "=================================================================\n",
            "Total params: 204,932\n",
            "Trainable params: 204,804\n",
            "Non-trainable params: 128\n",
            "_________________________________________________________________\n"
          ],
          "name": "stdout"
        }
      ]
    },
    {
      "cell_type": "code",
      "metadata": {
        "colab": {
          "base_uri": "https://localhost:8080/"
        },
        "id": "7qmmkNcPgsMv",
        "outputId": "456d7a73-5126-4cc7-e3c7-bafee92fb327"
      },
      "source": [
        "from sklearn.model_selection import cross_val_score, cross_val_predict\n",
        "from sklearn.metrics import precision_recall_fscore_support as score   \n",
        "\n",
        "rounded_Y=np.argmax(Y, axis=1)\n",
        "#rint(rounded_Y[1])\n",
        "\n",
        "cm = confusion_matrix(rounded_Y, predicted) \n",
        "print('confusion matrix: \\n')\n",
        "print(cm)\n",
        "\n",
        "print('\\nclassification report:\\n',classification_report(rounded_Y, predicted))"
      ],
      "execution_count": 33,
      "outputs": [
        {
          "output_type": "stream",
          "text": [
            "confusion matrix: \n",
            "\n",
            "[[  0  24   7 168]\n",
            " [  1  14  10 207]\n",
            " [  1   9  19 149]\n",
            " [  1  47  22 344]]\n",
            "\n",
            "classification report:\n",
            "               precision    recall  f1-score   support\n",
            "\n",
            "           0       0.00      0.00      0.00       199\n",
            "           1       0.15      0.06      0.09       232\n",
            "           2       0.33      0.11      0.16       178\n",
            "           3       0.40      0.83      0.54       414\n",
            "\n",
            "    accuracy                           0.37      1023\n",
            "   macro avg       0.22      0.25      0.20      1023\n",
            "weighted avg       0.25      0.37      0.26      1023\n",
            "\n"
          ],
          "name": "stdout"
        }
      ]
    }
  ]
}