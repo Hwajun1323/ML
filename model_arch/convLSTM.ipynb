{
  "nbformat": 4,
  "nbformat_minor": 0,
  "metadata": {
    "colab": {
      "name": "convLSTM.ipynb",
      "provenance": [],
      "collapsed_sections": [],
      "machine_shape": "hm",
      "mount_file_id": "1XnAaPpzTOwHYzrEg_H0alWQisudlbZ3V",
      "authorship_tag": "ABX9TyOBHKGASHG4MEJxtvkhnDKo",
      "include_colab_link": true
    },
    "kernelspec": {
      "name": "python3",
      "display_name": "Python 3"
    },
    "language_info": {
      "name": "python"
    },
    "accelerator": "GPU"
  },
  "cells": [
    {
      "cell_type": "markdown",
      "metadata": {
        "id": "view-in-github",
        "colab_type": "text"
      },
      "source": [
        "<a href=\"https://colab.research.google.com/github/Hwajun1323/ML/blob/master/model_arch/convLSTM.ipynb\" target=\"_parent\"><img src=\"https://colab.research.google.com/assets/colab-badge.svg\" alt=\"Open In Colab\"/></a>"
      ]
    },
    {
      "cell_type": "code",
      "metadata": {
        "id": "-lJjS99is-Fw",
        "colab": {
          "base_uri": "https://localhost:8080/"
        },
        "outputId": "9c8118b6-676f-4e99-ae23-059d8ecb469e"
      },
      "source": [
        "pip install keras-metrics"
      ],
      "execution_count": 2,
      "outputs": [
        {
          "output_type": "stream",
          "text": [
            "Requirement already satisfied: keras-metrics in /usr/local/lib/python3.7/dist-packages (1.1.0)\n",
            "Requirement already satisfied: Keras>=2.1.5 in /usr/local/lib/python3.7/dist-packages (from keras-metrics) (2.4.3)\n",
            "Requirement already satisfied: h5py in /usr/local/lib/python3.7/dist-packages (from Keras>=2.1.5->keras-metrics) (3.1.0)\n",
            "Requirement already satisfied: scipy>=0.14 in /usr/local/lib/python3.7/dist-packages (from Keras>=2.1.5->keras-metrics) (1.4.1)\n",
            "Requirement already satisfied: pyyaml in /usr/local/lib/python3.7/dist-packages (from Keras>=2.1.5->keras-metrics) (3.13)\n",
            "Requirement already satisfied: numpy>=1.9.1 in /usr/local/lib/python3.7/dist-packages (from Keras>=2.1.5->keras-metrics) (1.19.5)\n",
            "Requirement already satisfied: cached-property; python_version < \"3.8\" in /usr/local/lib/python3.7/dist-packages (from h5py->Keras>=2.1.5->keras-metrics) (1.5.2)\n"
          ],
          "name": "stdout"
        }
      ]
    },
    {
      "cell_type": "code",
      "metadata": {
        "colab": {
          "base_uri": "https://localhost:8080/"
        },
        "id": "Anw94xag7Sip",
        "outputId": "81897d88-4afe-4cd1-b81b-e91015732798"
      },
      "source": [
        "pip install scikit-plot"
      ],
      "execution_count": 3,
      "outputs": [
        {
          "output_type": "stream",
          "text": [
            "Collecting scikit-plot\n",
            "  Downloading https://files.pythonhosted.org/packages/7c/47/32520e259340c140a4ad27c1b97050dd3254fdc517b1d59974d47037510e/scikit_plot-0.3.7-py3-none-any.whl\n",
            "Requirement already satisfied: matplotlib>=1.4.0 in /usr/local/lib/python3.7/dist-packages (from scikit-plot) (3.2.2)\n",
            "Requirement already satisfied: scikit-learn>=0.18 in /usr/local/lib/python3.7/dist-packages (from scikit-plot) (0.22.2.post1)\n",
            "Requirement already satisfied: joblib>=0.10 in /usr/local/lib/python3.7/dist-packages (from scikit-plot) (1.0.1)\n",
            "Requirement already satisfied: scipy>=0.9 in /usr/local/lib/python3.7/dist-packages (from scikit-plot) (1.4.1)\n",
            "Requirement already satisfied: python-dateutil>=2.1 in /usr/local/lib/python3.7/dist-packages (from matplotlib>=1.4.0->scikit-plot) (2.8.1)\n",
            "Requirement already satisfied: cycler>=0.10 in /usr/local/lib/python3.7/dist-packages (from matplotlib>=1.4.0->scikit-plot) (0.10.0)\n",
            "Requirement already satisfied: pyparsing!=2.0.4,!=2.1.2,!=2.1.6,>=2.0.1 in /usr/local/lib/python3.7/dist-packages (from matplotlib>=1.4.0->scikit-plot) (2.4.7)\n",
            "Requirement already satisfied: numpy>=1.11 in /usr/local/lib/python3.7/dist-packages (from matplotlib>=1.4.0->scikit-plot) (1.19.5)\n",
            "Requirement already satisfied: kiwisolver>=1.0.1 in /usr/local/lib/python3.7/dist-packages (from matplotlib>=1.4.0->scikit-plot) (1.3.1)\n",
            "Requirement already satisfied: six>=1.5 in /usr/local/lib/python3.7/dist-packages (from python-dateutil>=2.1->matplotlib>=1.4.0->scikit-plot) (1.15.0)\n",
            "Installing collected packages: scikit-plot\n",
            "Successfully installed scikit-plot-0.3.7\n"
          ],
          "name": "stdout"
        }
      ]
    },
    {
      "cell_type": "code",
      "metadata": {
        "colab": {
          "base_uri": "https://localhost:8080/"
        },
        "id": "N4kTMnUpSM_U",
        "outputId": "16d29eab-4a0b-4470-fe80-6cd69a9f3915"
      },
      "source": [
        "!apt install graphviz\n",
        "!pip install pydot pydot-ng\n",
        "!echo \"Double check with Python 3\"\n",
        "!python -c \"import pydot\""
      ],
      "execution_count": 4,
      "outputs": [
        {
          "output_type": "stream",
          "text": [
            "Reading package lists... Done\n",
            "Building dependency tree       \n",
            "Reading state information... Done\n",
            "graphviz is already the newest version (2.40.1-2).\n",
            "0 upgraded, 0 newly installed, 0 to remove and 39 not upgraded.\n",
            "Requirement already satisfied: pydot in /usr/local/lib/python3.7/dist-packages (1.3.0)\n",
            "Requirement already satisfied: pydot-ng in /usr/local/lib/python3.7/dist-packages (2.0.0)\n",
            "Requirement already satisfied: pyparsing>=2.1.4 in /usr/local/lib/python3.7/dist-packages (from pydot) (2.4.7)\n",
            "Double check with Python 3\n"
          ],
          "name": "stdout"
        }
      ]
    },
    {
      "cell_type": "code",
      "metadata": {
        "id": "GQ0gCXmlfZX8"
      },
      "source": [
        "import keras\n",
        "from keras import applications\n",
        "from keras.preprocessing.image import ImageDataGenerator\n",
        "from keras import optimizers\n",
        "from keras.models import Sequential, Model\n",
        "from keras.layers import *\n",
        "from keras.callbacks import ModelCheckpoint, LearningRateScheduler, TensorBoard, EarlyStopping\n",
        "from tensorflow.keras.utils import plot_model\n",
        "\n",
        "import os\n",
        "import cv2\n",
        "import numpy as np\n",
        "from sklearn.model_selection import train_test_split\n",
        "from sklearn.model_selection import cross_val_score , cross_validate\n",
        "import keras_metrics as km\n",
        "\n",
        "from sklearn.metrics import accuracy_score\n",
        "from sklearn.metrics import precision_score\n",
        "from sklearn.metrics import recall_score\n",
        "from sklearn.metrics import f1_score\n",
        "from sklearn.metrics import cohen_kappa_score\n",
        "from sklearn.metrics import roc_auc_score\n",
        "from sklearn.metrics import multilabel_confusion_matrix\n",
        "from sklearn.metrics import classification_report\n",
        "from sklearn.metrics import confusion_matrix\n",
        "\n",
        "import matplotlib.pyplot as plt\n",
        "import graphviz\n",
        "import pydot_ng as pydot\n",
        "from keras.optimizers import SGD  # Stochastic Gradient Decent\n",
        "from keras.utils import np_utils\n"
      ],
      "execution_count": 5,
      "outputs": []
    },
    {
      "cell_type": "code",
      "metadata": {
        "id": "CiVFsiIWffUd",
        "colab": {
          "base_uri": "https://localhost:8080/"
        },
        "outputId": "24774a92-4f13-40af-d594-c4795ea8e70d"
      },
      "source": [
        "#data_dir = \"/content/drive/My Drive/dataset/video_data\"\n",
        "data_dir = \"/content/drive/My Drive/Data/video_data\"\n",
        "\n",
        "#data_dir = \"video_data/\"\n",
        "img_height, img_width = 64, 64\n",
        "seq_len = 20\n",
        "\n",
        "classes = [\"DiningRoom\",\"Office\", \"Restaurant\", \"Museum\", \"ChildsRoom\"]\n",
        "num_classes = len(classes)\n",
        "print(\"Number of Class: \", num_classes)\n",
        "\n",
        "#  Creating frames from videos\n",
        "\n",
        "def frames_extraction(video_path):\n",
        "    frames_list = []\n",
        "\n",
        "    vidObj = cv2.VideoCapture(video_path)\n",
        "    # Used as counter variable\n",
        "    count = 1\n",
        "\n",
        "    while count <= seq_len:\n",
        "        success, image = vidObj.read()\n",
        "        if success:\n",
        "            image = cv2.resize(image, (img_height, img_width))\n",
        "            frames_list.append(image)\n",
        "            count += 1\n",
        "        else:\n",
        "            print(\"Defected frame\")\n",
        "            break\n",
        "\n",
        "    return frames_list\n",
        "\n",
        "# Create the actual data from the sequence of images\n",
        "\n",
        "def create_data(input_dir):\n",
        "    X = []\n",
        "    Y = []\n",
        "\n",
        "    classes_list = os.listdir(input_dir)\n",
        "\n",
        "    for c in classes_list:\n",
        "        print(c)\n",
        "        files_list = os.listdir(os.path.join(input_dir, c))\n",
        "        print(c, ': ' , len(files_list))\n",
        "        print(c ,' index number : ', classes.index(c) )\n",
        "        for f in files_list:\n",
        "            frames = frames_extraction(os.path.join(os.path.join(input_dir, c), f))\n",
        "            if len(frames) == seq_len:\n",
        "                X.append(frames)\n",
        "\n",
        "                y = [0] * len(classes)\n",
        "                y[classes.index(c)] = 1\n",
        "                Y.append(y)\n",
        "\n",
        "    X = np.asarray(X)\n",
        "    Y = np.asarray(Y)\n",
        "    \n",
        "    return X, Y"
      ],
      "execution_count": 6,
      "outputs": [
        {
          "output_type": "stream",
          "text": [
            "Number of Class:  5\n"
          ],
          "name": "stdout"
        }
      ]
    },
    {
      "cell_type": "code",
      "metadata": {
        "id": "G6nClQdnRTwb",
        "colab": {
          "base_uri": "https://localhost:8080/"
        },
        "outputId": "467eb9e3-35a4-40ec-c75b-15e02b3106c0"
      },
      "source": [
        "X, Y = create_data(data_dir)\n",
        "\n",
        "X_train, X_test, y_train, y_test = train_test_split(X, Y, test_size=0.20, shuffle=True, random_state=0)"
      ],
      "execution_count": 7,
      "outputs": [
        {
          "output_type": "stream",
          "text": [
            "Office\n",
            "Office :  178\n",
            "Office  index number :  1\n",
            "Restaurant\n",
            "Restaurant :  178\n",
            "Restaurant  index number :  2\n",
            "DiningRoom\n",
            "DiningRoom :  178\n",
            "DiningRoom  index number :  0\n",
            "Museum\n",
            "Museum :  178\n",
            "Museum  index number :  3\n",
            "ChildsRoom\n",
            "ChildsRoom :  178\n",
            "ChildsRoom  index number :  4\n"
          ],
          "name": "stdout"
        }
      ]
    },
    {
      "cell_type": "code",
      "metadata": {
        "colab": {
          "base_uri": "https://localhost:8080/"
        },
        "id": "853UXXpN6lbQ",
        "outputId": "4726aa15-7f12-4f13-f9c0-b4db5e22c635"
      },
      "source": [
        "print(X_train.shape)\n",
        "print(X_test.shape)\n",
        "print(y_train.shape)\n",
        "print(y_test.shape)\n",
        "print(X.shape)"
      ],
      "execution_count": null,
      "outputs": [
        {
          "output_type": "stream",
          "text": [
            "(712, 20, 64, 64, 3)\n",
            "(178, 20, 64, 64, 3)\n",
            "(712, 5)\n",
            "(178, 5)\n",
            "(890, 20, 64, 64, 3)\n"
          ],
          "name": "stdout"
        }
      ]
    },
    {
      "cell_type": "code",
      "metadata": {
        "id": "WnAqS-GJGOJu",
        "colab": {
          "base_uri": "https://localhost:8080/"
        },
        "outputId": "325344fe-a96d-4aad-d0e5-985ea9f5474a"
      },
      "source": [
        "model = Sequential()\n",
        "\n",
        "\n",
        "model.add(ConvLSTM2D(filters=64, kernel_size=(3, 3), return_sequences=True, data_format=\"channels_last\", input_shape=(seq_len, img_height, img_width, 3)))\n",
        "model.add(Dropout(0.5))\n",
        "model.add(ConvLSTM2D(filters=32, kernel_size=(3, 3), return_sequences=False, data_format=\"channels_last\"))\n",
        "model.add(Dropout(0.5))\n",
        "\n",
        "model.add(BatchNormalization())\n",
        "model.add(MaxPooling2D(pool_size = (2, 2)))\n",
        "model.add(GlobalAveragePooling2D())\n",
        "\n",
        "model.add(Flatten())\n",
        "model.add(Dense(256, activation=\"relu\"))\n",
        "model.add(Dropout(0.5))\n",
        "model.add(Dense(128, activation=\"relu\"))\n",
        "\n",
        "model.summary()\n",
        "\n",
        "opt = keras.optimizers.Adam(learning_rate=0.001, beta_1=0.9, beta_2=0.999, epsilon=None, decay=0.0, amsgrad=False)\n",
        "\n",
        "model.compile(loss='categorical_crossentropy', optimizer=opt, metrics=[\"accuracy\"])\n",
        "\n",
        "#history = model.fit(x=X_train, y=y_train, epochs=90, batch_size=40, shuffle=True, validation_split=0.2)\n"
      ],
      "execution_count": 9,
      "outputs": [
        {
          "output_type": "stream",
          "text": [
            "Model: \"sequential\"\n",
            "_________________________________________________________________\n",
            "Layer (type)                 Output Shape              Param #   \n",
            "=================================================================\n",
            "conv_lst_m2d (ConvLSTM2D)    (None, 20, 62, 62, 64)    154624    \n",
            "_________________________________________________________________\n",
            "dropout (Dropout)            (None, 20, 62, 62, 64)    0         \n",
            "_________________________________________________________________\n",
            "conv_lst_m2d_1 (ConvLSTM2D)  (None, 60, 60, 32)        110720    \n",
            "_________________________________________________________________\n",
            "dropout_1 (Dropout)          (None, 60, 60, 32)        0         \n",
            "_________________________________________________________________\n",
            "batch_normalization (BatchNo (None, 60, 60, 32)        128       \n",
            "_________________________________________________________________\n",
            "max_pooling2d (MaxPooling2D) (None, 30, 30, 32)        0         \n",
            "_________________________________________________________________\n",
            "global_average_pooling2d (Gl (None, 32)                0         \n",
            "_________________________________________________________________\n",
            "flatten (Flatten)            (None, 32)                0         \n",
            "_________________________________________________________________\n",
            "dense (Dense)                (None, 256)               8448      \n",
            "_________________________________________________________________\n",
            "dropout_2 (Dropout)          (None, 256)               0         \n",
            "_________________________________________________________________\n",
            "dense_1 (Dense)              (None, 128)               32896     \n",
            "=================================================================\n",
            "Total params: 306,816\n",
            "Trainable params: 306,752\n",
            "Non-trainable params: 64\n",
            "_________________________________________________________________\n"
          ],
          "name": "stdout"
        }
      ]
    },
    {
      "cell_type": "code",
      "metadata": {
        "id": "xu_OCP0iXdFr",
        "colab": {
          "base_uri": "https://localhost:8080/"
        },
        "outputId": "9475bd08-3df5-47ea-980a-e2dcc0219fb3"
      },
      "source": [
        "model.summary()\n",
        "\n",
        "opt = keras.optimizers.Adam(learning_rate=0.001, beta_1=0.9, beta_2=0.999, epsilon=None, decay=0.0, amsgrad=False)\n",
        "#opt = keras.optimizers.SGD(learning_rate=0.001)\n",
        "#opt = keras.optimizers.SGD(learning_rate=0.001, momentum=0.9)\n",
        "#opt = keras.optimizers.SGD(learning_rate=0.001, momentum=0.9, nesterov=True)\n",
        "#opt = keras.optimizers.Adagrad(learning_rate=0.001, epsilon=1e-6)\n",
        "#opt = keras.optimizers.Adadelta(learning_rate=1.0, rho=0.95, epsilon=None, decay=0.0)\n",
        "\n",
        "model.compile(loss='categorical_crossentropy', optimizer=opt, metrics=[\"accuracy\"])\n",
        "\n",
        "history = model.fit(x=X_train, y=y_train, epochs=90, batch_size=40, shuffle=True, validation_split=0.2)\n",
        "\n",
        "# Result\n",
        "loss, acc = model.evaluate(X_test, y_test)\n",
        "print(\"\\nLoss: {}, Acc: {}\".format(loss,acc))"
      ],
      "execution_count": null,
      "outputs": [
        {
          "output_type": "stream",
          "text": [
            "Model: \"sequential_1\"\n",
            "_________________________________________________________________\n",
            "Layer (type)                 Output Shape              Param #   \n",
            "=================================================================\n",
            "conv_lst_m2d_1 (ConvLSTM2D)  (None, 62, 62, 64)        154624    \n",
            "_________________________________________________________________\n",
            "dropout_3 (Dropout)          (None, 62, 62, 64)        0         \n",
            "_________________________________________________________________\n",
            "batch_normalization_1 (Batch (None, 62, 62, 64)        256       \n",
            "_________________________________________________________________\n",
            "max_pooling2d_1 (MaxPooling2 (None, 31, 31, 64)        0         \n",
            "_________________________________________________________________\n",
            "global_average_pooling2d_1 ( (None, 64)                0         \n",
            "_________________________________________________________________\n",
            "flatten_1 (Flatten)          (None, 64)                0         \n",
            "_________________________________________________________________\n",
            "dense_3 (Dense)              (None, 256)               16640     \n",
            "_________________________________________________________________\n",
            "dropout_4 (Dropout)          (None, 256)               0         \n",
            "_________________________________________________________________\n",
            "dense_4 (Dense)              (None, 128)               32896     \n",
            "_________________________________________________________________\n",
            "dropout_5 (Dropout)          (None, 128)               0         \n",
            "_________________________________________________________________\n",
            "dense_5 (Dense)              (None, 5)                 645       \n",
            "=================================================================\n",
            "Total params: 205,061\n",
            "Trainable params: 204,933\n",
            "Non-trainable params: 128\n",
            "_________________________________________________________________\n",
            "Epoch 1/90\n",
            "15/15 [==============================] - 16s 748ms/step - loss: 1.7519 - accuracy: 0.2123 - val_loss: 1.6264 - val_accuracy: 0.1818\n",
            "Epoch 2/90\n",
            "15/15 [==============================] - 10s 676ms/step - loss: 1.5641 - accuracy: 0.2997 - val_loss: 1.5954 - val_accuracy: 0.3007\n",
            "Epoch 3/90\n",
            "15/15 [==============================] - 10s 676ms/step - loss: 1.5744 - accuracy: 0.2765 - val_loss: 1.5939 - val_accuracy: 0.1958\n",
            "Epoch 4/90\n",
            "15/15 [==============================] - 10s 676ms/step - loss: 1.5126 - accuracy: 0.3341 - val_loss: 1.5769 - val_accuracy: 0.2727\n",
            "Epoch 5/90\n",
            "15/15 [==============================] - 10s 676ms/step - loss: 1.5225 - accuracy: 0.3290 - val_loss: 1.5720 - val_accuracy: 0.2797\n",
            "Epoch 6/90\n",
            "15/15 [==============================] - 10s 676ms/step - loss: 1.4926 - accuracy: 0.3540 - val_loss: 1.5821 - val_accuracy: 0.2727\n",
            "Epoch 7/90\n",
            "15/15 [==============================] - 10s 676ms/step - loss: 1.4782 - accuracy: 0.3099 - val_loss: 1.5765 - val_accuracy: 0.2657\n",
            "Epoch 8/90\n",
            "15/15 [==============================] - 10s 675ms/step - loss: 1.4706 - accuracy: 0.3668 - val_loss: 1.5743 - val_accuracy: 0.2587\n",
            "Epoch 9/90\n",
            "15/15 [==============================] - 10s 675ms/step - loss: 1.4743 - accuracy: 0.3730 - val_loss: 1.5715 - val_accuracy: 0.2727\n",
            "Epoch 10/90\n",
            "15/15 [==============================] - 10s 675ms/step - loss: 1.5013 - accuracy: 0.3567 - val_loss: 1.5878 - val_accuracy: 0.2308\n",
            "Epoch 11/90\n",
            "15/15 [==============================] - 10s 674ms/step - loss: 1.4382 - accuracy: 0.3864 - val_loss: 1.5742 - val_accuracy: 0.2797\n",
            "Epoch 12/90\n",
            "15/15 [==============================] - 10s 675ms/step - loss: 1.4633 - accuracy: 0.3877 - val_loss: 1.5525 - val_accuracy: 0.2727\n",
            "Epoch 13/90\n",
            "15/15 [==============================] - 10s 675ms/step - loss: 1.4265 - accuracy: 0.3605 - val_loss: 1.5582 - val_accuracy: 0.2587\n",
            "Epoch 14/90\n",
            "15/15 [==============================] - 10s 673ms/step - loss: 1.4470 - accuracy: 0.3802 - val_loss: 1.5414 - val_accuracy: 0.3846\n",
            "Epoch 15/90\n",
            "15/15 [==============================] - 10s 675ms/step - loss: 1.4302 - accuracy: 0.4053 - val_loss: 1.5618 - val_accuracy: 0.3217\n",
            "Epoch 16/90\n",
            "15/15 [==============================] - 10s 675ms/step - loss: 1.4249 - accuracy: 0.3700 - val_loss: 1.5925 - val_accuracy: 0.2378\n",
            "Epoch 17/90\n",
            "15/15 [==============================] - 10s 675ms/step - loss: 1.4279 - accuracy: 0.3521 - val_loss: 1.6738 - val_accuracy: 0.1678\n",
            "Epoch 18/90\n",
            "15/15 [==============================] - 10s 674ms/step - loss: 1.4721 - accuracy: 0.3737 - val_loss: 1.6413 - val_accuracy: 0.1748\n",
            "Epoch 19/90\n",
            "15/15 [==============================] - 10s 676ms/step - loss: 1.4289 - accuracy: 0.3431 - val_loss: 1.7016 - val_accuracy: 0.1958\n",
            "Epoch 20/90\n",
            "15/15 [==============================] - 10s 676ms/step - loss: 1.4060 - accuracy: 0.3750 - val_loss: 1.6304 - val_accuracy: 0.1888\n",
            "Epoch 21/90\n",
            "15/15 [==============================] - 10s 676ms/step - loss: 1.4203 - accuracy: 0.3805 - val_loss: 1.5969 - val_accuracy: 0.2378\n",
            "Epoch 22/90\n",
            "15/15 [==============================] - 10s 675ms/step - loss: 1.4182 - accuracy: 0.3906 - val_loss: 1.5914 - val_accuracy: 0.2727\n",
            "Epoch 23/90\n",
            "15/15 [==============================] - 10s 676ms/step - loss: 1.4411 - accuracy: 0.3810 - val_loss: 1.6359 - val_accuracy: 0.2378\n",
            "Epoch 24/90\n",
            "15/15 [==============================] - 10s 676ms/step - loss: 1.3991 - accuracy: 0.3660 - val_loss: 1.5807 - val_accuracy: 0.3147\n",
            "Epoch 25/90\n",
            "15/15 [==============================] - 10s 676ms/step - loss: 1.3992 - accuracy: 0.4136 - val_loss: 1.5732 - val_accuracy: 0.2867\n",
            "Epoch 26/90\n",
            "15/15 [==============================] - 10s 675ms/step - loss: 1.3617 - accuracy: 0.4378 - val_loss: 1.5930 - val_accuracy: 0.2517\n",
            "Epoch 27/90\n",
            "15/15 [==============================] - 10s 676ms/step - loss: 1.3733 - accuracy: 0.4435 - val_loss: 1.5726 - val_accuracy: 0.3636\n",
            "Epoch 28/90\n",
            "15/15 [==============================] - 10s 676ms/step - loss: 1.3888 - accuracy: 0.4088 - val_loss: 1.5998 - val_accuracy: 0.3287\n",
            "Epoch 29/90\n",
            "15/15 [==============================] - 10s 676ms/step - loss: 1.3433 - accuracy: 0.4676 - val_loss: 1.5828 - val_accuracy: 0.3846\n",
            "Epoch 30/90\n",
            "15/15 [==============================] - 10s 675ms/step - loss: 1.3449 - accuracy: 0.4113 - val_loss: 1.5930 - val_accuracy: 0.3287\n",
            "Epoch 31/90\n",
            "15/15 [==============================] - 10s 675ms/step - loss: 1.3639 - accuracy: 0.4349 - val_loss: 1.5754 - val_accuracy: 0.3846\n",
            "Epoch 32/90\n",
            "15/15 [==============================] - 10s 675ms/step - loss: 1.3271 - accuracy: 0.4322 - val_loss: 1.6051 - val_accuracy: 0.3357\n",
            "Epoch 33/90\n",
            "15/15 [==============================] - 10s 675ms/step - loss: 1.3930 - accuracy: 0.4415 - val_loss: 1.6170 - val_accuracy: 0.3846\n",
            "Epoch 34/90\n",
            "15/15 [==============================] - 10s 676ms/step - loss: 1.3512 - accuracy: 0.4422 - val_loss: 1.5779 - val_accuracy: 0.4056\n",
            "Epoch 35/90\n",
            "15/15 [==============================] - 10s 675ms/step - loss: 1.3391 - accuracy: 0.4434 - val_loss: 1.6365 - val_accuracy: 0.3986\n",
            "Epoch 36/90\n",
            "15/15 [==============================] - 10s 677ms/step - loss: 1.3148 - accuracy: 0.4526 - val_loss: 1.8337 - val_accuracy: 0.2867\n",
            "Epoch 37/90\n",
            "15/15 [==============================] - 10s 675ms/step - loss: 1.3415 - accuracy: 0.4745 - val_loss: 1.7118 - val_accuracy: 0.3287\n",
            "Epoch 38/90\n",
            "15/15 [==============================] - 10s 676ms/step - loss: 1.3360 - accuracy: 0.4157 - val_loss: 1.5833 - val_accuracy: 0.3776\n",
            "Epoch 39/90\n",
            "15/15 [==============================] - 10s 675ms/step - loss: 1.2899 - accuracy: 0.4779 - val_loss: 1.6595 - val_accuracy: 0.3986\n",
            "Epoch 40/90\n",
            "15/15 [==============================] - 10s 676ms/step - loss: 1.3291 - accuracy: 0.4168 - val_loss: 1.6533 - val_accuracy: 0.3427\n",
            "Epoch 41/90\n",
            "15/15 [==============================] - 10s 676ms/step - loss: 1.2838 - accuracy: 0.4755 - val_loss: 1.6210 - val_accuracy: 0.3916\n",
            "Epoch 42/90\n",
            "15/15 [==============================] - 10s 676ms/step - loss: 1.2686 - accuracy: 0.4740 - val_loss: 1.6574 - val_accuracy: 0.3776\n",
            "Epoch 43/90\n",
            "15/15 [==============================] - 10s 676ms/step - loss: 1.2648 - accuracy: 0.4609 - val_loss: 1.6863 - val_accuracy: 0.3566\n",
            "Epoch 44/90\n",
            "15/15 [==============================] - 10s 675ms/step - loss: 1.2540 - accuracy: 0.4950 - val_loss: 1.6830 - val_accuracy: 0.3427\n",
            "Epoch 45/90\n",
            "15/15 [==============================] - 10s 675ms/step - loss: 1.3454 - accuracy: 0.4280 - val_loss: 1.8031 - val_accuracy: 0.3916\n",
            "Epoch 46/90\n",
            "15/15 [==============================] - 10s 675ms/step - loss: 1.2462 - accuracy: 0.4842 - val_loss: 1.8380 - val_accuracy: 0.3217\n",
            "Epoch 47/90\n",
            "15/15 [==============================] - 10s 676ms/step - loss: 1.2667 - accuracy: 0.4971 - val_loss: 1.7388 - val_accuracy: 0.4196\n",
            "Epoch 48/90\n",
            "15/15 [==============================] - 10s 675ms/step - loss: 1.3000 - accuracy: 0.4470 - val_loss: 1.6754 - val_accuracy: 0.3566\n",
            "Epoch 49/90\n",
            "15/15 [==============================] - 10s 676ms/step - loss: 1.2329 - accuracy: 0.4594 - val_loss: 1.6897 - val_accuracy: 0.3776\n",
            "Epoch 50/90\n",
            "15/15 [==============================] - 10s 676ms/step - loss: 1.2512 - accuracy: 0.4744 - val_loss: 1.7225 - val_accuracy: 0.3427\n",
            "Epoch 51/90\n",
            "15/15 [==============================] - 10s 676ms/step - loss: 1.2627 - accuracy: 0.4727 - val_loss: 1.7468 - val_accuracy: 0.3916\n",
            "Epoch 52/90\n",
            "15/15 [==============================] - 10s 676ms/step - loss: 1.2661 - accuracy: 0.5112 - val_loss: 1.9604 - val_accuracy: 0.3566\n",
            "Epoch 53/90\n",
            "15/15 [==============================] - 10s 676ms/step - loss: 1.2681 - accuracy: 0.4804 - val_loss: 1.7974 - val_accuracy: 0.3706\n",
            "Epoch 54/90\n",
            "15/15 [==============================] - 10s 676ms/step - loss: 1.2778 - accuracy: 0.4807 - val_loss: 1.7383 - val_accuracy: 0.3776\n",
            "Epoch 55/90\n",
            "15/15 [==============================] - 10s 676ms/step - loss: 1.2744 - accuracy: 0.4549 - val_loss: 1.7721 - val_accuracy: 0.3846\n",
            "Epoch 56/90\n",
            "15/15 [==============================] - 10s 675ms/step - loss: 1.2372 - accuracy: 0.5056 - val_loss: 1.7855 - val_accuracy: 0.3986\n",
            "Epoch 57/90\n",
            "15/15 [==============================] - 10s 676ms/step - loss: 1.2024 - accuracy: 0.5028 - val_loss: 1.7649 - val_accuracy: 0.4196\n",
            "Epoch 58/90\n",
            "15/15 [==============================] - 10s 677ms/step - loss: 1.2044 - accuracy: 0.4944 - val_loss: 1.8272 - val_accuracy: 0.4056\n",
            "Epoch 59/90\n",
            "15/15 [==============================] - 10s 676ms/step - loss: 1.1900 - accuracy: 0.5072 - val_loss: 1.9728 - val_accuracy: 0.3566\n",
            "Epoch 60/90\n",
            "15/15 [==============================] - 10s 676ms/step - loss: 1.2069 - accuracy: 0.5133 - val_loss: 1.9069 - val_accuracy: 0.3986\n",
            "Epoch 61/90\n",
            "15/15 [==============================] - 10s 677ms/step - loss: 1.1702 - accuracy: 0.4976 - val_loss: 1.8006 - val_accuracy: 0.3566\n",
            "Epoch 62/90\n",
            "15/15 [==============================] - 10s 676ms/step - loss: 1.1890 - accuracy: 0.5178 - val_loss: 1.9590 - val_accuracy: 0.3217\n",
            "Epoch 63/90\n",
            "15/15 [==============================] - 10s 676ms/step - loss: 1.2317 - accuracy: 0.4934 - val_loss: 1.9163 - val_accuracy: 0.3497\n",
            "Epoch 64/90\n",
            "15/15 [==============================] - 10s 676ms/step - loss: 1.2339 - accuracy: 0.4989 - val_loss: 1.8266 - val_accuracy: 0.3427\n",
            "Epoch 65/90\n",
            "15/15 [==============================] - 10s 676ms/step - loss: 1.2153 - accuracy: 0.4923 - val_loss: 1.9089 - val_accuracy: 0.3497\n",
            "Epoch 66/90\n",
            "15/15 [==============================] - 10s 677ms/step - loss: 1.2223 - accuracy: 0.4985 - val_loss: 1.9095 - val_accuracy: 0.3497\n",
            "Epoch 67/90\n",
            "15/15 [==============================] - 10s 676ms/step - loss: 1.1493 - accuracy: 0.5366 - val_loss: 1.9204 - val_accuracy: 0.3497\n",
            "Epoch 68/90\n",
            "15/15 [==============================] - 10s 676ms/step - loss: 1.1569 - accuracy: 0.4918 - val_loss: 1.8978 - val_accuracy: 0.3497\n",
            "Epoch 69/90\n",
            "15/15 [==============================] - 10s 676ms/step - loss: 1.1387 - accuracy: 0.5243 - val_loss: 1.8282 - val_accuracy: 0.3986\n",
            "Epoch 70/90\n",
            "15/15 [==============================] - 10s 675ms/step - loss: 1.1531 - accuracy: 0.5490 - val_loss: 1.8660 - val_accuracy: 0.3357\n",
            "Epoch 71/90\n",
            "15/15 [==============================] - 10s 677ms/step - loss: 1.1670 - accuracy: 0.4860 - val_loss: 1.9174 - val_accuracy: 0.3357\n",
            "Epoch 72/90\n",
            "15/15 [==============================] - 10s 676ms/step - loss: 1.1398 - accuracy: 0.5347 - val_loss: 1.8877 - val_accuracy: 0.3846\n",
            "Epoch 73/90\n",
            "15/15 [==============================] - 10s 677ms/step - loss: 1.1474 - accuracy: 0.5515 - val_loss: 1.9503 - val_accuracy: 0.3636\n",
            "Epoch 74/90\n",
            "15/15 [==============================] - 10s 676ms/step - loss: 1.1780 - accuracy: 0.5235 - val_loss: 1.9499 - val_accuracy: 0.3566\n",
            "Epoch 75/90\n",
            "15/15 [==============================] - 10s 677ms/step - loss: 1.2041 - accuracy: 0.5008 - val_loss: 2.0486 - val_accuracy: 0.2587\n",
            "Epoch 76/90\n",
            "15/15 [==============================] - 10s 676ms/step - loss: 1.1922 - accuracy: 0.5321 - val_loss: 4.7900 - val_accuracy: 0.2517\n",
            "Epoch 77/90\n",
            "15/15 [==============================] - 10s 676ms/step - loss: 1.2597 - accuracy: 0.4682 - val_loss: 3.7318 - val_accuracy: 0.2517\n",
            "Epoch 78/90\n",
            "15/15 [==============================] - 10s 677ms/step - loss: 1.2403 - accuracy: 0.4661 - val_loss: 3.2146 - val_accuracy: 0.2517\n",
            "Epoch 79/90\n",
            "15/15 [==============================] - 10s 676ms/step - loss: 1.1848 - accuracy: 0.5343 - val_loss: 2.5151 - val_accuracy: 0.2378\n",
            "Epoch 80/90\n",
            "15/15 [==============================] - 10s 677ms/step - loss: 1.1586 - accuracy: 0.4937 - val_loss: 2.2588 - val_accuracy: 0.2727\n",
            "Epoch 81/90\n",
            "15/15 [==============================] - 10s 677ms/step - loss: 1.1203 - accuracy: 0.5451 - val_loss: 2.2045 - val_accuracy: 0.2657\n",
            "Epoch 82/90\n",
            "15/15 [==============================] - 10s 677ms/step - loss: 1.1402 - accuracy: 0.5116 - val_loss: 2.0512 - val_accuracy: 0.2867\n",
            "Epoch 83/90\n",
            "15/15 [==============================] - 10s 676ms/step - loss: 1.1389 - accuracy: 0.5227 - val_loss: 1.8994 - val_accuracy: 0.2797\n",
            "Epoch 84/90\n",
            "15/15 [==============================] - 10s 677ms/step - loss: 1.1419 - accuracy: 0.5331 - val_loss: 1.9735 - val_accuracy: 0.3077\n",
            "Epoch 85/90\n",
            "15/15 [==============================] - 10s 677ms/step - loss: 1.0980 - accuracy: 0.5566 - val_loss: 1.9539 - val_accuracy: 0.2448\n",
            "Epoch 86/90\n",
            "15/15 [==============================] - 10s 677ms/step - loss: 1.1934 - accuracy: 0.5079 - val_loss: 1.9353 - val_accuracy: 0.2797\n",
            "Epoch 87/90\n",
            "15/15 [==============================] - 10s 677ms/step - loss: 1.0780 - accuracy: 0.5725 - val_loss: 1.9926 - val_accuracy: 0.2657\n",
            "Epoch 88/90\n",
            "15/15 [==============================] - 10s 677ms/step - loss: 1.1253 - accuracy: 0.5538 - val_loss: 1.9340 - val_accuracy: 0.2448\n",
            "Epoch 89/90\n",
            "15/15 [==============================] - 10s 677ms/step - loss: 1.1622 - accuracy: 0.5231 - val_loss: 2.2198 - val_accuracy: 0.2448\n",
            "Epoch 90/90\n",
            "15/15 [==============================] - 10s 677ms/step - loss: 1.2105 - accuracy: 0.4795 - val_loss: 2.0073 - val_accuracy: 0.2867\n",
            "6/6 [==============================] - 1s 145ms/step - loss: 1.6946 - accuracy: 0.3820\n",
            "\n",
            "Loss: 1.6946134567260742, Acc: 0.3820224702358246\n"
          ],
          "name": "stdout"
        }
      ]
    },
    {
      "cell_type": "code",
      "metadata": {
        "colab": {
          "base_uri": "https://localhost:8080/",
          "height": 573
        },
        "id": "03EgVD9bI03A",
        "outputId": "47f55259-3f2b-4fcb-d5b2-0d505f5f1e26"
      },
      "source": [
        "# Visualize the plot\n",
        "\n",
        "## summarize history for accuracy\n",
        "plt.plot(history.history['accuracy'])\n",
        "plt.plot(history.history['val_accuracy'])\n",
        "plt.title('model accuracy')\n",
        "plt.ylabel('accuracy')\n",
        "plt.xlabel('epoch')\n",
        "plt.legend(['train', 'test'], loc='upper left')\n",
        "plt.show()\n",
        "## summarize history for loss\n",
        "plt.plot(history.history['loss'])\n",
        "plt.plot(history.history['val_loss'])\n",
        "plt.title('model loss')\n",
        "plt.ylabel('loss')\n",
        "plt.xlabel('epoch')\n",
        "plt.legend(['train', 'test'], loc='upper left')\n",
        "plt.show()"
      ],
      "execution_count": null,
      "outputs": [
        {
          "output_type": "display_data",
          "data": {
            "image/png": "[encoded data removed]",
            "text/plain": [
              "<Figure size 432x288 with 1 Axes>"
            ]
          },
          "metadata": {
            "tags": [],
            "needs_background": "light"
          }
        },
        {
          "output_type": "display_data",
          "data": {
            "image/png": "[encoded data removed]",
            "text/plain": [
              "<Figure size 432x288 with 1 Axes>"
            ]
          },
          "metadata": {
            "tags": [],
            "needs_background": "light"
          }
        }
      ]
    },
    {
      "cell_type": "code",
      "metadata": {
        "id": "6MM-uKMXKbc5",
        "colab": {
          "base_uri": "https://localhost:8080/"
        },
        "outputId": "676e9f48-85a2-4cc1-c548-7736bab225c6"
      },
      "source": [
        "predictions = model.predict(X_test)\n",
        "print('prediction result: ',np.argmax(predictions[0]))\n",
        "print('actual result: ', y_test[0])\n",
        "\n",
        "# Evaluation of model\n",
        "y_pred = model.predict(X_test)\n",
        "y_pred = np.argmax(y_pred, axis=1)\n",
        "y_true = np.argmax(y_test, axis=1)\n",
        "targets = ['DiningRoom','Office', 'Restaurant', 'Museum', 'ChildsRoom']\n",
        "\n",
        "print('Classification Report:\\n')\n",
        "print(classification_report(y_true, y_pred, target_names=targets))"
      ],
      "execution_count": null,
      "outputs": [
        {
          "output_type": "stream",
          "text": [
            "prediction result:  0\n",
            "actual result:  [1 0 0 0 0]\n",
            "Classification Report:\n",
            "\n",
            "              precision    recall  f1-score   support\n",
            "\n",
            "  DiningRoom       0.37      0.61      0.46        38\n",
            "      Office       0.25      0.07      0.11        28\n",
            "  Restaurant       0.37      0.70      0.48        40\n",
            "      Museum       0.50      0.15      0.23        40\n",
            "  ChildsRoom       0.45      0.28      0.35        32\n",
            "\n",
            "    accuracy                           0.38       178\n",
            "   macro avg       0.39      0.36      0.33       178\n",
            "weighted avg       0.39      0.38      0.34       178\n",
            "\n"
          ],
          "name": "stdout"
        }
      ]
    },
    {
      "cell_type": "code",
      "metadata": {
        "colab": {
          "base_uri": "https://localhost:8080/",
          "height": 985
        },
        "id": "IYnev14UAi_m",
        "outputId": "c75712c0-b2f7-452a-a76e-1df9cc841b37"
      },
      "source": [
        "# Confusion Matrix\n",
        "cm = confusion_matrix(y_true, y_pred) \n",
        "print('confusion matrix:\\n ', cm)\n",
        "\n",
        "import scikitplot as skplt\n",
        "#skplt.metrics.plot_confusion_matrix(y_true, y_pred, figsize=(12,12))\n",
        "\n",
        "import seaborn as sns\n",
        "fig, ax = plt.subplots(figsize=(15,15))\n",
        "x_axis_labels = ['DiningRoom','Office', 'Restaurant', 'Museum', 'ChildsRoom']\n",
        "y_axis_labels = ['DiningRoom','Office', 'Restaurant', 'Museum', 'ChildsRoom'] \n",
        "f = sns.heatmap(cm, cmap=\"Blues\", xticklabels=x_axis_labels, yticklabels=y_axis_labels, annot=True)\n",
        "plt.title(\"Confusion Matrix\")\n",
        "plt.show()\n"
      ],
      "execution_count": null,
      "outputs": [
        {
          "output_type": "stream",
          "text": [
            "confusion matrix:\n",
            "  [[23  3  7  4  1]\n",
            " [10  2 14  0  2]\n",
            " [ 7  0 28  0  5]\n",
            " [11  2 18  6  3]\n",
            " [11  1  9  2  9]]\n"
          ],
          "name": "stdout"
        },
        {
          "output_type": "display_data",
          "data": {
            "image/png": "[encoded data removed]",
            "text/plain": [
              "<Figure size 1080x1080 with 2 Axes>"
            ]
          },
          "metadata": {
            "tags": [],
            "needs_background": "light"
          }
        }
      ]
    },
    {
      "cell_type": "code",
      "metadata": {
        "colab": {
          "base_uri": "https://localhost:8080/",
          "height": 1000
        },
        "id": "OXqe5onAXaoA",
        "outputId": "0bd04889-563b-4702-b130-3817e5cbe551"
      },
      "source": [
        "from IPython.display import SVG\n",
        "from keras.utils.vis_utils import model_to_dot\n",
        "\n",
        "SVG(model_to_dot(model, show_shapes=True, dpi=65).create(prog='dot', format='svg'))"
      ],
      "execution_count": 10,
      "outputs": [
        {
          "output_type": "execute_result",
          "data": {
            "text/plain": [
              "<IPython.core.display.SVG object>"
            ],
            "image/svg+xml": "<svg height=\"874pt\" viewBox=\"0.00 0.00 520.00 968.00\" width=\"469pt\" xmlns=\"http://www.w3.org/2000/svg\" xmlns:xlink=\"http://www.w3.org/1999/xlink\">\n<g class=\"graph\" id=\"graph0\" transform=\"scale(.9028 .9028) rotate(0) translate(4 964)\">\n<title>G</title>\n<polygon fill=\"#ffffff\" points=\"-4,4 -4,-964 516,-964 516,4 -4,4\" stroke=\"transparent\"/>\n<!-- 139641431664144 -->\n<g class=\"node\" id=\"node1\">\n<title>139641431664144</title>\n<polygon fill=\"none\" points=\"48.5,-913.5 48.5,-959.5 463.5,-959.5 463.5,-913.5 48.5,-913.5\" stroke=\"#000000\"/>\n<text fill=\"#000000\" font-family=\"Times,serif\" font-size=\"14.00\" text-anchor=\"middle\" x=\"152.5\" y=\"-932.8\">conv_lst_m2d_input: InputLayer</text>\n<polyline fill=\"none\" points=\"256.5,-913.5 256.5,-959.5 \" stroke=\"#000000\"/>\n<text fill=\"#000000\" font-family=\"Times,serif\" font-size=\"14.00\" text-anchor=\"middle\" x=\"285.5\" y=\"-944.3\">input:</text>\n<polyline fill=\"none\" points=\"256.5,-936.5 314.5,-936.5 \" stroke=\"#000000\"/>\n<text fill=\"#000000\" font-family=\"Times,serif\" font-size=\"14.00\" text-anchor=\"middle\" x=\"285.5\" y=\"-921.3\">output:</text>\n<polyline fill=\"none\" points=\"314.5,-913.5 314.5,-959.5 \" stroke=\"#000000\"/>\n<text fill=\"#000000\" font-family=\"Times,serif\" font-size=\"14.00\" text-anchor=\"middle\" x=\"389\" y=\"-944.3\">[(None, 20, 64, 64, 3)]</text>\n<polyline fill=\"none\" points=\"314.5,-936.5 463.5,-936.5 \" stroke=\"#000000\"/>\n<text fill=\"#000000\" font-family=\"Times,serif\" font-size=\"14.00\" text-anchor=\"middle\" x=\"389\" y=\"-921.3\">[(None, 20, 64, 64, 3)]</text>\n</g>\n<!-- 139641465608912 -->\n<g class=\"node\" id=\"node2\">\n<title>139641465608912</title>\n<polygon fill=\"none\" points=\"55.5,-830.5 55.5,-876.5 456.5,-876.5 456.5,-830.5 55.5,-830.5\" stroke=\"#000000\"/>\n<text fill=\"#000000\" font-family=\"Times,serif\" font-size=\"14.00\" text-anchor=\"middle\" x=\"153.5\" y=\"-849.8\">conv_lst_m2d: ConvLSTM2D</text>\n<polyline fill=\"none\" points=\"251.5,-830.5 251.5,-876.5 \" stroke=\"#000000\"/>\n<text fill=\"#000000\" font-family=\"Times,serif\" font-size=\"14.00\" text-anchor=\"middle\" x=\"280.5\" y=\"-861.3\">input:</text>\n<polyline fill=\"none\" points=\"251.5,-853.5 309.5,-853.5 \" stroke=\"#000000\"/>\n<text fill=\"#000000\" font-family=\"Times,serif\" font-size=\"14.00\" text-anchor=\"middle\" x=\"280.5\" y=\"-838.3\">output:</text>\n<polyline fill=\"none\" points=\"309.5,-830.5 309.5,-876.5 \" stroke=\"#000000\"/>\n<text fill=\"#000000\" font-family=\"Times,serif\" font-size=\"14.00\" text-anchor=\"middle\" x=\"383\" y=\"-861.3\">(None, 20, 64, 64, 3)</text>\n<polyline fill=\"none\" points=\"309.5,-853.5 456.5,-853.5 \" stroke=\"#000000\"/>\n<text fill=\"#000000\" font-family=\"Times,serif\" font-size=\"14.00\" text-anchor=\"middle\" x=\"383\" y=\"-838.3\">(None, 20, 62, 62, 64)</text>\n</g>\n<!-- 139641431664144&#45;&gt;139641465608912 -->\n<g class=\"edge\" id=\"edge1\">\n<title>139641431664144-&gt;139641465608912</title>\n<path d=\"M256,-913.3799C256,-905.1745 256,-895.7679 256,-886.8786\" fill=\"none\" stroke=\"#000000\"/>\n<polygon fill=\"#000000\" points=\"259.5001,-886.784 256,-876.784 252.5001,-886.784 259.5001,-886.784\" stroke=\"#000000\"/>\n</g>\n<!-- 139641470359120 -->\n<g class=\"node\" id=\"node3\">\n<title>139641470359120</title>\n<polygon fill=\"none\" points=\"94,-747.5 94,-793.5 418,-793.5 418,-747.5 94,-747.5\" stroke=\"#000000\"/>\n<text fill=\"#000000\" font-family=\"Times,serif\" font-size=\"14.00\" text-anchor=\"middle\" x=\"153.5\" y=\"-766.8\">dropout: Dropout</text>\n<polyline fill=\"none\" points=\"213,-747.5 213,-793.5 \" stroke=\"#000000\"/>\n<text fill=\"#000000\" font-family=\"Times,serif\" font-size=\"14.00\" text-anchor=\"middle\" x=\"242\" y=\"-778.3\">input:</text>\n<polyline fill=\"none\" points=\"213,-770.5 271,-770.5 \" stroke=\"#000000\"/>\n<text fill=\"#000000\" font-family=\"Times,serif\" font-size=\"14.00\" text-anchor=\"middle\" x=\"242\" y=\"-755.3\">output:</text>\n<polyline fill=\"none\" points=\"271,-747.5 271,-793.5 \" stroke=\"#000000\"/>\n<text fill=\"#000000\" font-family=\"Times,serif\" font-size=\"14.00\" text-anchor=\"middle\" x=\"344.5\" y=\"-778.3\">(None, 20, 62, 62, 64)</text>\n<polyline fill=\"none\" points=\"271,-770.5 418,-770.5 \" stroke=\"#000000\"/>\n<text fill=\"#000000\" font-family=\"Times,serif\" font-size=\"14.00\" text-anchor=\"middle\" x=\"344.5\" y=\"-755.3\">(None, 20, 62, 62, 64)</text>\n</g>\n<!-- 139641465608912&#45;&gt;139641470359120 -->\n<g class=\"edge\" id=\"edge2\">\n<title>139641465608912-&gt;139641470359120</title>\n<path d=\"M256,-830.3799C256,-822.1745 256,-812.7679 256,-803.8786\" fill=\"none\" stroke=\"#000000\"/>\n<polygon fill=\"#000000\" points=\"259.5001,-803.784 256,-793.784 252.5001,-803.784 259.5001,-803.784\" stroke=\"#000000\"/>\n</g>\n<!-- 139641431688272 -->\n<g class=\"node\" id=\"node4\">\n<title>139641431688272</title>\n<polygon fill=\"none\" points=\"48,-664.5 48,-710.5 464,-710.5 464,-664.5 48,-664.5\" stroke=\"#000000\"/>\n<text fill=\"#000000\" font-family=\"Times,serif\" font-size=\"14.00\" text-anchor=\"middle\" x=\"153.5\" y=\"-683.8\">conv_lst_m2d_1: ConvLSTM2D</text>\n<polyline fill=\"none\" points=\"259,-664.5 259,-710.5 \" stroke=\"#000000\"/>\n<text fill=\"#000000\" font-family=\"Times,serif\" font-size=\"14.00\" text-anchor=\"middle\" x=\"288\" y=\"-695.3\">input:</text>\n<polyline fill=\"none\" points=\"259,-687.5 317,-687.5 \" stroke=\"#000000\"/>\n<text fill=\"#000000\" font-family=\"Times,serif\" font-size=\"14.00\" text-anchor=\"middle\" x=\"288\" y=\"-672.3\">output:</text>\n<polyline fill=\"none\" points=\"317,-664.5 317,-710.5 \" stroke=\"#000000\"/>\n<text fill=\"#000000\" font-family=\"Times,serif\" font-size=\"14.00\" text-anchor=\"middle\" x=\"390.5\" y=\"-695.3\">(None, 20, 62, 62, 64)</text>\n<polyline fill=\"none\" points=\"317,-687.5 464,-687.5 \" stroke=\"#000000\"/>\n<text fill=\"#000000\" font-family=\"Times,serif\" font-size=\"14.00\" text-anchor=\"middle\" x=\"390.5\" y=\"-672.3\">(None, 60, 60, 32)</text>\n</g>\n<!-- 139641470359120&#45;&gt;139641431688272 -->\n<g class=\"edge\" id=\"edge3\">\n<title>139641470359120-&gt;139641431688272</title>\n<path d=\"M256,-747.3799C256,-739.1745 256,-729.7679 256,-720.8786\" fill=\"none\" stroke=\"#000000\"/>\n<polygon fill=\"#000000\" points=\"259.5001,-720.784 256,-710.784 252.5001,-720.784 259.5001,-720.784\" stroke=\"#000000\"/>\n</g>\n<!-- 139641430933328 -->\n<g class=\"node\" id=\"node5\">\n<title>139641430933328</title>\n<polygon fill=\"none\" points=\"97.5,-581.5 97.5,-627.5 414.5,-627.5 414.5,-581.5 97.5,-581.5\" stroke=\"#000000\"/>\n<text fill=\"#000000\" font-family=\"Times,serif\" font-size=\"14.00\" text-anchor=\"middle\" x=\"164.5\" y=\"-600.8\">dropout_1: Dropout</text>\n<polyline fill=\"none\" points=\"231.5,-581.5 231.5,-627.5 \" stroke=\"#000000\"/>\n<text fill=\"#000000\" font-family=\"Times,serif\" font-size=\"14.00\" text-anchor=\"middle\" x=\"260.5\" y=\"-612.3\">input:</text>\n<polyline fill=\"none\" points=\"231.5,-604.5 289.5,-604.5 \" stroke=\"#000000\"/>\n<text fill=\"#000000\" font-family=\"Times,serif\" font-size=\"14.00\" text-anchor=\"middle\" x=\"260.5\" y=\"-589.3\">output:</text>\n<polyline fill=\"none\" points=\"289.5,-581.5 289.5,-627.5 \" stroke=\"#000000\"/>\n<text fill=\"#000000\" font-family=\"Times,serif\" font-size=\"14.00\" text-anchor=\"middle\" x=\"352\" y=\"-612.3\">(None, 60, 60, 32)</text>\n<polyline fill=\"none\" points=\"289.5,-604.5 414.5,-604.5 \" stroke=\"#000000\"/>\n<text fill=\"#000000\" font-family=\"Times,serif\" font-size=\"14.00\" text-anchor=\"middle\" x=\"352\" y=\"-589.3\">(None, 60, 60, 32)</text>\n</g>\n<!-- 139641431688272&#45;&gt;139641430933328 -->\n<g class=\"edge\" id=\"edge4\">\n<title>139641431688272-&gt;139641430933328</title>\n<path d=\"M256,-664.3799C256,-656.1745 256,-646.7679 256,-637.8786\" fill=\"none\" stroke=\"#000000\"/>\n<polygon fill=\"#000000\" points=\"259.5001,-637.784 256,-627.784 252.5001,-637.784 259.5001,-637.784\" stroke=\"#000000\"/>\n</g>\n<!-- 139641203890768 -->\n<g class=\"node\" id=\"node6\">\n<title>139641203890768</title>\n<polygon fill=\"none\" points=\"36.5,-498.5 36.5,-544.5 475.5,-544.5 475.5,-498.5 36.5,-498.5\" stroke=\"#000000\"/>\n<text fill=\"#000000\" font-family=\"Times,serif\" font-size=\"14.00\" text-anchor=\"middle\" x=\"164.5\" y=\"-517.8\">batch_normalization: BatchNormalization</text>\n<polyline fill=\"none\" points=\"292.5,-498.5 292.5,-544.5 \" stroke=\"#000000\"/>\n<text fill=\"#000000\" font-family=\"Times,serif\" font-size=\"14.00\" text-anchor=\"middle\" x=\"321.5\" y=\"-529.3\">input:</text>\n<polyline fill=\"none\" points=\"292.5,-521.5 350.5,-521.5 \" stroke=\"#000000\"/>\n<text fill=\"#000000\" font-family=\"Times,serif\" font-size=\"14.00\" text-anchor=\"middle\" x=\"321.5\" y=\"-506.3\">output:</text>\n<polyline fill=\"none\" points=\"350.5,-498.5 350.5,-544.5 \" stroke=\"#000000\"/>\n<text fill=\"#000000\" font-family=\"Times,serif\" font-size=\"14.00\" text-anchor=\"middle\" x=\"413\" y=\"-529.3\">(None, 60, 60, 32)</text>\n<polyline fill=\"none\" points=\"350.5,-521.5 475.5,-521.5 \" stroke=\"#000000\"/>\n<text fill=\"#000000\" font-family=\"Times,serif\" font-size=\"14.00\" text-anchor=\"middle\" x=\"413\" y=\"-506.3\">(None, 60, 60, 32)</text>\n</g>\n<!-- 139641430933328&#45;&gt;139641203890768 -->\n<g class=\"edge\" id=\"edge5\">\n<title>139641430933328-&gt;139641203890768</title>\n<path d=\"M256,-581.3799C256,-573.1745 256,-563.7679 256,-554.8786\" fill=\"none\" stroke=\"#000000\"/>\n<polygon fill=\"#000000\" points=\"259.5001,-554.784 256,-544.784 252.5001,-554.784 259.5001,-554.784\" stroke=\"#000000\"/>\n</g>\n<!-- 139641203911632 -->\n<g class=\"node\" id=\"node7\">\n<title>139641203911632</title>\n<polygon fill=\"none\" points=\"61.5,-415.5 61.5,-461.5 450.5,-461.5 450.5,-415.5 61.5,-415.5\" stroke=\"#000000\"/>\n<text fill=\"#000000\" font-family=\"Times,serif\" font-size=\"14.00\" text-anchor=\"middle\" x=\"164.5\" y=\"-434.8\">max_pooling2d: MaxPooling2D</text>\n<polyline fill=\"none\" points=\"267.5,-415.5 267.5,-461.5 \" stroke=\"#000000\"/>\n<text fill=\"#000000\" font-family=\"Times,serif\" font-size=\"14.00\" text-anchor=\"middle\" x=\"296.5\" y=\"-446.3\">input:</text>\n<polyline fill=\"none\" points=\"267.5,-438.5 325.5,-438.5 \" stroke=\"#000000\"/>\n<text fill=\"#000000\" font-family=\"Times,serif\" font-size=\"14.00\" text-anchor=\"middle\" x=\"296.5\" y=\"-423.3\">output:</text>\n<polyline fill=\"none\" points=\"325.5,-415.5 325.5,-461.5 \" stroke=\"#000000\"/>\n<text fill=\"#000000\" font-family=\"Times,serif\" font-size=\"14.00\" text-anchor=\"middle\" x=\"388\" y=\"-446.3\">(None, 60, 60, 32)</text>\n<polyline fill=\"none\" points=\"325.5,-438.5 450.5,-438.5 \" stroke=\"#000000\"/>\n<text fill=\"#000000\" font-family=\"Times,serif\" font-size=\"14.00\" text-anchor=\"middle\" x=\"388\" y=\"-423.3\">(None, 30, 30, 32)</text>\n</g>\n<!-- 139641203890768&#45;&gt;139641203911632 -->\n<g class=\"edge\" id=\"edge6\">\n<title>139641203890768-&gt;139641203911632</title>\n<path d=\"M256,-498.3799C256,-490.1745 256,-480.7679 256,-471.8786\" fill=\"none\" stroke=\"#000000\"/>\n<polygon fill=\"#000000\" points=\"259.5001,-471.784 256,-461.784 252.5001,-471.784 259.5001,-471.784\" stroke=\"#000000\"/>\n</g>\n<!-- 139641203901072 -->\n<g class=\"node\" id=\"node8\">\n<title>139641203901072</title>\n<polygon fill=\"none\" points=\"0,-332.5 0,-378.5 512,-378.5 512,-332.5 0,-332.5\" stroke=\"#000000\"/>\n<text fill=\"#000000\" font-family=\"Times,serif\" font-size=\"14.00\" text-anchor=\"middle\" x=\"164.5\" y=\"-351.8\">global_average_pooling2d: GlobalAveragePooling2D</text>\n<polyline fill=\"none\" points=\"329,-332.5 329,-378.5 \" stroke=\"#000000\"/>\n<text fill=\"#000000\" font-family=\"Times,serif\" font-size=\"14.00\" text-anchor=\"middle\" x=\"358\" y=\"-363.3\">input:</text>\n<polyline fill=\"none\" points=\"329,-355.5 387,-355.5 \" stroke=\"#000000\"/>\n<text fill=\"#000000\" font-family=\"Times,serif\" font-size=\"14.00\" text-anchor=\"middle\" x=\"358\" y=\"-340.3\">output:</text>\n<polyline fill=\"none\" points=\"387,-332.5 387,-378.5 \" stroke=\"#000000\"/>\n<text fill=\"#000000\" font-family=\"Times,serif\" font-size=\"14.00\" text-anchor=\"middle\" x=\"449.5\" y=\"-363.3\">(None, 30, 30, 32)</text>\n<polyline fill=\"none\" points=\"387,-355.5 512,-355.5 \" stroke=\"#000000\"/>\n<text fill=\"#000000\" font-family=\"Times,serif\" font-size=\"14.00\" text-anchor=\"middle\" x=\"449.5\" y=\"-340.3\">(None, 32)</text>\n</g>\n<!-- 139641203911632&#45;&gt;139641203901072 -->\n<g class=\"edge\" id=\"edge7\">\n<title>139641203911632-&gt;139641203901072</title>\n<path d=\"M256,-415.3799C256,-407.1745 256,-397.7679 256,-388.8786\" fill=\"none\" stroke=\"#000000\"/>\n<polygon fill=\"#000000\" points=\"259.5001,-388.784 256,-378.784 252.5001,-388.784 259.5001,-388.784\" stroke=\"#000000\"/>\n</g>\n<!-- 139641429944848 -->\n<g class=\"node\" id=\"node9\">\n<title>139641429944848</title>\n<polygon fill=\"none\" points=\"138,-249.5 138,-295.5 374,-295.5 374,-249.5 138,-249.5\" stroke=\"#000000\"/>\n<text fill=\"#000000\" font-family=\"Times,serif\" font-size=\"14.00\" text-anchor=\"middle\" x=\"187\" y=\"-268.8\">flatten: Flatten</text>\n<polyline fill=\"none\" points=\"236,-249.5 236,-295.5 \" stroke=\"#000000\"/>\n<text fill=\"#000000\" font-family=\"Times,serif\" font-size=\"14.00\" text-anchor=\"middle\" x=\"265\" y=\"-280.3\">input:</text>\n<polyline fill=\"none\" points=\"236,-272.5 294,-272.5 \" stroke=\"#000000\"/>\n<text fill=\"#000000\" font-family=\"Times,serif\" font-size=\"14.00\" text-anchor=\"middle\" x=\"265\" y=\"-257.3\">output:</text>\n<polyline fill=\"none\" points=\"294,-249.5 294,-295.5 \" stroke=\"#000000\"/>\n<text fill=\"#000000\" font-family=\"Times,serif\" font-size=\"14.00\" text-anchor=\"middle\" x=\"334\" y=\"-280.3\">(None, 32)</text>\n<polyline fill=\"none\" points=\"294,-272.5 374,-272.5 \" stroke=\"#000000\"/>\n<text fill=\"#000000\" font-family=\"Times,serif\" font-size=\"14.00\" text-anchor=\"middle\" x=\"334\" y=\"-257.3\">(None, 32)</text>\n</g>\n<!-- 139641203901072&#45;&gt;139641429944848 -->\n<g class=\"edge\" id=\"edge8\">\n<title>139641203901072-&gt;139641429944848</title>\n<path d=\"M256,-332.3799C256,-324.1745 256,-314.7679 256,-305.8786\" fill=\"none\" stroke=\"#000000\"/>\n<polygon fill=\"#000000\" points=\"259.5001,-305.784 256,-295.784 252.5001,-305.784 259.5001,-305.784\" stroke=\"#000000\"/>\n</g>\n<!-- 139641431273232 -->\n<g class=\"node\" id=\"node10\">\n<title>139641431273232</title>\n<polygon fill=\"none\" points=\"137.5,-166.5 137.5,-212.5 374.5,-212.5 374.5,-166.5 137.5,-166.5\" stroke=\"#000000\"/>\n<text fill=\"#000000\" font-family=\"Times,serif\" font-size=\"14.00\" text-anchor=\"middle\" x=\"183.5\" y=\"-185.8\">dense: Dense</text>\n<polyline fill=\"none\" points=\"229.5,-166.5 229.5,-212.5 \" stroke=\"#000000\"/>\n<text fill=\"#000000\" font-family=\"Times,serif\" font-size=\"14.00\" text-anchor=\"middle\" x=\"258.5\" y=\"-197.3\">input:</text>\n<polyline fill=\"none\" points=\"229.5,-189.5 287.5,-189.5 \" stroke=\"#000000\"/>\n<text fill=\"#000000\" font-family=\"Times,serif\" font-size=\"14.00\" text-anchor=\"middle\" x=\"258.5\" y=\"-174.3\">output:</text>\n<polyline fill=\"none\" points=\"287.5,-166.5 287.5,-212.5 \" stroke=\"#000000\"/>\n<text fill=\"#000000\" font-family=\"Times,serif\" font-size=\"14.00\" text-anchor=\"middle\" x=\"331\" y=\"-197.3\">(None, 32)</text>\n<polyline fill=\"none\" points=\"287.5,-189.5 374.5,-189.5 \" stroke=\"#000000\"/>\n<text fill=\"#000000\" font-family=\"Times,serif\" font-size=\"14.00\" text-anchor=\"middle\" x=\"331\" y=\"-174.3\">(None, 256)</text>\n</g>\n<!-- 139641429944848&#45;&gt;139641431273232 -->\n<g class=\"edge\" id=\"edge9\">\n<title>139641429944848-&gt;139641431273232</title>\n<path d=\"M256,-249.3799C256,-241.1745 256,-231.7679 256,-222.8786\" fill=\"none\" stroke=\"#000000\"/>\n<polygon fill=\"#000000\" points=\"259.5001,-222.784 256,-212.784 252.5001,-222.784 259.5001,-222.784\" stroke=\"#000000\"/>\n</g>\n<!-- 139641430103952 -->\n<g class=\"node\" id=\"node11\">\n<title>139641430103952</title>\n<polygon fill=\"none\" points=\"116.5,-83.5 116.5,-129.5 395.5,-129.5 395.5,-83.5 116.5,-83.5\" stroke=\"#000000\"/>\n<text fill=\"#000000\" font-family=\"Times,serif\" font-size=\"14.00\" text-anchor=\"middle\" x=\"183.5\" y=\"-102.8\">dropout_2: Dropout</text>\n<polyline fill=\"none\" points=\"250.5,-83.5 250.5,-129.5 \" stroke=\"#000000\"/>\n<text fill=\"#000000\" font-family=\"Times,serif\" font-size=\"14.00\" text-anchor=\"middle\" x=\"279.5\" y=\"-114.3\">input:</text>\n<polyline fill=\"none\" points=\"250.5,-106.5 308.5,-106.5 \" stroke=\"#000000\"/>\n<text fill=\"#000000\" font-family=\"Times,serif\" font-size=\"14.00\" text-anchor=\"middle\" x=\"279.5\" y=\"-91.3\">output:</text>\n<polyline fill=\"none\" points=\"308.5,-83.5 308.5,-129.5 \" stroke=\"#000000\"/>\n<text fill=\"#000000\" font-family=\"Times,serif\" font-size=\"14.00\" text-anchor=\"middle\" x=\"352\" y=\"-114.3\">(None, 256)</text>\n<polyline fill=\"none\" points=\"308.5,-106.5 395.5,-106.5 \" stroke=\"#000000\"/>\n<text fill=\"#000000\" font-family=\"Times,serif\" font-size=\"14.00\" text-anchor=\"middle\" x=\"352\" y=\"-91.3\">(None, 256)</text>\n</g>\n<!-- 139641431273232&#45;&gt;139641430103952 -->\n<g class=\"edge\" id=\"edge10\">\n<title>139641431273232-&gt;139641430103952</title>\n<path d=\"M256,-166.3799C256,-158.1745 256,-148.7679 256,-139.8786\" fill=\"none\" stroke=\"#000000\"/>\n<polygon fill=\"#000000\" points=\"259.5001,-139.784 256,-129.784 252.5001,-139.784 259.5001,-139.784\" stroke=\"#000000\"/>\n</g>\n<!-- 139641204001616 -->\n<g class=\"node\" id=\"node12\">\n<title>139641204001616</title>\n<polygon fill=\"none\" points=\"130,-.5 130,-46.5 382,-46.5 382,-.5 130,-.5\" stroke=\"#000000\"/>\n<text fill=\"#000000\" font-family=\"Times,serif\" font-size=\"14.00\" text-anchor=\"middle\" x=\"183.5\" y=\"-19.8\">dense_1: Dense</text>\n<polyline fill=\"none\" points=\"237,-.5 237,-46.5 \" stroke=\"#000000\"/>\n<text fill=\"#000000\" font-family=\"Times,serif\" font-size=\"14.00\" text-anchor=\"middle\" x=\"266\" y=\"-31.3\">input:</text>\n<polyline fill=\"none\" points=\"237,-23.5 295,-23.5 \" stroke=\"#000000\"/>\n<text fill=\"#000000\" font-family=\"Times,serif\" font-size=\"14.00\" text-anchor=\"middle\" x=\"266\" y=\"-8.3\">output:</text>\n<polyline fill=\"none\" points=\"295,-.5 295,-46.5 \" stroke=\"#000000\"/>\n<text fill=\"#000000\" font-family=\"Times,serif\" font-size=\"14.00\" text-anchor=\"middle\" x=\"338.5\" y=\"-31.3\">(None, 256)</text>\n<polyline fill=\"none\" points=\"295,-23.5 382,-23.5 \" stroke=\"#000000\"/>\n<text fill=\"#000000\" font-family=\"Times,serif\" font-size=\"14.00\" text-anchor=\"middle\" x=\"338.5\" y=\"-8.3\">(None, 128)</text>\n</g>\n<!-- 139641430103952&#45;&gt;139641204001616 -->\n<g class=\"edge\" id=\"edge11\">\n<title>139641430103952-&gt;139641204001616</title>\n<path d=\"M256,-83.3799C256,-75.1745 256,-65.7679 256,-56.8786\" fill=\"none\" stroke=\"#000000\"/>\n<polygon fill=\"#000000\" points=\"259.5001,-56.784 256,-46.784 252.5001,-56.784 259.5001,-56.784\" stroke=\"#000000\"/>\n</g>\n</g>\n</svg>"
          },
          "metadata": {
            "tags": []
          },
          "execution_count": 10
        }
      ]
    }
  ]
}