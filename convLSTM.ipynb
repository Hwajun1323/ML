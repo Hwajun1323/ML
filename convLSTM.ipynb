{
  "nbformat": 4,
  "nbformat_minor": 0,
  "metadata": {
    "colab": {
      "name": "convLSTM.ipynb",
      "provenance": [],
      "collapsed_sections": [],
      "machine_shape": "hm",
      "mount_file_id": "1STABCCX2jxLSPDYAaoHvYy9Z5fG6sYP4",
      "authorship_tag": "ABX9TyPsWFlgh+Ej30dmDPEXr/1/",
      "include_colab_link": true
    },
    "kernelspec": {
      "name": "python3",
      "display_name": "Python 3"
    },
    "language_info": {
      "name": "python"
    },
    "accelerator": "GPU"
  },
  "cells": [
    {
      "cell_type": "markdown",
      "metadata": {
        "id": "view-in-github",
        "colab_type": "text"
      },
      "source": [
        "<a href=\"https://colab.research.google.com/github/Hwajun1323/ML/blob/master/convLSTM.ipynb\" target=\"_parent\"><img src=\"https://colab.research.google.com/assets/colab-badge.svg\" alt=\"Open In Colab\"/></a>"
      ]
    },
    {
      "cell_type": "code",
      "metadata": {
        "id": "-lJjS99is-Fw",
        "colab": {
          "base_uri": "https://localhost:8080/"
        },
        "outputId": "78435356-e2f6-41b8-f168-ac5d7ab350f3"
      },
      "source": [
        "pip install keras-metrics"
      ],
      "execution_count": null,
      "outputs": [
        {
          "output_type": "stream",
          "text": [
            "Requirement already satisfied: keras-metrics in /usr/local/lib/python3.7/dist-packages (1.1.0)\n",
            "Requirement already satisfied: Keras>=2.1.5 in /usr/local/lib/python3.7/dist-packages (from keras-metrics) (2.4.3)\n",
            "Requirement already satisfied: scipy>=0.14 in /usr/local/lib/python3.7/dist-packages (from Keras>=2.1.5->keras-metrics) (1.4.1)\n",
            "Requirement already satisfied: pyyaml in /usr/local/lib/python3.7/dist-packages (from Keras>=2.1.5->keras-metrics) (3.13)\n",
            "Requirement already satisfied: numpy>=1.9.1 in /usr/local/lib/python3.7/dist-packages (from Keras>=2.1.5->keras-metrics) (1.19.5)\n",
            "Requirement already satisfied: h5py in /usr/local/lib/python3.7/dist-packages (from Keras>=2.1.5->keras-metrics) (2.10.0)\n",
            "Requirement already satisfied: six in /usr/local/lib/python3.7/dist-packages (from h5py->Keras>=2.1.5->keras-metrics) (1.15.0)\n"
          ],
          "name": "stdout"
        }
      ]
    },
    {
      "cell_type": "code",
      "metadata": {
        "id": "GQ0gCXmlfZX8"
      },
      "source": [
        "import keras\n",
        "from keras import applications\n",
        "from keras.preprocessing.image import ImageDataGenerator\n",
        "from keras import optimizers\n",
        "from keras.models import Sequential, Model\n",
        "from keras.layers import *\n",
        "from keras.callbacks import ModelCheckpoint, LearningRateScheduler, TensorBoard, EarlyStopping\n",
        "\n",
        "import os\n",
        "import cv2\n",
        "import numpy as np\n",
        "from sklearn.model_selection import train_test_split\n",
        "from sklearn.model_selection import cross_val_score , cross_validate\n",
        "import keras_metrics as km\n",
        "\n",
        "from sklearn.metrics import accuracy_score\n",
        "from sklearn.metrics import precision_score\n",
        "from sklearn.metrics import recall_score\n",
        "from sklearn.metrics import f1_score\n",
        "from sklearn.metrics import cohen_kappa_score\n",
        "from sklearn.metrics import roc_auc_score\n",
        "from sklearn.metrics import multilabel_confusion_matrix\n",
        "from sklearn.metrics import classification_report\n",
        "from sklearn.metrics import confusion_matrix\n",
        "\n",
        "import matplotlib.pyplot as plt"
      ],
      "execution_count": null,
      "outputs": []
    },
    {
      "cell_type": "code",
      "metadata": {
        "id": "CiVFsiIWffUd",
        "colab": {
          "base_uri": "https://localhost:8080/"
        },
        "outputId": "1ddfcb97-bcc2-4539-fd5d-29bec2cce330"
      },
      "source": [
        "data_dir = \"/content/drive/My Drive/dataset/video_data\"\n",
        "#data_dir = \"video_data/\"\n",
        "img_height, img_width = 64, 64\n",
        "seq_len = 70\n",
        "\n",
        "classes = [\"Child's room\",  \"Museum\", \"Office\", \"Restaurant\"]\n",
        "num_classes = len(classes)\n",
        "print(\"Number of Class: \", num_classes)\n",
        "\n",
        "#  Creating frames from videos\n",
        "\n",
        "def frames_extraction(video_path):\n",
        "    frames_list = []\n",
        "\n",
        "    vidObj = cv2.VideoCapture(video_path)\n",
        "    # Used as counter variable\n",
        "    count = 1\n",
        "\n",
        "    while count <= seq_len:\n",
        "        success, image = vidObj.read()\n",
        "        if success:\n",
        "            image = cv2.resize(image, (img_height, img_width))\n",
        "            frames_list.append(image)\n",
        "            count += 1\n",
        "        else:\n",
        "            print(\"Defected frame\")\n",
        "            break\n",
        "\n",
        "    return frames_list\n",
        "\n",
        "# Create the actual data from the sequence of images\n",
        "\n",
        "def create_data(input_dir):\n",
        "    X = []\n",
        "    Y = []\n",
        "\n",
        "    classes_list = os.listdir(input_dir)\n",
        "\n",
        "    for c in classes_list:\n",
        "        print(c)\n",
        "        files_list = os.listdir(os.path.join(input_dir, c))\n",
        "        for f in files_list:\n",
        "            frames = frames_extraction(os.path.join(os.path.join(input_dir, c), f))\n",
        "            if len(frames) == seq_len:\n",
        "                X.append(frames)\n",
        "\n",
        "                y = [0] * len(classes)\n",
        "                y[classes.index(c)] = 1\n",
        "                Y.append(y)\n",
        "\n",
        "    X = np.asarray(X)\n",
        "    Y = np.asarray(Y)\n",
        "    \n",
        "    return X, Y"
      ],
      "execution_count": null,
      "outputs": [
        {
          "output_type": "stream",
          "text": [
            "Number of Class:  4\n"
          ],
          "name": "stdout"
        }
      ]
    },
    {
      "cell_type": "code",
      "metadata": {
        "id": "G6nClQdnRTwb",
        "colab": {
          "base_uri": "https://localhost:8080/"
        },
        "outputId": "d213e1b9-4d90-4477-90aa-57b6f01b321c"
      },
      "source": [
        "X, Y = create_data(data_dir)\n",
        "\n",
        "X_train, X_test, y_train, y_test = train_test_split(X, Y, test_size=0.20, shuffle=True, random_state=0)\n",
        "\n",
        "print(X_train.shape)\n",
        "print(X_test.shape)\n",
        "print(y_train.shape)\n",
        "print(y_test.shape)\n"
      ],
      "execution_count": null,
      "outputs": [
        {
          "output_type": "stream",
          "text": [
            "Restaurant\n",
            "Museum\n",
            "Office\n",
            "Defected frame\n",
            "Defected frame\n",
            "Child's room\n",
            "(816, 70, 64, 64, 3)\n",
            "(205, 70, 64, 64, 3)\n",
            "(816, 4)\n",
            "(205, 4)\n"
          ],
          "name": "stdout"
        }
      ]
    },
    {
      "cell_type": "code",
      "metadata": {
        "colab": {
          "base_uri": "https://localhost:8080/"
        },
        "id": "h_v-9iPAIv_E",
        "outputId": "2631df56-d126-409d-fb59-ec79677b615a"
      },
      "source": [
        "model = Sequential()\n",
        "\n",
        "model.add(ConvLSTM2D(filters=64, kernel_size=(3, 3), return_sequences=False, data_format=\"channels_last\", input_shape=(seq_len, img_height, img_width, 3)))\n",
        "model.add(Dropout(0.2))\n",
        "\n",
        "#model.add(BatchNormalization())\n",
        "#model.add(MaxPooling2D(pool_size = (2, 2)))\n",
        "#model.add(GlobalAveragePooling2D())\n",
        "\n",
        "model.add(Flatten())\n",
        "model.add(Dense(256, activation=\"relu\"))\n",
        "model.add(Dropout(0.3))\n",
        "model.add(Dense(256, activation=\"relu\"))\n",
        "model.add(Dropout(0.3))\n",
        "model.add(Dense(128, activation=\"relu\"))\n",
        "model.add(Dropout(0.3))\n",
        "model.add(Dense(num_classes, activation=\"softmax\"))\n",
        "\n",
        "model.summary()\n",
        "\n",
        "opt = keras.optimizers.Adam(lr=0.001, beta_1=0.9, beta_2=0.999, epsilon=None, decay=0.0, amsgrad=False)\n",
        "#opt = keras.optimizers.SGD(lr=0.001)\n",
        "model.compile(loss='categorical_crossentropy', optimizer=opt, metrics=[\"accuracy\"])\n",
        "\n",
        "earlystop = EarlyStopping(patience=7)\n",
        "callbacks = [earlystop]\n",
        "\n",
        "#history = model.fit(x=X_train, y=y_train, epochs=40, batch_size=8, shuffle=True, validation_split=0.2, callbacks=callbacks)\n",
        "history = model.fit(x=X_train, y=y_train, epochs=60, batch_size=10, shuffle=True, validation_split=0.2)\n",
        "print(\"Accuracy : %.4f\" % (model.evaluate(X_test, y_test)[1]))\n",
        "\n",
        "#scores = cross_val_score(history, X_train, y_train, cv=3)\n",
        "#print('cross validation check accuracy:',np.round(scores, 4))\n",
        "#print('mean check accuracy', np.round(np.mean(scores), 4))\n",
        "\n",
        "# Result\n",
        "loss, acc = model.evaluate(X_test, y_test)\n",
        "print(model.evaluate(X_test, y_test))"
      ],
      "execution_count": null,
      "outputs": [
        {
          "output_type": "stream",
          "text": [
            "Model: \"sequential_8\"\n",
            "_________________________________________________________________\n",
            "Layer (type)                 Output Shape              Param #   \n",
            "=================================================================\n",
            "conv_lst_m2d_8 (ConvLSTM2D)  (None, 62, 62, 64)        154624    \n",
            "_________________________________________________________________\n",
            "dropout_32 (Dropout)         (None, 62, 62, 64)        0         \n",
            "_________________________________________________________________\n",
            "flatten_8 (Flatten)          (None, 246016)            0         \n",
            "_________________________________________________________________\n",
            "dense_32 (Dense)             (None, 256)               62980352  \n",
            "_________________________________________________________________\n",
            "dropout_33 (Dropout)         (None, 256)               0         \n",
            "_________________________________________________________________\n",
            "dense_33 (Dense)             (None, 256)               65792     \n",
            "_________________________________________________________________\n",
            "dropout_34 (Dropout)         (None, 256)               0         \n",
            "_________________________________________________________________\n",
            "dense_34 (Dense)             (None, 128)               32896     \n",
            "_________________________________________________________________\n",
            "dropout_35 (Dropout)         (None, 128)               0         \n",
            "_________________________________________________________________\n",
            "dense_35 (Dense)             (None, 4)                 516       \n",
            "=================================================================\n",
            "Total params: 63,234,180\n",
            "Trainable params: 63,234,180\n",
            "Non-trainable params: 0\n",
            "_________________________________________________________________\n",
            "Epoch 1/60\n",
            "66/66 [==============================] - 34s 470ms/step - loss: 12.7075 - accuracy: 0.2905 - val_loss: 1.4935 - val_accuracy: 0.4146\n",
            "Epoch 2/60\n",
            "66/66 [==============================] - 31s 465ms/step - loss: 2.2725 - accuracy: 0.2924 - val_loss: 3.6187 - val_accuracy: 0.2256\n",
            "Epoch 3/60\n",
            "66/66 [==============================] - 31s 465ms/step - loss: 3.6656 - accuracy: 0.3039 - val_loss: 2.7402 - val_accuracy: 0.4146\n",
            "Epoch 4/60\n",
            "66/66 [==============================] - 31s 465ms/step - loss: 2.4059 - accuracy: 0.3737 - val_loss: 1.7177 - val_accuracy: 0.4085\n",
            "Epoch 5/60\n",
            "66/66 [==============================] - 30s 463ms/step - loss: 1.7198 - accuracy: 0.3918 - val_loss: 1.4906 - val_accuracy: 0.4329\n",
            "Epoch 6/60\n",
            "66/66 [==============================] - 31s 463ms/step - loss: 1.6399 - accuracy: 0.3638 - val_loss: 1.4547 - val_accuracy: 0.4085\n",
            "Epoch 7/60\n",
            "66/66 [==============================] - 31s 463ms/step - loss: 1.6217 - accuracy: 0.3665 - val_loss: 1.5046 - val_accuracy: 0.4146\n",
            "Epoch 8/60\n",
            "66/66 [==============================] - 31s 464ms/step - loss: 1.4052 - accuracy: 0.4101 - val_loss: 1.5413 - val_accuracy: 0.4085\n",
            "Epoch 9/60\n",
            "66/66 [==============================] - 30s 461ms/step - loss: 1.6930 - accuracy: 0.4234 - val_loss: 1.4021 - val_accuracy: 0.4146\n",
            "Epoch 10/60\n",
            "66/66 [==============================] - 30s 461ms/step - loss: 1.3911 - accuracy: 0.3810 - val_loss: 1.4136 - val_accuracy: 0.4146\n",
            "Epoch 11/60\n",
            "66/66 [==============================] - 30s 461ms/step - loss: 1.3225 - accuracy: 0.4228 - val_loss: 1.4133 - val_accuracy: 0.4146\n",
            "Epoch 12/60\n",
            "66/66 [==============================] - 31s 466ms/step - loss: 1.3103 - accuracy: 0.4269 - val_loss: 1.4078 - val_accuracy: 0.4085\n",
            "Epoch 13/60\n",
            "66/66 [==============================] - 31s 464ms/step - loss: 1.3061 - accuracy: 0.4278 - val_loss: 1.3158 - val_accuracy: 0.4146\n",
            "Epoch 14/60\n",
            "66/66 [==============================] - 31s 463ms/step - loss: 1.2940 - accuracy: 0.4455 - val_loss: 1.3092 - val_accuracy: 0.4268\n",
            "Epoch 15/60\n",
            "66/66 [==============================] - 30s 461ms/step - loss: 1.2975 - accuracy: 0.4501 - val_loss: 1.3173 - val_accuracy: 0.4207\n",
            "Epoch 16/60\n",
            "66/66 [==============================] - 30s 461ms/step - loss: 1.3309 - accuracy: 0.3911 - val_loss: 1.3211 - val_accuracy: 0.4146\n",
            "Epoch 17/60\n",
            "66/66 [==============================] - 31s 463ms/step - loss: 1.3082 - accuracy: 0.4206 - val_loss: 1.3207 - val_accuracy: 0.4146\n",
            "Epoch 18/60\n",
            "66/66 [==============================] - 30s 462ms/step - loss: 1.3248 - accuracy: 0.4018 - val_loss: 1.3224 - val_accuracy: 0.4146\n",
            "Epoch 19/60\n",
            "66/66 [==============================] - 30s 463ms/step - loss: 1.3540 - accuracy: 0.3757 - val_loss: 1.3225 - val_accuracy: 0.4146\n",
            "Epoch 20/60\n",
            "66/66 [==============================] - 30s 461ms/step - loss: 1.3138 - accuracy: 0.4083 - val_loss: 1.3227 - val_accuracy: 0.4146\n",
            "Epoch 21/60\n",
            "66/66 [==============================] - 30s 462ms/step - loss: 1.3151 - accuracy: 0.4197 - val_loss: 1.3227 - val_accuracy: 0.4146\n",
            "Epoch 22/60\n",
            "66/66 [==============================] - 30s 460ms/step - loss: 1.3179 - accuracy: 0.4149 - val_loss: 1.3228 - val_accuracy: 0.4146\n",
            "Epoch 23/60\n",
            "66/66 [==============================] - 30s 461ms/step - loss: 1.2828 - accuracy: 0.4572 - val_loss: 1.3226 - val_accuracy: 0.4146\n",
            "Epoch 24/60\n",
            "66/66 [==============================] - 30s 459ms/step - loss: 1.3197 - accuracy: 0.4118 - val_loss: 1.3227 - val_accuracy: 0.4146\n",
            "Epoch 25/60\n",
            "66/66 [==============================] - 30s 459ms/step - loss: 1.3100 - accuracy: 0.4253 - val_loss: 1.3225 - val_accuracy: 0.4146\n",
            "Epoch 26/60\n",
            "66/66 [==============================] - 30s 459ms/step - loss: 1.3037 - accuracy: 0.4424 - val_loss: 1.3225 - val_accuracy: 0.4146\n",
            "Epoch 27/60\n",
            "66/66 [==============================] - 30s 459ms/step - loss: 1.2979 - accuracy: 0.4318 - val_loss: 1.3230 - val_accuracy: 0.4146\n",
            "Epoch 28/60\n",
            "66/66 [==============================] - 30s 458ms/step - loss: 1.3023 - accuracy: 0.4330 - val_loss: 1.3230 - val_accuracy: 0.4146\n",
            "Epoch 29/60\n",
            "66/66 [==============================] - 30s 460ms/step - loss: 1.3108 - accuracy: 0.4127 - val_loss: 1.3232 - val_accuracy: 0.4146\n",
            "Epoch 30/60\n",
            "66/66 [==============================] - 31s 464ms/step - loss: 1.2999 - accuracy: 0.4282 - val_loss: 1.3228 - val_accuracy: 0.4146\n",
            "Epoch 31/60\n",
            "66/66 [==============================] - 31s 464ms/step - loss: 1.3108 - accuracy: 0.4231 - val_loss: 1.3229 - val_accuracy: 0.4146\n",
            "Epoch 32/60\n",
            "66/66 [==============================] - 30s 460ms/step - loss: 1.2994 - accuracy: 0.4417 - val_loss: 1.3228 - val_accuracy: 0.4146\n",
            "Epoch 33/60\n",
            "66/66 [==============================] - 30s 460ms/step - loss: 1.3107 - accuracy: 0.4253 - val_loss: 1.3224 - val_accuracy: 0.4146\n",
            "Epoch 34/60\n",
            "66/66 [==============================] - 30s 459ms/step - loss: 1.3047 - accuracy: 0.4285 - val_loss: 1.3229 - val_accuracy: 0.4146\n",
            "Epoch 35/60\n",
            "66/66 [==============================] - 30s 460ms/step - loss: 1.3060 - accuracy: 0.4349 - val_loss: 1.3225 - val_accuracy: 0.4146\n",
            "Epoch 36/60\n",
            "66/66 [==============================] - 30s 460ms/step - loss: 1.3615 - accuracy: 0.3982 - val_loss: 1.3182 - val_accuracy: 0.4207\n",
            "Epoch 37/60\n",
            "66/66 [==============================] - 30s 459ms/step - loss: 1.3156 - accuracy: 0.4102 - val_loss: 1.3180 - val_accuracy: 0.4207\n",
            "Epoch 38/60\n",
            "66/66 [==============================] - 30s 460ms/step - loss: 1.3158 - accuracy: 0.4151 - val_loss: 1.3184 - val_accuracy: 0.4207\n",
            "Epoch 39/60\n",
            "66/66 [==============================] - 30s 460ms/step - loss: 1.3108 - accuracy: 0.4183 - val_loss: 1.3184 - val_accuracy: 0.4207\n",
            "Epoch 40/60\n",
            "66/66 [==============================] - 30s 460ms/step - loss: 1.3402 - accuracy: 0.3919 - val_loss: 1.3165 - val_accuracy: 0.4207\n",
            "Epoch 41/60\n",
            "66/66 [==============================] - 30s 459ms/step - loss: 1.3006 - accuracy: 0.4301 - val_loss: 1.3252 - val_accuracy: 0.4146\n",
            "Epoch 42/60\n",
            "66/66 [==============================] - 30s 458ms/step - loss: 1.3269 - accuracy: 0.4096 - val_loss: 1.3229 - val_accuracy: 0.4146\n",
            "Epoch 43/60\n",
            "66/66 [==============================] - 30s 460ms/step - loss: 1.3264 - accuracy: 0.4060 - val_loss: 1.3228 - val_accuracy: 0.4146\n",
            "Epoch 44/60\n",
            "66/66 [==============================] - 30s 459ms/step - loss: 1.3221 - accuracy: 0.4106 - val_loss: 1.3229 - val_accuracy: 0.4146\n",
            "Epoch 45/60\n",
            "66/66 [==============================] - 30s 459ms/step - loss: 1.3105 - accuracy: 0.4193 - val_loss: 1.3234 - val_accuracy: 0.4146\n",
            "Epoch 46/60\n",
            "66/66 [==============================] - 30s 460ms/step - loss: 1.3330 - accuracy: 0.3979 - val_loss: 1.3228 - val_accuracy: 0.4146\n",
            "Epoch 47/60\n",
            "66/66 [==============================] - 30s 460ms/step - loss: 1.3162 - accuracy: 0.4217 - val_loss: 1.3228 - val_accuracy: 0.4146\n",
            "Epoch 48/60\n",
            "66/66 [==============================] - 30s 459ms/step - loss: 1.3231 - accuracy: 0.4107 - val_loss: 1.3231 - val_accuracy: 0.4146\n",
            "Epoch 49/60\n",
            "66/66 [==============================] - 30s 459ms/step - loss: 1.3230 - accuracy: 0.4116 - val_loss: 1.3232 - val_accuracy: 0.4146\n",
            "Epoch 50/60\n",
            "66/66 [==============================] - 30s 459ms/step - loss: 1.2967 - accuracy: 0.4470 - val_loss: 1.3229 - val_accuracy: 0.4146\n",
            "Epoch 51/60\n",
            "66/66 [==============================] - 30s 459ms/step - loss: 1.3189 - accuracy: 0.4192 - val_loss: 1.3230 - val_accuracy: 0.4146\n",
            "Epoch 52/60\n",
            "66/66 [==============================] - 30s 459ms/step - loss: 1.3199 - accuracy: 0.4102 - val_loss: 1.3232 - val_accuracy: 0.4146\n",
            "Epoch 53/60\n",
            "66/66 [==============================] - 30s 459ms/step - loss: 1.3140 - accuracy: 0.4209 - val_loss: 1.3230 - val_accuracy: 0.4146\n",
            "Epoch 54/60\n",
            "66/66 [==============================] - 30s 459ms/step - loss: 1.3200 - accuracy: 0.4070 - val_loss: 1.3232 - val_accuracy: 0.4146\n",
            "Epoch 55/60\n",
            "66/66 [==============================] - 30s 461ms/step - loss: 1.3252 - accuracy: 0.4126 - val_loss: 1.3228 - val_accuracy: 0.4146\n",
            "Epoch 56/60\n",
            "66/66 [==============================] - 30s 459ms/step - loss: 1.3003 - accuracy: 0.4434 - val_loss: 1.3229 - val_accuracy: 0.4146\n",
            "Epoch 57/60\n",
            "66/66 [==============================] - 30s 461ms/step - loss: 1.3005 - accuracy: 0.4474 - val_loss: 1.3230 - val_accuracy: 0.4146\n",
            "Epoch 58/60\n",
            "66/66 [==============================] - 30s 458ms/step - loss: 1.3012 - accuracy: 0.4307 - val_loss: 1.3232 - val_accuracy: 0.4146\n",
            "Epoch 59/60\n",
            "66/66 [==============================] - 30s 459ms/step - loss: 1.3115 - accuracy: 0.4258 - val_loss: 1.3235 - val_accuracy: 0.4146\n",
            "Epoch 60/60\n",
            "66/66 [==============================] - 30s 461ms/step - loss: 1.3027 - accuracy: 0.4263 - val_loss: 1.3237 - val_accuracy: 0.4146\n",
            "7/7 [==============================] - 2s 305ms/step - loss: 1.3599 - accuracy: 0.3561\n",
            "Accuracy : 0.3561\n",
            "7/7 [==============================] - 2s 306ms/step - loss: 1.3599 - accuracy: 0.3561\n",
            "7/7 [==============================] - 2s 305ms/step - loss: 1.3599 - accuracy: 0.3561\n",
            "[1.3598685264587402, 0.356097549200058]\n"
          ],
          "name": "stdout"
        }
      ]
    },
    {
      "cell_type": "code",
      "metadata": {
        "colab": {
          "base_uri": "https://localhost:8080/"
        },
        "id": "IYnev14UAi_m",
        "outputId": "1df9f85b-8bde-4851-c9c0-0098d919ad8c"
      },
      "source": [
        "# Result\n",
        "loss, acc = model.evaluate(X_test, y_test)\n",
        "print(\"\\nLoss: {}, Acc: {}\".format(loss,acc))\n",
        "\n",
        "# Evaluation of model\n",
        "y_pred = model.predict(X_test)\n",
        "y_pred = np.argmax(y_pred, axis=1)\n",
        "y_test = np.argmax(y_test, axis=1)\n",
        "\n",
        "print('Classification Report:\\n')\n",
        "print(classification_report(y_test, y_pred))\n",
        "\n",
        "# Confusion Matrix\n",
        "cm = confusion_matrix(y_test, y_pred) \n",
        "print('confusion matrix:\\n ', cm)"
      ],
      "execution_count": null,
      "outputs": [
        {
          "output_type": "stream",
          "text": [
            "7/7 [==============================] - 2s 305ms/step - loss: 1.3599 - accuracy: 0.3561\n",
            "\n",
            "Loss: 1.3598685264587402, Acc: 0.356097549200058\n",
            "Classification Report:\n",
            "\n",
            "              precision    recall  f1-score   support\n",
            "\n",
            "           0       0.00      0.00      0.00        46\n",
            "           1       0.00      0.00      0.00        51\n",
            "           2       0.00      0.00      0.00        34\n",
            "           3       0.36      0.99      0.53        74\n",
            "\n",
            "    accuracy                           0.36       205\n",
            "   macro avg       0.09      0.25      0.13       205\n",
            "weighted avg       0.13      0.36      0.19       205\n",
            "\n",
            "confusion matrix:\n",
            "  [[ 0  0  0 46]\n",
            " [ 0  0  1 50]\n",
            " [ 0  0  0 34]\n",
            " [ 0  0  1 73]]\n"
          ],
          "name": "stdout"
        },
        {
          "output_type": "stream",
          "text": [
            "/usr/local/lib/python3.7/dist-packages/sklearn/metrics/_classification.py:1272: UndefinedMetricWarning: Precision and F-score are ill-defined and being set to 0.0 in labels with no predicted samples. Use `zero_division` parameter to control this behavior.\n",
            "  _warn_prf(average, modifier, msg_start, len(result))\n"
          ],
          "name": "stderr"
        }
      ]
    },
    {
      "cell_type": "code",
      "metadata": {
        "colab": {
          "base_uri": "https://localhost:8080/",
          "height": 573
        },
        "id": "03EgVD9bI03A",
        "outputId": "ae4bfcad-a41b-4fc5-ee3e-3f1117fa3ee1"
      },
      "source": [
        "# Visualize the plot\n",
        "\n",
        "## summarize history for accuracy\n",
        "plt.plot(history.history['accuracy'])\n",
        "plt.plot(history.history['val_accuracy'])\n",
        "plt.title('model accuracy')\n",
        "plt.ylabel('accuracy')\n",
        "plt.xlabel('epoch')\n",
        "plt.legend(['train', 'test'], loc='upper left')\n",
        "plt.show()\n",
        "## summarize history for loss\n",
        "plt.plot(history.history['loss'])\n",
        "plt.plot(history.history['val_loss'])\n",
        "plt.title('model loss')\n",
        "plt.ylabel('loss')\n",
        "plt.xlabel('epoch')\n",
        "plt.legend(['train', 'test'], loc='upper left')\n",
        "plt.show()"
      ],
      "execution_count": null,
      "outputs": [
        {
          "output_type": "display_data",
          "data": {
            "image/png": "[encoded data removed]",
            "text/plain": [
              "<Figure size 432x288 with 1 Axes>"
            ]
          },
          "metadata": {
            "tags": [],
            "needs_background": "light"
          }
        },
        {
          "output_type": "display_data",
          "data": {
            "image/png": "[encoded data removed]",
            "text/plain": [
              "<Figure size 432x288 with 1 Axes>"
            ]
          },
          "metadata": {
            "tags": [],
            "needs_background": "light"
          }
        }
      ]
    }
  ]
}