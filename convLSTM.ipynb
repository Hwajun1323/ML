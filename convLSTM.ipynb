{
  "nbformat": 4,
  "nbformat_minor": 0,
  "metadata": {
    "colab": {
      "name": "cross_validation.ipynb",
      "provenance": [],
      "collapsed_sections": [],
      "machine_shape": "hm",
      "mount_file_id": "1k1VFO1nHXE--qfAR2Y2exVYpVMNDcmTJ",
      "authorship_tag": "ABX9TyNRJeY+HGNvS+vAFxmwuWgK",
      "include_colab_link": true
    },
    "kernelspec": {
      "name": "python3",
      "display_name": "Python 3"
    },
    "language_info": {
      "name": "python"
    },
    "accelerator": "GPU"
  },
  "cells": [
    {
      "cell_type": "markdown",
      "metadata": {
        "id": "view-in-github",
        "colab_type": "text"
      },
      "source": [
        "<a href=\"https://colab.research.google.com/github/Hwajun1323/ML/blob/master/convLSTM.ipynb\" target=\"_parent\"><img src=\"https://colab.research.google.com/assets/colab-badge.svg\" alt=\"Open In Colab\"/></a>"
      ]
    },
    {
      "cell_type": "code",
      "metadata": {
        "id": "-lJjS99is-Fw",
        "colab": {
          "base_uri": "https://localhost:8080/"
        },
        "outputId": "bf91bd20-c37c-4a08-ce21-b04bd0e0c328"
      },
      "source": [
        "pip install keras-metrics"
      ],
      "execution_count": 24,
      "outputs": [
        {
          "output_type": "stream",
          "text": [
            "Requirement already satisfied: keras-metrics in /usr/local/lib/python3.7/dist-packages (1.1.0)\n",
            "Requirement already satisfied: Keras>=2.1.5 in /usr/local/lib/python3.7/dist-packages (from keras-metrics) (2.4.3)\n",
            "Requirement already satisfied: pyyaml in /usr/local/lib/python3.7/dist-packages (from Keras>=2.1.5->keras-metrics) (3.13)\n",
            "Requirement already satisfied: h5py in /usr/local/lib/python3.7/dist-packages (from Keras>=2.1.5->keras-metrics) (2.10.0)\n",
            "Requirement already satisfied: scipy>=0.14 in /usr/local/lib/python3.7/dist-packages (from Keras>=2.1.5->keras-metrics) (1.4.1)\n",
            "Requirement already satisfied: numpy>=1.9.1 in /usr/local/lib/python3.7/dist-packages (from Keras>=2.1.5->keras-metrics) (1.19.5)\n",
            "Requirement already satisfied: six in /usr/local/lib/python3.7/dist-packages (from h5py->Keras>=2.1.5->keras-metrics) (1.15.0)\n"
          ],
          "name": "stdout"
        }
      ]
    },
    {
      "cell_type": "code",
      "metadata": {
        "id": "GQ0gCXmlfZX8"
      },
      "source": [
        "import keras\n",
        "from keras import applications\n",
        "from keras.preprocessing.image import ImageDataGenerator\n",
        "from keras import optimizers\n",
        "from keras.models import Sequential, Model\n",
        "from keras.layers import *\n",
        "from keras.callbacks import ModelCheckpoint, LearningRateScheduler, TensorBoard, EarlyStopping\n",
        "\n",
        "import os\n",
        "import cv2\n",
        "import numpy as np\n",
        "from sklearn.model_selection import train_test_split\n",
        "from sklearn.model_selection import cross_val_score , cross_validate\n",
        "from sklearn.model_selection import KFold, StratifiedKFold\n",
        "\n",
        "import keras_metrics as km\n",
        "\n",
        "from sklearn.metrics import accuracy_score\n",
        "from sklearn.metrics import precision_score\n",
        "from sklearn.metrics import recall_score\n",
        "from sklearn.metrics import f1_score\n",
        "from sklearn.metrics import cohen_kappa_score\n",
        "from sklearn.metrics import roc_auc_score\n",
        "from sklearn.metrics import multilabel_confusion_matrix\n",
        "from sklearn.metrics import classification_report\n",
        "from sklearn.metrics import confusion_matrix\n",
        "\n",
        "import matplotlib.pyplot as plt"
      ],
      "execution_count": 25,
      "outputs": []
    },
    {
      "cell_type": "code",
      "metadata": {
        "id": "CiVFsiIWffUd",
        "colab": {
          "base_uri": "https://localhost:8080/"
        },
        "outputId": "937a1bc4-29f3-4d32-a578-adf5c3d7f8c1"
      },
      "source": [
        "data_dir = \"/content/drive/My Drive/dataset/video_data\"\n",
        "#data_dir = \"video_data/\"\n",
        "img_height, img_width = 64, 64\n",
        "seq_len = 70\n",
        "\n",
        "classes = [\"Child's room\",  \"Museum\", \"Office\", \"Restaurant\"]\n",
        "num_classes = len(classes)\n",
        "print(\"Number of Class: \", num_classes)\n",
        "\n",
        "#  Creating frames from videos\n",
        "\n",
        "def frames_extraction(video_path):\n",
        "    frames_list = []\n",
        "\n",
        "    vidObj = cv2.VideoCapture(video_path)\n",
        "    # Used as counter variable\n",
        "    count = 1\n",
        "\n",
        "    while count <= seq_len:\n",
        "        success, image = vidObj.read()\n",
        "        if success:\n",
        "            image = cv2.resize(image, (img_height, img_width))\n",
        "            frames_list.append(image)\n",
        "            count += 1\n",
        "        else:\n",
        "            print(\"Defected frame\")\n",
        "            break\n",
        "\n",
        "    return frames_list\n",
        "\n",
        "# Create the actual data from the sequence of images\n",
        "\n",
        "def create_data(input_dir):\n",
        "    X = []\n",
        "    Y = []\n",
        "\n",
        "    classes_list = os.listdir(input_dir)\n",
        "\n",
        "    for c in classes_list:\n",
        "        print(c)\n",
        "        files_list = os.listdir(os.path.join(input_dir, c))\n",
        "        for f in files_list:\n",
        "            frames = frames_extraction(os.path.join(os.path.join(input_dir, c), f))\n",
        "            if len(frames) == seq_len:\n",
        "                X.append(frames)\n",
        "\n",
        "                y = [0] * len(classes)\n",
        "                y[classes.index(c)] = 1\n",
        "                Y.append(y)\n",
        "\n",
        "    X = np.asarray(X)\n",
        "    Y = np.asarray(Y)\n",
        "    \n",
        "    return X, Y"
      ],
      "execution_count": 26,
      "outputs": [
        {
          "output_type": "stream",
          "text": [
            "Number of Class:  4\n"
          ],
          "name": "stdout"
        }
      ]
    },
    {
      "cell_type": "code",
      "metadata": {
        "id": "G6nClQdnRTwb",
        "colab": {
          "base_uri": "https://localhost:8080/"
        },
        "outputId": "4cc0a307-1db7-4d63-a63d-902b07aa427c"
      },
      "source": [
        "X, Y = create_data(data_dir)\n",
        "\n",
        "X_train, X_test, y_train, y_test = train_test_split(X, Y, test_size=0.20, shuffle=True, random_state=0)"
      ],
      "execution_count": 36,
      "outputs": [
        {
          "output_type": "stream",
          "text": [
            "Child's room\n",
            "Restaurant\n",
            "Office\n",
            "Defected frame\n",
            "Defected frame\n",
            "Museum\n"
          ],
          "name": "stdout"
        }
      ]
    },
    {
      "cell_type": "code",
      "metadata": {
        "colab": {
          "base_uri": "https://localhost:8080/",
          "height": 390
        },
        "id": "2_ehqpr2ZCgm",
        "outputId": "39432328-4873-4306-e026-fc143e81c3d0"
      },
      "source": [
        "# Cross validation\n",
        "\n",
        "skf = KFold(n_splits=5, shuffle=Ture, random_state=None)\n",
        "\n",
        "# X is the feature set and y is the target\n",
        "for train_index, test_index in skf.split(X,Y): \n",
        "    #print(\"Train:\", train_index, \"Validation:\", test_index) \n",
        "    X_train, X_test = X[train_index], X[test_index] \n",
        "    y_train, y_test = Y[train_index], Y[test_index]\n",
        "\n",
        "print(X_train.shape)\n",
        "print(X_test.shape)\n",
        "print(y_train.shape)\n",
        "print(y_test.shape)"
      ],
      "execution_count": 35,
      "outputs": [
        {
          "output_type": "error",
          "ename": "ValueError",
          "evalue": "ignored",
          "traceback": [
            "\u001b[0;31m---------------------------------------------------------------------------\u001b[0m",
            "\u001b[0;31mValueError\u001b[0m                                Traceback (most recent call last)",
            "\u001b[0;32m<ipython-input-35-f286b0371354>\u001b[0m in \u001b[0;36m<module>\u001b[0;34m()\u001b[0m\n\u001b[1;32m      5\u001b[0m \u001b[0;31m# X is the feature set and y is the target\u001b[0m\u001b[0;34m\u001b[0m\u001b[0;34m\u001b[0m\u001b[0;34m\u001b[0m\u001b[0m\n\u001b[1;32m      6\u001b[0m \u001b[0;31m#for train_index, test_index in skf.split(X,Y):\u001b[0m\u001b[0;34m\u001b[0m\u001b[0;34m\u001b[0m\u001b[0;34m\u001b[0m\u001b[0m\n\u001b[0;32m----> 7\u001b[0;31m \u001b[0;32mfor\u001b[0m \u001b[0mi\u001b[0m\u001b[0;34m,\u001b[0m \u001b[0;34m(\u001b[0m\u001b[0mtrain_index\u001b[0m\u001b[0;34m,\u001b[0m \u001b[0mtest_index\u001b[0m\u001b[0;34m)\u001b[0m \u001b[0;32min\u001b[0m \u001b[0menumerate\u001b[0m\u001b[0;34m(\u001b[0m\u001b[0mskf\u001b[0m\u001b[0;34m.\u001b[0m\u001b[0msplit\u001b[0m\u001b[0;34m(\u001b[0m\u001b[0mX_train\u001b[0m\u001b[0;34m,\u001b[0m \u001b[0my_train_categorical\u001b[0m\u001b[0;34m.\u001b[0m\u001b[0margmax\u001b[0m\u001b[0;34m(\u001b[0m\u001b[0;36m1\u001b[0m\u001b[0;34m)\u001b[0m\u001b[0;34m)\u001b[0m\u001b[0;34m)\u001b[0m\u001b[0;34m:\u001b[0m\u001b[0;34m\u001b[0m\u001b[0;34m\u001b[0m\u001b[0m\n\u001b[0m\u001b[1;32m      8\u001b[0m     \u001b[0;31m#print(\"Train:\", train_index, \"Validation:\", test_index)\u001b[0m\u001b[0;34m\u001b[0m\u001b[0;34m\u001b[0m\u001b[0;34m\u001b[0m\u001b[0m\n\u001b[1;32m      9\u001b[0m     \u001b[0mX_train\u001b[0m\u001b[0;34m,\u001b[0m \u001b[0mX_test\u001b[0m \u001b[0;34m=\u001b[0m \u001b[0mX\u001b[0m\u001b[0;34m[\u001b[0m\u001b[0mtrain_index\u001b[0m\u001b[0;34m]\u001b[0m\u001b[0;34m,\u001b[0m \u001b[0mX\u001b[0m\u001b[0;34m[\u001b[0m\u001b[0mtest_index\u001b[0m\u001b[0;34m]\u001b[0m\u001b[0;34m\u001b[0m\u001b[0;34m\u001b[0m\u001b[0m\n",
            "\u001b[0;32m/usr/local/lib/python3.7/dist-packages/sklearn/model_selection/_split.py\u001b[0m in \u001b[0;36msplit\u001b[0;34m(self, X, y, groups)\u001b[0m\n\u001b[1;32m    333\u001b[0m                 .format(self.n_splits, n_samples))\n\u001b[1;32m    334\u001b[0m \u001b[0;34m\u001b[0m\u001b[0m\n\u001b[0;32m--> 335\u001b[0;31m         \u001b[0;32mfor\u001b[0m \u001b[0mtrain\u001b[0m\u001b[0;34m,\u001b[0m \u001b[0mtest\u001b[0m \u001b[0;32min\u001b[0m \u001b[0msuper\u001b[0m\u001b[0;34m(\u001b[0m\u001b[0;34m)\u001b[0m\u001b[0;34m.\u001b[0m\u001b[0msplit\u001b[0m\u001b[0;34m(\u001b[0m\u001b[0mX\u001b[0m\u001b[0;34m,\u001b[0m \u001b[0my\u001b[0m\u001b[0;34m,\u001b[0m \u001b[0mgroups\u001b[0m\u001b[0;34m)\u001b[0m\u001b[0;34m:\u001b[0m\u001b[0;34m\u001b[0m\u001b[0;34m\u001b[0m\u001b[0m\n\u001b[0m\u001b[1;32m    336\u001b[0m             \u001b[0;32myield\u001b[0m \u001b[0mtrain\u001b[0m\u001b[0;34m,\u001b[0m \u001b[0mtest\u001b[0m\u001b[0;34m\u001b[0m\u001b[0;34m\u001b[0m\u001b[0m\n\u001b[1;32m    337\u001b[0m \u001b[0;34m\u001b[0m\u001b[0m\n",
            "\u001b[0;32m/usr/local/lib/python3.7/dist-packages/sklearn/model_selection/_split.py\u001b[0m in \u001b[0;36msplit\u001b[0;34m(self, X, y, groups)\u001b[0m\n\u001b[1;32m     78\u001b[0m         \u001b[0mX\u001b[0m\u001b[0;34m,\u001b[0m \u001b[0my\u001b[0m\u001b[0;34m,\u001b[0m \u001b[0mgroups\u001b[0m \u001b[0;34m=\u001b[0m \u001b[0mindexable\u001b[0m\u001b[0;34m(\u001b[0m\u001b[0mX\u001b[0m\u001b[0;34m,\u001b[0m \u001b[0my\u001b[0m\u001b[0;34m,\u001b[0m \u001b[0mgroups\u001b[0m\u001b[0;34m)\u001b[0m\u001b[0;34m\u001b[0m\u001b[0;34m\u001b[0m\u001b[0m\n\u001b[1;32m     79\u001b[0m         \u001b[0mindices\u001b[0m \u001b[0;34m=\u001b[0m \u001b[0mnp\u001b[0m\u001b[0;34m.\u001b[0m\u001b[0marange\u001b[0m\u001b[0;34m(\u001b[0m\u001b[0m_num_samples\u001b[0m\u001b[0;34m(\u001b[0m\u001b[0mX\u001b[0m\u001b[0;34m)\u001b[0m\u001b[0;34m)\u001b[0m\u001b[0;34m\u001b[0m\u001b[0;34m\u001b[0m\u001b[0m\n\u001b[0;32m---> 80\u001b[0;31m         \u001b[0;32mfor\u001b[0m \u001b[0mtest_index\u001b[0m \u001b[0;32min\u001b[0m \u001b[0mself\u001b[0m\u001b[0;34m.\u001b[0m\u001b[0m_iter_test_masks\u001b[0m\u001b[0;34m(\u001b[0m\u001b[0mX\u001b[0m\u001b[0;34m,\u001b[0m \u001b[0my\u001b[0m\u001b[0;34m,\u001b[0m \u001b[0mgroups\u001b[0m\u001b[0;34m)\u001b[0m\u001b[0;34m:\u001b[0m\u001b[0;34m\u001b[0m\u001b[0;34m\u001b[0m\u001b[0m\n\u001b[0m\u001b[1;32m     81\u001b[0m             \u001b[0mtrain_index\u001b[0m \u001b[0;34m=\u001b[0m \u001b[0mindices\u001b[0m\u001b[0;34m[\u001b[0m\u001b[0mnp\u001b[0m\u001b[0;34m.\u001b[0m\u001b[0mlogical_not\u001b[0m\u001b[0;34m(\u001b[0m\u001b[0mtest_index\u001b[0m\u001b[0;34m)\u001b[0m\u001b[0;34m]\u001b[0m\u001b[0;34m\u001b[0m\u001b[0;34m\u001b[0m\u001b[0m\n\u001b[1;32m     82\u001b[0m             \u001b[0mtest_index\u001b[0m \u001b[0;34m=\u001b[0m \u001b[0mindices\u001b[0m\u001b[0;34m[\u001b[0m\u001b[0mtest_index\u001b[0m\u001b[0;34m]\u001b[0m\u001b[0;34m\u001b[0m\u001b[0;34m\u001b[0m\u001b[0m\n",
            "\u001b[0;32m/usr/local/lib/python3.7/dist-packages/sklearn/model_selection/_split.py\u001b[0m in \u001b[0;36m_iter_test_masks\u001b[0;34m(self, X, y, groups)\u001b[0m\n\u001b[1;32m    690\u001b[0m \u001b[0;34m\u001b[0m\u001b[0m\n\u001b[1;32m    691\u001b[0m     \u001b[0;32mdef\u001b[0m \u001b[0m_iter_test_masks\u001b[0m\u001b[0;34m(\u001b[0m\u001b[0mself\u001b[0m\u001b[0;34m,\u001b[0m \u001b[0mX\u001b[0m\u001b[0;34m,\u001b[0m \u001b[0my\u001b[0m\u001b[0;34m=\u001b[0m\u001b[0;32mNone\u001b[0m\u001b[0;34m,\u001b[0m \u001b[0mgroups\u001b[0m\u001b[0;34m=\u001b[0m\u001b[0;32mNone\u001b[0m\u001b[0;34m)\u001b[0m\u001b[0;34m:\u001b[0m\u001b[0;34m\u001b[0m\u001b[0;34m\u001b[0m\u001b[0m\n\u001b[0;32m--> 692\u001b[0;31m         \u001b[0mtest_folds\u001b[0m \u001b[0;34m=\u001b[0m \u001b[0mself\u001b[0m\u001b[0;34m.\u001b[0m\u001b[0m_make_test_folds\u001b[0m\u001b[0;34m(\u001b[0m\u001b[0mX\u001b[0m\u001b[0;34m,\u001b[0m \u001b[0my\u001b[0m\u001b[0;34m)\u001b[0m\u001b[0;34m\u001b[0m\u001b[0;34m\u001b[0m\u001b[0m\n\u001b[0m\u001b[1;32m    693\u001b[0m         \u001b[0;32mfor\u001b[0m \u001b[0mi\u001b[0m \u001b[0;32min\u001b[0m \u001b[0mrange\u001b[0m\u001b[0;34m(\u001b[0m\u001b[0mself\u001b[0m\u001b[0;34m.\u001b[0m\u001b[0mn_splits\u001b[0m\u001b[0;34m)\u001b[0m\u001b[0;34m:\u001b[0m\u001b[0;34m\u001b[0m\u001b[0;34m\u001b[0m\u001b[0m\n\u001b[1;32m    694\u001b[0m             \u001b[0;32myield\u001b[0m \u001b[0mtest_folds\u001b[0m \u001b[0;34m==\u001b[0m \u001b[0mi\u001b[0m\u001b[0;34m\u001b[0m\u001b[0;34m\u001b[0m\u001b[0m\n",
            "\u001b[0;32m/usr/local/lib/python3.7/dist-packages/sklearn/model_selection/_split.py\u001b[0m in \u001b[0;36m_make_test_folds\u001b[0;34m(self, X, y)\u001b[0m\n\u001b[1;32m    644\u001b[0m             raise ValueError(\n\u001b[1;32m    645\u001b[0m                 'Supported target types are: {}. Got {!r} instead.'.format(\n\u001b[0;32m--> 646\u001b[0;31m                     allowed_target_types, type_of_target_y))\n\u001b[0m\u001b[1;32m    647\u001b[0m \u001b[0;34m\u001b[0m\u001b[0m\n\u001b[1;32m    648\u001b[0m         \u001b[0my\u001b[0m \u001b[0;34m=\u001b[0m \u001b[0mcolumn_or_1d\u001b[0m\u001b[0;34m(\u001b[0m\u001b[0my\u001b[0m\u001b[0;34m)\u001b[0m\u001b[0;34m\u001b[0m\u001b[0;34m\u001b[0m\u001b[0m\n",
            "\u001b[0;31mValueError\u001b[0m: Supported target types are: ('binary', 'multiclass'). Got 'multiclass-multioutput' instead."
          ]
        }
      ]
    },
    {
      "cell_type": "code",
      "metadata": {
        "colab": {
          "base_uri": "https://localhost:8080/"
        },
        "id": "h_v-9iPAIv_E",
        "outputId": "231610a3-e36a-447a-ae03-dad3e8181b75"
      },
      "source": [
        "model = Sequential()\n",
        "\n",
        "model.add(ConvLSTM2D(filters=64, kernel_size=(3, 3), return_sequences=False, data_format=\"channels_last\", input_shape=(seq_len, img_height, img_width, 3)))\n",
        "model.add(Dropout(0.2))\n",
        "\n",
        "model.add(BatchNormalization())\n",
        "model.add(MaxPooling2D(pool_size = (2, 2)))\n",
        "#model.add(GlobalAveragePooling2D())\n",
        "\n",
        "model.add(Flatten())\n",
        "model.add(Dense(256, activation=\"relu\"))\n",
        "model.add(Dropout(0.5))\n",
        "#model.add(Dense(256, activation=\"relu\"))\n",
        "#model.add(Dropout(0.5))\n",
        "model.add(Dense(128, activation=\"relu\"))\n",
        "model.add(Dropout(0.5))\n",
        "model.add(Dense(num_classes, activation=\"softmax\"))\n",
        "\n",
        "model.summary()\n",
        "\n",
        "#opt = keras.optimizers.Adam(lr=0.001, beta_1=0.9, beta_2=0.999, epsilon=None, decay=0.0, amsgrad=False)\n",
        "#opt = keras.optimizers.SGD(lr=0.001)\n",
        "#opt = keras.optimizers.SGD(lr=0.001, momentum=0.9)\n",
        "opt = keras.optimizers.SGD(lr=0.001, momentum=0.9, nesterov=True)\n",
        "#opt = keras.optimizers.Adagrad(lr=0.001, epsilon=1e-6)\n",
        "#opt = keras.optimizers.Adadelta(lr=1.0, rho=0.95, epsilon=None, decay=0.0)\n",
        "\n",
        "model.compile(loss='categorical_crossentropy', optimizer=opt, metrics=[\"accuracy\"])\n",
        "\n",
        "\n",
        "#score = cross_val_score(model, X, Y, scoring='accuracy', cv=5)\n",
        "#print('cross validation accuracy:',np.round(scores, 4))\n",
        "#print('mean accuracy:', np.round(np.mean(scores), 4))\n",
        "\n",
        "earlystop = EarlyStopping(patience=7)\n",
        "callbacks = [earlystop]\n",
        "\n",
        "#history = model.fit(x=X_train, y=y_train, epochs=40, batch_size=8, shuffle=True, validation_split=0.2, callbacks=callbacks)\n",
        "history = model.fit(x=X_train, y=y_train, epochs=60, batch_size=10, shuffle=True, validation_split=0.2)\n",
        "print(\"Accuracy : %.4f\" % (model.evaluate(X_test, y_test)[1]))\n",
        "\n",
        "# Result\n",
        "loss, acc = model.evaluate(X_test, y_test)\n",
        "print(\"\\nLoss: {}, Acc: {}\".format(loss,acc))\n"
      ],
      "execution_count": 37,
      "outputs": [
        {
          "output_type": "stream",
          "text": [
            "Model: \"sequential_5\"\n",
            "_________________________________________________________________\n",
            "Layer (type)                 Output Shape              Param #   \n",
            "=================================================================\n",
            "conv_lst_m2d_5 (ConvLSTM2D)  (None, 62, 62, 64)        154624    \n",
            "_________________________________________________________________\n",
            "dropout_20 (Dropout)         (None, 62, 62, 64)        0         \n",
            "_________________________________________________________________\n",
            "batch_normalization (BatchNo (None, 62, 62, 64)        256       \n",
            "_________________________________________________________________\n",
            "max_pooling2d (MaxPooling2D) (None, 31, 31, 64)        0         \n",
            "_________________________________________________________________\n",
            "flatten_5 (Flatten)          (None, 61504)             0         \n",
            "_________________________________________________________________\n",
            "dense_20 (Dense)             (None, 256)               15745280  \n",
            "_________________________________________________________________\n",
            "dropout_21 (Dropout)         (None, 256)               0         \n",
            "_________________________________________________________________\n",
            "dense_21 (Dense)             (None, 128)               32896     \n",
            "_________________________________________________________________\n",
            "dropout_22 (Dropout)         (None, 128)               0         \n",
            "_________________________________________________________________\n",
            "dense_22 (Dense)             (None, 4)                 516       \n",
            "=================================================================\n",
            "Total params: 15,933,572\n",
            "Trainable params: 15,933,444\n",
            "Non-trainable params: 128\n",
            "_________________________________________________________________\n",
            "Epoch 1/60\n",
            "66/66 [==============================] - 50s 724ms/step - loss: 3.1399 - accuracy: 0.2586 - val_loss: 1.5816 - val_accuracy: 0.2500\n",
            "Epoch 2/60\n",
            "66/66 [==============================] - 47s 719ms/step - loss: 2.0683 - accuracy: 0.3231 - val_loss: 1.4073 - val_accuracy: 0.3049\n",
            "Epoch 3/60\n",
            "66/66 [==============================] - 47s 719ms/step - loss: 1.9339 - accuracy: 0.3739 - val_loss: 1.4031 - val_accuracy: 0.3415\n",
            "Epoch 4/60\n",
            "66/66 [==============================] - 47s 720ms/step - loss: 1.5534 - accuracy: 0.3761 - val_loss: 1.5770 - val_accuracy: 0.3354\n",
            "Epoch 5/60\n",
            "66/66 [==============================] - 47s 719ms/step - loss: 1.6663 - accuracy: 0.3612 - val_loss: 1.5505 - val_accuracy: 0.2866\n",
            "Epoch 6/60\n",
            "66/66 [==============================] - 47s 719ms/step - loss: 1.4226 - accuracy: 0.3923 - val_loss: 1.6437 - val_accuracy: 0.3049\n",
            "Epoch 7/60\n",
            "66/66 [==============================] - 47s 719ms/step - loss: 1.3859 - accuracy: 0.3866 - val_loss: 1.5680 - val_accuracy: 0.3354\n",
            "Epoch 8/60\n",
            "66/66 [==============================] - 47s 719ms/step - loss: 1.3074 - accuracy: 0.4234 - val_loss: 1.5513 - val_accuracy: 0.3476\n",
            "Epoch 9/60\n",
            "66/66 [==============================] - 47s 719ms/step - loss: 1.3226 - accuracy: 0.4054 - val_loss: 1.5508 - val_accuracy: 0.3415\n",
            "Epoch 10/60\n",
            "66/66 [==============================] - 47s 718ms/step - loss: 1.3179 - accuracy: 0.4077 - val_loss: 1.5299 - val_accuracy: 0.3354\n",
            "Epoch 11/60\n",
            "66/66 [==============================] - 47s 719ms/step - loss: 1.3507 - accuracy: 0.4054 - val_loss: 1.5130 - val_accuracy: 0.3415\n",
            "Epoch 12/60\n",
            "66/66 [==============================] - 47s 719ms/step - loss: 1.3359 - accuracy: 0.3955 - val_loss: 1.5402 - val_accuracy: 0.3476\n",
            "Epoch 13/60\n",
            "66/66 [==============================] - 47s 719ms/step - loss: 1.3248 - accuracy: 0.3992 - val_loss: 1.5954 - val_accuracy: 0.3476\n",
            "Epoch 14/60\n",
            "66/66 [==============================] - 47s 719ms/step - loss: 1.2999 - accuracy: 0.4234 - val_loss: 1.6070 - val_accuracy: 0.3476\n",
            "Epoch 15/60\n",
            "66/66 [==============================] - 47s 719ms/step - loss: 1.3254 - accuracy: 0.4058 - val_loss: 1.5350 - val_accuracy: 0.3415\n",
            "Epoch 16/60\n",
            "66/66 [==============================] - 47s 719ms/step - loss: 1.3425 - accuracy: 0.3903 - val_loss: 1.5041 - val_accuracy: 0.3415\n",
            "Epoch 17/60\n",
            "66/66 [==============================] - 47s 719ms/step - loss: 1.3232 - accuracy: 0.3992 - val_loss: 1.5187 - val_accuracy: 0.3415\n",
            "Epoch 18/60\n",
            "66/66 [==============================] - 47s 720ms/step - loss: 1.3184 - accuracy: 0.4248 - val_loss: 1.6236 - val_accuracy: 0.3476\n",
            "Epoch 19/60\n",
            "66/66 [==============================] - 47s 719ms/step - loss: 1.3363 - accuracy: 0.3935 - val_loss: 1.6780 - val_accuracy: 0.3354\n",
            "Epoch 20/60\n",
            "66/66 [==============================] - 47s 719ms/step - loss: 1.3208 - accuracy: 0.4119 - val_loss: 1.7130 - val_accuracy: 0.3476\n",
            "Epoch 21/60\n",
            "66/66 [==============================] - 47s 719ms/step - loss: 1.3126 - accuracy: 0.4064 - val_loss: 1.5809 - val_accuracy: 0.3415\n",
            "Epoch 22/60\n",
            "66/66 [==============================] - 47s 718ms/step - loss: 1.3209 - accuracy: 0.4019 - val_loss: 1.6193 - val_accuracy: 0.3415\n",
            "Epoch 23/60\n",
            "66/66 [==============================] - 47s 719ms/step - loss: 1.3060 - accuracy: 0.4217 - val_loss: 1.5969 - val_accuracy: 0.3415\n",
            "Epoch 24/60\n",
            "66/66 [==============================] - 47s 719ms/step - loss: 1.3190 - accuracy: 0.3995 - val_loss: 1.5642 - val_accuracy: 0.3415\n",
            "Epoch 25/60\n",
            "66/66 [==============================] - 47s 719ms/step - loss: 1.3171 - accuracy: 0.4210 - val_loss: 1.5702 - val_accuracy: 0.3415\n",
            "Epoch 26/60\n",
            "66/66 [==============================] - 47s 719ms/step - loss: 1.3461 - accuracy: 0.3900 - val_loss: 1.5964 - val_accuracy: 0.3476\n",
            "Epoch 27/60\n",
            "66/66 [==============================] - 47s 719ms/step - loss: 1.3128 - accuracy: 0.4268 - val_loss: 1.6023 - val_accuracy: 0.3537\n",
            "Epoch 28/60\n",
            "66/66 [==============================] - 47s 719ms/step - loss: 1.2780 - accuracy: 0.4498 - val_loss: 1.6513 - val_accuracy: 0.3537\n",
            "Epoch 29/60\n",
            "66/66 [==============================] - 47s 719ms/step - loss: 1.3134 - accuracy: 0.4090 - val_loss: 1.6711 - val_accuracy: 0.3476\n",
            "Epoch 30/60\n",
            "66/66 [==============================] - 47s 719ms/step - loss: 1.3396 - accuracy: 0.3812 - val_loss: 1.6404 - val_accuracy: 0.3354\n",
            "Epoch 31/60\n",
            "66/66 [==============================] - 47s 719ms/step - loss: 1.2995 - accuracy: 0.4259 - val_loss: 1.6189 - val_accuracy: 0.3476\n",
            "Epoch 32/60\n",
            "66/66 [==============================] - 47s 719ms/step - loss: 1.3187 - accuracy: 0.4042 - val_loss: 1.6361 - val_accuracy: 0.3476\n",
            "Epoch 33/60\n",
            "66/66 [==============================] - 47s 719ms/step - loss: 1.3180 - accuracy: 0.4141 - val_loss: 1.6224 - val_accuracy: 0.3537\n",
            "Epoch 34/60\n",
            "66/66 [==============================] - 47s 719ms/step - loss: 1.3067 - accuracy: 0.4187 - val_loss: 1.6167 - val_accuracy: 0.3537\n",
            "Epoch 35/60\n",
            "66/66 [==============================] - 47s 720ms/step - loss: 1.2781 - accuracy: 0.4461 - val_loss: 1.6232 - val_accuracy: 0.3537\n",
            "Epoch 36/60\n",
            "66/66 [==============================] - 47s 720ms/step - loss: 1.2827 - accuracy: 0.4482 - val_loss: 1.6126 - val_accuracy: 0.3476\n",
            "Epoch 37/60\n",
            "66/66 [==============================] - 47s 719ms/step - loss: 1.3058 - accuracy: 0.4226 - val_loss: 1.6290 - val_accuracy: 0.3415\n",
            "Epoch 38/60\n",
            "66/66 [==============================] - 47s 720ms/step - loss: 1.2830 - accuracy: 0.4470 - val_loss: 1.6640 - val_accuracy: 0.3476\n",
            "Epoch 39/60\n",
            "66/66 [==============================] - 47s 719ms/step - loss: 1.3035 - accuracy: 0.4102 - val_loss: 1.6564 - val_accuracy: 0.3476\n",
            "Epoch 40/60\n",
            "66/66 [==============================] - 47s 719ms/step - loss: 1.2871 - accuracy: 0.4528 - val_loss: 1.6525 - val_accuracy: 0.3476\n",
            "Epoch 41/60\n",
            "66/66 [==============================] - 47s 719ms/step - loss: 1.3061 - accuracy: 0.4059 - val_loss: 1.6433 - val_accuracy: 0.3476\n",
            "Epoch 42/60\n",
            "66/66 [==============================] - 47s 719ms/step - loss: 1.2895 - accuracy: 0.4196 - val_loss: 1.5949 - val_accuracy: 0.3476\n",
            "Epoch 43/60\n",
            "66/66 [==============================] - 47s 719ms/step - loss: 1.3103 - accuracy: 0.4099 - val_loss: 1.4927 - val_accuracy: 0.3537\n",
            "Epoch 44/60\n",
            "66/66 [==============================] - 47s 719ms/step - loss: 1.3338 - accuracy: 0.4058 - val_loss: 1.6472 - val_accuracy: 0.3476\n",
            "Epoch 45/60\n",
            "66/66 [==============================] - 47s 719ms/step - loss: 1.3085 - accuracy: 0.4217 - val_loss: 1.5582 - val_accuracy: 0.3476\n",
            "Epoch 46/60\n",
            "66/66 [==============================] - 47s 719ms/step - loss: 1.3101 - accuracy: 0.4092 - val_loss: 1.5360 - val_accuracy: 0.3415\n",
            "Epoch 47/60\n",
            "66/66 [==============================] - 47s 719ms/step - loss: 1.3196 - accuracy: 0.3983 - val_loss: 1.5694 - val_accuracy: 0.3354\n",
            "Epoch 48/60\n",
            "66/66 [==============================] - 47s 719ms/step - loss: 1.2996 - accuracy: 0.4213 - val_loss: 1.8790 - val_accuracy: 0.3476\n",
            "Epoch 49/60\n",
            "66/66 [==============================] - 47s 719ms/step - loss: 1.3014 - accuracy: 0.4208 - val_loss: 1.7888 - val_accuracy: 0.3476\n",
            "Epoch 50/60\n",
            "66/66 [==============================] - 47s 719ms/step - loss: 1.2816 - accuracy: 0.4523 - val_loss: 1.6968 - val_accuracy: 0.3476\n",
            "Epoch 51/60\n",
            "66/66 [==============================] - 47s 719ms/step - loss: 1.2940 - accuracy: 0.4295 - val_loss: 1.6372 - val_accuracy: 0.3476\n",
            "Epoch 52/60\n",
            "66/66 [==============================] - 47s 719ms/step - loss: 1.3370 - accuracy: 0.3750 - val_loss: 1.6224 - val_accuracy: 0.3415\n",
            "Epoch 53/60\n",
            "66/66 [==============================] - 47s 719ms/step - loss: 1.2808 - accuracy: 0.4333 - val_loss: 1.6236 - val_accuracy: 0.3415\n",
            "Epoch 54/60\n",
            "66/66 [==============================] - 47s 720ms/step - loss: 1.2980 - accuracy: 0.4194 - val_loss: 1.6433 - val_accuracy: 0.3415\n",
            "Epoch 55/60\n",
            "66/66 [==============================] - 47s 719ms/step - loss: 1.2950 - accuracy: 0.4342 - val_loss: 1.6400 - val_accuracy: 0.3415\n",
            "Epoch 56/60\n",
            "66/66 [==============================] - 47s 719ms/step - loss: 1.3003 - accuracy: 0.4152 - val_loss: 1.5937 - val_accuracy: 0.3354\n",
            "Epoch 57/60\n",
            "66/66 [==============================] - 47s 719ms/step - loss: 1.3139 - accuracy: 0.4041 - val_loss: 1.6002 - val_accuracy: 0.3354\n",
            "Epoch 58/60\n",
            "66/66 [==============================] - 47s 719ms/step - loss: 1.3014 - accuracy: 0.3984 - val_loss: 1.6513 - val_accuracy: 0.3354\n",
            "Epoch 59/60\n",
            "66/66 [==============================] - 47s 720ms/step - loss: 1.2999 - accuracy: 0.3992 - val_loss: 1.6334 - val_accuracy: 0.3415\n",
            "Epoch 60/60\n",
            "66/66 [==============================] - 47s 719ms/step - loss: 1.2929 - accuracy: 0.4241 - val_loss: 1.6086 - val_accuracy: 0.3354\n",
            "7/7 [==============================] - 3s 481ms/step - loss: 1.3914 - accuracy: 0.4390\n",
            "Accuracy : 0.4390\n",
            "7/7 [==============================] - 3s 477ms/step - loss: 1.3914 - accuracy: 0.4390\n",
            "\n",
            "Loss: 1.3913947343826294, Acc: 0.4390243887901306\n"
          ],
          "name": "stdout"
        }
      ]
    },
    {
      "cell_type": "code",
      "metadata": {
        "colab": {
          "base_uri": "https://localhost:8080/"
        },
        "id": "IYnev14UAi_m",
        "outputId": "6cc151f4-4d64-4112-c5c4-fc52693d0f43"
      },
      "source": [
        "# Result\n",
        "loss, acc = model.evaluate(X_test, y_test)\n",
        "print(\"\\nLoss: {}, Acc: {}\".format(loss,acc))\n",
        "\n",
        "# Evaluation of model\n",
        "y_pred = model.predict(X_test)\n",
        "y_pred = np.argmax(y_pred, axis=1)\n",
        "y_test = np.argmax(y_test, axis=1)\n",
        "\n",
        "print('Classification Report:\\n')\n",
        "print(classification_report(y_test, y_pred))\n",
        "\n",
        "# Confusion Matrix\n",
        "cm = confusion_matrix(y_test, y_pred) \n",
        "print('confusion matrix:\\n ', cm)"
      ],
      "execution_count": 38,
      "outputs": [
        {
          "output_type": "stream",
          "text": [
            "7/7 [==============================] - 3s 478ms/step - loss: 1.3914 - accuracy: 0.4390\n",
            "\n",
            "Loss: 1.3913947343826294, Acc: 0.4390243887901306\n",
            "Classification Report:\n",
            "\n",
            "              precision    recall  f1-score   support\n",
            "\n",
            "           0       0.00      0.00      0.00        28\n",
            "           1       0.50      0.02      0.04        53\n",
            "           2       0.75      0.08      0.15        37\n",
            "           3       0.43      0.99      0.60        87\n",
            "\n",
            "    accuracy                           0.44       205\n",
            "   macro avg       0.42      0.27      0.20       205\n",
            "weighted avg       0.45      0.44      0.29       205\n",
            "\n",
            "confusion matrix:\n",
            "  [[ 0  0  0 28]\n",
            " [ 0  1  0 52]\n",
            " [ 0  1  3 33]\n",
            " [ 0  0  1 86]]\n"
          ],
          "name": "stdout"
        },
        {
          "output_type": "stream",
          "text": [
            "/usr/local/lib/python3.7/dist-packages/sklearn/metrics/_classification.py:1272: UndefinedMetricWarning: Precision and F-score are ill-defined and being set to 0.0 in labels with no predicted samples. Use `zero_division` parameter to control this behavior.\n",
            "  _warn_prf(average, modifier, msg_start, len(result))\n"
          ],
          "name": "stderr"
        }
      ]
    },
    {
      "cell_type": "code",
      "metadata": {
        "colab": {
          "base_uri": "https://localhost:8080/",
          "height": 573
        },
        "id": "03EgVD9bI03A",
        "outputId": "dbd21932-3a34-44a6-cd8a-f6cd22bc361e"
      },
      "source": [
        "# Visualize the plot\n",
        "\n",
        "## summarize history for accuracy\n",
        "plt.plot(history.history['accuracy'])\n",
        "plt.plot(history.history['val_accuracy'])\n",
        "plt.title('model accuracy')\n",
        "plt.ylabel('accuracy')\n",
        "plt.xlabel('epoch')\n",
        "plt.legend(['train', 'test'], loc='upper left')\n",
        "plt.show()\n",
        "## summarize history for loss\n",
        "plt.plot(history.history['loss'])\n",
        "plt.plot(history.history['val_loss'])\n",
        "plt.title('model loss')\n",
        "plt.ylabel('loss')\n",
        "plt.xlabel('epoch')\n",
        "plt.legend(['train', 'test'], loc='upper left')\n",
        "plt.show()"
      ],
      "execution_count": 39,
      "outputs": [
        {
          "output_type": "display_data",
          "data": {
            "image/png": "[encoded data removed]",
            "text/plain": [
              "<Figure size 432x288 with 1 Axes>"
            ]
          },
          "metadata": {
            "tags": [],
            "needs_background": "light"
          }
        },
        {
          "output_type": "display_data",
          "data": {
            "image/png": "[encoded data removed]",
            "text/plain": [
              "<Figure size 432x288 with 1 Axes>"
            ]
          },
          "metadata": {
            "tags": [],
            "needs_background": "light"
          }
        }
      ]
    }
  ]
}