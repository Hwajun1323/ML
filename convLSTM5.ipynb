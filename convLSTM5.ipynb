{
  "nbformat": 4,
  "nbformat_minor": 0,
  "metadata": {
    "colab": {
      "name": "cross_validation.ipynb",
      "provenance": [],
      "collapsed_sections": [],
      "machine_shape": "hm",
      "mount_file_id": "1k1VFO1nHXE--qfAR2Y2exVYpVMNDcmTJ",
      "authorship_tag": "ABX9TyM7nU9mc9hGoshXhteukdCK",
      "include_colab_link": true
    },
    "kernelspec": {
      "name": "python3",
      "display_name": "Python 3"
    },
    "language_info": {
      "name": "python"
    },
    "accelerator": "GPU"
  },
  "cells": [
    {
      "cell_type": "markdown",
      "metadata": {
        "id": "view-in-github",
        "colab_type": "text"
      },
      "source": [
        "<a href=\"https://colab.research.google.com/github/Hwajun1323/ML/blob/master/convLSTM5.ipynb\" target=\"_parent\"><img src=\"https://colab.research.google.com/assets/colab-badge.svg\" alt=\"Open In Colab\"/></a>"
      ]
    },
    {
      "cell_type": "code",
      "metadata": {
        "id": "-lJjS99is-Fw",
        "colab": {
          "base_uri": "https://localhost:8080/"
        },
        "outputId": "bf91bd20-c37c-4a08-ce21-b04bd0e0c328"
      },
      "source": [
        "pip install keras-metrics"
      ],
      "execution_count": 24,
      "outputs": [
        {
          "output_type": "stream",
          "text": [
            "Requirement already satisfied: keras-metrics in /usr/local/lib/python3.7/dist-packages (1.1.0)\n",
            "Requirement already satisfied: Keras>=2.1.5 in /usr/local/lib/python3.7/dist-packages (from keras-metrics) (2.4.3)\n",
            "Requirement already satisfied: pyyaml in /usr/local/lib/python3.7/dist-packages (from Keras>=2.1.5->keras-metrics) (3.13)\n",
            "Requirement already satisfied: h5py in /usr/local/lib/python3.7/dist-packages (from Keras>=2.1.5->keras-metrics) (2.10.0)\n",
            "Requirement already satisfied: scipy>=0.14 in /usr/local/lib/python3.7/dist-packages (from Keras>=2.1.5->keras-metrics) (1.4.1)\n",
            "Requirement already satisfied: numpy>=1.9.1 in /usr/local/lib/python3.7/dist-packages (from Keras>=2.1.5->keras-metrics) (1.19.5)\n",
            "Requirement already satisfied: six in /usr/local/lib/python3.7/dist-packages (from h5py->Keras>=2.1.5->keras-metrics) (1.15.0)\n"
          ],
          "name": "stdout"
        }
      ]
    },
    {
      "cell_type": "code",
      "metadata": {
        "id": "GQ0gCXmlfZX8"
      },
      "source": [
        "import keras\n",
        "from keras import applications\n",
        "from keras.preprocessing.image import ImageDataGenerator\n",
        "from keras import optimizers\n",
        "from keras.models import Sequential, Model\n",
        "from keras.layers import *\n",
        "from keras.callbacks import ModelCheckpoint, LearningRateScheduler, TensorBoard, EarlyStopping\n",
        "\n",
        "import os\n",
        "import cv2\n",
        "import numpy as np\n",
        "from sklearn.model_selection import train_test_split\n",
        "from sklearn.model_selection import cross_val_score , cross_validate\n",
        "from sklearn.model_selection import KFold, StratifiedKFold\n",
        "\n",
        "import keras_metrics as km\n",
        "\n",
        "from sklearn.metrics import accuracy_score\n",
        "from sklearn.metrics import precision_score\n",
        "from sklearn.metrics import recall_score\n",
        "from sklearn.metrics import f1_score\n",
        "from sklearn.metrics import cohen_kappa_score\n",
        "from sklearn.metrics import roc_auc_score\n",
        "from sklearn.metrics import multilabel_confusion_matrix\n",
        "from sklearn.metrics import classification_report\n",
        "from sklearn.metrics import confusion_matrix\n",
        "\n",
        "import matplotlib.pyplot as plt"
      ],
      "execution_count": 25,
      "outputs": []
    },
    {
      "cell_type": "code",
      "metadata": {
        "id": "CiVFsiIWffUd",
        "colab": {
          "base_uri": "https://localhost:8080/"
        },
        "outputId": "937a1bc4-29f3-4d32-a578-adf5c3d7f8c1"
      },
      "source": [
        "data_dir = \"/content/drive/My Drive/dataset/video_data\"\n",
        "#data_dir = \"video_data/\"\n",
        "img_height, img_width = 64, 64\n",
        "seq_len = 70\n",
        "\n",
        "classes = [\"Child's room\",  \"Museum\", \"Office\", \"Restaurant\"]\n",
        "num_classes = len(classes)\n",
        "print(\"Number of Class: \", num_classes)\n",
        "\n",
        "#  Creating frames from videos\n",
        "\n",
        "def frames_extraction(video_path):\n",
        "    frames_list = []\n",
        "\n",
        "    vidObj = cv2.VideoCapture(video_path)\n",
        "    # Used as counter variable\n",
        "    count = 1\n",
        "\n",
        "    while count <= seq_len:\n",
        "        success, image = vidObj.read()\n",
        "        if success:\n",
        "            image = cv2.resize(image, (img_height, img_width))\n",
        "            frames_list.append(image)\n",
        "            count += 1\n",
        "        else:\n",
        "            print(\"Defected frame\")\n",
        "            break\n",
        "\n",
        "    return frames_list\n",
        "\n",
        "# Create the actual data from the sequence of images\n",
        "\n",
        "def create_data(input_dir):\n",
        "    X = []\n",
        "    Y = []\n",
        "\n",
        "    classes_list = os.listdir(input_dir)\n",
        "\n",
        "    for c in classes_list:\n",
        "        print(c)\n",
        "        files_list = os.listdir(os.path.join(input_dir, c))\n",
        "        for f in files_list:\n",
        "            frames = frames_extraction(os.path.join(os.path.join(input_dir, c), f))\n",
        "            if len(frames) == seq_len:\n",
        "                X.append(frames)\n",
        "\n",
        "                y = [0] * len(classes)\n",
        "                y[classes.index(c)] = 1\n",
        "                Y.append(y)\n",
        "\n",
        "    X = np.asarray(X)\n",
        "    Y = np.asarray(Y)\n",
        "    \n",
        "    return X, Y"
      ],
      "execution_count": 26,
      "outputs": [
        {
          "output_type": "stream",
          "text": [
            "Number of Class:  4\n"
          ],
          "name": "stdout"
        }
      ]
    },
    {
      "cell_type": "code",
      "metadata": {
        "id": "G6nClQdnRTwb",
        "colab": {
          "base_uri": "https://localhost:8080/"
        },
        "outputId": "3bc821ff-46f5-4b85-b4a5-78960637ab69"
      },
      "source": [
        "X, Y = create_data(data_dir)\n",
        "\n",
        "X_train, X_test, y_train, y_test = train_test_split(X, Y, test_size=0.20, shuffle=True, random_state=0)"
      ],
      "execution_count": 49,
      "outputs": [
        {
          "output_type": "stream",
          "text": [
            "Child's room\n",
            "Restaurant\n",
            "Office\n",
            "Defected frame\n",
            "Defected frame\n",
            "Museum\n"
          ],
          "name": "stdout"
        }
      ]
    },
    {
      "cell_type": "code",
      "metadata": {
        "colab": {
          "base_uri": "https://localhost:8080/"
        },
        "id": "2_ehqpr2ZCgm",
        "outputId": "df599008-f19c-4716-c3fa-2262ec8e8e83"
      },
      "source": [
        "# Cross validation\n",
        "\n",
        "skf = KFold(n_splits=5, shuffle=True, random_state=None)\n",
        "\n",
        "# X is the feature set and y is the target\n",
        "for train_index, test_index in skf.split(X,Y): \n",
        "    #print(\"Train:\", train_index, \"Validation:\", test_index) \n",
        "    X_train, X_test = X[train_index], X[test_index] \n",
        "    y_train, y_test = Y[train_index], Y[test_index]\n",
        "\n",
        "print(X_train.shape)\n",
        "print(X_test.shape)\n",
        "print(y_train.shape)\n",
        "print(y_test.shape)"
      ],
      "execution_count": 45,
      "outputs": [
        {
          "output_type": "stream",
          "text": [
            "(817, 70, 64, 64, 3)\n",
            "(204, 70, 64, 64, 3)\n",
            "(817, 4)\n",
            "(204, 4)\n"
          ],
          "name": "stdout"
        }
      ]
    },
    {
      "cell_type": "code",
      "metadata": {
        "colab": {
          "base_uri": "https://localhost:8080/"
        },
        "id": "h_v-9iPAIv_E",
        "outputId": "af5f854b-8826-432e-8d2a-c89d77af6336"
      },
      "source": [
        "model = Sequential()\n",
        "\n",
        "model.add(ConvLSTM2D(filters=64, kernel_size=(3, 3), return_sequences=False, data_format=\"channels_last\", input_shape=(seq_len, img_height, img_width, 3)))\n",
        "model.add(Dropout(0.2))\n",
        "\n",
        "model.add(BatchNormalization())\n",
        "model.add(MaxPooling2D(pool_size = (2, 2)))\n",
        "model.add(GlobalAveragePooling2D())\n",
        "\n",
        "model.add(Flatten())\n",
        "model.add(Dense(256, activation=\"relu\"))\n",
        "model.add(Dropout(0.5))\n",
        "#model.add(Dense(256, activation=\"relu\"))\n",
        "#model.add(Dropout(0.5))\n",
        "model.add(Dense(128, activation=\"relu\"))\n",
        "model.add(Dropout(0.5))\n",
        "model.add(Dense(num_classes, activation=\"softmax\"))\n",
        "\n",
        "model.summary()\n",
        "\n",
        "#opt = keras.optimizers.Adam(lr=0.001, beta_1=0.9, beta_2=0.999, epsilon=None, decay=0.0, amsgrad=False)\n",
        "#opt = keras.optimizers.SGD(lr=0.001)\n",
        "#opt = keras.optimizers.SGD(lr=0.001, momentum=0.9)\n",
        "opt = keras.optimizers.SGD(lr=0.001, momentum=0.9, nesterov=True)\n",
        "#opt = keras.optimizers.Adagrad(lr=0.001, epsilon=1e-6)\n",
        "#opt = keras.optimizers.Adadelta(lr=1.0, rho=0.95, epsilon=None, decay=0.0)\n",
        "\n",
        "model.compile(loss='categorical_crossentropy', optimizer=opt, metrics=[\"accuracy\"])\n",
        "\n",
        "\n",
        "#score = cross_val_score(model, X, Y, scoring='accuracy', cv=5)\n",
        "#print('cross validation accuracy:',np.round(scores, 4))\n",
        "#print('mean accuracy:', np.round(np.mean(scores), 4))\n",
        "\n",
        "earlystop = EarlyStopping(patience=7)\n",
        "callbacks = [earlystop]\n",
        "\n",
        "#history = model.fit(x=X_train, y=y_train, epochs=40, batch_size=8, shuffle=True, validation_split=0.2, callbacks=callbacks)\n",
        "history = model.fit(x=X_train, y=y_train, epochs=60, batch_size=10, shuffle=True, validation_split=0.2)\n",
        "print(\"Accuracy : %.4f\" % (model.evaluate(X_test, y_test)[1]))\n",
        "\n",
        "# Result\n",
        "loss, acc = model.evaluate(X_test, y_test)\n",
        "print(\"\\nLoss: {}, Acc: {}\".format(loss,acc))\n"
      ],
      "execution_count": 50,
      "outputs": [
        {
          "output_type": "stream",
          "text": [
            "Model: \"sequential_8\"\n",
            "_________________________________________________________________\n",
            "Layer (type)                 Output Shape              Param #   \n",
            "=================================================================\n",
            "conv_lst_m2d_8 (ConvLSTM2D)  (None, 62, 62, 64)        154624    \n",
            "_________________________________________________________________\n",
            "dropout_29 (Dropout)         (None, 62, 62, 64)        0         \n",
            "_________________________________________________________________\n",
            "batch_normalization_3 (Batch (None, 62, 62, 64)        256       \n",
            "_________________________________________________________________\n",
            "max_pooling2d_3 (MaxPooling2 (None, 31, 31, 64)        0         \n",
            "_________________________________________________________________\n",
            "global_average_pooling2d (Gl (None, 64)                0         \n",
            "_________________________________________________________________\n",
            "flatten_8 (Flatten)          (None, 64)                0         \n",
            "_________________________________________________________________\n",
            "dense_29 (Dense)             (None, 256)               16640     \n",
            "_________________________________________________________________\n",
            "dropout_30 (Dropout)         (None, 256)               0         \n",
            "_________________________________________________________________\n",
            "dense_30 (Dense)             (None, 128)               32896     \n",
            "_________________________________________________________________\n",
            "dropout_31 (Dropout)         (None, 128)               0         \n",
            "_________________________________________________________________\n",
            "dense_31 (Dense)             (None, 4)                 516       \n",
            "=================================================================\n",
            "Total params: 204,932\n",
            "Trainable params: 204,804\n",
            "Non-trainable params: 128\n",
            "_________________________________________________________________\n",
            "Epoch 1/60\n",
            "66/66 [==============================] - 50s 724ms/step - loss: 1.4038 - accuracy: 0.3055 - val_loss: 1.3993 - val_accuracy: 0.2378\n",
            "Epoch 2/60\n",
            "66/66 [==============================] - 47s 720ms/step - loss: 1.3327 - accuracy: 0.3999 - val_loss: 1.3575 - val_accuracy: 0.3476\n",
            "Epoch 3/60\n",
            "66/66 [==============================] - 48s 721ms/step - loss: 1.3324 - accuracy: 0.3918 - val_loss: 1.3588 - val_accuracy: 0.3598\n",
            "Epoch 4/60\n",
            "66/66 [==============================] - 47s 720ms/step - loss: 1.3349 - accuracy: 0.4002 - val_loss: 1.3625 - val_accuracy: 0.3537\n",
            "Epoch 5/60\n",
            "66/66 [==============================] - 47s 720ms/step - loss: 1.3400 - accuracy: 0.3817 - val_loss: 1.3541 - val_accuracy: 0.3598\n",
            "Epoch 6/60\n",
            "66/66 [==============================] - 47s 720ms/step - loss: 1.3037 - accuracy: 0.4308 - val_loss: 1.3573 - val_accuracy: 0.3537\n",
            "Epoch 7/60\n",
            "66/66 [==============================] - 47s 720ms/step - loss: 1.3193 - accuracy: 0.3755 - val_loss: 1.3852 - val_accuracy: 0.3415\n",
            "Epoch 8/60\n",
            "66/66 [==============================] - 47s 720ms/step - loss: 1.3305 - accuracy: 0.3947 - val_loss: 1.3388 - val_accuracy: 0.3537\n",
            "Epoch 9/60\n",
            "66/66 [==============================] - 47s 720ms/step - loss: 1.3180 - accuracy: 0.3780 - val_loss: 1.3734 - val_accuracy: 0.3537\n",
            "Epoch 10/60\n",
            "66/66 [==============================] - 47s 720ms/step - loss: 1.3311 - accuracy: 0.3968 - val_loss: 1.3260 - val_accuracy: 0.3476\n",
            "Epoch 11/60\n",
            "66/66 [==============================] - 47s 720ms/step - loss: 1.2540 - accuracy: 0.4520 - val_loss: 1.3332 - val_accuracy: 0.3476\n",
            "Epoch 12/60\n",
            "66/66 [==============================] - 47s 720ms/step - loss: 1.2930 - accuracy: 0.4225 - val_loss: 1.3274 - val_accuracy: 0.3476\n",
            "Epoch 13/60\n",
            "66/66 [==============================] - 47s 719ms/step - loss: 1.2872 - accuracy: 0.4230 - val_loss: 1.3208 - val_accuracy: 0.3415\n",
            "Epoch 14/60\n",
            "66/66 [==============================] - 47s 720ms/step - loss: 1.2799 - accuracy: 0.4270 - val_loss: 1.3198 - val_accuracy: 0.3476\n",
            "Epoch 15/60\n",
            "66/66 [==============================] - 47s 720ms/step - loss: 1.3021 - accuracy: 0.4026 - val_loss: 1.3456 - val_accuracy: 0.4268\n",
            "Epoch 16/60\n",
            "66/66 [==============================] - 47s 719ms/step - loss: 1.2658 - accuracy: 0.4033 - val_loss: 1.3337 - val_accuracy: 0.4207\n",
            "Epoch 17/60\n",
            "66/66 [==============================] - 47s 719ms/step - loss: 1.2629 - accuracy: 0.4244 - val_loss: 1.3285 - val_accuracy: 0.3537\n",
            "Epoch 18/60\n",
            "66/66 [==============================] - 47s 720ms/step - loss: 1.2661 - accuracy: 0.4081 - val_loss: 1.3266 - val_accuracy: 0.3476\n",
            "Epoch 19/60\n",
            "66/66 [==============================] - 47s 719ms/step - loss: 1.2476 - accuracy: 0.4220 - val_loss: 1.3378 - val_accuracy: 0.3415\n",
            "Epoch 20/60\n",
            "66/66 [==============================] - 47s 720ms/step - loss: 1.3146 - accuracy: 0.3998 - val_loss: 1.2987 - val_accuracy: 0.3537\n",
            "Epoch 21/60\n",
            "66/66 [==============================] - 47s 720ms/step - loss: 1.3108 - accuracy: 0.3782 - val_loss: 1.3160 - val_accuracy: 0.4146\n",
            "Epoch 22/60\n",
            "66/66 [==============================] - 47s 720ms/step - loss: 1.2611 - accuracy: 0.4289 - val_loss: 1.2947 - val_accuracy: 0.4268\n",
            "Epoch 23/60\n",
            "66/66 [==============================] - 47s 720ms/step - loss: 1.2720 - accuracy: 0.4199 - val_loss: 1.3050 - val_accuracy: 0.3537\n",
            "Epoch 24/60\n",
            "66/66 [==============================] - 47s 720ms/step - loss: 1.2600 - accuracy: 0.4430 - val_loss: 1.3136 - val_accuracy: 0.4024\n",
            "Epoch 25/60\n",
            "66/66 [==============================] - 47s 720ms/step - loss: 1.2405 - accuracy: 0.4466 - val_loss: 1.2982 - val_accuracy: 0.4268\n",
            "Epoch 26/60\n",
            "66/66 [==============================] - 47s 720ms/step - loss: 1.2685 - accuracy: 0.4296 - val_loss: 1.3951 - val_accuracy: 0.3537\n",
            "Epoch 27/60\n",
            "66/66 [==============================] - 47s 720ms/step - loss: 1.2627 - accuracy: 0.4244 - val_loss: 1.3305 - val_accuracy: 0.3537\n",
            "Epoch 28/60\n",
            "66/66 [==============================] - 47s 720ms/step - loss: 1.2413 - accuracy: 0.4402 - val_loss: 1.3322 - val_accuracy: 0.3476\n",
            "Epoch 29/60\n",
            "66/66 [==============================] - 47s 720ms/step - loss: 1.2451 - accuracy: 0.4317 - val_loss: 1.3448 - val_accuracy: 0.3963\n",
            "Epoch 30/60\n",
            "66/66 [==============================] - 47s 720ms/step - loss: 1.2803 - accuracy: 0.4230 - val_loss: 1.3362 - val_accuracy: 0.3841\n",
            "Epoch 31/60\n",
            "66/66 [==============================] - 47s 720ms/step - loss: 1.2809 - accuracy: 0.4258 - val_loss: 1.3095 - val_accuracy: 0.4268\n",
            "Epoch 32/60\n",
            "66/66 [==============================] - 47s 720ms/step - loss: 1.2870 - accuracy: 0.4358 - val_loss: 1.2919 - val_accuracy: 0.4390\n",
            "Epoch 33/60\n",
            "66/66 [==============================] - 47s 720ms/step - loss: 1.2651 - accuracy: 0.4166 - val_loss: 1.3071 - val_accuracy: 0.4451\n",
            "Epoch 34/60\n",
            "66/66 [==============================] - 47s 720ms/step - loss: 1.2490 - accuracy: 0.4492 - val_loss: 1.3418 - val_accuracy: 0.3476\n",
            "Epoch 35/60\n",
            "66/66 [==============================] - 47s 720ms/step - loss: 1.2487 - accuracy: 0.4636 - val_loss: 1.3258 - val_accuracy: 0.3415\n",
            "Epoch 36/60\n",
            "66/66 [==============================] - 47s 720ms/step - loss: 1.2310 - accuracy: 0.4522 - val_loss: 1.3056 - val_accuracy: 0.3963\n",
            "Epoch 37/60\n",
            "66/66 [==============================] - 48s 721ms/step - loss: 1.2088 - accuracy: 0.4768 - val_loss: 1.3299 - val_accuracy: 0.3598\n",
            "Epoch 38/60\n",
            "66/66 [==============================] - 47s 720ms/step - loss: 1.2379 - accuracy: 0.4281 - val_loss: 1.2998 - val_accuracy: 0.4268\n",
            "Epoch 39/60\n",
            "66/66 [==============================] - 47s 720ms/step - loss: 1.2250 - accuracy: 0.4322 - val_loss: 1.2954 - val_accuracy: 0.3841\n",
            "Epoch 40/60\n",
            "66/66 [==============================] - 47s 720ms/step - loss: 1.2399 - accuracy: 0.4488 - val_loss: 1.2940 - val_accuracy: 0.3963\n",
            "Epoch 41/60\n",
            "66/66 [==============================] - 47s 720ms/step - loss: 1.2595 - accuracy: 0.4206 - val_loss: 1.2919 - val_accuracy: 0.4024\n",
            "Epoch 42/60\n",
            "66/66 [==============================] - 47s 720ms/step - loss: 1.2396 - accuracy: 0.4451 - val_loss: 1.2999 - val_accuracy: 0.4024\n",
            "Epoch 43/60\n",
            "66/66 [==============================] - 47s 720ms/step - loss: 1.2411 - accuracy: 0.4349 - val_loss: 1.2945 - val_accuracy: 0.4085\n",
            "Epoch 44/60\n",
            "66/66 [==============================] - 48s 721ms/step - loss: 1.2724 - accuracy: 0.4368 - val_loss: 1.2856 - val_accuracy: 0.4024\n",
            "Epoch 45/60\n",
            "66/66 [==============================] - 47s 720ms/step - loss: 1.2260 - accuracy: 0.4397 - val_loss: 1.2977 - val_accuracy: 0.3963\n",
            "Epoch 46/60\n",
            "66/66 [==============================] - 47s 720ms/step - loss: 1.2447 - accuracy: 0.4300 - val_loss: 1.2967 - val_accuracy: 0.4146\n",
            "Epoch 47/60\n",
            "66/66 [==============================] - 47s 720ms/step - loss: 1.2190 - accuracy: 0.4746 - val_loss: 1.2994 - val_accuracy: 0.4024\n",
            "Epoch 48/60\n",
            "66/66 [==============================] - 47s 720ms/step - loss: 1.1773 - accuracy: 0.4789 - val_loss: 1.2852 - val_accuracy: 0.4024\n",
            "Epoch 49/60\n",
            "66/66 [==============================] - 47s 720ms/step - loss: 1.2085 - accuracy: 0.4699 - val_loss: 1.3022 - val_accuracy: 0.4024\n",
            "Epoch 50/60\n",
            "66/66 [==============================] - 47s 720ms/step - loss: 1.2573 - accuracy: 0.4289 - val_loss: 1.2840 - val_accuracy: 0.4085\n",
            "Epoch 51/60\n",
            "66/66 [==============================] - 48s 721ms/step - loss: 1.2001 - accuracy: 0.4716 - val_loss: 1.2882 - val_accuracy: 0.3963\n",
            "Epoch 52/60\n",
            "66/66 [==============================] - 47s 720ms/step - loss: 1.1745 - accuracy: 0.4927 - val_loss: 1.3657 - val_accuracy: 0.3598\n",
            "Epoch 53/60\n",
            "66/66 [==============================] - 47s 720ms/step - loss: 1.2310 - accuracy: 0.4791 - val_loss: 1.2935 - val_accuracy: 0.4146\n",
            "Epoch 54/60\n",
            "66/66 [==============================] - 47s 720ms/step - loss: 1.1965 - accuracy: 0.4639 - val_loss: 1.3172 - val_accuracy: 0.3293\n",
            "Epoch 55/60\n",
            "66/66 [==============================] - 47s 720ms/step - loss: 1.1911 - accuracy: 0.4401 - val_loss: 1.3151 - val_accuracy: 0.3841\n",
            "Epoch 56/60\n",
            "66/66 [==============================] - 47s 720ms/step - loss: 1.2410 - accuracy: 0.4158 - val_loss: 1.2794 - val_accuracy: 0.4146\n",
            "Epoch 57/60\n",
            "66/66 [==============================] - 47s 720ms/step - loss: 1.2126 - accuracy: 0.4626 - val_loss: 1.3096 - val_accuracy: 0.3415\n",
            "Epoch 58/60\n",
            "66/66 [==============================] - 47s 720ms/step - loss: 1.2198 - accuracy: 0.4485 - val_loss: 1.2835 - val_accuracy: 0.4024\n",
            "Epoch 59/60\n",
            "66/66 [==============================] - 47s 720ms/step - loss: 1.2338 - accuracy: 0.4432 - val_loss: 1.3168 - val_accuracy: 0.3415\n",
            "Epoch 60/60\n",
            "66/66 [==============================] - 47s 720ms/step - loss: 1.2060 - accuracy: 0.4796 - val_loss: 1.2780 - val_accuracy: 0.4268\n",
            "7/7 [==============================] - 3s 477ms/step - loss: 1.2351 - accuracy: 0.4634\n",
            "Accuracy : 0.4634\n",
            "7/7 [==============================] - 3s 478ms/step - loss: 1.2351 - accuracy: 0.4634\n",
            "\n",
            "Loss: 1.2350788116455078, Acc: 0.46341463923454285\n"
          ],
          "name": "stdout"
        }
      ]
    },
    {
      "cell_type": "code",
      "metadata": {
        "colab": {
          "base_uri": "https://localhost:8080/"
        },
        "id": "IYnev14UAi_m",
        "outputId": "8184b26c-2b6f-4ea7-d627-eed7d62c8b4b"
      },
      "source": [
        "# Result\n",
        "loss, acc = model.evaluate(X_test, y_test)\n",
        "print(\"\\nLoss: {}, Acc: {}\".format(loss,acc))\n",
        "\n",
        "# Evaluation of model\n",
        "y_pred = model.predict(X_test)\n",
        "# Classification Report\n",
        "y_pred = np.argmax(y_pred, axis=1)\n",
        "y_test = np.argmax(y_test, axis=1)\n",
        "\n",
        "print('Classification Report:\\n')\n",
        "print(classification_report(y_test, y_pred))\n",
        "\n",
        "# Confusion Matrix\n",
        "cm = confusion_matrix(y_test, y_pred) \n",
        "print('confusion matrix:\\n ', cm)"
      ],
      "execution_count": 53,
      "outputs": [
        {
          "output_type": "stream",
          "text": [
            "7/7 [==============================] - 3s 478ms/step - loss: 1.2351 - accuracy: 0.4634\n",
            "\n",
            "Loss: 1.2350788116455078, Acc: 0.46341463923454285\n",
            "Classification Report:\n",
            "\n",
            "              precision    recall  f1-score   support\n",
            "\n",
            "           0       0.43      0.46      0.45        28\n",
            "           1       0.00      0.00      0.00        53\n",
            "           2       0.00      0.00      0.00        37\n",
            "           3       0.48      0.94      0.63        87\n",
            "\n",
            "    accuracy                           0.46       205\n",
            "   macro avg       0.23      0.35      0.27       205\n",
            "weighted avg       0.26      0.46      0.33       205\n",
            "\n",
            "confusion matrix:\n",
            "  [[13  0  0 15]\n",
            " [ 6  0  0 47]\n",
            " [ 6  3  0 28]\n",
            " [ 5  0  0 82]]\n"
          ],
          "name": "stdout"
        },
        {
          "output_type": "stream",
          "text": [
            "/usr/local/lib/python3.7/dist-packages/sklearn/metrics/_classification.py:1272: UndefinedMetricWarning: Precision and F-score are ill-defined and being set to 0.0 in labels with no predicted samples. Use `zero_division` parameter to control this behavior.\n",
            "  _warn_prf(average, modifier, msg_start, len(result))\n"
          ],
          "name": "stderr"
        }
      ]
    },
    {
      "cell_type": "code",
      "metadata": {
        "colab": {
          "base_uri": "https://localhost:8080/",
          "height": 573
        },
        "id": "03EgVD9bI03A",
        "outputId": "1188e6ce-83fc-45b0-dcea-53ad5c161807"
      },
      "source": [
        "# Visualize the plot\n",
        "\n",
        "## summarize history for accuracy\n",
        "plt.plot(history.history['accuracy'])\n",
        "plt.plot(history.history['val_accuracy'])\n",
        "plt.title('model accuracy')\n",
        "plt.ylabel('accuracy')\n",
        "plt.xlabel('epoch')\n",
        "plt.legend(['train', 'test'], loc='upper left')\n",
        "plt.show()\n",
        "## summarize history for loss\n",
        "plt.plot(history.history['loss'])\n",
        "plt.plot(history.history['val_loss'])\n",
        "plt.title('model loss')\n",
        "plt.ylabel('loss')\n",
        "plt.xlabel('epoch')\n",
        "plt.legend(['train', 'test'], loc='upper left')\n",
        "plt.show()"
      ],
      "execution_count": 52,
      "outputs": [
        {
          "output_type": "display_data",
          "data": {
            "image/png": "[encoded data removed]",
            "text/plain": [
              "<Figure size 432x288 with 1 Axes>"
            ]
          },
          "metadata": {
            "tags": [],
            "needs_background": "light"
          }
        },
        {
          "output_type": "display_data",
          "data": {
            "image/png": "[encoded data removed]",
            "text/plain": [
              "<Figure size 432x288 with 1 Axes>"
            ]
          },
          "metadata": {
            "tags": [],
            "needs_background": "light"
          }
        }
      ]
    }
  ]
}