{
  "nbformat": 4,
  "nbformat_minor": 0,
  "metadata": {
    "colab": {
      "name": "convLSTM.ipynb",
      "provenance": [],
      "collapsed_sections": [],
      "machine_shape": "hm",
      "mount_file_id": "1XnAaPpzTOwHYzrEg_H0alWQisudlbZ3V",
      "authorship_tag": "ABX9TyN9hOYrH9MEV4gc5Eu0HMfd",
      "include_colab_link": true
    },
    "kernelspec": {
      "name": "python3",
      "display_name": "Python 3"
    },
    "language_info": {
      "name": "python"
    },
    "accelerator": "GPU"
  },
  "cells": [
    {
      "cell_type": "markdown",
      "metadata": {
        "id": "view-in-github",
        "colab_type": "text"
      },
      "source": [
        "<a href=\"https://colab.research.google.com/github/Hwajun1323/ML/blob/master/convLSTM_Adam_optimizer.ipynb\" target=\"_parent\"><img src=\"https://colab.research.google.com/assets/colab-badge.svg\" alt=\"Open In Colab\"/></a>"
      ]
    },
    {
      "cell_type": "code",
      "metadata": {
        "id": "-lJjS99is-Fw",
        "colab": {
          "base_uri": "https://localhost:8080/"
        },
        "outputId": "0a2f2c30-93f8-4983-9791-7b33b03e1753"
      },
      "source": [
        "pip install keras-metrics"
      ],
      "execution_count": 2,
      "outputs": [
        {
          "output_type": "stream",
          "text": [
            "Requirement already satisfied: keras-metrics in /usr/local/lib/python3.7/dist-packages (1.1.0)\n",
            "Requirement already satisfied: Keras>=2.1.5 in /usr/local/lib/python3.7/dist-packages (from keras-metrics) (2.4.3)\n",
            "Requirement already satisfied: pyyaml in /usr/local/lib/python3.7/dist-packages (from Keras>=2.1.5->keras-metrics) (3.13)\n",
            "Requirement already satisfied: h5py in /usr/local/lib/python3.7/dist-packages (from Keras>=2.1.5->keras-metrics) (3.1.0)\n",
            "Requirement already satisfied: scipy>=0.14 in /usr/local/lib/python3.7/dist-packages (from Keras>=2.1.5->keras-metrics) (1.4.1)\n",
            "Requirement already satisfied: numpy>=1.9.1 in /usr/local/lib/python3.7/dist-packages (from Keras>=2.1.5->keras-metrics) (1.19.5)\n",
            "Requirement already satisfied: cached-property; python_version < \"3.8\" in /usr/local/lib/python3.7/dist-packages (from h5py->Keras>=2.1.5->keras-metrics) (1.5.2)\n"
          ],
          "name": "stdout"
        }
      ]
    },
    {
      "cell_type": "code",
      "metadata": {
        "id": "GQ0gCXmlfZX8"
      },
      "source": [
        "import keras\n",
        "from keras import applications\n",
        "from keras.preprocessing.image import ImageDataGenerator\n",
        "from keras import optimizers\n",
        "from keras.models import Sequential, Model\n",
        "from keras.layers import *\n",
        "from keras.callbacks import ModelCheckpoint, LearningRateScheduler, TensorBoard, EarlyStopping\n",
        "\n",
        "import os\n",
        "import cv2\n",
        "import numpy as np\n",
        "from sklearn.model_selection import train_test_split\n",
        "from sklearn.model_selection import cross_val_score , cross_validate\n",
        "import keras_metrics as km\n",
        "\n",
        "from sklearn.metrics import accuracy_score\n",
        "from sklearn.metrics import precision_score\n",
        "from sklearn.metrics import recall_score\n",
        "from sklearn.metrics import f1_score\n",
        "from sklearn.metrics import cohen_kappa_score\n",
        "from sklearn.metrics import roc_auc_score\n",
        "from sklearn.metrics import multilabel_confusion_matrix\n",
        "from sklearn.metrics import classification_report\n",
        "from sklearn.metrics import confusion_matrix\n",
        "\n",
        "import matplotlib.pyplot as plt"
      ],
      "execution_count": 3,
      "outputs": []
    },
    {
      "cell_type": "code",
      "metadata": {
        "id": "CiVFsiIWffUd",
        "colab": {
          "base_uri": "https://localhost:8080/"
        },
        "outputId": "23b1b2ef-2029-4da9-bc4f-270d2ce898f6"
      },
      "source": [
        "data_dir = \"/content/drive/My Drive/dataset/video_data\"\n",
        "#data_dir = \"video_data/\"\n",
        "img_height, img_width = 64, 64\n",
        "seq_len = 70\n",
        "\n",
        "classes = [\"Child's room\",  \"Museum\", \"Office\", \"Restaurant\"]\n",
        "num_classes = len(classes)\n",
        "print(\"Number of Class: \", num_classes)\n",
        "\n",
        "#  Creating frames from videos\n",
        "\n",
        "def frames_extraction(video_path):\n",
        "    frames_list = []\n",
        "\n",
        "    vidObj = cv2.VideoCapture(video_path)\n",
        "    # Used as counter variable\n",
        "    count = 1\n",
        "\n",
        "    while count <= seq_len:\n",
        "        success, image = vidObj.read()\n",
        "        if success:\n",
        "            image = cv2.resize(image, (img_height, img_width))\n",
        "            frames_list.append(image)\n",
        "            count += 1\n",
        "        else:\n",
        "            print(\"Defected frame\")\n",
        "            break\n",
        "\n",
        "    return frames_list\n",
        "\n",
        "# Create the actual data from the sequence of images\n",
        "\n",
        "def create_data(input_dir):\n",
        "    X = []\n",
        "    Y = []\n",
        "\n",
        "    classes_list = os.listdir(input_dir)\n",
        "\n",
        "    for c in classes_list:\n",
        "        print(c)\n",
        "        files_list = os.listdir(os.path.join(input_dir, c))\n",
        "        for f in files_list:\n",
        "            frames = frames_extraction(os.path.join(os.path.join(input_dir, c), f))\n",
        "            if len(frames) == seq_len:\n",
        "                X.append(frames)\n",
        "\n",
        "                y = [0] * len(classes)\n",
        "                y[classes.index(c)] = 1\n",
        "                Y.append(y)\n",
        "\n",
        "    X = np.asarray(X)\n",
        "    Y = np.asarray(Y)\n",
        "    \n",
        "    return X, Y"
      ],
      "execution_count": 4,
      "outputs": [
        {
          "output_type": "stream",
          "text": [
            "Number of Class:  4\n"
          ],
          "name": "stdout"
        }
      ]
    },
    {
      "cell_type": "code",
      "metadata": {
        "id": "G6nClQdnRTwb",
        "colab": {
          "base_uri": "https://localhost:8080/"
        },
        "outputId": "212efe1e-0452-4afd-af3a-597ab24c9fb2"
      },
      "source": [
        "X, Y = create_data(data_dir)\n",
        "\n",
        "X_train, X_test, y_train, y_test = train_test_split(X, Y, test_size=0.20, shuffle=True, random_state=0)"
      ],
      "execution_count": 5,
      "outputs": [
        {
          "output_type": "stream",
          "text": [
            "Child's room\n",
            "Restaurant\n",
            "Office\n",
            "Defected frame\n",
            "Defected frame\n",
            "Museum\n"
          ],
          "name": "stdout"
        }
      ]
    },
    {
      "cell_type": "code",
      "metadata": {
        "colab": {
          "base_uri": "https://localhost:8080/"
        },
        "id": "853UXXpN6lbQ",
        "outputId": "3e2a794a-a310-4995-8476-bd62b74c3620"
      },
      "source": [
        "print(X_train.shape)\n",
        "print(X_test.shape)\n",
        "print(y_train.shape)\n",
        "print(y_test.shape)"
      ],
      "execution_count": null,
      "outputs": [
        {
          "output_type": "stream",
          "text": [
            "(816, 70, 64, 64, 3)\n",
            "(205, 70, 64, 64, 3)\n",
            "(816, 4)\n",
            "(205, 4)\n"
          ],
          "name": "stdout"
        }
      ]
    },
    {
      "cell_type": "code",
      "metadata": {
        "id": "h_v-9iPAIv_E",
        "colab": {
          "base_uri": "https://localhost:8080/"
        },
        "outputId": "132f3f9d-b0ef-46c0-8106-b5155e61d2eb"
      },
      "source": [
        "model = Sequential()\n",
        "\n",
        "model.add(ConvLSTM2D(filters=64, kernel_size=(3, 3), return_sequences=False, data_format=\"channels_last\", input_shape=(seq_len, img_height, img_width, 3)))\n",
        "model.add(Dropout(0.5))\n",
        "\n",
        "model.add(BatchNormalization())\n",
        "model.add(MaxPooling2D(pool_size = (2, 2)))\n",
        "model.add(GlobalAveragePooling2D())\n",
        "\n",
        "model.add(Flatten())\n",
        "model.add(Dense(256, activation=\"relu\"))\n",
        "model.add(Dropout(0.5))\n",
        "model.add(Dense(128, activation=\"relu\"))\n",
        "model.add(Dropout(0.5))\n",
        "model.add(Dense(num_classes, activation=\"softmax\"))\n",
        "\n",
        "model.summary()\n",
        "\n",
        "#opt = keras.optimizers.Adam(lr=0.001, beta_1=0.9, beta_2=0.999, epsilon=None, decay=0.0, amsgrad=False)\n",
        "#opt = keras.optimizers.SGD(lr=0.001)\n",
        "#opt = keras.optimizers.SGD(lr=0.001, momentum=0.9)\n",
        "#opt = keras.optimizers.SGD(learning_rate=0.001, momentum=0.9, nesterov=True)\n",
        "#opt = keras.optimizers.Adagrad(lr=0.001, epsilon=1e-6)\n",
        "#opt = keras.optimizers.Adadelta(lr=1.0, rho=0.95, epsilon=None, decay=0.0)\n",
        "\n",
        "model.compile(loss='categorical_crossentropy', optimizer='Adam', metrics=[\"accuracy\"])\n",
        "\n",
        "history = model.fit(x=X_train, y=y_train, epochs=70, batch_size=12, shuffle=True, validation_split=0.2)\n",
        "\n",
        "# Result\n",
        "loss, acc = model.evaluate(X_test, y_test)\n",
        "print(\"\\nLoss: {}, Acc: {}\".format(loss,acc))"
      ],
      "execution_count": 6,
      "outputs": [
        {
          "output_type": "stream",
          "text": [
            "Model: \"sequential\"\n",
            "_________________________________________________________________\n",
            "Layer (type)                 Output Shape              Param #   \n",
            "=================================================================\n",
            "conv_lst_m2d (ConvLSTM2D)    (None, 62, 62, 64)        154624    \n",
            "_________________________________________________________________\n",
            "dropout (Dropout)            (None, 62, 62, 64)        0         \n",
            "_________________________________________________________________\n",
            "batch_normalization (BatchNo (None, 62, 62, 64)        256       \n",
            "_________________________________________________________________\n",
            "max_pooling2d (MaxPooling2D) (None, 31, 31, 64)        0         \n",
            "_________________________________________________________________\n",
            "global_average_pooling2d (Gl (None, 64)                0         \n",
            "_________________________________________________________________\n",
            "flatten (Flatten)            (None, 64)                0         \n",
            "_________________________________________________________________\n",
            "dense (Dense)                (None, 256)               16640     \n",
            "_________________________________________________________________\n",
            "dropout_1 (Dropout)          (None, 256)               0         \n",
            "_________________________________________________________________\n",
            "dense_1 (Dense)              (None, 128)               32896     \n",
            "_________________________________________________________________\n",
            "dropout_2 (Dropout)          (None, 128)               0         \n",
            "_________________________________________________________________\n",
            "dense_2 (Dense)              (None, 4)                 516       \n",
            "=================================================================\n",
            "Total params: 204,932\n",
            "Trainable params: 204,804\n",
            "Non-trainable params: 128\n",
            "_________________________________________________________________\n",
            "Epoch 1/70\n",
            "55/55 [==============================] - 66s 795ms/step - loss: 1.3915 - accuracy: 0.3569 - val_loss: 1.3483 - val_accuracy: 0.3598\n",
            "Epoch 2/70\n",
            "55/55 [==============================] - 43s 778ms/step - loss: 1.3271 - accuracy: 0.3915 - val_loss: 1.3399 - val_accuracy: 0.3598\n",
            "Epoch 3/70\n",
            "55/55 [==============================] - 43s 778ms/step - loss: 1.3275 - accuracy: 0.3836 - val_loss: 1.3503 - val_accuracy: 0.4390\n",
            "Epoch 4/70\n",
            "55/55 [==============================] - 43s 778ms/step - loss: 1.2913 - accuracy: 0.3960 - val_loss: 1.3379 - val_accuracy: 0.3720\n",
            "Epoch 5/70\n",
            "55/55 [==============================] - 43s 777ms/step - loss: 1.3313 - accuracy: 0.4072 - val_loss: 1.3364 - val_accuracy: 0.3598\n",
            "Epoch 6/70\n",
            "55/55 [==============================] - 43s 777ms/step - loss: 1.2858 - accuracy: 0.4200 - val_loss: 1.3263 - val_accuracy: 0.3598\n",
            "Epoch 7/70\n",
            "55/55 [==============================] - 43s 777ms/step - loss: 1.2843 - accuracy: 0.4349 - val_loss: 1.3120 - val_accuracy: 0.3598\n",
            "Epoch 8/70\n",
            "55/55 [==============================] - 43s 777ms/step - loss: 1.3092 - accuracy: 0.3937 - val_loss: 1.2956 - val_accuracy: 0.3598\n",
            "Epoch 9/70\n",
            "55/55 [==============================] - 43s 777ms/step - loss: 1.3397 - accuracy: 0.4012 - val_loss: 1.2909 - val_accuracy: 0.3720\n",
            "Epoch 10/70\n",
            "55/55 [==============================] - 43s 777ms/step - loss: 1.2757 - accuracy: 0.4371 - val_loss: 1.2897 - val_accuracy: 0.4573\n",
            "Epoch 11/70\n",
            "55/55 [==============================] - 43s 776ms/step - loss: 1.2554 - accuracy: 0.4504 - val_loss: 1.3798 - val_accuracy: 0.3476\n",
            "Epoch 12/70\n",
            "55/55 [==============================] - 43s 776ms/step - loss: 1.2560 - accuracy: 0.4393 - val_loss: 1.3002 - val_accuracy: 0.3598\n",
            "Epoch 13/70\n",
            "55/55 [==============================] - 43s 776ms/step - loss: 1.2702 - accuracy: 0.4167 - val_loss: 1.3380 - val_accuracy: 0.4390\n",
            "Epoch 14/70\n",
            "55/55 [==============================] - 43s 776ms/step - loss: 1.2276 - accuracy: 0.4562 - val_loss: 1.2774 - val_accuracy: 0.4268\n",
            "Epoch 15/70\n",
            "55/55 [==============================] - 43s 777ms/step - loss: 1.2566 - accuracy: 0.4375 - val_loss: 1.2865 - val_accuracy: 0.4390\n",
            "Epoch 16/70\n",
            "55/55 [==============================] - 43s 777ms/step - loss: 1.2507 - accuracy: 0.4142 - val_loss: 1.2951 - val_accuracy: 0.4634\n",
            "Epoch 17/70\n",
            "55/55 [==============================] - 43s 776ms/step - loss: 1.2595 - accuracy: 0.4289 - val_loss: 1.3161 - val_accuracy: 0.3354\n",
            "Epoch 18/70\n",
            "55/55 [==============================] - 43s 776ms/step - loss: 1.2685 - accuracy: 0.4313 - val_loss: 1.3314 - val_accuracy: 0.4390\n",
            "Epoch 19/70\n",
            "55/55 [==============================] - 43s 777ms/step - loss: 1.2472 - accuracy: 0.4511 - val_loss: 1.3047 - val_accuracy: 0.4146\n",
            "Epoch 20/70\n",
            "55/55 [==============================] - 43s 776ms/step - loss: 1.2391 - accuracy: 0.4752 - val_loss: 1.3374 - val_accuracy: 0.3720\n",
            "Epoch 21/70\n",
            "55/55 [==============================] - 43s 776ms/step - loss: 1.2561 - accuracy: 0.4449 - val_loss: 1.3000 - val_accuracy: 0.4329\n",
            "Epoch 22/70\n",
            "55/55 [==============================] - 43s 776ms/step - loss: 1.2284 - accuracy: 0.4515 - val_loss: 1.3669 - val_accuracy: 0.3720\n",
            "Epoch 23/70\n",
            "55/55 [==============================] - 43s 777ms/step - loss: 1.2380 - accuracy: 0.4706 - val_loss: 1.3072 - val_accuracy: 0.4146\n",
            "Epoch 24/70\n",
            "55/55 [==============================] - 43s 777ms/step - loss: 1.2368 - accuracy: 0.4592 - val_loss: 1.3193 - val_accuracy: 0.4207\n",
            "Epoch 25/70\n",
            "55/55 [==============================] - 43s 776ms/step - loss: 1.2577 - accuracy: 0.4305 - val_loss: 1.2952 - val_accuracy: 0.4451\n",
            "Epoch 26/70\n",
            "55/55 [==============================] - 43s 776ms/step - loss: 1.2270 - accuracy: 0.4364 - val_loss: 1.2843 - val_accuracy: 0.4268\n",
            "Epoch 27/70\n",
            "55/55 [==============================] - 43s 776ms/step - loss: 1.2375 - accuracy: 0.4464 - val_loss: 1.3014 - val_accuracy: 0.4512\n",
            "Epoch 28/70\n",
            "55/55 [==============================] - 43s 776ms/step - loss: 1.2207 - accuracy: 0.4941 - val_loss: 1.2946 - val_accuracy: 0.4146\n",
            "Epoch 29/70\n",
            "55/55 [==============================] - 43s 776ms/step - loss: 1.1912 - accuracy: 0.4973 - val_loss: 1.3029 - val_accuracy: 0.4207\n",
            "Epoch 30/70\n",
            "55/55 [==============================] - 43s 776ms/step - loss: 1.2185 - accuracy: 0.4973 - val_loss: 1.3100 - val_accuracy: 0.4451\n",
            "Epoch 31/70\n",
            "55/55 [==============================] - 43s 776ms/step - loss: 1.2430 - accuracy: 0.4140 - val_loss: 1.2953 - val_accuracy: 0.4451\n",
            "Epoch 32/70\n",
            "55/55 [==============================] - 43s 776ms/step - loss: 1.1684 - accuracy: 0.5053 - val_loss: 1.2987 - val_accuracy: 0.4268\n",
            "Epoch 33/70\n",
            "55/55 [==============================] - 43s 776ms/step - loss: 1.2581 - accuracy: 0.4344 - val_loss: 1.3350 - val_accuracy: 0.4268\n",
            "Epoch 34/70\n",
            "55/55 [==============================] - 43s 777ms/step - loss: 1.1700 - accuracy: 0.5041 - val_loss: 1.3078 - val_accuracy: 0.4451\n",
            "Epoch 35/70\n",
            "55/55 [==============================] - 43s 776ms/step - loss: 1.2011 - accuracy: 0.4917 - val_loss: 1.3242 - val_accuracy: 0.4207\n",
            "Epoch 36/70\n",
            "55/55 [==============================] - 43s 776ms/step - loss: 1.1683 - accuracy: 0.4832 - val_loss: 1.3071 - val_accuracy: 0.4390\n",
            "Epoch 37/70\n",
            "55/55 [==============================] - 43s 776ms/step - loss: 1.1909 - accuracy: 0.4738 - val_loss: 1.2880 - val_accuracy: 0.4634\n",
            "Epoch 38/70\n",
            "55/55 [==============================] - 43s 776ms/step - loss: 1.1891 - accuracy: 0.4608 - val_loss: 1.3146 - val_accuracy: 0.4268\n",
            "Epoch 39/70\n",
            "55/55 [==============================] - 43s 776ms/step - loss: 1.2011 - accuracy: 0.4562 - val_loss: 1.3090 - val_accuracy: 0.3841\n",
            "Epoch 40/70\n",
            "55/55 [==============================] - 43s 776ms/step - loss: 1.2017 - accuracy: 0.4665 - val_loss: 1.2879 - val_accuracy: 0.4695\n",
            "Epoch 41/70\n",
            "55/55 [==============================] - 43s 776ms/step - loss: 1.1970 - accuracy: 0.4754 - val_loss: 1.2887 - val_accuracy: 0.4207\n",
            "Epoch 42/70\n",
            "55/55 [==============================] - 43s 776ms/step - loss: 1.1920 - accuracy: 0.4693 - val_loss: 1.3175 - val_accuracy: 0.4268\n",
            "Epoch 43/70\n",
            "55/55 [==============================] - 43s 776ms/step - loss: 1.1774 - accuracy: 0.5005 - val_loss: 1.3178 - val_accuracy: 0.4207\n",
            "Epoch 44/70\n",
            "55/55 [==============================] - 43s 776ms/step - loss: 1.2091 - accuracy: 0.4243 - val_loss: 1.3073 - val_accuracy: 0.3963\n",
            "Epoch 45/70\n",
            "55/55 [==============================] - 43s 776ms/step - loss: 1.1813 - accuracy: 0.4842 - val_loss: 1.2927 - val_accuracy: 0.4146\n",
            "Epoch 46/70\n",
            "55/55 [==============================] - 43s 776ms/step - loss: 1.1959 - accuracy: 0.4655 - val_loss: 1.2921 - val_accuracy: 0.4146\n",
            "Epoch 47/70\n",
            "55/55 [==============================] - 43s 776ms/step - loss: 1.1633 - accuracy: 0.4843 - val_loss: 1.3091 - val_accuracy: 0.3780\n",
            "Epoch 48/70\n",
            "55/55 [==============================] - 43s 776ms/step - loss: 1.2004 - accuracy: 0.4560 - val_loss: 1.3030 - val_accuracy: 0.3841\n",
            "Epoch 49/70\n",
            "55/55 [==============================] - 43s 776ms/step - loss: 1.1687 - accuracy: 0.4828 - val_loss: 1.3438 - val_accuracy: 0.3902\n",
            "Epoch 50/70\n",
            "55/55 [==============================] - 43s 776ms/step - loss: 1.1226 - accuracy: 0.5003 - val_loss: 1.3356 - val_accuracy: 0.3598\n",
            "Epoch 51/70\n",
            "55/55 [==============================] - 43s 776ms/step - loss: 1.1278 - accuracy: 0.4960 - val_loss: 1.3067 - val_accuracy: 0.3963\n",
            "Epoch 52/70\n",
            "55/55 [==============================] - 43s 776ms/step - loss: 1.1400 - accuracy: 0.5145 - val_loss: 1.3080 - val_accuracy: 0.4085\n",
            "Epoch 53/70\n",
            "55/55 [==============================] - 43s 776ms/step - loss: 1.1453 - accuracy: 0.5101 - val_loss: 1.2861 - val_accuracy: 0.4329\n",
            "Epoch 54/70\n",
            "55/55 [==============================] - 43s 776ms/step - loss: 1.1262 - accuracy: 0.5154 - val_loss: 1.3692 - val_accuracy: 0.4085\n",
            "Epoch 55/70\n",
            "55/55 [==============================] - 43s 776ms/step - loss: 1.0957 - accuracy: 0.5250 - val_loss: 1.3139 - val_accuracy: 0.4024\n",
            "Epoch 56/70\n",
            "55/55 [==============================] - 43s 777ms/step - loss: 1.1218 - accuracy: 0.5018 - val_loss: 1.3220 - val_accuracy: 0.4146\n",
            "Epoch 57/70\n",
            "55/55 [==============================] - 43s 776ms/step - loss: 1.1082 - accuracy: 0.4679 - val_loss: 1.4162 - val_accuracy: 0.4207\n",
            "Epoch 58/70\n",
            "55/55 [==============================] - 43s 776ms/step - loss: 1.1408 - accuracy: 0.4949 - val_loss: 1.2966 - val_accuracy: 0.4268\n",
            "Epoch 59/70\n",
            "55/55 [==============================] - 43s 776ms/step - loss: 1.0998 - accuracy: 0.5224 - val_loss: 1.3031 - val_accuracy: 0.3841\n",
            "Epoch 60/70\n",
            "55/55 [==============================] - 43s 776ms/step - loss: 1.1101 - accuracy: 0.5075 - val_loss: 1.3484 - val_accuracy: 0.4207\n",
            "Epoch 61/70\n",
            "55/55 [==============================] - 43s 776ms/step - loss: 1.1424 - accuracy: 0.4833 - val_loss: 1.3346 - val_accuracy: 0.4451\n",
            "Epoch 62/70\n",
            "55/55 [==============================] - 43s 776ms/step - loss: 1.1938 - accuracy: 0.5146 - val_loss: 1.3205 - val_accuracy: 0.4146\n",
            "Epoch 63/70\n",
            "55/55 [==============================] - 43s 777ms/step - loss: 1.1338 - accuracy: 0.4706 - val_loss: 1.3389 - val_accuracy: 0.4146\n",
            "Epoch 64/70\n",
            "55/55 [==============================] - 43s 776ms/step - loss: 1.1298 - accuracy: 0.4951 - val_loss: 1.3126 - val_accuracy: 0.3841\n",
            "Epoch 65/70\n",
            "55/55 [==============================] - 43s 776ms/step - loss: 1.1311 - accuracy: 0.5103 - val_loss: 1.4281 - val_accuracy: 0.4085\n",
            "Epoch 66/70\n",
            "55/55 [==============================] - 43s 776ms/step - loss: 1.1122 - accuracy: 0.5365 - val_loss: 1.3593 - val_accuracy: 0.3720\n",
            "Epoch 67/70\n",
            "55/55 [==============================] - 43s 776ms/step - loss: 1.1472 - accuracy: 0.4910 - val_loss: 1.3592 - val_accuracy: 0.4146\n",
            "Epoch 68/70\n",
            "55/55 [==============================] - 43s 776ms/step - loss: 1.1001 - accuracy: 0.5092 - val_loss: 1.3371 - val_accuracy: 0.4207\n",
            "Epoch 69/70\n",
            "55/55 [==============================] - 43s 777ms/step - loss: 1.1011 - accuracy: 0.5054 - val_loss: 1.3125 - val_accuracy: 0.4146\n",
            "Epoch 70/70\n",
            "55/55 [==============================] - 43s 776ms/step - loss: 1.1288 - accuracy: 0.5116 - val_loss: 1.3072 - val_accuracy: 0.4146\n",
            "7/7 [==============================] - 3s 479ms/step - loss: 1.2853 - accuracy: 0.4732\n",
            "\n",
            "Loss: 1.2853074073791504, Acc: 0.4731707274913788\n"
          ],
          "name": "stdout"
        }
      ]
    },
    {
      "cell_type": "code",
      "metadata": {
        "colab": {
          "base_uri": "https://localhost:8080/",
          "height": 573
        },
        "id": "03EgVD9bI03A",
        "outputId": "a911a828-236f-42a3-8c0a-bf790ee1596a"
      },
      "source": [
        "# Visualize the plot\n",
        "\n",
        "## summarize history for accuracy\n",
        "plt.plot(history.history['accuracy'])\n",
        "plt.plot(history.history['val_accuracy'])\n",
        "plt.title('model accuracy')\n",
        "plt.ylabel('accuracy')\n",
        "plt.xlabel('epoch')\n",
        "plt.legend(['train', 'test'], loc='upper left')\n",
        "plt.show()\n",
        "## summarize history for loss\n",
        "plt.plot(history.history['loss'])\n",
        "plt.plot(history.history['val_loss'])\n",
        "plt.title('model loss')\n",
        "plt.ylabel('loss')\n",
        "plt.xlabel('epoch')\n",
        "plt.legend(['train', 'test'], loc='upper left')\n",
        "plt.show()"
      ],
      "execution_count": 7,
      "outputs": [
        {
          "output_type": "display_data",
          "data": {
            "image/png": "[encoded data removed]",
            "text/plain": [
              "<Figure size 432x288 with 1 Axes>"
            ]
          },
          "metadata": {
            "tags": [],
            "needs_background": "light"
          }
        },
        {
          "output_type": "display_data",
          "data": {
            "image/png": "[encoded data removed]",
            "text/plain": [
              "<Figure size 432x288 with 1 Axes>"
            ]
          },
          "metadata": {
            "tags": [],
            "needs_background": "light"
          }
        }
      ]
    },
    {
      "cell_type": "code",
      "metadata": {
        "id": "6MM-uKMXKbc5"
      },
      "source": [
        "predictions = model.predict(X_test)\n",
        "print('prediction result: ',np.argmax(predictions[0]))\n",
        "print('actual result: ', y_test[0])\n",
        "\n",
        "# Evaluation of model\n",
        "y_pred = model.predict(X_test)\n",
        "y_pred = np.argmax(y_pred, axis=1)\n",
        "y_test = np.argmax(y_test, axis=1)\n",
        "print('classification report\\n')\n",
        "print(classification_report(y_test, y_pred))"
      ],
      "execution_count": null,
      "outputs": []
    },
    {
      "cell_type": "code",
      "metadata": {
        "colab": {
          "base_uri": "https://localhost:8080/"
        },
        "id": "IYnev14UAi_m",
        "outputId": "5c80c902-fd70-4f9b-eea1-7225c88ecfe2"
      },
      "source": [
        "# Evaluation of model\n",
        "y_pred = model.predict(X_test)\n",
        "y_pred = np.argmax(y_pred, axis = 1)\n",
        "y_test = np.argmax(y_test, axis = 1)\n",
        "print('y test:', y_test)\n",
        "print('Classification Report:\\n')\n",
        "print(classification_report(y_test, y_pred))\n",
        "\n",
        "# Confusion Matrix\n",
        "cm = confusion_matrix(y_test, y_pred) \n",
        "print('confusion matrix:\\n ', cm)"
      ],
      "execution_count": 8,
      "outputs": [
        {
          "output_type": "stream",
          "text": [
            "y test: [1 0 0 3 3 0 3 2 1 2 2 2 2 1 3 1 3 3 3 3 0 0 3 0 2 2 3 0 3 1 1 3 2 1 1 0 3\n",
            " 3 3 3 2 0 2 0 1 3 3 2 0 3 3 1 3 2 1 1 3 1 0 2 3 1 3 0 1 3 3 2 3 1 1 2 1 0\n",
            " 3 3 0 1 1 1 1 0 2 1 3 3 2 3 1 3 3 0 3 3 1 2 3 1 0 3 1 1 1 1 0 1 3 1 2 1 2\n",
            " 3 2 3 3 1 3 3 1 2 3 3 1 2 0 3 1 3 3 2 3 3 3 2 3 3 1 0 3 3 1 1 3 2 2 1 3 3\n",
            " 3 0 1 1 0 3 3 1 2 3 3 3 0 0 3 0 1 2 2 3 3 3 2 1 3 2 1 2 1 3 1 3 3 3 3 1 1\n",
            " 0 3 3 3 3 3 3 1 0 1 3 3 2 3 2 2 3 3 3 2]\n",
            "Classification Report:\n",
            "\n",
            "              precision    recall  f1-score   support\n",
            "\n",
            "           0       0.32      0.68      0.44        28\n",
            "           1       0.50      0.02      0.04        53\n",
            "           2       0.75      0.16      0.27        37\n",
            "           3       0.52      0.82      0.64        87\n",
            "\n",
            "    accuracy                           0.47       205\n",
            "   macro avg       0.52      0.42      0.34       205\n",
            "weighted avg       0.53      0.47      0.39       205\n",
            "\n",
            "confusion matrix:\n",
            "  [[19  0  0  9]\n",
            " [12  1  1 39]\n",
            " [13  1  6 17]\n",
            " [15  0  1 71]]\n"
          ],
          "name": "stdout"
        }
      ]
    }
  ]
}